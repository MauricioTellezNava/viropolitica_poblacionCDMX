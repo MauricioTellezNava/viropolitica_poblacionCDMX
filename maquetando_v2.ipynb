{
  "nbformat": 4,
  "nbformat_minor": 0,
  "metadata": {
    "colab": {
      "provenance": [],
      "collapsed_sections": [
        "bjB_51XcZ-gJ",
        "H6Me1_NVjh4G"
      ],
      "authorship_tag": "ABX9TyNQP25K7b8Nt1Kiwb6PKcSt",
      "include_colab_link": true
    },
    "kernelspec": {
      "name": "python3",
      "display_name": "Python 3"
    },
    "language_info": {
      "name": "python"
    }
  },
  "cells": [
    {
      "cell_type": "markdown",
      "metadata": {
        "id": "view-in-github",
        "colab_type": "text"
      },
      "source": [
        "<a href=\"https://colab.research.google.com/github/MauricioTellezNava/viropolitica_poblacionCDMX/blob/main/maquetando_v2.ipynb\" target=\"_parent\"><img src=\"https://colab.research.google.com/assets/colab-badge.svg\" alt=\"Open In Colab\"/></a>"
      ]
    },
    {
      "cell_type": "markdown",
      "source": [
        "# Importando datos del dataframe X\n",
        "### Este dataframe ya contiene los clusters de viropoder para la población de la CDMX, "
      ],
      "metadata": {
        "id": "az9wr2fUXJlB"
      }
    },
    {
      "cell_type": "code",
      "execution_count": 1,
      "metadata": {
        "id": "-PLDNxEEXAcL"
      },
      "outputs": [],
      "source": [
        "import pandas as pd\n",
        "import numpy as np\n",
        "import seaborn as sns\n",
        "import matplotlib.pyplot as plt"
      ]
    },
    {
      "cell_type": "code",
      "source": [
        "from google.colab import drive\n",
        "drive.mount('/content/drive')"
      ],
      "metadata": {
        "colab": {
          "base_uri": "https://localhost:8080/"
        },
        "id": "MPdR6ZwPY5Tw",
        "outputId": "7ba6ea4e-de86-49ea-92a2-4d949c442e96"
      },
      "execution_count": 2,
      "outputs": [
        {
          "output_type": "stream",
          "name": "stdout",
          "text": [
            "Mounted at /content/drive\n"
          ]
        }
      ]
    },
    {
      "cell_type": "code",
      "source": [
        "X = pd.read_csv(\"/content/drive/MyDrive/Análisis del COVID-19 para la Ciudad de México/población/X.csv\")\n",
        "X = X.drop(columns=[\"Unnamed: 0\"])\n",
        "print(X.shape)\n",
        "X.head()"
      ],
      "metadata": {
        "colab": {
          "base_uri": "https://localhost:8080/",
          "height": 253
        },
        "id": "hbJq-EmVY_D-",
        "outputId": "94e97a0e-9ec4-4732-cdee-36c66ab8b366"
      },
      "execution_count": 3,
      "outputs": [
        {
          "output_type": "stream",
          "name": "stdout",
          "text": [
            "(1743568, 92)\n"
          ]
        },
        {
          "output_type": "execute_result",
          "data": {
            "text/plain": [
              "   inst_1  inst_2  inst_3  inst_4  inst_5  inst_6  inst_7  inst_8  inst_9  \\\n",
              "0       0       0       0       0       0       0       0       0       0   \n",
              "1       0       0       0       0       0       0       0       0       0   \n",
              "2       0       0       0       0       0       0       0       0       0   \n",
              "3       0       0       0       0       0       0       0       0       0   \n",
              "4       0       0       0       0       0       0       0       0       0   \n",
              "\n",
              "   inst_10  ...  tabaq_seIgn  otr_caso_si  otr_caso_no  otr_caso_seIgn  \\\n",
              "0        0  ...            0            1            0               0   \n",
              "1        0  ...            0            1            0               0   \n",
              "2        0  ...            0            1            0               0   \n",
              "3        0  ...            0            1            0               0   \n",
              "4        0  ...            0            1            0               0   \n",
              "\n",
              "   uci_si  uci_no  uci_noAplica  uci_noEsp  defunciones  cluster  \n",
              "0       0       0             1          0            0        0  \n",
              "1       0       0             1          0            0        0  \n",
              "2       0       0             1          0            0        2  \n",
              "3       0       0             1          0            0        3  \n",
              "4       0       0             1          0            0        3  \n",
              "\n",
              "[5 rows x 92 columns]"
            ],
            "text/html": [
              "\n",
              "  <div id=\"df-439808c0-bc08-44fa-ae6e-9bda4ff81e0d\">\n",
              "    <div class=\"colab-df-container\">\n",
              "      <div>\n",
              "<style scoped>\n",
              "    .dataframe tbody tr th:only-of-type {\n",
              "        vertical-align: middle;\n",
              "    }\n",
              "\n",
              "    .dataframe tbody tr th {\n",
              "        vertical-align: top;\n",
              "    }\n",
              "\n",
              "    .dataframe thead th {\n",
              "        text-align: right;\n",
              "    }\n",
              "</style>\n",
              "<table border=\"1\" class=\"dataframe\">\n",
              "  <thead>\n",
              "    <tr style=\"text-align: right;\">\n",
              "      <th></th>\n",
              "      <th>inst_1</th>\n",
              "      <th>inst_2</th>\n",
              "      <th>inst_3</th>\n",
              "      <th>inst_4</th>\n",
              "      <th>inst_5</th>\n",
              "      <th>inst_6</th>\n",
              "      <th>inst_7</th>\n",
              "      <th>inst_8</th>\n",
              "      <th>inst_9</th>\n",
              "      <th>inst_10</th>\n",
              "      <th>...</th>\n",
              "      <th>tabaq_seIgn</th>\n",
              "      <th>otr_caso_si</th>\n",
              "      <th>otr_caso_no</th>\n",
              "      <th>otr_caso_seIgn</th>\n",
              "      <th>uci_si</th>\n",
              "      <th>uci_no</th>\n",
              "      <th>uci_noAplica</th>\n",
              "      <th>uci_noEsp</th>\n",
              "      <th>defunciones</th>\n",
              "      <th>cluster</th>\n",
              "    </tr>\n",
              "  </thead>\n",
              "  <tbody>\n",
              "    <tr>\n",
              "      <th>0</th>\n",
              "      <td>0</td>\n",
              "      <td>0</td>\n",
              "      <td>0</td>\n",
              "      <td>0</td>\n",
              "      <td>0</td>\n",
              "      <td>0</td>\n",
              "      <td>0</td>\n",
              "      <td>0</td>\n",
              "      <td>0</td>\n",
              "      <td>0</td>\n",
              "      <td>...</td>\n",
              "      <td>0</td>\n",
              "      <td>1</td>\n",
              "      <td>0</td>\n",
              "      <td>0</td>\n",
              "      <td>0</td>\n",
              "      <td>0</td>\n",
              "      <td>1</td>\n",
              "      <td>0</td>\n",
              "      <td>0</td>\n",
              "      <td>0</td>\n",
              "    </tr>\n",
              "    <tr>\n",
              "      <th>1</th>\n",
              "      <td>0</td>\n",
              "      <td>0</td>\n",
              "      <td>0</td>\n",
              "      <td>0</td>\n",
              "      <td>0</td>\n",
              "      <td>0</td>\n",
              "      <td>0</td>\n",
              "      <td>0</td>\n",
              "      <td>0</td>\n",
              "      <td>0</td>\n",
              "      <td>...</td>\n",
              "      <td>0</td>\n",
              "      <td>1</td>\n",
              "      <td>0</td>\n",
              "      <td>0</td>\n",
              "      <td>0</td>\n",
              "      <td>0</td>\n",
              "      <td>1</td>\n",
              "      <td>0</td>\n",
              "      <td>0</td>\n",
              "      <td>0</td>\n",
              "    </tr>\n",
              "    <tr>\n",
              "      <th>2</th>\n",
              "      <td>0</td>\n",
              "      <td>0</td>\n",
              "      <td>0</td>\n",
              "      <td>0</td>\n",
              "      <td>0</td>\n",
              "      <td>0</td>\n",
              "      <td>0</td>\n",
              "      <td>0</td>\n",
              "      <td>0</td>\n",
              "      <td>0</td>\n",
              "      <td>...</td>\n",
              "      <td>0</td>\n",
              "      <td>1</td>\n",
              "      <td>0</td>\n",
              "      <td>0</td>\n",
              "      <td>0</td>\n",
              "      <td>0</td>\n",
              "      <td>1</td>\n",
              "      <td>0</td>\n",
              "      <td>0</td>\n",
              "      <td>2</td>\n",
              "    </tr>\n",
              "    <tr>\n",
              "      <th>3</th>\n",
              "      <td>0</td>\n",
              "      <td>0</td>\n",
              "      <td>0</td>\n",
              "      <td>0</td>\n",
              "      <td>0</td>\n",
              "      <td>0</td>\n",
              "      <td>0</td>\n",
              "      <td>0</td>\n",
              "      <td>0</td>\n",
              "      <td>0</td>\n",
              "      <td>...</td>\n",
              "      <td>0</td>\n",
              "      <td>1</td>\n",
              "      <td>0</td>\n",
              "      <td>0</td>\n",
              "      <td>0</td>\n",
              "      <td>0</td>\n",
              "      <td>1</td>\n",
              "      <td>0</td>\n",
              "      <td>0</td>\n",
              "      <td>3</td>\n",
              "    </tr>\n",
              "    <tr>\n",
              "      <th>4</th>\n",
              "      <td>0</td>\n",
              "      <td>0</td>\n",
              "      <td>0</td>\n",
              "      <td>0</td>\n",
              "      <td>0</td>\n",
              "      <td>0</td>\n",
              "      <td>0</td>\n",
              "      <td>0</td>\n",
              "      <td>0</td>\n",
              "      <td>0</td>\n",
              "      <td>...</td>\n",
              "      <td>0</td>\n",
              "      <td>1</td>\n",
              "      <td>0</td>\n",
              "      <td>0</td>\n",
              "      <td>0</td>\n",
              "      <td>0</td>\n",
              "      <td>1</td>\n",
              "      <td>0</td>\n",
              "      <td>0</td>\n",
              "      <td>3</td>\n",
              "    </tr>\n",
              "  </tbody>\n",
              "</table>\n",
              "<p>5 rows × 92 columns</p>\n",
              "</div>\n",
              "      <button class=\"colab-df-convert\" onclick=\"convertToInteractive('df-439808c0-bc08-44fa-ae6e-9bda4ff81e0d')\"\n",
              "              title=\"Convert this dataframe to an interactive table.\"\n",
              "              style=\"display:none;\">\n",
              "        \n",
              "  <svg xmlns=\"http://www.w3.org/2000/svg\" height=\"24px\"viewBox=\"0 0 24 24\"\n",
              "       width=\"24px\">\n",
              "    <path d=\"M0 0h24v24H0V0z\" fill=\"none\"/>\n",
              "    <path d=\"M18.56 5.44l.94 2.06.94-2.06 2.06-.94-2.06-.94-.94-2.06-.94 2.06-2.06.94zm-11 1L8.5 8.5l.94-2.06 2.06-.94-2.06-.94L8.5 2.5l-.94 2.06-2.06.94zm10 10l.94 2.06.94-2.06 2.06-.94-2.06-.94-.94-2.06-.94 2.06-2.06.94z\"/><path d=\"M17.41 7.96l-1.37-1.37c-.4-.4-.92-.59-1.43-.59-.52 0-1.04.2-1.43.59L10.3 9.45l-7.72 7.72c-.78.78-.78 2.05 0 2.83L4 21.41c.39.39.9.59 1.41.59.51 0 1.02-.2 1.41-.59l7.78-7.78 2.81-2.81c.8-.78.8-2.07 0-2.86zM5.41 20L4 18.59l7.72-7.72 1.47 1.35L5.41 20z\"/>\n",
              "  </svg>\n",
              "      </button>\n",
              "      \n",
              "  <style>\n",
              "    .colab-df-container {\n",
              "      display:flex;\n",
              "      flex-wrap:wrap;\n",
              "      gap: 12px;\n",
              "    }\n",
              "\n",
              "    .colab-df-convert {\n",
              "      background-color: #E8F0FE;\n",
              "      border: none;\n",
              "      border-radius: 50%;\n",
              "      cursor: pointer;\n",
              "      display: none;\n",
              "      fill: #1967D2;\n",
              "      height: 32px;\n",
              "      padding: 0 0 0 0;\n",
              "      width: 32px;\n",
              "    }\n",
              "\n",
              "    .colab-df-convert:hover {\n",
              "      background-color: #E2EBFA;\n",
              "      box-shadow: 0px 1px 2px rgba(60, 64, 67, 0.3), 0px 1px 3px 1px rgba(60, 64, 67, 0.15);\n",
              "      fill: #174EA6;\n",
              "    }\n",
              "\n",
              "    [theme=dark] .colab-df-convert {\n",
              "      background-color: #3B4455;\n",
              "      fill: #D2E3FC;\n",
              "    }\n",
              "\n",
              "    [theme=dark] .colab-df-convert:hover {\n",
              "      background-color: #434B5C;\n",
              "      box-shadow: 0px 1px 3px 1px rgba(0, 0, 0, 0.15);\n",
              "      filter: drop-shadow(0px 1px 2px rgba(0, 0, 0, 0.3));\n",
              "      fill: #FFFFFF;\n",
              "    }\n",
              "  </style>\n",
              "\n",
              "      <script>\n",
              "        const buttonEl =\n",
              "          document.querySelector('#df-439808c0-bc08-44fa-ae6e-9bda4ff81e0d button.colab-df-convert');\n",
              "        buttonEl.style.display =\n",
              "          google.colab.kernel.accessAllowed ? 'block' : 'none';\n",
              "\n",
              "        async function convertToInteractive(key) {\n",
              "          const element = document.querySelector('#df-439808c0-bc08-44fa-ae6e-9bda4ff81e0d');\n",
              "          const dataTable =\n",
              "            await google.colab.kernel.invokeFunction('convertToInteractive',\n",
              "                                                     [key], {});\n",
              "          if (!dataTable) return;\n",
              "\n",
              "          const docLinkHtml = 'Like what you see? Visit the ' +\n",
              "            '<a target=\"_blank\" href=https://colab.research.google.com/notebooks/data_table.ipynb>data table notebook</a>'\n",
              "            + ' to learn more about interactive tables.';\n",
              "          element.innerHTML = '';\n",
              "          dataTable['output_type'] = 'display_data';\n",
              "          await google.colab.output.renderOutput(dataTable, element);\n",
              "          const docLink = document.createElement('div');\n",
              "          docLink.innerHTML = docLinkHtml;\n",
              "          element.appendChild(docLink);\n",
              "        }\n",
              "      </script>\n",
              "    </div>\n",
              "  </div>\n",
              "  "
            ]
          },
          "metadata": {},
          "execution_count": 3
        }
      ]
    },
    {
      "cell_type": "markdown",
      "source": [
        "# Análisis de los clusters"
      ],
      "metadata": {
        "id": "g-xZ9lEpZr6k"
      }
    },
    {
      "cell_type": "code",
      "source": [
        "\"\"\"\n",
        "\n",
        "Cluster 0 / delta: Es el grupo más vulnerable frente a la viropolítica. Incluye a la población que requirió mayores cuidados intensivos, ser intubada. Tuvo valores mayores de sistema inmunosuprimido, requirió mñas hospitalizaciones. \n",
        "Cluster 2 / gamma: Es el segundo grupo más vulnerable a la viropolítica.\n",
        "Cluster 3 / beta: Es el segundo grupo más capaz de ejercer la viropolítica. Mantiene valores bajos para cada condición de riesgo.\n",
        "Cluster 1 / alpha: Es el grupo más capaz de ejercer la viropolítica. Dados sus bajos valores para cada condición de riesgo, es el grupo menos vulnerable. \n",
        "\n",
        "\"\"\""
      ],
      "metadata": {
        "colab": {
          "base_uri": "https://localhost:8080/",
          "height": 70
        },
        "id": "RPjqlLT2Zqmh",
        "outputId": "c7a7326a-3de6-4412-dd04-58d6f9536748"
      },
      "execution_count": 4,
      "outputs": [
        {
          "output_type": "execute_result",
          "data": {
            "text/plain": [
              "'\\n\\nCluster 0 / delta: Es el grupo más vulnerable frente a la viropolítica. Incluye a la población que requirió mayores cuidados intensivos, ser intubada. Tuvo valores mayores de sistema inmunosuprimido, requirió mñas hospitalizaciones. \\nCluster 2 / gamma: Es el segundo grupo más vulnerable a la viropolítica.\\nCluster 3 / beta: Es el segundo grupo más capaz de ejercer la viropolítica. Mantiene valores bajos para cada condición de riesgo.\\nCluster 1 / alpha: Es el grupo más capaz de ejercer la viropolítica. Dados sus bajos valores para cada condición de riesgo, es el grupo menos vulnerable. \\n\\n'"
            ],
            "application/vnd.google.colaboratory.intrinsic+json": {
              "type": "string"
            }
          },
          "metadata": {},
          "execution_count": 4
        }
      ]
    },
    {
      "cell_type": "markdown",
      "source": [
        "# Creando la columna nombre_cluster con función condicional"
      ],
      "metadata": {
        "id": "KHugCjetatfs"
      }
    },
    {
      "cell_type": "code",
      "source": [
        "condiciones = [\n",
        "    (X[\"cluster\"]== 1),\n",
        "    (X[\"cluster\"]== 3),\n",
        "    (X[\"cluster\"]== 2),\n",
        "    (X[\"cluster\"]== 0)\n",
        "               ]\n",
        "nombre = [\"alpha\", \"beta\", \"gamma\", \"delta\"]"
      ],
      "metadata": {
        "id": "u58exUC7asqH"
      },
      "execution_count": 5,
      "outputs": []
    },
    {
      "cell_type": "code",
      "source": [
        "X[\"nombre_cluster\"] = np.select(condiciones, nombre)\n",
        "X.head(10)"
      ],
      "metadata": {
        "colab": {
          "base_uri": "https://localhost:8080/",
          "height": 392
        },
        "id": "iClbi2f2arxq",
        "outputId": "5608eb2d-4337-4f80-b8f9-7c6f8d8abc24"
      },
      "execution_count": 6,
      "outputs": [
        {
          "output_type": "execute_result",
          "data": {
            "text/plain": [
              "   inst_1  inst_2  inst_3  inst_4  inst_5  inst_6  inst_7  inst_8  inst_9  \\\n",
              "0       0       0       0       0       0       0       0       0       0   \n",
              "1       0       0       0       0       0       0       0       0       0   \n",
              "2       0       0       0       0       0       0       0       0       0   \n",
              "3       0       0       0       0       0       0       0       0       0   \n",
              "4       0       0       0       0       0       0       0       0       0   \n",
              "5       0       0       0       0       0       0       0       0       0   \n",
              "6       0       0       0       0       0       0       0       0       0   \n",
              "7       0       0       0       0       0       0       0       0       0   \n",
              "8       0       0       0       0       0       1       0       0       0   \n",
              "9       0       0       0       0       0       0       0       0       0   \n",
              "\n",
              "   inst_10  ...  otr_caso_si  otr_caso_no  otr_caso_seIgn  uci_si  uci_no  \\\n",
              "0        0  ...            1            0               0       0       0   \n",
              "1        0  ...            1            0               0       0       0   \n",
              "2        0  ...            1            0               0       0       0   \n",
              "3        0  ...            1            0               0       0       0   \n",
              "4        0  ...            1            0               0       0       0   \n",
              "5        0  ...            0            1               0       0       0   \n",
              "6        0  ...            0            1               0       0       0   \n",
              "7        0  ...            0            1               0       0       1   \n",
              "8        0  ...            1            0               0       0       0   \n",
              "9        0  ...            0            1               0       0       0   \n",
              "\n",
              "   uci_noAplica  uci_noEsp  defunciones  cluster  nombre_cluster  \n",
              "0             1          0            0        0           delta  \n",
              "1             1          0            0        0           delta  \n",
              "2             1          0            0        2           gamma  \n",
              "3             1          0            0        3            beta  \n",
              "4             1          0            0        3            beta  \n",
              "5             1          0            0        3            beta  \n",
              "6             1          0            0        1           alpha  \n",
              "7             0          0            0        3            beta  \n",
              "8             1          0            0        3            beta  \n",
              "9             1          0            0        1           alpha  \n",
              "\n",
              "[10 rows x 93 columns]"
            ],
            "text/html": [
              "\n",
              "  <div id=\"df-095094d1-0097-4675-a0de-276dffafd0fa\">\n",
              "    <div class=\"colab-df-container\">\n",
              "      <div>\n",
              "<style scoped>\n",
              "    .dataframe tbody tr th:only-of-type {\n",
              "        vertical-align: middle;\n",
              "    }\n",
              "\n",
              "    .dataframe tbody tr th {\n",
              "        vertical-align: top;\n",
              "    }\n",
              "\n",
              "    .dataframe thead th {\n",
              "        text-align: right;\n",
              "    }\n",
              "</style>\n",
              "<table border=\"1\" class=\"dataframe\">\n",
              "  <thead>\n",
              "    <tr style=\"text-align: right;\">\n",
              "      <th></th>\n",
              "      <th>inst_1</th>\n",
              "      <th>inst_2</th>\n",
              "      <th>inst_3</th>\n",
              "      <th>inst_4</th>\n",
              "      <th>inst_5</th>\n",
              "      <th>inst_6</th>\n",
              "      <th>inst_7</th>\n",
              "      <th>inst_8</th>\n",
              "      <th>inst_9</th>\n",
              "      <th>inst_10</th>\n",
              "      <th>...</th>\n",
              "      <th>otr_caso_si</th>\n",
              "      <th>otr_caso_no</th>\n",
              "      <th>otr_caso_seIgn</th>\n",
              "      <th>uci_si</th>\n",
              "      <th>uci_no</th>\n",
              "      <th>uci_noAplica</th>\n",
              "      <th>uci_noEsp</th>\n",
              "      <th>defunciones</th>\n",
              "      <th>cluster</th>\n",
              "      <th>nombre_cluster</th>\n",
              "    </tr>\n",
              "  </thead>\n",
              "  <tbody>\n",
              "    <tr>\n",
              "      <th>0</th>\n",
              "      <td>0</td>\n",
              "      <td>0</td>\n",
              "      <td>0</td>\n",
              "      <td>0</td>\n",
              "      <td>0</td>\n",
              "      <td>0</td>\n",
              "      <td>0</td>\n",
              "      <td>0</td>\n",
              "      <td>0</td>\n",
              "      <td>0</td>\n",
              "      <td>...</td>\n",
              "      <td>1</td>\n",
              "      <td>0</td>\n",
              "      <td>0</td>\n",
              "      <td>0</td>\n",
              "      <td>0</td>\n",
              "      <td>1</td>\n",
              "      <td>0</td>\n",
              "      <td>0</td>\n",
              "      <td>0</td>\n",
              "      <td>delta</td>\n",
              "    </tr>\n",
              "    <tr>\n",
              "      <th>1</th>\n",
              "      <td>0</td>\n",
              "      <td>0</td>\n",
              "      <td>0</td>\n",
              "      <td>0</td>\n",
              "      <td>0</td>\n",
              "      <td>0</td>\n",
              "      <td>0</td>\n",
              "      <td>0</td>\n",
              "      <td>0</td>\n",
              "      <td>0</td>\n",
              "      <td>...</td>\n",
              "      <td>1</td>\n",
              "      <td>0</td>\n",
              "      <td>0</td>\n",
              "      <td>0</td>\n",
              "      <td>0</td>\n",
              "      <td>1</td>\n",
              "      <td>0</td>\n",
              "      <td>0</td>\n",
              "      <td>0</td>\n",
              "      <td>delta</td>\n",
              "    </tr>\n",
              "    <tr>\n",
              "      <th>2</th>\n",
              "      <td>0</td>\n",
              "      <td>0</td>\n",
              "      <td>0</td>\n",
              "      <td>0</td>\n",
              "      <td>0</td>\n",
              "      <td>0</td>\n",
              "      <td>0</td>\n",
              "      <td>0</td>\n",
              "      <td>0</td>\n",
              "      <td>0</td>\n",
              "      <td>...</td>\n",
              "      <td>1</td>\n",
              "      <td>0</td>\n",
              "      <td>0</td>\n",
              "      <td>0</td>\n",
              "      <td>0</td>\n",
              "      <td>1</td>\n",
              "      <td>0</td>\n",
              "      <td>0</td>\n",
              "      <td>2</td>\n",
              "      <td>gamma</td>\n",
              "    </tr>\n",
              "    <tr>\n",
              "      <th>3</th>\n",
              "      <td>0</td>\n",
              "      <td>0</td>\n",
              "      <td>0</td>\n",
              "      <td>0</td>\n",
              "      <td>0</td>\n",
              "      <td>0</td>\n",
              "      <td>0</td>\n",
              "      <td>0</td>\n",
              "      <td>0</td>\n",
              "      <td>0</td>\n",
              "      <td>...</td>\n",
              "      <td>1</td>\n",
              "      <td>0</td>\n",
              "      <td>0</td>\n",
              "      <td>0</td>\n",
              "      <td>0</td>\n",
              "      <td>1</td>\n",
              "      <td>0</td>\n",
              "      <td>0</td>\n",
              "      <td>3</td>\n",
              "      <td>beta</td>\n",
              "    </tr>\n",
              "    <tr>\n",
              "      <th>4</th>\n",
              "      <td>0</td>\n",
              "      <td>0</td>\n",
              "      <td>0</td>\n",
              "      <td>0</td>\n",
              "      <td>0</td>\n",
              "      <td>0</td>\n",
              "      <td>0</td>\n",
              "      <td>0</td>\n",
              "      <td>0</td>\n",
              "      <td>0</td>\n",
              "      <td>...</td>\n",
              "      <td>1</td>\n",
              "      <td>0</td>\n",
              "      <td>0</td>\n",
              "      <td>0</td>\n",
              "      <td>0</td>\n",
              "      <td>1</td>\n",
              "      <td>0</td>\n",
              "      <td>0</td>\n",
              "      <td>3</td>\n",
              "      <td>beta</td>\n",
              "    </tr>\n",
              "    <tr>\n",
              "      <th>5</th>\n",
              "      <td>0</td>\n",
              "      <td>0</td>\n",
              "      <td>0</td>\n",
              "      <td>0</td>\n",
              "      <td>0</td>\n",
              "      <td>0</td>\n",
              "      <td>0</td>\n",
              "      <td>0</td>\n",
              "      <td>0</td>\n",
              "      <td>0</td>\n",
              "      <td>...</td>\n",
              "      <td>0</td>\n",
              "      <td>1</td>\n",
              "      <td>0</td>\n",
              "      <td>0</td>\n",
              "      <td>0</td>\n",
              "      <td>1</td>\n",
              "      <td>0</td>\n",
              "      <td>0</td>\n",
              "      <td>3</td>\n",
              "      <td>beta</td>\n",
              "    </tr>\n",
              "    <tr>\n",
              "      <th>6</th>\n",
              "      <td>0</td>\n",
              "      <td>0</td>\n",
              "      <td>0</td>\n",
              "      <td>0</td>\n",
              "      <td>0</td>\n",
              "      <td>0</td>\n",
              "      <td>0</td>\n",
              "      <td>0</td>\n",
              "      <td>0</td>\n",
              "      <td>0</td>\n",
              "      <td>...</td>\n",
              "      <td>0</td>\n",
              "      <td>1</td>\n",
              "      <td>0</td>\n",
              "      <td>0</td>\n",
              "      <td>0</td>\n",
              "      <td>1</td>\n",
              "      <td>0</td>\n",
              "      <td>0</td>\n",
              "      <td>1</td>\n",
              "      <td>alpha</td>\n",
              "    </tr>\n",
              "    <tr>\n",
              "      <th>7</th>\n",
              "      <td>0</td>\n",
              "      <td>0</td>\n",
              "      <td>0</td>\n",
              "      <td>0</td>\n",
              "      <td>0</td>\n",
              "      <td>0</td>\n",
              "      <td>0</td>\n",
              "      <td>0</td>\n",
              "      <td>0</td>\n",
              "      <td>0</td>\n",
              "      <td>...</td>\n",
              "      <td>0</td>\n",
              "      <td>1</td>\n",
              "      <td>0</td>\n",
              "      <td>0</td>\n",
              "      <td>1</td>\n",
              "      <td>0</td>\n",
              "      <td>0</td>\n",
              "      <td>0</td>\n",
              "      <td>3</td>\n",
              "      <td>beta</td>\n",
              "    </tr>\n",
              "    <tr>\n",
              "      <th>8</th>\n",
              "      <td>0</td>\n",
              "      <td>0</td>\n",
              "      <td>0</td>\n",
              "      <td>0</td>\n",
              "      <td>0</td>\n",
              "      <td>1</td>\n",
              "      <td>0</td>\n",
              "      <td>0</td>\n",
              "      <td>0</td>\n",
              "      <td>0</td>\n",
              "      <td>...</td>\n",
              "      <td>1</td>\n",
              "      <td>0</td>\n",
              "      <td>0</td>\n",
              "      <td>0</td>\n",
              "      <td>0</td>\n",
              "      <td>1</td>\n",
              "      <td>0</td>\n",
              "      <td>0</td>\n",
              "      <td>3</td>\n",
              "      <td>beta</td>\n",
              "    </tr>\n",
              "    <tr>\n",
              "      <th>9</th>\n",
              "      <td>0</td>\n",
              "      <td>0</td>\n",
              "      <td>0</td>\n",
              "      <td>0</td>\n",
              "      <td>0</td>\n",
              "      <td>0</td>\n",
              "      <td>0</td>\n",
              "      <td>0</td>\n",
              "      <td>0</td>\n",
              "      <td>0</td>\n",
              "      <td>...</td>\n",
              "      <td>0</td>\n",
              "      <td>1</td>\n",
              "      <td>0</td>\n",
              "      <td>0</td>\n",
              "      <td>0</td>\n",
              "      <td>1</td>\n",
              "      <td>0</td>\n",
              "      <td>0</td>\n",
              "      <td>1</td>\n",
              "      <td>alpha</td>\n",
              "    </tr>\n",
              "  </tbody>\n",
              "</table>\n",
              "<p>10 rows × 93 columns</p>\n",
              "</div>\n",
              "      <button class=\"colab-df-convert\" onclick=\"convertToInteractive('df-095094d1-0097-4675-a0de-276dffafd0fa')\"\n",
              "              title=\"Convert this dataframe to an interactive table.\"\n",
              "              style=\"display:none;\">\n",
              "        \n",
              "  <svg xmlns=\"http://www.w3.org/2000/svg\" height=\"24px\"viewBox=\"0 0 24 24\"\n",
              "       width=\"24px\">\n",
              "    <path d=\"M0 0h24v24H0V0z\" fill=\"none\"/>\n",
              "    <path d=\"M18.56 5.44l.94 2.06.94-2.06 2.06-.94-2.06-.94-.94-2.06-.94 2.06-2.06.94zm-11 1L8.5 8.5l.94-2.06 2.06-.94-2.06-.94L8.5 2.5l-.94 2.06-2.06.94zm10 10l.94 2.06.94-2.06 2.06-.94-2.06-.94-.94-2.06-.94 2.06-2.06.94z\"/><path d=\"M17.41 7.96l-1.37-1.37c-.4-.4-.92-.59-1.43-.59-.52 0-1.04.2-1.43.59L10.3 9.45l-7.72 7.72c-.78.78-.78 2.05 0 2.83L4 21.41c.39.39.9.59 1.41.59.51 0 1.02-.2 1.41-.59l7.78-7.78 2.81-2.81c.8-.78.8-2.07 0-2.86zM5.41 20L4 18.59l7.72-7.72 1.47 1.35L5.41 20z\"/>\n",
              "  </svg>\n",
              "      </button>\n",
              "      \n",
              "  <style>\n",
              "    .colab-df-container {\n",
              "      display:flex;\n",
              "      flex-wrap:wrap;\n",
              "      gap: 12px;\n",
              "    }\n",
              "\n",
              "    .colab-df-convert {\n",
              "      background-color: #E8F0FE;\n",
              "      border: none;\n",
              "      border-radius: 50%;\n",
              "      cursor: pointer;\n",
              "      display: none;\n",
              "      fill: #1967D2;\n",
              "      height: 32px;\n",
              "      padding: 0 0 0 0;\n",
              "      width: 32px;\n",
              "    }\n",
              "\n",
              "    .colab-df-convert:hover {\n",
              "      background-color: #E2EBFA;\n",
              "      box-shadow: 0px 1px 2px rgba(60, 64, 67, 0.3), 0px 1px 3px 1px rgba(60, 64, 67, 0.15);\n",
              "      fill: #174EA6;\n",
              "    }\n",
              "\n",
              "    [theme=dark] .colab-df-convert {\n",
              "      background-color: #3B4455;\n",
              "      fill: #D2E3FC;\n",
              "    }\n",
              "\n",
              "    [theme=dark] .colab-df-convert:hover {\n",
              "      background-color: #434B5C;\n",
              "      box-shadow: 0px 1px 3px 1px rgba(0, 0, 0, 0.15);\n",
              "      filter: drop-shadow(0px 1px 2px rgba(0, 0, 0, 0.3));\n",
              "      fill: #FFFFFF;\n",
              "    }\n",
              "  </style>\n",
              "\n",
              "      <script>\n",
              "        const buttonEl =\n",
              "          document.querySelector('#df-095094d1-0097-4675-a0de-276dffafd0fa button.colab-df-convert');\n",
              "        buttonEl.style.display =\n",
              "          google.colab.kernel.accessAllowed ? 'block' : 'none';\n",
              "\n",
              "        async function convertToInteractive(key) {\n",
              "          const element = document.querySelector('#df-095094d1-0097-4675-a0de-276dffafd0fa');\n",
              "          const dataTable =\n",
              "            await google.colab.kernel.invokeFunction('convertToInteractive',\n",
              "                                                     [key], {});\n",
              "          if (!dataTable) return;\n",
              "\n",
              "          const docLinkHtml = 'Like what you see? Visit the ' +\n",
              "            '<a target=\"_blank\" href=https://colab.research.google.com/notebooks/data_table.ipynb>data table notebook</a>'\n",
              "            + ' to learn more about interactive tables.';\n",
              "          element.innerHTML = '';\n",
              "          dataTable['output_type'] = 'display_data';\n",
              "          await google.colab.output.renderOutput(dataTable, element);\n",
              "          const docLink = document.createElement('div');\n",
              "          docLink.innerHTML = docLinkHtml;\n",
              "          element.appendChild(docLink);\n",
              "        }\n",
              "      </script>\n",
              "    </div>\n",
              "  </div>\n",
              "  "
            ]
          },
          "metadata": {},
          "execution_count": 6
        }
      ]
    },
    {
      "cell_type": "code",
      "source": [
        "cdmx = pd.DataFrame(X[\"nombre_cluster\"].value_counts())\n",
        "cdmx"
      ],
      "metadata": {
        "colab": {
          "base_uri": "https://localhost:8080/",
          "height": 175
        },
        "id": "GIF019vkd4_T",
        "outputId": "b5136d21-b2a9-4f2d-8bb9-0c4637be085a"
      },
      "execution_count": 7,
      "outputs": [
        {
          "output_type": "execute_result",
          "data": {
            "text/plain": [
              "       nombre_cluster\n",
              "beta           586749\n",
              "gamma          505778\n",
              "alpha          392414\n",
              "delta          258627"
            ],
            "text/html": [
              "\n",
              "  <div id=\"df-3400d0cc-c2c8-4e4b-a30f-cf6bdbe20772\">\n",
              "    <div class=\"colab-df-container\">\n",
              "      <div>\n",
              "<style scoped>\n",
              "    .dataframe tbody tr th:only-of-type {\n",
              "        vertical-align: middle;\n",
              "    }\n",
              "\n",
              "    .dataframe tbody tr th {\n",
              "        vertical-align: top;\n",
              "    }\n",
              "\n",
              "    .dataframe thead th {\n",
              "        text-align: right;\n",
              "    }\n",
              "</style>\n",
              "<table border=\"1\" class=\"dataframe\">\n",
              "  <thead>\n",
              "    <tr style=\"text-align: right;\">\n",
              "      <th></th>\n",
              "      <th>nombre_cluster</th>\n",
              "    </tr>\n",
              "  </thead>\n",
              "  <tbody>\n",
              "    <tr>\n",
              "      <th>beta</th>\n",
              "      <td>586749</td>\n",
              "    </tr>\n",
              "    <tr>\n",
              "      <th>gamma</th>\n",
              "      <td>505778</td>\n",
              "    </tr>\n",
              "    <tr>\n",
              "      <th>alpha</th>\n",
              "      <td>392414</td>\n",
              "    </tr>\n",
              "    <tr>\n",
              "      <th>delta</th>\n",
              "      <td>258627</td>\n",
              "    </tr>\n",
              "  </tbody>\n",
              "</table>\n",
              "</div>\n",
              "      <button class=\"colab-df-convert\" onclick=\"convertToInteractive('df-3400d0cc-c2c8-4e4b-a30f-cf6bdbe20772')\"\n",
              "              title=\"Convert this dataframe to an interactive table.\"\n",
              "              style=\"display:none;\">\n",
              "        \n",
              "  <svg xmlns=\"http://www.w3.org/2000/svg\" height=\"24px\"viewBox=\"0 0 24 24\"\n",
              "       width=\"24px\">\n",
              "    <path d=\"M0 0h24v24H0V0z\" fill=\"none\"/>\n",
              "    <path d=\"M18.56 5.44l.94 2.06.94-2.06 2.06-.94-2.06-.94-.94-2.06-.94 2.06-2.06.94zm-11 1L8.5 8.5l.94-2.06 2.06-.94-2.06-.94L8.5 2.5l-.94 2.06-2.06.94zm10 10l.94 2.06.94-2.06 2.06-.94-2.06-.94-.94-2.06-.94 2.06-2.06.94z\"/><path d=\"M17.41 7.96l-1.37-1.37c-.4-.4-.92-.59-1.43-.59-.52 0-1.04.2-1.43.59L10.3 9.45l-7.72 7.72c-.78.78-.78 2.05 0 2.83L4 21.41c.39.39.9.59 1.41.59.51 0 1.02-.2 1.41-.59l7.78-7.78 2.81-2.81c.8-.78.8-2.07 0-2.86zM5.41 20L4 18.59l7.72-7.72 1.47 1.35L5.41 20z\"/>\n",
              "  </svg>\n",
              "      </button>\n",
              "      \n",
              "  <style>\n",
              "    .colab-df-container {\n",
              "      display:flex;\n",
              "      flex-wrap:wrap;\n",
              "      gap: 12px;\n",
              "    }\n",
              "\n",
              "    .colab-df-convert {\n",
              "      background-color: #E8F0FE;\n",
              "      border: none;\n",
              "      border-radius: 50%;\n",
              "      cursor: pointer;\n",
              "      display: none;\n",
              "      fill: #1967D2;\n",
              "      height: 32px;\n",
              "      padding: 0 0 0 0;\n",
              "      width: 32px;\n",
              "    }\n",
              "\n",
              "    .colab-df-convert:hover {\n",
              "      background-color: #E2EBFA;\n",
              "      box-shadow: 0px 1px 2px rgba(60, 64, 67, 0.3), 0px 1px 3px 1px rgba(60, 64, 67, 0.15);\n",
              "      fill: #174EA6;\n",
              "    }\n",
              "\n",
              "    [theme=dark] .colab-df-convert {\n",
              "      background-color: #3B4455;\n",
              "      fill: #D2E3FC;\n",
              "    }\n",
              "\n",
              "    [theme=dark] .colab-df-convert:hover {\n",
              "      background-color: #434B5C;\n",
              "      box-shadow: 0px 1px 3px 1px rgba(0, 0, 0, 0.15);\n",
              "      filter: drop-shadow(0px 1px 2px rgba(0, 0, 0, 0.3));\n",
              "      fill: #FFFFFF;\n",
              "    }\n",
              "  </style>\n",
              "\n",
              "      <script>\n",
              "        const buttonEl =\n",
              "          document.querySelector('#df-3400d0cc-c2c8-4e4b-a30f-cf6bdbe20772 button.colab-df-convert');\n",
              "        buttonEl.style.display =\n",
              "          google.colab.kernel.accessAllowed ? 'block' : 'none';\n",
              "\n",
              "        async function convertToInteractive(key) {\n",
              "          const element = document.querySelector('#df-3400d0cc-c2c8-4e4b-a30f-cf6bdbe20772');\n",
              "          const dataTable =\n",
              "            await google.colab.kernel.invokeFunction('convertToInteractive',\n",
              "                                                     [key], {});\n",
              "          if (!dataTable) return;\n",
              "\n",
              "          const docLinkHtml = 'Like what you see? Visit the ' +\n",
              "            '<a target=\"_blank\" href=https://colab.research.google.com/notebooks/data_table.ipynb>data table notebook</a>'\n",
              "            + ' to learn more about interactive tables.';\n",
              "          element.innerHTML = '';\n",
              "          dataTable['output_type'] = 'display_data';\n",
              "          await google.colab.output.renderOutput(dataTable, element);\n",
              "          const docLink = document.createElement('div');\n",
              "          docLink.innerHTML = docLinkHtml;\n",
              "          element.appendChild(docLink);\n",
              "        }\n",
              "      </script>\n",
              "    </div>\n",
              "  </div>\n",
              "  "
            ]
          },
          "metadata": {},
          "execution_count": 7
        }
      ]
    },
    {
      "cell_type": "markdown",
      "source": [
        "# Tabla pivote"
      ],
      "metadata": {
        "id": "l-uWayJHerSD"
      }
    },
    {
      "cell_type": "code",
      "source": [
        "X_pivot = pd.pivot_table(X, index='cluster')\n",
        "X_pivot[\"cluster\"] = X_pivot.index\n",
        "X_pivot[[\"EDAD\", \"defunciones\", \"uci_si\", \"intub_si\", \"asma_si\", \"diabetes_si\", \"inmusupr_si\",\"indigena_si\", \"paciente_hosp\", \"obesidad_si\", \"renalCr_si\"]]"
      ],
      "metadata": {
        "colab": {
          "base_uri": "https://localhost:8080/",
          "height": 206
        },
        "id": "scMDe18geqmI",
        "outputId": "dd3e0ecf-03c1-47ff-f82f-9c86b0ce9180"
      },
      "execution_count": 8,
      "outputs": [
        {
          "output_type": "execute_result",
          "data": {
            "text/plain": [
              "              EDAD  defunciones    uci_si  intub_si   asma_si  diabetes_si  \\\n",
              "cluster                                                                      \n",
              "0        68.055744     0.111794  0.012087  0.031706  0.013463     0.234102   \n",
              "1        17.515665     0.000742  0.000650  0.000558  0.021256     0.004172   \n",
              "2        49.491581     0.022917  0.003828  0.009299  0.017320     0.107954   \n",
              "3        33.194011     0.004632  0.001275  0.002221  0.019908     0.020608   \n",
              "\n",
              "         inmusupr_si  indigena_si  paciente_hosp  obesidad_si  renalCr_si  \n",
              "cluster                                                                    \n",
              "0           0.011627     0.003797       0.189621     0.093536    0.018950  \n",
              "1           0.002110     0.002237       0.010769     0.032364    0.001514  \n",
              "2           0.006374     0.003278       0.058201     0.104902    0.006880  \n",
              "3           0.003083     0.002822       0.021375     0.078701    0.003201  "
            ],
            "text/html": [
              "\n",
              "  <div id=\"df-a648f098-325e-4ce2-9e33-99bb6a370f76\">\n",
              "    <div class=\"colab-df-container\">\n",
              "      <div>\n",
              "<style scoped>\n",
              "    .dataframe tbody tr th:only-of-type {\n",
              "        vertical-align: middle;\n",
              "    }\n",
              "\n",
              "    .dataframe tbody tr th {\n",
              "        vertical-align: top;\n",
              "    }\n",
              "\n",
              "    .dataframe thead th {\n",
              "        text-align: right;\n",
              "    }\n",
              "</style>\n",
              "<table border=\"1\" class=\"dataframe\">\n",
              "  <thead>\n",
              "    <tr style=\"text-align: right;\">\n",
              "      <th></th>\n",
              "      <th>EDAD</th>\n",
              "      <th>defunciones</th>\n",
              "      <th>uci_si</th>\n",
              "      <th>intub_si</th>\n",
              "      <th>asma_si</th>\n",
              "      <th>diabetes_si</th>\n",
              "      <th>inmusupr_si</th>\n",
              "      <th>indigena_si</th>\n",
              "      <th>paciente_hosp</th>\n",
              "      <th>obesidad_si</th>\n",
              "      <th>renalCr_si</th>\n",
              "    </tr>\n",
              "    <tr>\n",
              "      <th>cluster</th>\n",
              "      <th></th>\n",
              "      <th></th>\n",
              "      <th></th>\n",
              "      <th></th>\n",
              "      <th></th>\n",
              "      <th></th>\n",
              "      <th></th>\n",
              "      <th></th>\n",
              "      <th></th>\n",
              "      <th></th>\n",
              "      <th></th>\n",
              "    </tr>\n",
              "  </thead>\n",
              "  <tbody>\n",
              "    <tr>\n",
              "      <th>0</th>\n",
              "      <td>68.055744</td>\n",
              "      <td>0.111794</td>\n",
              "      <td>0.012087</td>\n",
              "      <td>0.031706</td>\n",
              "      <td>0.013463</td>\n",
              "      <td>0.234102</td>\n",
              "      <td>0.011627</td>\n",
              "      <td>0.003797</td>\n",
              "      <td>0.189621</td>\n",
              "      <td>0.093536</td>\n",
              "      <td>0.018950</td>\n",
              "    </tr>\n",
              "    <tr>\n",
              "      <th>1</th>\n",
              "      <td>17.515665</td>\n",
              "      <td>0.000742</td>\n",
              "      <td>0.000650</td>\n",
              "      <td>0.000558</td>\n",
              "      <td>0.021256</td>\n",
              "      <td>0.004172</td>\n",
              "      <td>0.002110</td>\n",
              "      <td>0.002237</td>\n",
              "      <td>0.010769</td>\n",
              "      <td>0.032364</td>\n",
              "      <td>0.001514</td>\n",
              "    </tr>\n",
              "    <tr>\n",
              "      <th>2</th>\n",
              "      <td>49.491581</td>\n",
              "      <td>0.022917</td>\n",
              "      <td>0.003828</td>\n",
              "      <td>0.009299</td>\n",
              "      <td>0.017320</td>\n",
              "      <td>0.107954</td>\n",
              "      <td>0.006374</td>\n",
              "      <td>0.003278</td>\n",
              "      <td>0.058201</td>\n",
              "      <td>0.104902</td>\n",
              "      <td>0.006880</td>\n",
              "    </tr>\n",
              "    <tr>\n",
              "      <th>3</th>\n",
              "      <td>33.194011</td>\n",
              "      <td>0.004632</td>\n",
              "      <td>0.001275</td>\n",
              "      <td>0.002221</td>\n",
              "      <td>0.019908</td>\n",
              "      <td>0.020608</td>\n",
              "      <td>0.003083</td>\n",
              "      <td>0.002822</td>\n",
              "      <td>0.021375</td>\n",
              "      <td>0.078701</td>\n",
              "      <td>0.003201</td>\n",
              "    </tr>\n",
              "  </tbody>\n",
              "</table>\n",
              "</div>\n",
              "      <button class=\"colab-df-convert\" onclick=\"convertToInteractive('df-a648f098-325e-4ce2-9e33-99bb6a370f76')\"\n",
              "              title=\"Convert this dataframe to an interactive table.\"\n",
              "              style=\"display:none;\">\n",
              "        \n",
              "  <svg xmlns=\"http://www.w3.org/2000/svg\" height=\"24px\"viewBox=\"0 0 24 24\"\n",
              "       width=\"24px\">\n",
              "    <path d=\"M0 0h24v24H0V0z\" fill=\"none\"/>\n",
              "    <path d=\"M18.56 5.44l.94 2.06.94-2.06 2.06-.94-2.06-.94-.94-2.06-.94 2.06-2.06.94zm-11 1L8.5 8.5l.94-2.06 2.06-.94-2.06-.94L8.5 2.5l-.94 2.06-2.06.94zm10 10l.94 2.06.94-2.06 2.06-.94-2.06-.94-.94-2.06-.94 2.06-2.06.94z\"/><path d=\"M17.41 7.96l-1.37-1.37c-.4-.4-.92-.59-1.43-.59-.52 0-1.04.2-1.43.59L10.3 9.45l-7.72 7.72c-.78.78-.78 2.05 0 2.83L4 21.41c.39.39.9.59 1.41.59.51 0 1.02-.2 1.41-.59l7.78-7.78 2.81-2.81c.8-.78.8-2.07 0-2.86zM5.41 20L4 18.59l7.72-7.72 1.47 1.35L5.41 20z\"/>\n",
              "  </svg>\n",
              "      </button>\n",
              "      \n",
              "  <style>\n",
              "    .colab-df-container {\n",
              "      display:flex;\n",
              "      flex-wrap:wrap;\n",
              "      gap: 12px;\n",
              "    }\n",
              "\n",
              "    .colab-df-convert {\n",
              "      background-color: #E8F0FE;\n",
              "      border: none;\n",
              "      border-radius: 50%;\n",
              "      cursor: pointer;\n",
              "      display: none;\n",
              "      fill: #1967D2;\n",
              "      height: 32px;\n",
              "      padding: 0 0 0 0;\n",
              "      width: 32px;\n",
              "    }\n",
              "\n",
              "    .colab-df-convert:hover {\n",
              "      background-color: #E2EBFA;\n",
              "      box-shadow: 0px 1px 2px rgba(60, 64, 67, 0.3), 0px 1px 3px 1px rgba(60, 64, 67, 0.15);\n",
              "      fill: #174EA6;\n",
              "    }\n",
              "\n",
              "    [theme=dark] .colab-df-convert {\n",
              "      background-color: #3B4455;\n",
              "      fill: #D2E3FC;\n",
              "    }\n",
              "\n",
              "    [theme=dark] .colab-df-convert:hover {\n",
              "      background-color: #434B5C;\n",
              "      box-shadow: 0px 1px 3px 1px rgba(0, 0, 0, 0.15);\n",
              "      filter: drop-shadow(0px 1px 2px rgba(0, 0, 0, 0.3));\n",
              "      fill: #FFFFFF;\n",
              "    }\n",
              "  </style>\n",
              "\n",
              "      <script>\n",
              "        const buttonEl =\n",
              "          document.querySelector('#df-a648f098-325e-4ce2-9e33-99bb6a370f76 button.colab-df-convert');\n",
              "        buttonEl.style.display =\n",
              "          google.colab.kernel.accessAllowed ? 'block' : 'none';\n",
              "\n",
              "        async function convertToInteractive(key) {\n",
              "          const element = document.querySelector('#df-a648f098-325e-4ce2-9e33-99bb6a370f76');\n",
              "          const dataTable =\n",
              "            await google.colab.kernel.invokeFunction('convertToInteractive',\n",
              "                                                     [key], {});\n",
              "          if (!dataTable) return;\n",
              "\n",
              "          const docLinkHtml = 'Like what you see? Visit the ' +\n",
              "            '<a target=\"_blank\" href=https://colab.research.google.com/notebooks/data_table.ipynb>data table notebook</a>'\n",
              "            + ' to learn more about interactive tables.';\n",
              "          element.innerHTML = '';\n",
              "          dataTable['output_type'] = 'display_data';\n",
              "          await google.colab.output.renderOutput(dataTable, element);\n",
              "          const docLink = document.createElement('div');\n",
              "          docLink.innerHTML = docLinkHtml;\n",
              "          element.appendChild(docLink);\n",
              "        }\n",
              "      </script>\n",
              "    </div>\n",
              "  </div>\n",
              "  "
            ]
          },
          "metadata": {},
          "execution_count": 8
        }
      ]
    },
    {
      "cell_type": "code",
      "source": [
        "# Prueba de que la tabla pivote resume el promedio de los valores de su matri de origen\n",
        "X[X[\"cluster\"]==2][\"defunciones\"].mean()"
      ],
      "metadata": {
        "colab": {
          "base_uri": "https://localhost:8080/"
        },
        "id": "ZFjBxvGWCATP",
        "outputId": "7b46c2dd-4898-4d96-8f1b-9c9dd04fd283"
      },
      "execution_count": 33,
      "outputs": [
        {
          "output_type": "execute_result",
          "data": {
            "text/plain": [
              "0.022917169192807913"
            ]
          },
          "metadata": {},
          "execution_count": 33
        }
      ]
    },
    {
      "cell_type": "code",
      "source": [
        "X_pivot.columns"
      ],
      "metadata": {
        "colab": {
          "base_uri": "https://localhost:8080/"
        },
        "id": "0-i8qGKAfVv9",
        "outputId": "e8870746-d3fe-4201-fbcd-86934fad1cee"
      },
      "execution_count": 9,
      "outputs": [
        {
          "output_type": "execute_result",
          "data": {
            "text/plain": [
              "Index(['EDAD', 'alc_alv', 'alc_azcap', 'alc_beniJ', 'alc_coyo', 'alc_cuaj',\n",
              "       'alc_cuauh', 'alc_gam', 'alc_iztac', 'alc_iztap', 'alc_magdC',\n",
              "       'alc_migH', 'alc_milpa', 'alc_noEsp', 'alc_tlah', 'alc_tlalp',\n",
              "       'alc_xoch', 'asma_no', 'asma_seIgn', 'asma_si', 'cardio_no',\n",
              "       'cardio_seIgn', 'cardio_si', 'defunciones', 'diabetes_no',\n",
              "       'diabetes_seIgn', 'diabetes_si', 'embarazo_no', 'embarazo_noAplica',\n",
              "       'embarazo_seIgn', 'embarazo_si', 'epoc_no', 'epoc_seIgn', 'epoc_si',\n",
              "       'hipert_no', 'hipert_seIgn', 'hipert_si', 'indigena_no',\n",
              "       'indigena_noEsp', 'indigena_si', 'inmusupr_no', 'inmusupr_seIgn',\n",
              "       'inmusupr_si', 'inst_1', 'inst_10', 'inst_11', 'inst_12', 'inst_13',\n",
              "       'inst_14', 'inst_2', 'inst_3', 'inst_4', 'inst_5', 'inst_6', 'inst_7',\n",
              "       'inst_8', 'inst_9', 'intub_no', 'intub_noAplica', 'intub_noEsp',\n",
              "       'intub_si', 'leng_ind_no', 'leng_ind_noEsp', 'leng_ind_si',\n",
              "       'neumonia_no', 'neumonia_noEsp', 'neumonia_si', 'obesidad_no',\n",
              "       'obesidad_seIgn', 'obesidad_si', 'otr_caso_no', 'otr_caso_seIgn',\n",
              "       'otr_caso_si', 'otr_com_no', 'otr_com_seIgn', 'otr_com_si',\n",
              "       'paciente_amb', 'paciente_hosp', 'renalCr_no', 'renalCr_seIgn',\n",
              "       'renalCr_si', 'sex_H', 'sex_M', 'tabaq_no', 'tabaq_seIgn', 'tabaq_si',\n",
              "       'uci_no', 'uci_noAplica', 'uci_noEsp', 'uci_si', 'venusC', 'cluster'],\n",
              "      dtype='object')"
            ]
          },
          "metadata": {},
          "execution_count": 9
        }
      ]
    },
    {
      "cell_type": "markdown",
      "source": [
        "## Historia natural de la enfermedad"
      ],
      "metadata": {
        "id": "ymdIGPr7lzPo"
      }
    },
    {
      "cell_type": "code",
      "source": [
        "X_pivot[[\"EDAD\", \"defunciones\", \"paciente_hosp\", \"intub_si\", \"uci_si\"]]"
      ],
      "metadata": {
        "colab": {
          "base_uri": "https://localhost:8080/",
          "height": 206
        },
        "id": "HWP3nyGzjBYF",
        "outputId": "e3d7106f-c944-4c01-ad6d-b28d6baa1447"
      },
      "execution_count": 60,
      "outputs": [
        {
          "output_type": "execute_result",
          "data": {
            "text/plain": [
              "              EDAD  defunciones  paciente_hosp  intub_si    uci_si\n",
              "cluster                                                           \n",
              "0        68.055744     0.111794       0.189621  0.031706  0.012087\n",
              "1        17.515665     0.000742       0.010769  0.000558  0.000650\n",
              "2        49.491581     0.022917       0.058201  0.009299  0.003828\n",
              "3        33.194011     0.004632       0.021375  0.002221  0.001275"
            ],
            "text/html": [
              "\n",
              "  <div id=\"df-51f70947-7548-43b7-a14d-f0f0a51da753\">\n",
              "    <div class=\"colab-df-container\">\n",
              "      <div>\n",
              "<style scoped>\n",
              "    .dataframe tbody tr th:only-of-type {\n",
              "        vertical-align: middle;\n",
              "    }\n",
              "\n",
              "    .dataframe tbody tr th {\n",
              "        vertical-align: top;\n",
              "    }\n",
              "\n",
              "    .dataframe thead th {\n",
              "        text-align: right;\n",
              "    }\n",
              "</style>\n",
              "<table border=\"1\" class=\"dataframe\">\n",
              "  <thead>\n",
              "    <tr style=\"text-align: right;\">\n",
              "      <th></th>\n",
              "      <th>EDAD</th>\n",
              "      <th>defunciones</th>\n",
              "      <th>paciente_hosp</th>\n",
              "      <th>intub_si</th>\n",
              "      <th>uci_si</th>\n",
              "    </tr>\n",
              "    <tr>\n",
              "      <th>cluster</th>\n",
              "      <th></th>\n",
              "      <th></th>\n",
              "      <th></th>\n",
              "      <th></th>\n",
              "      <th></th>\n",
              "    </tr>\n",
              "  </thead>\n",
              "  <tbody>\n",
              "    <tr>\n",
              "      <th>0</th>\n",
              "      <td>68.055744</td>\n",
              "      <td>0.111794</td>\n",
              "      <td>0.189621</td>\n",
              "      <td>0.031706</td>\n",
              "      <td>0.012087</td>\n",
              "    </tr>\n",
              "    <tr>\n",
              "      <th>1</th>\n",
              "      <td>17.515665</td>\n",
              "      <td>0.000742</td>\n",
              "      <td>0.010769</td>\n",
              "      <td>0.000558</td>\n",
              "      <td>0.000650</td>\n",
              "    </tr>\n",
              "    <tr>\n",
              "      <th>2</th>\n",
              "      <td>49.491581</td>\n",
              "      <td>0.022917</td>\n",
              "      <td>0.058201</td>\n",
              "      <td>0.009299</td>\n",
              "      <td>0.003828</td>\n",
              "    </tr>\n",
              "    <tr>\n",
              "      <th>3</th>\n",
              "      <td>33.194011</td>\n",
              "      <td>0.004632</td>\n",
              "      <td>0.021375</td>\n",
              "      <td>0.002221</td>\n",
              "      <td>0.001275</td>\n",
              "    </tr>\n",
              "  </tbody>\n",
              "</table>\n",
              "</div>\n",
              "      <button class=\"colab-df-convert\" onclick=\"convertToInteractive('df-51f70947-7548-43b7-a14d-f0f0a51da753')\"\n",
              "              title=\"Convert this dataframe to an interactive table.\"\n",
              "              style=\"display:none;\">\n",
              "        \n",
              "  <svg xmlns=\"http://www.w3.org/2000/svg\" height=\"24px\"viewBox=\"0 0 24 24\"\n",
              "       width=\"24px\">\n",
              "    <path d=\"M0 0h24v24H0V0z\" fill=\"none\"/>\n",
              "    <path d=\"M18.56 5.44l.94 2.06.94-2.06 2.06-.94-2.06-.94-.94-2.06-.94 2.06-2.06.94zm-11 1L8.5 8.5l.94-2.06 2.06-.94-2.06-.94L8.5 2.5l-.94 2.06-2.06.94zm10 10l.94 2.06.94-2.06 2.06-.94-2.06-.94-.94-2.06-.94 2.06-2.06.94z\"/><path d=\"M17.41 7.96l-1.37-1.37c-.4-.4-.92-.59-1.43-.59-.52 0-1.04.2-1.43.59L10.3 9.45l-7.72 7.72c-.78.78-.78 2.05 0 2.83L4 21.41c.39.39.9.59 1.41.59.51 0 1.02-.2 1.41-.59l7.78-7.78 2.81-2.81c.8-.78.8-2.07 0-2.86zM5.41 20L4 18.59l7.72-7.72 1.47 1.35L5.41 20z\"/>\n",
              "  </svg>\n",
              "      </button>\n",
              "      \n",
              "  <style>\n",
              "    .colab-df-container {\n",
              "      display:flex;\n",
              "      flex-wrap:wrap;\n",
              "      gap: 12px;\n",
              "    }\n",
              "\n",
              "    .colab-df-convert {\n",
              "      background-color: #E8F0FE;\n",
              "      border: none;\n",
              "      border-radius: 50%;\n",
              "      cursor: pointer;\n",
              "      display: none;\n",
              "      fill: #1967D2;\n",
              "      height: 32px;\n",
              "      padding: 0 0 0 0;\n",
              "      width: 32px;\n",
              "    }\n",
              "\n",
              "    .colab-df-convert:hover {\n",
              "      background-color: #E2EBFA;\n",
              "      box-shadow: 0px 1px 2px rgba(60, 64, 67, 0.3), 0px 1px 3px 1px rgba(60, 64, 67, 0.15);\n",
              "      fill: #174EA6;\n",
              "    }\n",
              "\n",
              "    [theme=dark] .colab-df-convert {\n",
              "      background-color: #3B4455;\n",
              "      fill: #D2E3FC;\n",
              "    }\n",
              "\n",
              "    [theme=dark] .colab-df-convert:hover {\n",
              "      background-color: #434B5C;\n",
              "      box-shadow: 0px 1px 3px 1px rgba(0, 0, 0, 0.15);\n",
              "      filter: drop-shadow(0px 1px 2px rgba(0, 0, 0, 0.3));\n",
              "      fill: #FFFFFF;\n",
              "    }\n",
              "  </style>\n",
              "\n",
              "      <script>\n",
              "        const buttonEl =\n",
              "          document.querySelector('#df-51f70947-7548-43b7-a14d-f0f0a51da753 button.colab-df-convert');\n",
              "        buttonEl.style.display =\n",
              "          google.colab.kernel.accessAllowed ? 'block' : 'none';\n",
              "\n",
              "        async function convertToInteractive(key) {\n",
              "          const element = document.querySelector('#df-51f70947-7548-43b7-a14d-f0f0a51da753');\n",
              "          const dataTable =\n",
              "            await google.colab.kernel.invokeFunction('convertToInteractive',\n",
              "                                                     [key], {});\n",
              "          if (!dataTable) return;\n",
              "\n",
              "          const docLinkHtml = 'Like what you see? Visit the ' +\n",
              "            '<a target=\"_blank\" href=https://colab.research.google.com/notebooks/data_table.ipynb>data table notebook</a>'\n",
              "            + ' to learn more about interactive tables.';\n",
              "          element.innerHTML = '';\n",
              "          dataTable['output_type'] = 'display_data';\n",
              "          await google.colab.output.renderOutput(dataTable, element);\n",
              "          const docLink = document.createElement('div');\n",
              "          docLink.innerHTML = docLinkHtml;\n",
              "          element.appendChild(docLink);\n",
              "        }\n",
              "      </script>\n",
              "    </div>\n",
              "  </div>\n",
              "  "
            ]
          },
          "metadata": {},
          "execution_count": 60
        }
      ]
    },
    {
      "cell_type": "markdown",
      "source": [
        "## Condiciones de comorbilidad"
      ],
      "metadata": {
        "id": "kcs9nKDtmYqm"
      }
    },
    {
      "cell_type": "code",
      "source": [
        "X_pivot[[\"EDAD\",  \"diabetes_si\", \"obesidad_si\", \"hipert_si\", \"inmusupr_si\", \"renalCr_si\", \"cardio_si\", \"asma_si\", \"neumonia_si\", \"epoc_si\", \"tabaq_si\"]]"
      ],
      "metadata": {
        "colab": {
          "base_uri": "https://localhost:8080/",
          "height": 206
        },
        "id": "kAkIQFqCmAJA",
        "outputId": "ba3a0a39-0001-4358-89f5-d667295771f4"
      },
      "execution_count": 63,
      "outputs": [
        {
          "output_type": "execute_result",
          "data": {
            "text/plain": [
              "              EDAD  diabetes_si  obesidad_si  hipert_si  inmusupr_si  \\\n",
              "cluster                                                                \n",
              "0        68.055744     0.234102     0.093536   0.325012     0.011627   \n",
              "1        17.515665     0.004172     0.032364   0.004855     0.002110   \n",
              "2        49.491581     0.107954     0.104902   0.132072     0.006374   \n",
              "3        33.194011     0.020608     0.078701   0.027526     0.003083   \n",
              "\n",
              "         renalCr_si  cardio_si   asma_si  neumonia_si  tabaq_si   epoc_si  \n",
              "cluster                                                                    \n",
              "0          0.018950   0.031025  0.013463     0.143191  0.062047  0.024286  \n",
              "1          0.001514   0.002676  0.021256     0.011101  0.049435  0.000754  \n",
              "2          0.006880   0.009212  0.017320     0.050554  0.075331  0.004486  \n",
              "3          0.003201   0.003557  0.019908     0.022831  0.097207  0.001166  "
            ],
            "text/html": [
              "\n",
              "  <div id=\"df-fc001685-9b1c-4c07-ba61-c28a58cfc05b\">\n",
              "    <div class=\"colab-df-container\">\n",
              "      <div>\n",
              "<style scoped>\n",
              "    .dataframe tbody tr th:only-of-type {\n",
              "        vertical-align: middle;\n",
              "    }\n",
              "\n",
              "    .dataframe tbody tr th {\n",
              "        vertical-align: top;\n",
              "    }\n",
              "\n",
              "    .dataframe thead th {\n",
              "        text-align: right;\n",
              "    }\n",
              "</style>\n",
              "<table border=\"1\" class=\"dataframe\">\n",
              "  <thead>\n",
              "    <tr style=\"text-align: right;\">\n",
              "      <th></th>\n",
              "      <th>EDAD</th>\n",
              "      <th>diabetes_si</th>\n",
              "      <th>obesidad_si</th>\n",
              "      <th>hipert_si</th>\n",
              "      <th>inmusupr_si</th>\n",
              "      <th>renalCr_si</th>\n",
              "      <th>cardio_si</th>\n",
              "      <th>asma_si</th>\n",
              "      <th>neumonia_si</th>\n",
              "      <th>tabaq_si</th>\n",
              "      <th>epoc_si</th>\n",
              "    </tr>\n",
              "    <tr>\n",
              "      <th>cluster</th>\n",
              "      <th></th>\n",
              "      <th></th>\n",
              "      <th></th>\n",
              "      <th></th>\n",
              "      <th></th>\n",
              "      <th></th>\n",
              "      <th></th>\n",
              "      <th></th>\n",
              "      <th></th>\n",
              "      <th></th>\n",
              "      <th></th>\n",
              "    </tr>\n",
              "  </thead>\n",
              "  <tbody>\n",
              "    <tr>\n",
              "      <th>0</th>\n",
              "      <td>68.055744</td>\n",
              "      <td>0.234102</td>\n",
              "      <td>0.093536</td>\n",
              "      <td>0.325012</td>\n",
              "      <td>0.011627</td>\n",
              "      <td>0.018950</td>\n",
              "      <td>0.031025</td>\n",
              "      <td>0.013463</td>\n",
              "      <td>0.143191</td>\n",
              "      <td>0.062047</td>\n",
              "      <td>0.024286</td>\n",
              "    </tr>\n",
              "    <tr>\n",
              "      <th>1</th>\n",
              "      <td>17.515665</td>\n",
              "      <td>0.004172</td>\n",
              "      <td>0.032364</td>\n",
              "      <td>0.004855</td>\n",
              "      <td>0.002110</td>\n",
              "      <td>0.001514</td>\n",
              "      <td>0.002676</td>\n",
              "      <td>0.021256</td>\n",
              "      <td>0.011101</td>\n",
              "      <td>0.049435</td>\n",
              "      <td>0.000754</td>\n",
              "    </tr>\n",
              "    <tr>\n",
              "      <th>2</th>\n",
              "      <td>49.491581</td>\n",
              "      <td>0.107954</td>\n",
              "      <td>0.104902</td>\n",
              "      <td>0.132072</td>\n",
              "      <td>0.006374</td>\n",
              "      <td>0.006880</td>\n",
              "      <td>0.009212</td>\n",
              "      <td>0.017320</td>\n",
              "      <td>0.050554</td>\n",
              "      <td>0.075331</td>\n",
              "      <td>0.004486</td>\n",
              "    </tr>\n",
              "    <tr>\n",
              "      <th>3</th>\n",
              "      <td>33.194011</td>\n",
              "      <td>0.020608</td>\n",
              "      <td>0.078701</td>\n",
              "      <td>0.027526</td>\n",
              "      <td>0.003083</td>\n",
              "      <td>0.003201</td>\n",
              "      <td>0.003557</td>\n",
              "      <td>0.019908</td>\n",
              "      <td>0.022831</td>\n",
              "      <td>0.097207</td>\n",
              "      <td>0.001166</td>\n",
              "    </tr>\n",
              "  </tbody>\n",
              "</table>\n",
              "</div>\n",
              "      <button class=\"colab-df-convert\" onclick=\"convertToInteractive('df-fc001685-9b1c-4c07-ba61-c28a58cfc05b')\"\n",
              "              title=\"Convert this dataframe to an interactive table.\"\n",
              "              style=\"display:none;\">\n",
              "        \n",
              "  <svg xmlns=\"http://www.w3.org/2000/svg\" height=\"24px\"viewBox=\"0 0 24 24\"\n",
              "       width=\"24px\">\n",
              "    <path d=\"M0 0h24v24H0V0z\" fill=\"none\"/>\n",
              "    <path d=\"M18.56 5.44l.94 2.06.94-2.06 2.06-.94-2.06-.94-.94-2.06-.94 2.06-2.06.94zm-11 1L8.5 8.5l.94-2.06 2.06-.94-2.06-.94L8.5 2.5l-.94 2.06-2.06.94zm10 10l.94 2.06.94-2.06 2.06-.94-2.06-.94-.94-2.06-.94 2.06-2.06.94z\"/><path d=\"M17.41 7.96l-1.37-1.37c-.4-.4-.92-.59-1.43-.59-.52 0-1.04.2-1.43.59L10.3 9.45l-7.72 7.72c-.78.78-.78 2.05 0 2.83L4 21.41c.39.39.9.59 1.41.59.51 0 1.02-.2 1.41-.59l7.78-7.78 2.81-2.81c.8-.78.8-2.07 0-2.86zM5.41 20L4 18.59l7.72-7.72 1.47 1.35L5.41 20z\"/>\n",
              "  </svg>\n",
              "      </button>\n",
              "      \n",
              "  <style>\n",
              "    .colab-df-container {\n",
              "      display:flex;\n",
              "      flex-wrap:wrap;\n",
              "      gap: 12px;\n",
              "    }\n",
              "\n",
              "    .colab-df-convert {\n",
              "      background-color: #E8F0FE;\n",
              "      border: none;\n",
              "      border-radius: 50%;\n",
              "      cursor: pointer;\n",
              "      display: none;\n",
              "      fill: #1967D2;\n",
              "      height: 32px;\n",
              "      padding: 0 0 0 0;\n",
              "      width: 32px;\n",
              "    }\n",
              "\n",
              "    .colab-df-convert:hover {\n",
              "      background-color: #E2EBFA;\n",
              "      box-shadow: 0px 1px 2px rgba(60, 64, 67, 0.3), 0px 1px 3px 1px rgba(60, 64, 67, 0.15);\n",
              "      fill: #174EA6;\n",
              "    }\n",
              "\n",
              "    [theme=dark] .colab-df-convert {\n",
              "      background-color: #3B4455;\n",
              "      fill: #D2E3FC;\n",
              "    }\n",
              "\n",
              "    [theme=dark] .colab-df-convert:hover {\n",
              "      background-color: #434B5C;\n",
              "      box-shadow: 0px 1px 3px 1px rgba(0, 0, 0, 0.15);\n",
              "      filter: drop-shadow(0px 1px 2px rgba(0, 0, 0, 0.3));\n",
              "      fill: #FFFFFF;\n",
              "    }\n",
              "  </style>\n",
              "\n",
              "      <script>\n",
              "        const buttonEl =\n",
              "          document.querySelector('#df-fc001685-9b1c-4c07-ba61-c28a58cfc05b button.colab-df-convert');\n",
              "        buttonEl.style.display =\n",
              "          google.colab.kernel.accessAllowed ? 'block' : 'none';\n",
              "\n",
              "        async function convertToInteractive(key) {\n",
              "          const element = document.querySelector('#df-fc001685-9b1c-4c07-ba61-c28a58cfc05b');\n",
              "          const dataTable =\n",
              "            await google.colab.kernel.invokeFunction('convertToInteractive',\n",
              "                                                     [key], {});\n",
              "          if (!dataTable) return;\n",
              "\n",
              "          const docLinkHtml = 'Like what you see? Visit the ' +\n",
              "            '<a target=\"_blank\" href=https://colab.research.google.com/notebooks/data_table.ipynb>data table notebook</a>'\n",
              "            + ' to learn more about interactive tables.';\n",
              "          element.innerHTML = '';\n",
              "          dataTable['output_type'] = 'display_data';\n",
              "          await google.colab.output.renderOutput(dataTable, element);\n",
              "          const docLink = document.createElement('div');\n",
              "          docLink.innerHTML = docLinkHtml;\n",
              "          element.appendChild(docLink);\n",
              "        }\n",
              "      </script>\n",
              "    </div>\n",
              "  </div>\n",
              "  "
            ]
          },
          "metadata": {},
          "execution_count": 63
        }
      ]
    },
    {
      "cell_type": "markdown",
      "source": [
        "## Otros factores sociales y de salud"
      ],
      "metadata": {
        "id": "M55TgxOVog5J"
      }
    },
    {
      "cell_type": "code",
      "source": [
        "X_pivot[[\"indigena_si\", \"leng_ind_si\", \"embarazo_si\", \"otr_com_si\"]]"
      ],
      "metadata": {
        "colab": {
          "base_uri": "https://localhost:8080/",
          "height": 206
        },
        "id": "ln_LSaA0mplu",
        "outputId": "11f3af49-791e-42fd-bb2d-ab82bfc1777c"
      },
      "execution_count": 65,
      "outputs": [
        {
          "output_type": "execute_result",
          "data": {
            "text/plain": [
              "         indigena_si  leng_ind_si  embarazo_si  otr_com_si\n",
              "cluster                                                   \n",
              "0           0.003797     0.002915     0.000116    0.020114\n",
              "1           0.002237     0.001674     0.009862    0.004852\n",
              "2           0.003278     0.002339     0.000500    0.011042\n",
              "3           0.002822     0.002137     0.009616    0.007415"
            ],
            "text/html": [
              "\n",
              "  <div id=\"df-2a57078b-9a4d-4346-b536-301d6179e509\">\n",
              "    <div class=\"colab-df-container\">\n",
              "      <div>\n",
              "<style scoped>\n",
              "    .dataframe tbody tr th:only-of-type {\n",
              "        vertical-align: middle;\n",
              "    }\n",
              "\n",
              "    .dataframe tbody tr th {\n",
              "        vertical-align: top;\n",
              "    }\n",
              "\n",
              "    .dataframe thead th {\n",
              "        text-align: right;\n",
              "    }\n",
              "</style>\n",
              "<table border=\"1\" class=\"dataframe\">\n",
              "  <thead>\n",
              "    <tr style=\"text-align: right;\">\n",
              "      <th></th>\n",
              "      <th>indigena_si</th>\n",
              "      <th>leng_ind_si</th>\n",
              "      <th>embarazo_si</th>\n",
              "      <th>otr_com_si</th>\n",
              "    </tr>\n",
              "    <tr>\n",
              "      <th>cluster</th>\n",
              "      <th></th>\n",
              "      <th></th>\n",
              "      <th></th>\n",
              "      <th></th>\n",
              "    </tr>\n",
              "  </thead>\n",
              "  <tbody>\n",
              "    <tr>\n",
              "      <th>0</th>\n",
              "      <td>0.003797</td>\n",
              "      <td>0.002915</td>\n",
              "      <td>0.000116</td>\n",
              "      <td>0.020114</td>\n",
              "    </tr>\n",
              "    <tr>\n",
              "      <th>1</th>\n",
              "      <td>0.002237</td>\n",
              "      <td>0.001674</td>\n",
              "      <td>0.009862</td>\n",
              "      <td>0.004852</td>\n",
              "    </tr>\n",
              "    <tr>\n",
              "      <th>2</th>\n",
              "      <td>0.003278</td>\n",
              "      <td>0.002339</td>\n",
              "      <td>0.000500</td>\n",
              "      <td>0.011042</td>\n",
              "    </tr>\n",
              "    <tr>\n",
              "      <th>3</th>\n",
              "      <td>0.002822</td>\n",
              "      <td>0.002137</td>\n",
              "      <td>0.009616</td>\n",
              "      <td>0.007415</td>\n",
              "    </tr>\n",
              "  </tbody>\n",
              "</table>\n",
              "</div>\n",
              "      <button class=\"colab-df-convert\" onclick=\"convertToInteractive('df-2a57078b-9a4d-4346-b536-301d6179e509')\"\n",
              "              title=\"Convert this dataframe to an interactive table.\"\n",
              "              style=\"display:none;\">\n",
              "        \n",
              "  <svg xmlns=\"http://www.w3.org/2000/svg\" height=\"24px\"viewBox=\"0 0 24 24\"\n",
              "       width=\"24px\">\n",
              "    <path d=\"M0 0h24v24H0V0z\" fill=\"none\"/>\n",
              "    <path d=\"M18.56 5.44l.94 2.06.94-2.06 2.06-.94-2.06-.94-.94-2.06-.94 2.06-2.06.94zm-11 1L8.5 8.5l.94-2.06 2.06-.94-2.06-.94L8.5 2.5l-.94 2.06-2.06.94zm10 10l.94 2.06.94-2.06 2.06-.94-2.06-.94-.94-2.06-.94 2.06-2.06.94z\"/><path d=\"M17.41 7.96l-1.37-1.37c-.4-.4-.92-.59-1.43-.59-.52 0-1.04.2-1.43.59L10.3 9.45l-7.72 7.72c-.78.78-.78 2.05 0 2.83L4 21.41c.39.39.9.59 1.41.59.51 0 1.02-.2 1.41-.59l7.78-7.78 2.81-2.81c.8-.78.8-2.07 0-2.86zM5.41 20L4 18.59l7.72-7.72 1.47 1.35L5.41 20z\"/>\n",
              "  </svg>\n",
              "      </button>\n",
              "      \n",
              "  <style>\n",
              "    .colab-df-container {\n",
              "      display:flex;\n",
              "      flex-wrap:wrap;\n",
              "      gap: 12px;\n",
              "    }\n",
              "\n",
              "    .colab-df-convert {\n",
              "      background-color: #E8F0FE;\n",
              "      border: none;\n",
              "      border-radius: 50%;\n",
              "      cursor: pointer;\n",
              "      display: none;\n",
              "      fill: #1967D2;\n",
              "      height: 32px;\n",
              "      padding: 0 0 0 0;\n",
              "      width: 32px;\n",
              "    }\n",
              "\n",
              "    .colab-df-convert:hover {\n",
              "      background-color: #E2EBFA;\n",
              "      box-shadow: 0px 1px 2px rgba(60, 64, 67, 0.3), 0px 1px 3px 1px rgba(60, 64, 67, 0.15);\n",
              "      fill: #174EA6;\n",
              "    }\n",
              "\n",
              "    [theme=dark] .colab-df-convert {\n",
              "      background-color: #3B4455;\n",
              "      fill: #D2E3FC;\n",
              "    }\n",
              "\n",
              "    [theme=dark] .colab-df-convert:hover {\n",
              "      background-color: #434B5C;\n",
              "      box-shadow: 0px 1px 3px 1px rgba(0, 0, 0, 0.15);\n",
              "      filter: drop-shadow(0px 1px 2px rgba(0, 0, 0, 0.3));\n",
              "      fill: #FFFFFF;\n",
              "    }\n",
              "  </style>\n",
              "\n",
              "      <script>\n",
              "        const buttonEl =\n",
              "          document.querySelector('#df-2a57078b-9a4d-4346-b536-301d6179e509 button.colab-df-convert');\n",
              "        buttonEl.style.display =\n",
              "          google.colab.kernel.accessAllowed ? 'block' : 'none';\n",
              "\n",
              "        async function convertToInteractive(key) {\n",
              "          const element = document.querySelector('#df-2a57078b-9a4d-4346-b536-301d6179e509');\n",
              "          const dataTable =\n",
              "            await google.colab.kernel.invokeFunction('convertToInteractive',\n",
              "                                                     [key], {});\n",
              "          if (!dataTable) return;\n",
              "\n",
              "          const docLinkHtml = 'Like what you see? Visit the ' +\n",
              "            '<a target=\"_blank\" href=https://colab.research.google.com/notebooks/data_table.ipynb>data table notebook</a>'\n",
              "            + ' to learn more about interactive tables.';\n",
              "          element.innerHTML = '';\n",
              "          dataTable['output_type'] = 'display_data';\n",
              "          await google.colab.output.renderOutput(dataTable, element);\n",
              "          const docLink = document.createElement('div');\n",
              "          docLink.innerHTML = docLinkHtml;\n",
              "          element.appendChild(docLink);\n",
              "        }\n",
              "      </script>\n",
              "    </div>\n",
              "  </div>\n",
              "  "
            ]
          },
          "metadata": {},
          "execution_count": 65
        }
      ]
    },
    {
      "cell_type": "markdown",
      "source": [
        "# Dataframes para cada alcaldía"
      ],
      "metadata": {
        "id": "bjB_51XcZ-gJ"
      }
    },
    {
      "cell_type": "code",
      "source": [
        "# Definiendo las relaciones entre condiciones2 y nombre2 a partir de la columna \"cluster\" de azcapotzalco\n",
        "\n",
        "azcapotzalco = pd.DataFrame(X[X[\"alc_azcap\"]==1][\"cluster\"].value_counts()).reset_index()\n",
        "azcapotzalco = azcapotzalco.rename({\"index\":\"cluster\", \"cluster\":\"poblacion\"}, axis=\"columns\")\n",
        "\n",
        "condiciones2 = [\n",
        "    (azcapotzalco[\"cluster\"]== 1),\n",
        "    (azcapotzalco[\"cluster\"]== 3),\n",
        "    (azcapotzalco[\"cluster\"]== 2),\n",
        "    (azcapotzalco[\"cluster\"]== 0)\n",
        "               ]\n",
        "nombre2 = [\"alpha\", \"beta\", \"gamma\", \"delta\"]"
      ],
      "metadata": {
        "id": "HRzcMyLNgqMW"
      },
      "execution_count": 10,
      "outputs": []
    },
    {
      "cell_type": "code",
      "source": [
        "azcapotzalco[\"nombre\"] = np.select(condiciones2, nombre2)\n",
        "\n",
        "alvaroOb = pd.DataFrame(X[X[\"alc_alv\"]==1][\"cluster\"].value_counts()).reset_index()\n",
        "alvaroOb = alvaroOb.rename({\"index\":\"cluster\", \"cluster\":\"poblacion\"}, axis=\"columns\")\n",
        "alvaroOb[\"nombre\"] = np.select(condiciones2, nombre2)\n",
        "\n",
        "benitoJ = pd.DataFrame(X[X[\"alc_beniJ\"]==1][\"cluster\"].value_counts()).reset_index()\n",
        "benitoJ = benitoJ.rename({\"index\":\"cluster\", \"cluster\":\"poblacion\"}, axis=\"columns\")\n",
        "benitoJ[\"nombre\"] = np.select(condiciones2, nombre2)\n",
        "\n",
        "coyoacan = pd.DataFrame(X[X[\"alc_coyo\"]==1][\"cluster\"].value_counts()).reset_index()\n",
        "coyoacan = coyoacan.rename({\"index\":\"cluster\", \"cluster\":\"poblacion\"}, axis=\"columns\")\n",
        "coyoacan[\"nombre\"] = np.select(condiciones2, nombre2)\n",
        "\n",
        "cuajimalpa = pd.DataFrame(X[X[\"alc_cuaj\"]==1][\"cluster\"].value_counts()).reset_index()\n",
        "cuajimalpa = cuajimalpa.rename({\"index\":\"cluster\", \"cluster\":\"poblacion\"}, axis=\"columns\")\n",
        "cuajimalpa[\"nombre\"] = np.select(condiciones2, nombre2)\n",
        "\n",
        "cuauhtemoc = pd.DataFrame(X[X[\"alc_cuauh\"]==1][\"cluster\"].value_counts()).reset_index()\n",
        "cuauhtemoc = cuauhtemoc.rename({\"index\":\"cluster\", \"cluster\":\"poblacion\"}, axis=\"columns\")\n",
        "cuauhtemoc[\"nombre\"] = np.select(condiciones2, nombre2)\n",
        "\n",
        "gam = pd.DataFrame(X[X[\"alc_gam\"]==1][\"cluster\"].value_counts()).reset_index()\n",
        "gam = gam.rename({\"index\":\"cluster\", \"cluster\":\"poblacion\"}, axis=\"columns\")\n",
        "gam[\"nombre\"] = np.select(condiciones2, nombre2)\n",
        "\n",
        "iztacalco = pd.DataFrame(X[X[\"alc_iztac\"]==1][\"cluster\"].value_counts()).reset_index()\n",
        "iztacalco = iztacalco.rename({\"index\":\"cluster\", \"cluster\":\"poblacion\"}, axis=\"columns\")\n",
        "iztacalco[\"nombre\"] = np.select(condiciones2, nombre2)\n",
        "\n",
        "iztapalapa = pd.DataFrame(X[X[\"alc_iztap\"]==1][\"cluster\"].value_counts()).reset_index()\n",
        "iztapalapa = iztapalapa.rename({\"index\":\"cluster\", \"cluster\":\"poblacion\"}, axis=\"columns\")\n",
        "iztapalapa[\"nombre\"] = np.select(condiciones2, nombre2)\n",
        "\n",
        "magdalenaC = pd.DataFrame(X[X[\"alc_magdC\"]==1][\"cluster\"].value_counts()).reset_index()\n",
        "magdalenaC = magdalenaC.rename({\"index\":\"cluster\", \"cluster\":\"poblacion\"}, axis=\"columns\")\n",
        "magdalenaC[\"nombre\"] = np.select(condiciones2, nombre2)\n",
        "\n",
        "miguelH = pd.DataFrame(X[X[\"alc_migH\"]==1][\"cluster\"].value_counts()).reset_index()\n",
        "miguelH = miguelH.rename({\"index\":\"cluster\", \"cluster\":\"poblacion\"}, axis=\"columns\")\n",
        "miguelH[\"nombre\"] = np.select(condiciones2, nombre2)\n",
        "\n",
        "milpaA = pd.DataFrame(X[X[\"alc_milpa\"]==1][\"cluster\"].value_counts()).reset_index()\n",
        "milpaA = milpaA.rename({\"index\":\"cluster\", \"cluster\":\"poblacion\"}, axis=\"columns\")\n",
        "milpaA[\"nombre\"] = np.select(condiciones2, nombre2)\n",
        "\n",
        "noEspecificado = pd.DataFrame(X[X[\"alc_noEsp\"]==1][\"cluster\"].value_counts()).reset_index()\n",
        "noEspecificado = noEspecificado.rename({\"index\":\"cluster\", \"cluster\":\"poblacion\"}, axis=\"columns\")\n",
        "noEspecificado[\"nombre\"] = np.select(condiciones2, nombre2)\n",
        "\n",
        "tlahuac = pd.DataFrame(X[X[\"alc_tlah\"]==1][\"cluster\"].value_counts()).reset_index()\n",
        "tlahuac = tlahuac.rename({\"index\":\"cluster\", \"cluster\":\"poblacion\"}, axis=\"columns\")\n",
        "tlahuac[\"nombre\"] = np.select(condiciones2, nombre2)\n",
        "\n",
        "tlalpan = pd.DataFrame(X[X[\"alc_tlalp\"]==1][\"cluster\"].value_counts()).reset_index()\n",
        "tlalpan = tlalpan.rename({\"index\":\"cluster\", \"cluster\":\"poblacion\"}, axis=\"columns\")\n",
        "tlalpan[\"nombre\"] = np.select(condiciones2, nombre2)\n",
        "\n",
        "venustianoC = pd.DataFrame(X[X[\"venusC\"]==1][\"cluster\"].value_counts()).reset_index()\n",
        "venustianoC = venustianoC.rename({\"index\":\"cluster\", \"cluster\":\"poblacion\"}, axis=\"columns\")\n",
        "venustianoC[\"nombre\"] = np.select(condiciones2, nombre2)\n",
        "\n",
        "xochimilco = pd.DataFrame(X[X[\"alc_xoch\"]==1][\"cluster\"].value_counts()).reset_index()\n",
        "xochimilco = xochimilco.rename({\"index\":\"cluster\", \"cluster\":\"poblacion\"}, axis=\"columns\")\n",
        "xochimilco[\"nombre\"] = np.select(condiciones2, nombre2)"
      ],
      "metadata": {
        "id": "sjBsw2ZaaDR1"
      },
      "execution_count": 11,
      "outputs": []
    },
    {
      "cell_type": "markdown",
      "source": [
        "# Porcentaje de población por cluster, para cada alcaldía de la Ciudad de México"
      ],
      "metadata": {
        "id": "H6Me1_NVjh4G"
      }
    },
    {
      "cell_type": "code",
      "source": [
        "# Azcapotzalco\n",
        "\n",
        "\n",
        "conteo = azcapotzalco[\"poblacion\"]\n",
        "etiquetas = azcapotzalco[\"nombre\"].unique()\n",
        "colores = [\"#60D394\", \"#AAF683\", \"#FFD97D\", \"#EE6055\", \"#FF9B85\"]\n",
        "extraccion = 0,0,0,0.5\n",
        "\n",
        "fig, ax = plt.subplots()\n",
        "plt.pie(conteo, \n",
        "        labels= etiquetas,\n",
        "        autopct = (\"%0.2f %%\"),\n",
        "        colors = colores,\n",
        "        explode = extraccion, \n",
        "        shadow=True)\n",
        "\n",
        "ax.set_title(\"Porcentaje de población por cluster para Azcapotzalco \\n\")\n",
        "ax.legend()\n",
        "plt.show()\n"
      ],
      "metadata": {
        "colab": {
          "base_uri": "https://localhost:8080/",
          "height": 279
        },
        "id": "YILEDcmzfiL4",
        "outputId": "c477b7a2-c360-4da1-c8df-ad989ae3eb21"
      },
      "execution_count": 12,
      "outputs": [
        {
          "output_type": "display_data",
          "data": {
            "text/plain": [
              "<Figure size 432x288 with 1 Axes>"
            ],
            "image/png": "[encoded data removed]"
          },
          "metadata": {}
        }
      ]
    },
    {
      "cell_type": "code",
      "source": [
        "# Álvaro Obregón\n",
        "\n",
        "\n",
        "conteo = alvaroOb[\"poblacion\"]\n",
        "etiquetas = alvaroOb[\"nombre\"].unique()\n",
        "colores = [\"#60D394\", \"#AAF683\", \"#FFD97D\", \"#EE6055\", \"#FF9B85\"]\n",
        "extraccion = 0,0,0,0.5\n",
        "\n",
        "fig, ax = plt.subplots()\n",
        "plt.pie(conteo, \n",
        "        labels= etiquetas,\n",
        "        autopct = (\"%0.2f %%\"),\n",
        "        colors = colores,\n",
        "        explode = extraccion, \n",
        "        shadow=True)\n",
        "\n",
        "ax.set_title(\"Porcentaje de población por cluster para Álvaro Obregón \\n\")\n",
        "ax.legend()\n",
        "plt.show()\n"
      ],
      "metadata": {
        "colab": {
          "base_uri": "https://localhost:8080/",
          "height": 281
        },
        "id": "nRM3zcSNkD73",
        "outputId": "9d503118-a564-41a7-cf1d-f5fe00f58870"
      },
      "execution_count": 13,
      "outputs": [
        {
          "output_type": "display_data",
          "data": {
            "text/plain": [
              "<Figure size 432x288 with 1 Axes>"
            ],
            "image/png": "[encoded data removed]"
          },
          "metadata": {}
        }
      ]
    },
    {
      "cell_type": "code",
      "source": [
        "# Benito Juárez\n",
        "\n",
        "\n",
        "conteo = benitoJ[\"poblacion\"]\n",
        "etiquetas = benitoJ[\"nombre\"].unique()\n",
        "colores = [\"#60D394\", \"#AAF683\", \"#FFD97D\", \"#EE6055\", \"#FF9B85\"]\n",
        "extraccion = 0,0,0,0.5\n",
        "\n",
        "fig, ax = plt.subplots()\n",
        "plt.pie(conteo, \n",
        "        labels= etiquetas,\n",
        "        autopct = (\"%0.2f %%\"),\n",
        "        colors = colores,\n",
        "        explode = extraccion, \n",
        "        shadow=True)\n",
        "\n",
        "ax.set_title(\"Porcentaje de población por cluster para Benito Juárez \\n\")\n",
        "ax.legend()\n",
        "plt.show()"
      ],
      "metadata": {
        "colab": {
          "base_uri": "https://localhost:8080/",
          "height": 279
        },
        "id": "fMOP1TPNkegf",
        "outputId": "74202b98-a962-42ef-af0d-1ecb8cfd5ec1"
      },
      "execution_count": 14,
      "outputs": [
        {
          "output_type": "display_data",
          "data": {
            "text/plain": [
              "<Figure size 432x288 with 1 Axes>"
            ],
            "image/png": "[encoded data removed]"
          },
          "metadata": {}
        }
      ]
    },
    {
      "cell_type": "code",
      "source": [
        "# Coyoacán\n",
        "\n",
        "conteo = coyoacan[\"poblacion\"]\n",
        "etiquetas = coyoacan[\"nombre\"].unique()\n",
        "colores = [\"#60D394\", \"#AAF683\", \"#FFD97D\", \"#EE6055\", \"#FF9B85\"]\n",
        "extraccion = 0,0,0,0.5\n",
        "\n",
        "fig, ax = plt.subplots()\n",
        "plt.pie(conteo, \n",
        "        labels= etiquetas,\n",
        "        autopct = (\"%0.2f %%\"),\n",
        "        colors = colores,\n",
        "        explode = extraccion, \n",
        "        shadow=True)\n",
        "\n",
        "ax.set_title(\"Porcentaje de población por cluster para Coyoacán \\n\")\n",
        "ax.legend()\n",
        "plt.show()"
      ],
      "metadata": {
        "colab": {
          "base_uri": "https://localhost:8080/",
          "height": 279
        },
        "id": "wNsa7VGzkz6f",
        "outputId": "bead815a-4349-4b65-d147-9b5948ebfa1d"
      },
      "execution_count": 15,
      "outputs": [
        {
          "output_type": "display_data",
          "data": {
            "text/plain": [
              "<Figure size 432x288 with 1 Axes>"
            ],
            "image/png": "[encoded data removed]"
          },
          "metadata": {}
        }
      ]
    },
    {
      "cell_type": "code",
      "source": [
        "# Cuajimalpa\n",
        "\n",
        "conteo = cuajimalpa[\"poblacion\"]\n",
        "etiquetas = cuajimalpa[\"nombre\"].unique()\n",
        "colores = [\"#60D394\", \"#AAF683\", \"#FFD97D\", \"#EE6055\", \"#FF9B85\"]\n",
        "extraccion = 0,0,0,0.5\n",
        "\n",
        "fig, ax = plt.subplots()\n",
        "plt.pie(conteo, \n",
        "        labels= etiquetas,\n",
        "        autopct = (\"%0.2f %%\"),\n",
        "        colors = colores,\n",
        "        explode = extraccion, \n",
        "        shadow=True)\n",
        "\n",
        "ax.set_title(\"Porcentaje de población por cluster para Cuajimalpa de Morelos \\n\")\n",
        "ax.legend()\n",
        "plt.show()"
      ],
      "metadata": {
        "colab": {
          "base_uri": "https://localhost:8080/",
          "height": 279
        },
        "id": "BEiBqx78lDOv",
        "outputId": "fdc10a67-05c0-48f5-d015-5b9ced9ee889"
      },
      "execution_count": 16,
      "outputs": [
        {
          "output_type": "display_data",
          "data": {
            "text/plain": [
              "<Figure size 432x288 with 1 Axes>"
            ],
            "image/png": "[encoded data removed]"
          },
          "metadata": {}
        }
      ]
    },
    {
      "cell_type": "code",
      "source": [
        "# Cuauhtemoc\n",
        "\n",
        "conteo = cuauhtemoc[\"poblacion\"]\n",
        "etiquetas = cuauhtemoc[\"nombre\"].unique()\n",
        "colores = [\"#60D394\", \"#AAF683\", \"#FFD97D\", \"#EE6055\", \"#FF9B85\"]\n",
        "extraccion = 0,0,0,0.5\n",
        "\n",
        "fig, ax = plt.subplots()\n",
        "plt.pie(conteo, \n",
        "        labels= etiquetas,\n",
        "        autopct = (\"%0.2f %%\"),\n",
        "        colors = colores,\n",
        "        explode = extraccion, \n",
        "        shadow=True)\n",
        "\n",
        "ax.set_title(\"Porcentaje de población por cluster para Cuauhtemoc \\n\")\n",
        "ax.legend()\n",
        "plt.show()"
      ],
      "metadata": {
        "colab": {
          "base_uri": "https://localhost:8080/",
          "height": 279
        },
        "id": "gkKyPkculRD-",
        "outputId": "9f21b2fd-9ee0-41df-c5a1-d7e230a07fec"
      },
      "execution_count": 17,
      "outputs": [
        {
          "output_type": "display_data",
          "data": {
            "text/plain": [
              "<Figure size 432x288 with 1 Axes>"
            ],
            "image/png": "[encoded data removed]"
          },
          "metadata": {}
        }
      ]
    },
    {
      "cell_type": "code",
      "source": [
        "# Gustavo A. Madero\n",
        "\n",
        "conteo = gam[\"poblacion\"]\n",
        "etiquetas = gam[\"nombre\"].unique()\n",
        "colores = [\"#60D394\", \"#AAF683\", \"#FFD97D\", \"#EE6055\", \"#FF9B85\"]\n",
        "extraccion = 0,0,0,0.5\n",
        "\n",
        "fig, ax = plt.subplots()\n",
        "plt.pie(conteo, \n",
        "        labels= etiquetas,\n",
        "        autopct = (\"%0.2f %%\"),\n",
        "        colors = colores,\n",
        "        explode = extraccion, \n",
        "        shadow=True)\n",
        "\n",
        "ax.set_title(\"Porcentaje de población por cluster para Gustavo A. Madero \\n\")\n",
        "ax.legend()\n",
        "plt.show()"
      ],
      "metadata": {
        "colab": {
          "base_uri": "https://localhost:8080/",
          "height": 279
        },
        "id": "_OvFkQoRlmd0",
        "outputId": "f02d2caf-340c-493d-954c-91786d7cbe32"
      },
      "execution_count": 18,
      "outputs": [
        {
          "output_type": "display_data",
          "data": {
            "text/plain": [
              "<Figure size 432x288 with 1 Axes>"
            ],
            "image/png": "[encoded data removed]"
          },
          "metadata": {}
        }
      ]
    },
    {
      "cell_type": "code",
      "source": [
        "# Iztacalco\n",
        "\n",
        "conteo = iztacalco[\"poblacion\"]\n",
        "etiquetas = iztacalco[\"nombre\"].unique()\n",
        "colores = [\"#60D394\", \"#AAF683\", \"#FFD97D\", \"#EE6055\", \"#FF9B85\"]\n",
        "extraccion = 0,0,0,0.5\n",
        "\n",
        "fig, ax = plt.subplots()\n",
        "plt.pie(conteo, \n",
        "        labels= etiquetas,\n",
        "        autopct = (\"%0.2f %%\"),\n",
        "        colors = colores,\n",
        "        explode = extraccion, \n",
        "        shadow=True)\n",
        "\n",
        "ax.set_title(\"Porcentaje de población por cluster para Iztacalco \\n\")\n",
        "ax.legend()\n",
        "plt.show()"
      ],
      "metadata": {
        "colab": {
          "base_uri": "https://localhost:8080/",
          "height": 279
        },
        "id": "4wEh6LEQlyOP",
        "outputId": "834ac388-8def-488e-b046-627877bedfa9"
      },
      "execution_count": 19,
      "outputs": [
        {
          "output_type": "display_data",
          "data": {
            "text/plain": [
              "<Figure size 432x288 with 1 Axes>"
            ],
            "image/png": "[encoded data removed]"
          },
          "metadata": {}
        }
      ]
    },
    {
      "cell_type": "code",
      "source": [
        "# Iztapalapa\n",
        "\n",
        "conteo = iztapalapa[\"poblacion\"]\n",
        "etiquetas = iztapalapa[\"nombre\"].unique()\n",
        "colores = [\"#60D394\", \"#AAF683\", \"#FFD97D\", \"#EE6055\", \"#FF9B85\"]\n",
        "extraccion = 0,0,0,0.5\n",
        "\n",
        "fig, ax = plt.subplots()\n",
        "plt.pie(conteo, \n",
        "        labels= etiquetas,\n",
        "        autopct = (\"%0.2f %%\"),\n",
        "        colors = colores,\n",
        "        explode = extraccion, \n",
        "        shadow=True)\n",
        "\n",
        "ax.set_title(\"Porcentaje de población por cluster para Iztapalapa \\n\")\n",
        "ax.legend()\n",
        "plt.show()"
      ],
      "metadata": {
        "colab": {
          "base_uri": "https://localhost:8080/",
          "height": 279
        },
        "id": "nmHRrvIvmCeQ",
        "outputId": "64b33830-99ad-4834-af40-d1a6122a983e"
      },
      "execution_count": 20,
      "outputs": [
        {
          "output_type": "display_data",
          "data": {
            "text/plain": [
              "<Figure size 432x288 with 1 Axes>"
            ],
            "image/png": "[encoded data removed]"
          },
          "metadata": {}
        }
      ]
    },
    {
      "cell_type": "code",
      "source": [
        "# La Magdalena Contreras\n",
        "conteo = magdalenaC[\"poblacion\"]\n",
        "etiquetas = magdalenaC[\"nombre\"].unique()\n",
        "colores = [\"#60D394\", \"#AAF683\", \"#FFD97D\", \"#EE6055\", \"#FF9B85\"]\n",
        "extraccion = 0,0,0,0.5\n",
        "\n",
        "fig, ax = plt.subplots()\n",
        "plt.pie(conteo, \n",
        "        labels= etiquetas,\n",
        "        autopct = (\"%0.2f %%\"),\n",
        "        colors = colores,\n",
        "        explode = extraccion, \n",
        "        shadow=True)\n",
        "\n",
        "ax.set_title(\"Porcentaje de población por cluster para La Magdalena Contreras \\n\")\n",
        "ax.legend()\n",
        "plt.show()"
      ],
      "metadata": {
        "colab": {
          "base_uri": "https://localhost:8080/",
          "height": 279
        },
        "id": "8Ucxm7GamUZ3",
        "outputId": "4de8c037-20d6-438d-d9e7-7d61782584dc"
      },
      "execution_count": 21,
      "outputs": [
        {
          "output_type": "display_data",
          "data": {
            "text/plain": [
              "<Figure size 432x288 with 1 Axes>"
            ],
            "image/png": "[encoded data removed]"
          },
          "metadata": {}
        }
      ]
    },
    {
      "cell_type": "code",
      "source": [
        "# Miguel Hidalgo\n",
        "conteo = miguelH[\"poblacion\"]\n",
        "etiquetas = miguelH[\"nombre\"].unique()\n",
        "colores = [\"#60D394\", \"#AAF683\", \"#FFD97D\", \"#EE6055\", \"#FF9B85\"]\n",
        "extraccion = 0,0,0,0.5\n",
        "\n",
        "fig, ax = plt.subplots()\n",
        "plt.pie(conteo, \n",
        "        labels= etiquetas,\n",
        "        autopct = (\"%0.2f %%\"),\n",
        "        colors = colores,\n",
        "        explode = extraccion, \n",
        "        shadow=True)\n",
        "\n",
        "ax.set_title(\"Porcentaje de población por cluster para Miguel Hidalgo \\n\")\n",
        "ax.legend()\n",
        "plt.show()"
      ],
      "metadata": {
        "colab": {
          "base_uri": "https://localhost:8080/",
          "height": 279
        },
        "id": "fGo8lMGQmooO",
        "outputId": "2c716161-e3ed-4013-b310-0228db1eb0fa"
      },
      "execution_count": 22,
      "outputs": [
        {
          "output_type": "display_data",
          "data": {
            "text/plain": [
              "<Figure size 432x288 with 1 Axes>"
            ],
            "image/png": "[encoded data removed]"
          },
          "metadata": {}
        }
      ]
    },
    {
      "cell_type": "code",
      "source": [
        "# Milpa Alta\n",
        "conteo = milpaA[\"poblacion\"]\n",
        "etiquetas = milpaA[\"nombre\"].unique()\n",
        "colores = [\"#60D394\", \"#AAF683\", \"#FFD97D\", \"#EE6055\", \"#FF9B85\"]\n",
        "extraccion = 0,0,0,0.5\n",
        "\n",
        "fig, ax = plt.subplots()\n",
        "plt.pie(conteo, \n",
        "        labels= etiquetas,\n",
        "        autopct = (\"%0.2f %%\"),\n",
        "        colors = colores,\n",
        "        explode = extraccion, \n",
        "        shadow=True)\n",
        "\n",
        "ax.set_title(\"Porcentaje de población por cluster para Milpa Alta \\n\")\n",
        "ax.legend()\n",
        "plt.show()"
      ],
      "metadata": {
        "colab": {
          "base_uri": "https://localhost:8080/",
          "height": 279
        },
        "id": "GowmbWVmm0me",
        "outputId": "51705f34-bfb2-4086-f4e1-8c2a351411db"
      },
      "execution_count": 23,
      "outputs": [
        {
          "output_type": "display_data",
          "data": {
            "text/plain": [
              "<Figure size 432x288 with 1 Axes>"
            ],
            "image/png": "[encoded data removed]"
          },
          "metadata": {}
        }
      ]
    },
    {
      "cell_type": "code",
      "source": [
        "# Tláhuac\n",
        "conteo = tlahuac[\"poblacion\"]\n",
        "etiquetas = tlahuac[\"nombre\"].unique()\n",
        "colores = [\"#60D394\", \"#AAF683\", \"#FFD97D\", \"#EE6055\", \"#FF9B85\"]\n",
        "extraccion = 0,0,0,0.5\n",
        "\n",
        "fig, ax = plt.subplots()\n",
        "plt.pie(conteo, \n",
        "        labels= etiquetas,\n",
        "        autopct = (\"%0.2f %%\"),\n",
        "        colors = colores,\n",
        "        explode = extraccion, \n",
        "        shadow=True)\n",
        "\n",
        "ax.set_title(\"Porcentaje de población por cluster para Tláhuac \\n\")\n",
        "ax.legend()\n",
        "plt.show()"
      ],
      "metadata": {
        "colab": {
          "base_uri": "https://localhost:8080/",
          "height": 279
        },
        "id": "gO1m-3SvnHAf",
        "outputId": "b3b7808b-e0ff-4fd7-8866-5360ac71690d"
      },
      "execution_count": 24,
      "outputs": [
        {
          "output_type": "display_data",
          "data": {
            "text/plain": [
              "<Figure size 432x288 with 1 Axes>"
            ],
            "image/png": "[encoded data removed]"
          },
          "metadata": {}
        }
      ]
    },
    {
      "cell_type": "code",
      "source": [
        "# Tlalpan\n",
        "conteo = tlalpan[\"poblacion\"]\n",
        "etiquetas = tlalpan[\"nombre\"].unique()\n",
        "colores = [\"#60D394\", \"#AAF683\", \"#FFD97D\", \"#EE6055\", \"#FF9B85\"]\n",
        "extraccion = 0,0,0,0.5\n",
        "\n",
        "fig, ax = plt.subplots()\n",
        "plt.pie(conteo, \n",
        "        labels= etiquetas,\n",
        "        autopct = (\"%0.2f %%\"),\n",
        "        colors = colores,\n",
        "        explode = extraccion, \n",
        "        shadow=True)\n",
        "\n",
        "ax.set_title(\"Porcentaje de población por cluster para Tlalpan \\n\")\n",
        "ax.legend()\n",
        "plt.show()"
      ],
      "metadata": {
        "colab": {
          "base_uri": "https://localhost:8080/",
          "height": 279
        },
        "id": "6_2TO4LlnG9Q",
        "outputId": "77291647-9ac9-4a43-f95e-6454837697a0"
      },
      "execution_count": 25,
      "outputs": [
        {
          "output_type": "display_data",
          "data": {
            "text/plain": [
              "<Figure size 432x288 with 1 Axes>"
            ],
            "image/png": "[encoded data removed]"
          },
          "metadata": {}
        }
      ]
    },
    {
      "cell_type": "code",
      "source": [
        "# Venustiano Carranza\n",
        "conteo = venustianoC[\"poblacion\"]\n",
        "etiquetas = venustianoC[\"nombre\"].unique()\n",
        "colores = [\"#60D394\", \"#AAF683\", \"#FFD97D\", \"#EE6055\", \"#FF9B85\"]\n",
        "extraccion = 0,0,0,0.5\n",
        "\n",
        "fig, ax = plt.subplots()\n",
        "plt.pie(conteo, \n",
        "        labels= etiquetas,\n",
        "        autopct = (\"%0.2f %%\"),\n",
        "        colors = colores,\n",
        "        explode = extraccion, \n",
        "        shadow=True)\n",
        "\n",
        "ax.set_title(\"Porcentaje de población por cluster para Venustiano Carranza \\n\")\n",
        "ax.legend()\n",
        "plt.show()"
      ],
      "metadata": {
        "colab": {
          "base_uri": "https://localhost:8080/",
          "height": 279
        },
        "id": "TlNtZQUCnpof",
        "outputId": "ed2f9487-910e-4bb6-aa44-f2d831e3f7f2"
      },
      "execution_count": 26,
      "outputs": [
        {
          "output_type": "display_data",
          "data": {
            "text/plain": [
              "<Figure size 432x288 with 1 Axes>"
            ],
            "image/png": "[encoded data removed]"
          },
          "metadata": {}
        }
      ]
    },
    {
      "cell_type": "code",
      "source": [
        "# Xochimilco\n",
        "conteo = xochimilco[\"poblacion\"]\n",
        "etiquetas = xochimilco[\"nombre\"].unique()\n",
        "colores = [\"#60D394\", \"#AAF683\", \"#FFD97D\", \"#EE6055\", \"#FF9B85\"]\n",
        "extraccion = 0,0,0,0.5\n",
        "\n",
        "fig, ax = plt.subplots()\n",
        "plt.pie(conteo, \n",
        "        labels= etiquetas,\n",
        "        autopct = (\"%0.2f %%\"),\n",
        "        colors = colores,\n",
        "        explode = extraccion, \n",
        "        shadow=True)\n",
        "\n",
        "ax.set_title(\"Porcentaje de población por cluster para Xochimilco \\n\")\n",
        "ax.legend()\n",
        "plt.show()"
      ],
      "metadata": {
        "colab": {
          "base_uri": "https://localhost:8080/",
          "height": 279
        },
        "id": "DQQiP13Sn8Om",
        "outputId": "ae2147e3-2d91-42f5-cec2-32678606ef4d"
      },
      "execution_count": 27,
      "outputs": [
        {
          "output_type": "display_data",
          "data": {
            "text/plain": [
              "<Figure size 432x288 with 1 Axes>"
            ],
            "image/png": "[encoded data removed]"
          },
          "metadata": {}
        }
      ]
    },
    {
      "cell_type": "markdown",
      "source": [
        "# Más gráficas"
      ],
      "metadata": {
        "id": "Bh1pHCuTC-mv"
      }
    },
    {
      "cell_type": "code",
      "source": [
        "import plotly.express as px\n",
        "fig = px.scatter_ternary(X_pivot, \n",
        "                         a=\"diabetes_si\", \n",
        "                         b=\"hipert_si\", \n",
        "                         c=\"obesidad_si\",\n",
        "                         size=\"EDAD\",\n",
        "                         size_max = 18,\n",
        "                         color  = \"cluster\",\n",
        "                          title = \"Condiciones de coomorbilidad más relevantes para cada cluster de viropolítica\"\n",
        "                         )\n",
        "fig.show()"
      ],
      "metadata": {
        "colab": {
          "base_uri": "https://localhost:8080/",
          "height": 542
        },
        "id": "-PZMP_xMC85n",
        "outputId": "5fb07545-8779-4221-a988-cdba8a472c31"
      },
      "execution_count": 47,
      "outputs": [
        {
          "output_type": "display_data",
          "data": {
            "text/html": [
              "<html>\n",
              "<head><meta charset=\"utf-8\" /></head>\n",
              "<body>\n",
              "    <div>            <script src=\"https://cdnjs.cloudflare.com/ajax/libs/mathjax/2.7.5/MathJax.js?config=TeX-AMS-MML_SVG\"></script><script type=\"text/javascript\">if (window.MathJax) {MathJax.Hub.Config({SVG: {font: \"STIX-Web\"}});}</script>                <script type=\"text/javascript\">window.PlotlyConfig = {MathJaxConfig: 'local'};</script>\n",
              "        <script src=\"https://cdn.plot.ly/plotly-2.8.3.min.js\"></script>                <div id=\"b07c0780-63dd-4a25-bcc9-c0cc37c6d26f\" class=\"plotly-graph-div\" style=\"height:525px; width:100%;\"></div>            <script type=\"text/javascript\">                                    window.PLOTLYENV=window.PLOTLYENV || {};                                    if (document.getElementById(\"b07c0780-63dd-4a25-bcc9-c0cc37c6d26f\")) {                    Plotly.newPlot(                        \"b07c0780-63dd-4a25-bcc9-c0cc37c6d26f\",                        [{\"a\":[0.23410162125377473,0.0041716146722594,0.1079544780516353,0.020608471424748913],\"b\":[0.32501246969573944,0.004854566860509564,0.1320717785273381,0.02752625057733375],\"c\":[0.09353625104880774,0.03236377907006376,0.10490175531557323,0.07870145496626325],\"hovertemplate\":\"diabetes_si=%{a}<br>hipert_si=%{b}<br>obesidad_si=%{c}<br>EDAD=%{marker.size}<br>cluster=%{marker.color}<extra></extra>\",\"legendgroup\":\"\",\"marker\":{\"color\":[0,1,2,3],\"coloraxis\":\"coloraxis\",\"size\":[68.05574437317063,17.515664578735723,49.49158128665145,33.194011408626174],\"sizemode\":\"area\",\"sizeref\":0.21004859374435378,\"symbol\":\"circle\"},\"mode\":\"markers\",\"name\":\"\",\"showlegend\":false,\"subplot\":\"ternary\",\"type\":\"scatterternary\"}],                        {\"template\":{\"data\":{\"bar\":[{\"error_x\":{\"color\":\"#2a3f5f\"},\"error_y\":{\"color\":\"#2a3f5f\"},\"marker\":{\"line\":{\"color\":\"#E5ECF6\",\"width\":0.5},\"pattern\":{\"fillmode\":\"overlay\",\"size\":10,\"solidity\":0.2}},\"type\":\"bar\"}],\"barpolar\":[{\"marker\":{\"line\":{\"color\":\"#E5ECF6\",\"width\":0.5},\"pattern\":{\"fillmode\":\"overlay\",\"size\":10,\"solidity\":0.2}},\"type\":\"barpolar\"}],\"carpet\":[{\"aaxis\":{\"endlinecolor\":\"#2a3f5f\",\"gridcolor\":\"white\",\"linecolor\":\"white\",\"minorgridcolor\":\"white\",\"startlinecolor\":\"#2a3f5f\"},\"baxis\":{\"endlinecolor\":\"#2a3f5f\",\"gridcolor\":\"white\",\"linecolor\":\"white\",\"minorgridcolor\":\"white\",\"startlinecolor\":\"#2a3f5f\"},\"type\":\"carpet\"}],\"choropleth\":[{\"colorbar\":{\"outlinewidth\":0,\"ticks\":\"\"},\"type\":\"choropleth\"}],\"contour\":[{\"colorbar\":{\"outlinewidth\":0,\"ticks\":\"\"},\"colorscale\":[[0.0,\"#0d0887\"],[0.1111111111111111,\"#46039f\"],[0.2222222222222222,\"#7201a8\"],[0.3333333333333333,\"#9c179e\"],[0.4444444444444444,\"#bd3786\"],[0.5555555555555556,\"#d8576b\"],[0.6666666666666666,\"#ed7953\"],[0.7777777777777778,\"#fb9f3a\"],[0.8888888888888888,\"#fdca26\"],[1.0,\"#f0f921\"]],\"type\":\"contour\"}],\"contourcarpet\":[{\"colorbar\":{\"outlinewidth\":0,\"ticks\":\"\"},\"type\":\"contourcarpet\"}],\"heatmap\":[{\"colorbar\":{\"outlinewidth\":0,\"ticks\":\"\"},\"colorscale\":[[0.0,\"#0d0887\"],[0.1111111111111111,\"#46039f\"],[0.2222222222222222,\"#7201a8\"],[0.3333333333333333,\"#9c179e\"],[0.4444444444444444,\"#bd3786\"],[0.5555555555555556,\"#d8576b\"],[0.6666666666666666,\"#ed7953\"],[0.7777777777777778,\"#fb9f3a\"],[0.8888888888888888,\"#fdca26\"],[1.0,\"#f0f921\"]],\"type\":\"heatmap\"}],\"heatmapgl\":[{\"colorbar\":{\"outlinewidth\":0,\"ticks\":\"\"},\"colorscale\":[[0.0,\"#0d0887\"],[0.1111111111111111,\"#46039f\"],[0.2222222222222222,\"#7201a8\"],[0.3333333333333333,\"#9c179e\"],[0.4444444444444444,\"#bd3786\"],[0.5555555555555556,\"#d8576b\"],[0.6666666666666666,\"#ed7953\"],[0.7777777777777778,\"#fb9f3a\"],[0.8888888888888888,\"#fdca26\"],[1.0,\"#f0f921\"]],\"type\":\"heatmapgl\"}],\"histogram\":[{\"marker\":{\"pattern\":{\"fillmode\":\"overlay\",\"size\":10,\"solidity\":0.2}},\"type\":\"histogram\"}],\"histogram2d\":[{\"colorbar\":{\"outlinewidth\":0,\"ticks\":\"\"},\"colorscale\":[[0.0,\"#0d0887\"],[0.1111111111111111,\"#46039f\"],[0.2222222222222222,\"#7201a8\"],[0.3333333333333333,\"#9c179e\"],[0.4444444444444444,\"#bd3786\"],[0.5555555555555556,\"#d8576b\"],[0.6666666666666666,\"#ed7953\"],[0.7777777777777778,\"#fb9f3a\"],[0.8888888888888888,\"#fdca26\"],[1.0,\"#f0f921\"]],\"type\":\"histogram2d\"}],\"histogram2dcontour\":[{\"colorbar\":{\"outlinewidth\":0,\"ticks\":\"\"},\"colorscale\":[[0.0,\"#0d0887\"],[0.1111111111111111,\"#46039f\"],[0.2222222222222222,\"#7201a8\"],[0.3333333333333333,\"#9c179e\"],[0.4444444444444444,\"#bd3786\"],[0.5555555555555556,\"#d8576b\"],[0.6666666666666666,\"#ed7953\"],[0.7777777777777778,\"#fb9f3a\"],[0.8888888888888888,\"#fdca26\"],[1.0,\"#f0f921\"]],\"type\":\"histogram2dcontour\"}],\"mesh3d\":[{\"colorbar\":{\"outlinewidth\":0,\"ticks\":\"\"},\"type\":\"mesh3d\"}],\"parcoords\":[{\"line\":{\"colorbar\":{\"outlinewidth\":0,\"ticks\":\"\"}},\"type\":\"parcoords\"}],\"pie\":[{\"automargin\":true,\"type\":\"pie\"}],\"scatter\":[{\"marker\":{\"colorbar\":{\"outlinewidth\":0,\"ticks\":\"\"}},\"type\":\"scatter\"}],\"scatter3d\":[{\"line\":{\"colorbar\":{\"outlinewidth\":0,\"ticks\":\"\"}},\"marker\":{\"colorbar\":{\"outlinewidth\":0,\"ticks\":\"\"}},\"type\":\"scatter3d\"}],\"scattercarpet\":[{\"marker\":{\"colorbar\":{\"outlinewidth\":0,\"ticks\":\"\"}},\"type\":\"scattercarpet\"}],\"scattergeo\":[{\"marker\":{\"colorbar\":{\"outlinewidth\":0,\"ticks\":\"\"}},\"type\":\"scattergeo\"}],\"scattergl\":[{\"marker\":{\"colorbar\":{\"outlinewidth\":0,\"ticks\":\"\"}},\"type\":\"scattergl\"}],\"scattermapbox\":[{\"marker\":{\"colorbar\":{\"outlinewidth\":0,\"ticks\":\"\"}},\"type\":\"scattermapbox\"}],\"scatterpolar\":[{\"marker\":{\"colorbar\":{\"outlinewidth\":0,\"ticks\":\"\"}},\"type\":\"scatterpolar\"}],\"scatterpolargl\":[{\"marker\":{\"colorbar\":{\"outlinewidth\":0,\"ticks\":\"\"}},\"type\":\"scatterpolargl\"}],\"scatterternary\":[{\"marker\":{\"colorbar\":{\"outlinewidth\":0,\"ticks\":\"\"}},\"type\":\"scatterternary\"}],\"surface\":[{\"colorbar\":{\"outlinewidth\":0,\"ticks\":\"\"},\"colorscale\":[[0.0,\"#0d0887\"],[0.1111111111111111,\"#46039f\"],[0.2222222222222222,\"#7201a8\"],[0.3333333333333333,\"#9c179e\"],[0.4444444444444444,\"#bd3786\"],[0.5555555555555556,\"#d8576b\"],[0.6666666666666666,\"#ed7953\"],[0.7777777777777778,\"#fb9f3a\"],[0.8888888888888888,\"#fdca26\"],[1.0,\"#f0f921\"]],\"type\":\"surface\"}],\"table\":[{\"cells\":{\"fill\":{\"color\":\"#EBF0F8\"},\"line\":{\"color\":\"white\"}},\"header\":{\"fill\":{\"color\":\"#C8D4E3\"},\"line\":{\"color\":\"white\"}},\"type\":\"table\"}]},\"layout\":{\"annotationdefaults\":{\"arrowcolor\":\"#2a3f5f\",\"arrowhead\":0,\"arrowwidth\":1},\"autotypenumbers\":\"strict\",\"coloraxis\":{\"colorbar\":{\"outlinewidth\":0,\"ticks\":\"\"}},\"colorscale\":{\"diverging\":[[0,\"#8e0152\"],[0.1,\"#c51b7d\"],[0.2,\"#de77ae\"],[0.3,\"#f1b6da\"],[0.4,\"#fde0ef\"],[0.5,\"#f7f7f7\"],[0.6,\"#e6f5d0\"],[0.7,\"#b8e186\"],[0.8,\"#7fbc41\"],[0.9,\"#4d9221\"],[1,\"#276419\"]],\"sequential\":[[0.0,\"#0d0887\"],[0.1111111111111111,\"#46039f\"],[0.2222222222222222,\"#7201a8\"],[0.3333333333333333,\"#9c179e\"],[0.4444444444444444,\"#bd3786\"],[0.5555555555555556,\"#d8576b\"],[0.6666666666666666,\"#ed7953\"],[0.7777777777777778,\"#fb9f3a\"],[0.8888888888888888,\"#fdca26\"],[1.0,\"#f0f921\"]],\"sequentialminus\":[[0.0,\"#0d0887\"],[0.1111111111111111,\"#46039f\"],[0.2222222222222222,\"#7201a8\"],[0.3333333333333333,\"#9c179e\"],[0.4444444444444444,\"#bd3786\"],[0.5555555555555556,\"#d8576b\"],[0.6666666666666666,\"#ed7953\"],[0.7777777777777778,\"#fb9f3a\"],[0.8888888888888888,\"#fdca26\"],[1.0,\"#f0f921\"]]},\"colorway\":[\"#636efa\",\"#EF553B\",\"#00cc96\",\"#ab63fa\",\"#FFA15A\",\"#19d3f3\",\"#FF6692\",\"#B6E880\",\"#FF97FF\",\"#FECB52\"],\"font\":{\"color\":\"#2a3f5f\"},\"geo\":{\"bgcolor\":\"white\",\"lakecolor\":\"white\",\"landcolor\":\"#E5ECF6\",\"showlakes\":true,\"showland\":true,\"subunitcolor\":\"white\"},\"hoverlabel\":{\"align\":\"left\"},\"hovermode\":\"closest\",\"mapbox\":{\"style\":\"light\"},\"paper_bgcolor\":\"white\",\"plot_bgcolor\":\"#E5ECF6\",\"polar\":{\"angularaxis\":{\"gridcolor\":\"white\",\"linecolor\":\"white\",\"ticks\":\"\"},\"bgcolor\":\"#E5ECF6\",\"radialaxis\":{\"gridcolor\":\"white\",\"linecolor\":\"white\",\"ticks\":\"\"}},\"scene\":{\"xaxis\":{\"backgroundcolor\":\"#E5ECF6\",\"gridcolor\":\"white\",\"gridwidth\":2,\"linecolor\":\"white\",\"showbackground\":true,\"ticks\":\"\",\"zerolinecolor\":\"white\"},\"yaxis\":{\"backgroundcolor\":\"#E5ECF6\",\"gridcolor\":\"white\",\"gridwidth\":2,\"linecolor\":\"white\",\"showbackground\":true,\"ticks\":\"\",\"zerolinecolor\":\"white\"},\"zaxis\":{\"backgroundcolor\":\"#E5ECF6\",\"gridcolor\":\"white\",\"gridwidth\":2,\"linecolor\":\"white\",\"showbackground\":true,\"ticks\":\"\",\"zerolinecolor\":\"white\"}},\"shapedefaults\":{\"line\":{\"color\":\"#2a3f5f\"}},\"ternary\":{\"aaxis\":{\"gridcolor\":\"white\",\"linecolor\":\"white\",\"ticks\":\"\"},\"baxis\":{\"gridcolor\":\"white\",\"linecolor\":\"white\",\"ticks\":\"\"},\"bgcolor\":\"#E5ECF6\",\"caxis\":{\"gridcolor\":\"white\",\"linecolor\":\"white\",\"ticks\":\"\"}},\"title\":{\"x\":0.05},\"xaxis\":{\"automargin\":true,\"gridcolor\":\"white\",\"linecolor\":\"white\",\"ticks\":\"\",\"title\":{\"standoff\":15},\"zerolinecolor\":\"white\",\"zerolinewidth\":2},\"yaxis\":{\"automargin\":true,\"gridcolor\":\"white\",\"linecolor\":\"white\",\"ticks\":\"\",\"title\":{\"standoff\":15},\"zerolinecolor\":\"white\",\"zerolinewidth\":2}}},\"ternary\":{\"domain\":{\"x\":[0.0,1.0],\"y\":[0.0,1.0]},\"aaxis\":{\"title\":{\"text\":\"diabetes_si\"}},\"baxis\":{\"title\":{\"text\":\"hipert_si\"}},\"caxis\":{\"title\":{\"text\":\"obesidad_si\"}}},\"coloraxis\":{\"colorbar\":{\"title\":{\"text\":\"cluster\"}},\"colorscale\":[[0.0,\"#0d0887\"],[0.1111111111111111,\"#46039f\"],[0.2222222222222222,\"#7201a8\"],[0.3333333333333333,\"#9c179e\"],[0.4444444444444444,\"#bd3786\"],[0.5555555555555556,\"#d8576b\"],[0.6666666666666666,\"#ed7953\"],[0.7777777777777778,\"#fb9f3a\"],[0.8888888888888888,\"#fdca26\"],[1.0,\"#f0f921\"]]},\"legend\":{\"tracegroupgap\":0,\"itemsizing\":\"constant\"},\"title\":{\"text\":\"Condiciones de coomorbilidad m\\u00e1s relevantes para cada cluster de viropol\\u00edtica\"}},                        {\"responsive\": true}                    ).then(function(){\n",
              "                            \n",
              "var gd = document.getElementById('b07c0780-63dd-4a25-bcc9-c0cc37c6d26f');\n",
              "var x = new MutationObserver(function (mutations, observer) {{\n",
              "        var display = window.getComputedStyle(gd).display;\n",
              "        if (!display || display === 'none') {{\n",
              "            console.log([gd, 'removed!']);\n",
              "            Plotly.purge(gd);\n",
              "            observer.disconnect();\n",
              "        }}\n",
              "}});\n",
              "\n",
              "// Listen for the removal of the full notebook cells\n",
              "var notebookContainer = gd.closest('#notebook-container');\n",
              "if (notebookContainer) {{\n",
              "    x.observe(notebookContainer, {childList: true});\n",
              "}}\n",
              "\n",
              "// Listen for the clearing of the current output cell\n",
              "var outputEl = gd.closest('.output');\n",
              "if (outputEl) {{\n",
              "    x.observe(outputEl, {childList: true});\n",
              "}}\n",
              "\n",
              "                        })                };                            </script>        </div>\n",
              "</body>\n",
              "</html>"
            ]
          },
          "metadata": {}
        }
      ]
    },
    {
      "cell_type": "code",
      "source": [
        "import plotly.express as px\n",
        "fig = px.scatter_ternary(X_pivot, \n",
        "                         a=\"obesidad_si\", \n",
        "                         b=\"tabaq_si\", \n",
        "                         c=\"defunciones\",\n",
        "                         size=\"EDAD\",\n",
        "                         size_max = 18,\n",
        "                         color  = \"cluster\",\n",
        "                          title = \"Condiciones de riesgo más relevantes para cada cluster de viropolítica\"\n",
        "                         )\n",
        "fig.show()"
      ],
      "metadata": {
        "colab": {
          "base_uri": "https://localhost:8080/",
          "height": 542
        },
        "id": "wKofSgf9GHNn",
        "outputId": "a45555c2-a119-42d3-d04f-d63494b41107"
      },
      "execution_count": 59,
      "outputs": [
        {
          "output_type": "display_data",
          "data": {
            "text/html": [
              "<html>\n",
              "<head><meta charset=\"utf-8\" /></head>\n",
              "<body>\n",
              "    <div>            <script src=\"https://cdnjs.cloudflare.com/ajax/libs/mathjax/2.7.5/MathJax.js?config=TeX-AMS-MML_SVG\"></script><script type=\"text/javascript\">if (window.MathJax) {MathJax.Hub.Config({SVG: {font: \"STIX-Web\"}});}</script>                <script type=\"text/javascript\">window.PlotlyConfig = {MathJaxConfig: 'local'};</script>\n",
              "        <script src=\"https://cdn.plot.ly/plotly-2.8.3.min.js\"></script>                <div id=\"7ca255b1-e61e-45fd-90da-a3a215aafc5e\" class=\"plotly-graph-div\" style=\"height:525px; width:100%;\"></div>            <script type=\"text/javascript\">                                    window.PLOTLYENV=window.PLOTLYENV || {};                                    if (document.getElementById(\"7ca255b1-e61e-45fd-90da-a3a215aafc5e\")) {                    Plotly.newPlot(                        \"7ca255b1-e61e-45fd-90da-a3a215aafc5e\",                        [{\"a\":[0.09353625104880774,0.03236377907006376,0.10490175531557323,0.07870145496626325],\"b\":[0.06204688605598024,0.04943503544725723,0.07533146953801866,0.09720681245302505],\"c\":[0.1117942055547178,0.000741563756644768,0.022917169192807913,0.00463230444363774],\"hovertemplate\":\"obesidad_si=%{a}<br>tabaq_si=%{b}<br>defunciones=%{c}<br>EDAD=%{marker.size}<br>cluster=%{marker.color}<extra></extra>\",\"legendgroup\":\"\",\"marker\":{\"color\":[0,1,2,3],\"coloraxis\":\"coloraxis\",\"size\":[68.05574437317063,17.515664578735723,49.49158128665145,33.194011408626174],\"sizemode\":\"area\",\"sizeref\":0.21004859374435378,\"symbol\":\"circle\"},\"mode\":\"markers\",\"name\":\"\",\"showlegend\":false,\"subplot\":\"ternary\",\"type\":\"scatterternary\"}],                        {\"template\":{\"data\":{\"bar\":[{\"error_x\":{\"color\":\"#2a3f5f\"},\"error_y\":{\"color\":\"#2a3f5f\"},\"marker\":{\"line\":{\"color\":\"#E5ECF6\",\"width\":0.5},\"pattern\":{\"fillmode\":\"overlay\",\"size\":10,\"solidity\":0.2}},\"type\":\"bar\"}],\"barpolar\":[{\"marker\":{\"line\":{\"color\":\"#E5ECF6\",\"width\":0.5},\"pattern\":{\"fillmode\":\"overlay\",\"size\":10,\"solidity\":0.2}},\"type\":\"barpolar\"}],\"carpet\":[{\"aaxis\":{\"endlinecolor\":\"#2a3f5f\",\"gridcolor\":\"white\",\"linecolor\":\"white\",\"minorgridcolor\":\"white\",\"startlinecolor\":\"#2a3f5f\"},\"baxis\":{\"endlinecolor\":\"#2a3f5f\",\"gridcolor\":\"white\",\"linecolor\":\"white\",\"minorgridcolor\":\"white\",\"startlinecolor\":\"#2a3f5f\"},\"type\":\"carpet\"}],\"choropleth\":[{\"colorbar\":{\"outlinewidth\":0,\"ticks\":\"\"},\"type\":\"choropleth\"}],\"contour\":[{\"colorbar\":{\"outlinewidth\":0,\"ticks\":\"\"},\"colorscale\":[[0.0,\"#0d0887\"],[0.1111111111111111,\"#46039f\"],[0.2222222222222222,\"#7201a8\"],[0.3333333333333333,\"#9c179e\"],[0.4444444444444444,\"#bd3786\"],[0.5555555555555556,\"#d8576b\"],[0.6666666666666666,\"#ed7953\"],[0.7777777777777778,\"#fb9f3a\"],[0.8888888888888888,\"#fdca26\"],[1.0,\"#f0f921\"]],\"type\":\"contour\"}],\"contourcarpet\":[{\"colorbar\":{\"outlinewidth\":0,\"ticks\":\"\"},\"type\":\"contourcarpet\"}],\"heatmap\":[{\"colorbar\":{\"outlinewidth\":0,\"ticks\":\"\"},\"colorscale\":[[0.0,\"#0d0887\"],[0.1111111111111111,\"#46039f\"],[0.2222222222222222,\"#7201a8\"],[0.3333333333333333,\"#9c179e\"],[0.4444444444444444,\"#bd3786\"],[0.5555555555555556,\"#d8576b\"],[0.6666666666666666,\"#ed7953\"],[0.7777777777777778,\"#fb9f3a\"],[0.8888888888888888,\"#fdca26\"],[1.0,\"#f0f921\"]],\"type\":\"heatmap\"}],\"heatmapgl\":[{\"colorbar\":{\"outlinewidth\":0,\"ticks\":\"\"},\"colorscale\":[[0.0,\"#0d0887\"],[0.1111111111111111,\"#46039f\"],[0.2222222222222222,\"#7201a8\"],[0.3333333333333333,\"#9c179e\"],[0.4444444444444444,\"#bd3786\"],[0.5555555555555556,\"#d8576b\"],[0.6666666666666666,\"#ed7953\"],[0.7777777777777778,\"#fb9f3a\"],[0.8888888888888888,\"#fdca26\"],[1.0,\"#f0f921\"]],\"type\":\"heatmapgl\"}],\"histogram\":[{\"marker\":{\"pattern\":{\"fillmode\":\"overlay\",\"size\":10,\"solidity\":0.2}},\"type\":\"histogram\"}],\"histogram2d\":[{\"colorbar\":{\"outlinewidth\":0,\"ticks\":\"\"},\"colorscale\":[[0.0,\"#0d0887\"],[0.1111111111111111,\"#46039f\"],[0.2222222222222222,\"#7201a8\"],[0.3333333333333333,\"#9c179e\"],[0.4444444444444444,\"#bd3786\"],[0.5555555555555556,\"#d8576b\"],[0.6666666666666666,\"#ed7953\"],[0.7777777777777778,\"#fb9f3a\"],[0.8888888888888888,\"#fdca26\"],[1.0,\"#f0f921\"]],\"type\":\"histogram2d\"}],\"histogram2dcontour\":[{\"colorbar\":{\"outlinewidth\":0,\"ticks\":\"\"},\"colorscale\":[[0.0,\"#0d0887\"],[0.1111111111111111,\"#46039f\"],[0.2222222222222222,\"#7201a8\"],[0.3333333333333333,\"#9c179e\"],[0.4444444444444444,\"#bd3786\"],[0.5555555555555556,\"#d8576b\"],[0.6666666666666666,\"#ed7953\"],[0.7777777777777778,\"#fb9f3a\"],[0.8888888888888888,\"#fdca26\"],[1.0,\"#f0f921\"]],\"type\":\"histogram2dcontour\"}],\"mesh3d\":[{\"colorbar\":{\"outlinewidth\":0,\"ticks\":\"\"},\"type\":\"mesh3d\"}],\"parcoords\":[{\"line\":{\"colorbar\":{\"outlinewidth\":0,\"ticks\":\"\"}},\"type\":\"parcoords\"}],\"pie\":[{\"automargin\":true,\"type\":\"pie\"}],\"scatter\":[{\"marker\":{\"colorbar\":{\"outlinewidth\":0,\"ticks\":\"\"}},\"type\":\"scatter\"}],\"scatter3d\":[{\"line\":{\"colorbar\":{\"outlinewidth\":0,\"ticks\":\"\"}},\"marker\":{\"colorbar\":{\"outlinewidth\":0,\"ticks\":\"\"}},\"type\":\"scatter3d\"}],\"scattercarpet\":[{\"marker\":{\"colorbar\":{\"outlinewidth\":0,\"ticks\":\"\"}},\"type\":\"scattercarpet\"}],\"scattergeo\":[{\"marker\":{\"colorbar\":{\"outlinewidth\":0,\"ticks\":\"\"}},\"type\":\"scattergeo\"}],\"scattergl\":[{\"marker\":{\"colorbar\":{\"outlinewidth\":0,\"ticks\":\"\"}},\"type\":\"scattergl\"}],\"scattermapbox\":[{\"marker\":{\"colorbar\":{\"outlinewidth\":0,\"ticks\":\"\"}},\"type\":\"scattermapbox\"}],\"scatterpolar\":[{\"marker\":{\"colorbar\":{\"outlinewidth\":0,\"ticks\":\"\"}},\"type\":\"scatterpolar\"}],\"scatterpolargl\":[{\"marker\":{\"colorbar\":{\"outlinewidth\":0,\"ticks\":\"\"}},\"type\":\"scatterpolargl\"}],\"scatterternary\":[{\"marker\":{\"colorbar\":{\"outlinewidth\":0,\"ticks\":\"\"}},\"type\":\"scatterternary\"}],\"surface\":[{\"colorbar\":{\"outlinewidth\":0,\"ticks\":\"\"},\"colorscale\":[[0.0,\"#0d0887\"],[0.1111111111111111,\"#46039f\"],[0.2222222222222222,\"#7201a8\"],[0.3333333333333333,\"#9c179e\"],[0.4444444444444444,\"#bd3786\"],[0.5555555555555556,\"#d8576b\"],[0.6666666666666666,\"#ed7953\"],[0.7777777777777778,\"#fb9f3a\"],[0.8888888888888888,\"#fdca26\"],[1.0,\"#f0f921\"]],\"type\":\"surface\"}],\"table\":[{\"cells\":{\"fill\":{\"color\":\"#EBF0F8\"},\"line\":{\"color\":\"white\"}},\"header\":{\"fill\":{\"color\":\"#C8D4E3\"},\"line\":{\"color\":\"white\"}},\"type\":\"table\"}]},\"layout\":{\"annotationdefaults\":{\"arrowcolor\":\"#2a3f5f\",\"arrowhead\":0,\"arrowwidth\":1},\"autotypenumbers\":\"strict\",\"coloraxis\":{\"colorbar\":{\"outlinewidth\":0,\"ticks\":\"\"}},\"colorscale\":{\"diverging\":[[0,\"#8e0152\"],[0.1,\"#c51b7d\"],[0.2,\"#de77ae\"],[0.3,\"#f1b6da\"],[0.4,\"#fde0ef\"],[0.5,\"#f7f7f7\"],[0.6,\"#e6f5d0\"],[0.7,\"#b8e186\"],[0.8,\"#7fbc41\"],[0.9,\"#4d9221\"],[1,\"#276419\"]],\"sequential\":[[0.0,\"#0d0887\"],[0.1111111111111111,\"#46039f\"],[0.2222222222222222,\"#7201a8\"],[0.3333333333333333,\"#9c179e\"],[0.4444444444444444,\"#bd3786\"],[0.5555555555555556,\"#d8576b\"],[0.6666666666666666,\"#ed7953\"],[0.7777777777777778,\"#fb9f3a\"],[0.8888888888888888,\"#fdca26\"],[1.0,\"#f0f921\"]],\"sequentialminus\":[[0.0,\"#0d0887\"],[0.1111111111111111,\"#46039f\"],[0.2222222222222222,\"#7201a8\"],[0.3333333333333333,\"#9c179e\"],[0.4444444444444444,\"#bd3786\"],[0.5555555555555556,\"#d8576b\"],[0.6666666666666666,\"#ed7953\"],[0.7777777777777778,\"#fb9f3a\"],[0.8888888888888888,\"#fdca26\"],[1.0,\"#f0f921\"]]},\"colorway\":[\"#636efa\",\"#EF553B\",\"#00cc96\",\"#ab63fa\",\"#FFA15A\",\"#19d3f3\",\"#FF6692\",\"#B6E880\",\"#FF97FF\",\"#FECB52\"],\"font\":{\"color\":\"#2a3f5f\"},\"geo\":{\"bgcolor\":\"white\",\"lakecolor\":\"white\",\"landcolor\":\"#E5ECF6\",\"showlakes\":true,\"showland\":true,\"subunitcolor\":\"white\"},\"hoverlabel\":{\"align\":\"left\"},\"hovermode\":\"closest\",\"mapbox\":{\"style\":\"light\"},\"paper_bgcolor\":\"white\",\"plot_bgcolor\":\"#E5ECF6\",\"polar\":{\"angularaxis\":{\"gridcolor\":\"white\",\"linecolor\":\"white\",\"ticks\":\"\"},\"bgcolor\":\"#E5ECF6\",\"radialaxis\":{\"gridcolor\":\"white\",\"linecolor\":\"white\",\"ticks\":\"\"}},\"scene\":{\"xaxis\":{\"backgroundcolor\":\"#E5ECF6\",\"gridcolor\":\"white\",\"gridwidth\":2,\"linecolor\":\"white\",\"showbackground\":true,\"ticks\":\"\",\"zerolinecolor\":\"white\"},\"yaxis\":{\"backgroundcolor\":\"#E5ECF6\",\"gridcolor\":\"white\",\"gridwidth\":2,\"linecolor\":\"white\",\"showbackground\":true,\"ticks\":\"\",\"zerolinecolor\":\"white\"},\"zaxis\":{\"backgroundcolor\":\"#E5ECF6\",\"gridcolor\":\"white\",\"gridwidth\":2,\"linecolor\":\"white\",\"showbackground\":true,\"ticks\":\"\",\"zerolinecolor\":\"white\"}},\"shapedefaults\":{\"line\":{\"color\":\"#2a3f5f\"}},\"ternary\":{\"aaxis\":{\"gridcolor\":\"white\",\"linecolor\":\"white\",\"ticks\":\"\"},\"baxis\":{\"gridcolor\":\"white\",\"linecolor\":\"white\",\"ticks\":\"\"},\"bgcolor\":\"#E5ECF6\",\"caxis\":{\"gridcolor\":\"white\",\"linecolor\":\"white\",\"ticks\":\"\"}},\"title\":{\"x\":0.05},\"xaxis\":{\"automargin\":true,\"gridcolor\":\"white\",\"linecolor\":\"white\",\"ticks\":\"\",\"title\":{\"standoff\":15},\"zerolinecolor\":\"white\",\"zerolinewidth\":2},\"yaxis\":{\"automargin\":true,\"gridcolor\":\"white\",\"linecolor\":\"white\",\"ticks\":\"\",\"title\":{\"standoff\":15},\"zerolinecolor\":\"white\",\"zerolinewidth\":2}}},\"ternary\":{\"domain\":{\"x\":[0.0,1.0],\"y\":[0.0,1.0]},\"aaxis\":{\"title\":{\"text\":\"obesidad_si\"}},\"baxis\":{\"title\":{\"text\":\"tabaq_si\"}},\"caxis\":{\"title\":{\"text\":\"defunciones\"}}},\"coloraxis\":{\"colorbar\":{\"title\":{\"text\":\"cluster\"}},\"colorscale\":[[0.0,\"#0d0887\"],[0.1111111111111111,\"#46039f\"],[0.2222222222222222,\"#7201a8\"],[0.3333333333333333,\"#9c179e\"],[0.4444444444444444,\"#bd3786\"],[0.5555555555555556,\"#d8576b\"],[0.6666666666666666,\"#ed7953\"],[0.7777777777777778,\"#fb9f3a\"],[0.8888888888888888,\"#fdca26\"],[1.0,\"#f0f921\"]]},\"legend\":{\"tracegroupgap\":0,\"itemsizing\":\"constant\"},\"title\":{\"text\":\"Condiciones de riesgo m\\u00e1s relevantes para cada cluster de viropol\\u00edtica\"}},                        {\"responsive\": true}                    ).then(function(){\n",
              "                            \n",
              "var gd = document.getElementById('7ca255b1-e61e-45fd-90da-a3a215aafc5e');\n",
              "var x = new MutationObserver(function (mutations, observer) {{\n",
              "        var display = window.getComputedStyle(gd).display;\n",
              "        if (!display || display === 'none') {{\n",
              "            console.log([gd, 'removed!']);\n",
              "            Plotly.purge(gd);\n",
              "            observer.disconnect();\n",
              "        }}\n",
              "}});\n",
              "\n",
              "// Listen for the removal of the full notebook cells\n",
              "var notebookContainer = gd.closest('#notebook-container');\n",
              "if (notebookContainer) {{\n",
              "    x.observe(notebookContainer, {childList: true});\n",
              "}}\n",
              "\n",
              "// Listen for the clearing of the current output cell\n",
              "var outputEl = gd.closest('.output');\n",
              "if (outputEl) {{\n",
              "    x.observe(outputEl, {childList: true});\n",
              "}}\n",
              "\n",
              "                        })                };                            </script>        </div>\n",
              "</body>\n",
              "</html>"
            ]
          },
          "metadata": {}
        }
      ]
    },
    {
      "cell_type": "code",
      "source": [
        "X_pivot.columns"
      ],
      "metadata": {
        "colab": {
          "base_uri": "https://localhost:8080/"
        },
        "id": "MqQlcukdFgCW",
        "outputId": "655fed7e-d649-419d-9db2-d0bf56897cd9"
      },
      "execution_count": 40,
      "outputs": [
        {
          "output_type": "execute_result",
          "data": {
            "text/plain": [
              "Index(['EDAD', 'alc_alv', 'alc_azcap', 'alc_beniJ', 'alc_coyo', 'alc_cuaj',\n",
              "       'alc_cuauh', 'alc_gam', 'alc_iztac', 'alc_iztap', 'alc_magdC',\n",
              "       'alc_migH', 'alc_milpa', 'alc_noEsp', 'alc_tlah', 'alc_tlalp',\n",
              "       'alc_xoch', 'asma_no', 'asma_seIgn', 'asma_si', 'cardio_no',\n",
              "       'cardio_seIgn', 'cardio_si', 'defunciones', 'diabetes_no',\n",
              "       'diabetes_seIgn', 'diabetes_si', 'embarazo_no', 'embarazo_noAplica',\n",
              "       'embarazo_seIgn', 'embarazo_si', 'epoc_no', 'epoc_seIgn', 'epoc_si',\n",
              "       'hipert_no', 'hipert_seIgn', 'hipert_si', 'indigena_no',\n",
              "       'indigena_noEsp', 'indigena_si', 'inmusupr_no', 'inmusupr_seIgn',\n",
              "       'inmusupr_si', 'inst_1', 'inst_10', 'inst_11', 'inst_12', 'inst_13',\n",
              "       'inst_14', 'inst_2', 'inst_3', 'inst_4', 'inst_5', 'inst_6', 'inst_7',\n",
              "       'inst_8', 'inst_9', 'intub_no', 'intub_noAplica', 'intub_noEsp',\n",
              "       'intub_si', 'leng_ind_no', 'leng_ind_noEsp', 'leng_ind_si',\n",
              "       'neumonia_no', 'neumonia_noEsp', 'neumonia_si', 'obesidad_no',\n",
              "       'obesidad_seIgn', 'obesidad_si', 'otr_caso_no', 'otr_caso_seIgn',\n",
              "       'otr_caso_si', 'otr_com_no', 'otr_com_seIgn', 'otr_com_si',\n",
              "       'paciente_amb', 'paciente_hosp', 'renalCr_no', 'renalCr_seIgn',\n",
              "       'renalCr_si', 'sex_H', 'sex_M', 'tabaq_no', 'tabaq_seIgn', 'tabaq_si',\n",
              "       'uci_no', 'uci_noAplica', 'uci_noEsp', 'uci_si', 'venusC', 'cluster'],\n",
              "      dtype='object')"
            ]
          },
          "metadata": {},
          "execution_count": 40
        }
      ]
    }
  ]
}