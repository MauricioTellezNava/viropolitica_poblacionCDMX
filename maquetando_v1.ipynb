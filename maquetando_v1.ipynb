{
  "nbformat": 4,
  "nbformat_minor": 0,
  "metadata": {
    "colab": {
      "provenance": [],
      "collapsed_sections": [
        "1Xd87QbgxXE2"
      ],
      "authorship_tag": "ABX9TyN5SCp7iyKHp/rm1IbjSeJD",
      "include_colab_link": true
    },
    "kernelspec": {
      "name": "python3",
      "display_name": "Python 3"
    },
    "language_info": {
      "name": "python"
    }
  },
  "cells": [
    {
      "cell_type": "markdown",
      "metadata": {
        "id": "view-in-github",
        "colab_type": "text"
      },
      "source": [
        "<a href=\"https://colab.research.google.com/github/MauricioTellezNava/viropolitica_poblacionCDMX/blob/main/maquetando_v1.ipynb\" target=\"_parent\"><img src=\"https://colab.research.google.com/assets/colab-badge.svg\" alt=\"Open In Colab\"/></a>"
      ]
    },
    {
      "cell_type": "markdown",
      "source": [
        "### Formando clusters con los datos de la población contagiada de la Ciudad de México"
      ],
      "metadata": {
        "id": "Hc9ALXluMkoq"
      }
    },
    {
      "cell_type": "code",
      "execution_count": 1,
      "metadata": {
        "id": "VKSr2aylLX3s"
      },
      "outputs": [],
      "source": [
        "import pandas as pd\n",
        "import numpy as np\n",
        "import seaborn as sns\n",
        "import matplotlib.pyplot as plt\n",
        "\n",
        "from sklearn.model_selection import train_test_split\n",
        "from sklearn import datasets"
      ]
    },
    {
      "cell_type": "code",
      "source": [
        "from google.colab import drive\n",
        "drive.mount('/content/drive')"
      ],
      "metadata": {
        "colab": {
          "base_uri": "https://localhost:8080/"
        },
        "id": "l_U83Q_5Lx1K",
        "outputId": "7a1808f2-6de1-45c8-a522-0f60b812230f"
      },
      "execution_count": 2,
      "outputs": [
        {
          "output_type": "stream",
          "name": "stdout",
          "text": [
            "Mounted at /content/drive\n"
          ]
        }
      ]
    },
    {
      "cell_type": "markdown",
      "source": [
        "# Exploración"
      ],
      "metadata": {
        "id": "eFmAIvNPNTNa"
      }
    },
    {
      "cell_type": "code",
      "source": [
        "df = pd.read_csv(\"/content/drive/MyDrive/Análisis del COVID-19 para la Ciudad de México/población/covid_cdmx.csv\")\n",
        "df = df.drop(columns=[\"Unnamed: 0\"])\n",
        "df.head()"
      ],
      "metadata": {
        "id": "o1G_j0-cLxwc",
        "colab": {
          "base_uri": "https://localhost:8080/",
          "height": 300
        },
        "outputId": "8ee7bdd3-fef4-44e6-9e81-e25e7937f732"
      },
      "execution_count": 3,
      "outputs": [
        {
          "output_type": "execute_result",
          "data": {
            "text/plain": [
              "  FECHA_ACTUALIZACION ID_REGISTRO  ORIGEN  SECTOR  ENTIDAD_UM  SEXO  \\\n",
              "0          2021-10-31      z13788       1      12           9     1   \n",
              "1          2021-10-31      z526b3       2      12           9     1   \n",
              "2          2021-10-31      z3d1e2       2      12           9     1   \n",
              "3          2021-10-31      zz9079       2      12           9     1   \n",
              "4          2021-10-31      z2770b       1      12           9     1   \n",
              "\n",
              "   ENTIDAD_NAC  ENTIDAD_RES  MUNICIPIO_RES  TIPO_PACIENTE  ... OTRO_CASO  \\\n",
              "0            9            9              4              1  ...         1   \n",
              "1            9            9             12              1  ...         1   \n",
              "2            9            9              5              1  ...         1   \n",
              "3            9            9              7              1  ...         1   \n",
              "4            9            9              6              1  ...         1   \n",
              "\n",
              "  TOMA_MUESTRA_LAB RESULTADO_LAB  TOMA_MUESTRA_ANTIGENO  RESULTADO_ANTIGENO  \\\n",
              "0                1             1                      2                  97   \n",
              "1                2            97                      1                   1   \n",
              "2                1             1                      2                  97   \n",
              "3                2            97                      2                  97   \n",
              "4                1             1                      2                  97   \n",
              "\n",
              "   CLASIFICACION_FINAL  MIGRANTE  PAIS_NACIONALIDAD  PAIS_ORIGEN  UCI  \n",
              "0                    3        99             México           97   97  \n",
              "1                    3        99             México           97   97  \n",
              "2                    3        99             México           97   97  \n",
              "3                    1        99             México           97   97  \n",
              "4                    3        99             México           97   97  \n",
              "\n",
              "[5 rows x 40 columns]"
            ],
            "text/html": [
              "\n",
              "  <div id=\"df-6773e94c-2ed1-41cd-b3a2-f303e0c1a047\">\n",
              "    <div class=\"colab-df-container\">\n",
              "      <div>\n",
              "<style scoped>\n",
              "    .dataframe tbody tr th:only-of-type {\n",
              "        vertical-align: middle;\n",
              "    }\n",
              "\n",
              "    .dataframe tbody tr th {\n",
              "        vertical-align: top;\n",
              "    }\n",
              "\n",
              "    .dataframe thead th {\n",
              "        text-align: right;\n",
              "    }\n",
              "</style>\n",
              "<table border=\"1\" class=\"dataframe\">\n",
              "  <thead>\n",
              "    <tr style=\"text-align: right;\">\n",
              "      <th></th>\n",
              "      <th>FECHA_ACTUALIZACION</th>\n",
              "      <th>ID_REGISTRO</th>\n",
              "      <th>ORIGEN</th>\n",
              "      <th>SECTOR</th>\n",
              "      <th>ENTIDAD_UM</th>\n",
              "      <th>SEXO</th>\n",
              "      <th>ENTIDAD_NAC</th>\n",
              "      <th>ENTIDAD_RES</th>\n",
              "      <th>MUNICIPIO_RES</th>\n",
              "      <th>TIPO_PACIENTE</th>\n",
              "      <th>...</th>\n",
              "      <th>OTRO_CASO</th>\n",
              "      <th>TOMA_MUESTRA_LAB</th>\n",
              "      <th>RESULTADO_LAB</th>\n",
              "      <th>TOMA_MUESTRA_ANTIGENO</th>\n",
              "      <th>RESULTADO_ANTIGENO</th>\n",
              "      <th>CLASIFICACION_FINAL</th>\n",
              "      <th>MIGRANTE</th>\n",
              "      <th>PAIS_NACIONALIDAD</th>\n",
              "      <th>PAIS_ORIGEN</th>\n",
              "      <th>UCI</th>\n",
              "    </tr>\n",
              "  </thead>\n",
              "  <tbody>\n",
              "    <tr>\n",
              "      <th>0</th>\n",
              "      <td>2021-10-31</td>\n",
              "      <td>z13788</td>\n",
              "      <td>1</td>\n",
              "      <td>12</td>\n",
              "      <td>9</td>\n",
              "      <td>1</td>\n",
              "      <td>9</td>\n",
              "      <td>9</td>\n",
              "      <td>4</td>\n",
              "      <td>1</td>\n",
              "      <td>...</td>\n",
              "      <td>1</td>\n",
              "      <td>1</td>\n",
              "      <td>1</td>\n",
              "      <td>2</td>\n",
              "      <td>97</td>\n",
              "      <td>3</td>\n",
              "      <td>99</td>\n",
              "      <td>México</td>\n",
              "      <td>97</td>\n",
              "      <td>97</td>\n",
              "    </tr>\n",
              "    <tr>\n",
              "      <th>1</th>\n",
              "      <td>2021-10-31</td>\n",
              "      <td>z526b3</td>\n",
              "      <td>2</td>\n",
              "      <td>12</td>\n",
              "      <td>9</td>\n",
              "      <td>1</td>\n",
              "      <td>9</td>\n",
              "      <td>9</td>\n",
              "      <td>12</td>\n",
              "      <td>1</td>\n",
              "      <td>...</td>\n",
              "      <td>1</td>\n",
              "      <td>2</td>\n",
              "      <td>97</td>\n",
              "      <td>1</td>\n",
              "      <td>1</td>\n",
              "      <td>3</td>\n",
              "      <td>99</td>\n",
              "      <td>México</td>\n",
              "      <td>97</td>\n",
              "      <td>97</td>\n",
              "    </tr>\n",
              "    <tr>\n",
              "      <th>2</th>\n",
              "      <td>2021-10-31</td>\n",
              "      <td>z3d1e2</td>\n",
              "      <td>2</td>\n",
              "      <td>12</td>\n",
              "      <td>9</td>\n",
              "      <td>1</td>\n",
              "      <td>9</td>\n",
              "      <td>9</td>\n",
              "      <td>5</td>\n",
              "      <td>1</td>\n",
              "      <td>...</td>\n",
              "      <td>1</td>\n",
              "      <td>1</td>\n",
              "      <td>1</td>\n",
              "      <td>2</td>\n",
              "      <td>97</td>\n",
              "      <td>3</td>\n",
              "      <td>99</td>\n",
              "      <td>México</td>\n",
              "      <td>97</td>\n",
              "      <td>97</td>\n",
              "    </tr>\n",
              "    <tr>\n",
              "      <th>3</th>\n",
              "      <td>2021-10-31</td>\n",
              "      <td>zz9079</td>\n",
              "      <td>2</td>\n",
              "      <td>12</td>\n",
              "      <td>9</td>\n",
              "      <td>1</td>\n",
              "      <td>9</td>\n",
              "      <td>9</td>\n",
              "      <td>7</td>\n",
              "      <td>1</td>\n",
              "      <td>...</td>\n",
              "      <td>1</td>\n",
              "      <td>2</td>\n",
              "      <td>97</td>\n",
              "      <td>2</td>\n",
              "      <td>97</td>\n",
              "      <td>1</td>\n",
              "      <td>99</td>\n",
              "      <td>México</td>\n",
              "      <td>97</td>\n",
              "      <td>97</td>\n",
              "    </tr>\n",
              "    <tr>\n",
              "      <th>4</th>\n",
              "      <td>2021-10-31</td>\n",
              "      <td>z2770b</td>\n",
              "      <td>1</td>\n",
              "      <td>12</td>\n",
              "      <td>9</td>\n",
              "      <td>1</td>\n",
              "      <td>9</td>\n",
              "      <td>9</td>\n",
              "      <td>6</td>\n",
              "      <td>1</td>\n",
              "      <td>...</td>\n",
              "      <td>1</td>\n",
              "      <td>1</td>\n",
              "      <td>1</td>\n",
              "      <td>2</td>\n",
              "      <td>97</td>\n",
              "      <td>3</td>\n",
              "      <td>99</td>\n",
              "      <td>México</td>\n",
              "      <td>97</td>\n",
              "      <td>97</td>\n",
              "    </tr>\n",
              "  </tbody>\n",
              "</table>\n",
              "<p>5 rows × 40 columns</p>\n",
              "</div>\n",
              "      <button class=\"colab-df-convert\" onclick=\"convertToInteractive('df-6773e94c-2ed1-41cd-b3a2-f303e0c1a047')\"\n",
              "              title=\"Convert this dataframe to an interactive table.\"\n",
              "              style=\"display:none;\">\n",
              "        \n",
              "  <svg xmlns=\"http://www.w3.org/2000/svg\" height=\"24px\"viewBox=\"0 0 24 24\"\n",
              "       width=\"24px\">\n",
              "    <path d=\"M0 0h24v24H0V0z\" fill=\"none\"/>\n",
              "    <path d=\"M18.56 5.44l.94 2.06.94-2.06 2.06-.94-2.06-.94-.94-2.06-.94 2.06-2.06.94zm-11 1L8.5 8.5l.94-2.06 2.06-.94-2.06-.94L8.5 2.5l-.94 2.06-2.06.94zm10 10l.94 2.06.94-2.06 2.06-.94-2.06-.94-.94-2.06-.94 2.06-2.06.94z\"/><path d=\"M17.41 7.96l-1.37-1.37c-.4-.4-.92-.59-1.43-.59-.52 0-1.04.2-1.43.59L10.3 9.45l-7.72 7.72c-.78.78-.78 2.05 0 2.83L4 21.41c.39.39.9.59 1.41.59.51 0 1.02-.2 1.41-.59l7.78-7.78 2.81-2.81c.8-.78.8-2.07 0-2.86zM5.41 20L4 18.59l7.72-7.72 1.47 1.35L5.41 20z\"/>\n",
              "  </svg>\n",
              "      </button>\n",
              "      \n",
              "  <style>\n",
              "    .colab-df-container {\n",
              "      display:flex;\n",
              "      flex-wrap:wrap;\n",
              "      gap: 12px;\n",
              "    }\n",
              "\n",
              "    .colab-df-convert {\n",
              "      background-color: #E8F0FE;\n",
              "      border: none;\n",
              "      border-radius: 50%;\n",
              "      cursor: pointer;\n",
              "      display: none;\n",
              "      fill: #1967D2;\n",
              "      height: 32px;\n",
              "      padding: 0 0 0 0;\n",
              "      width: 32px;\n",
              "    }\n",
              "\n",
              "    .colab-df-convert:hover {\n",
              "      background-color: #E2EBFA;\n",
              "      box-shadow: 0px 1px 2px rgba(60, 64, 67, 0.3), 0px 1px 3px 1px rgba(60, 64, 67, 0.15);\n",
              "      fill: #174EA6;\n",
              "    }\n",
              "\n",
              "    [theme=dark] .colab-df-convert {\n",
              "      background-color: #3B4455;\n",
              "      fill: #D2E3FC;\n",
              "    }\n",
              "\n",
              "    [theme=dark] .colab-df-convert:hover {\n",
              "      background-color: #434B5C;\n",
              "      box-shadow: 0px 1px 3px 1px rgba(0, 0, 0, 0.15);\n",
              "      filter: drop-shadow(0px 1px 2px rgba(0, 0, 0, 0.3));\n",
              "      fill: #FFFFFF;\n",
              "    }\n",
              "  </style>\n",
              "\n",
              "      <script>\n",
              "        const buttonEl =\n",
              "          document.querySelector('#df-6773e94c-2ed1-41cd-b3a2-f303e0c1a047 button.colab-df-convert');\n",
              "        buttonEl.style.display =\n",
              "          google.colab.kernel.accessAllowed ? 'block' : 'none';\n",
              "\n",
              "        async function convertToInteractive(key) {\n",
              "          const element = document.querySelector('#df-6773e94c-2ed1-41cd-b3a2-f303e0c1a047');\n",
              "          const dataTable =\n",
              "            await google.colab.kernel.invokeFunction('convertToInteractive',\n",
              "                                                     [key], {});\n",
              "          if (!dataTable) return;\n",
              "\n",
              "          const docLinkHtml = 'Like what you see? Visit the ' +\n",
              "            '<a target=\"_blank\" href=https://colab.research.google.com/notebooks/data_table.ipynb>data table notebook</a>'\n",
              "            + ' to learn more about interactive tables.';\n",
              "          element.innerHTML = '';\n",
              "          dataTable['output_type'] = 'display_data';\n",
              "          await google.colab.output.renderOutput(dataTable, element);\n",
              "          const docLink = document.createElement('div');\n",
              "          docLink.innerHTML = docLinkHtml;\n",
              "          element.appendChild(docLink);\n",
              "        }\n",
              "      </script>\n",
              "    </div>\n",
              "  </div>\n",
              "  "
            ]
          },
          "metadata": {},
          "execution_count": 3
        }
      ]
    },
    {
      "cell_type": "code",
      "source": [
        "print(df.shape)\n",
        "df[\"FECHA_INGRESO\"].sort_values()"
      ],
      "metadata": {
        "id": "xcHHhFY1zzjA",
        "colab": {
          "base_uri": "https://localhost:8080/"
        },
        "outputId": "7279263a-1f77-44f8-9a0a-5bf7d87182bb"
      },
      "execution_count": 4,
      "outputs": [
        {
          "output_type": "stream",
          "name": "stdout",
          "text": [
            "(1752242, 40)\n"
          ]
        },
        {
          "output_type": "execute_result",
          "data": {
            "text/plain": [
              "309        2020-02-27\n",
              "310        2020-02-27\n",
              "13         2020-03-03\n",
              "8          2020-03-04\n",
              "11         2020-03-04\n",
              "              ...    \n",
              "1751913    2022-11-21\n",
              "1751912    2022-11-21\n",
              "1751911    2022-11-21\n",
              "1751920    2022-11-21\n",
              "1751915    2022-11-21\n",
              "Name: FECHA_INGRESO, Length: 1752242, dtype: object"
            ]
          },
          "metadata": {},
          "execution_count": 4
        }
      ]
    },
    {
      "cell_type": "code",
      "source": [
        "df[\"FECHA_INGRESO\"].value_counts()"
      ],
      "metadata": {
        "id": "5b52tnRD0gVG",
        "colab": {
          "base_uri": "https://localhost:8080/"
        },
        "outputId": "03d40195-eea2-4da8-c64f-4c16e016c737"
      },
      "execution_count": 5,
      "outputs": [
        {
          "output_type": "execute_result",
          "data": {
            "text/plain": [
              "2022-01-12    17750\n",
              "2022-01-14    16888\n",
              "2022-01-17    16828\n",
              "2022-01-11    16746\n",
              "2022-01-19    16693\n",
              "              ...  \n",
              "2020-03-07        2\n",
              "2020-03-09        2\n",
              "2020-02-27        2\n",
              "2020-03-03        1\n",
              "2020-03-06        1\n",
              "Name: FECHA_INGRESO, Length: 995, dtype: int64"
            ]
          },
          "metadata": {},
          "execution_count": 5
        }
      ]
    },
    {
      "cell_type": "code",
      "source": [
        "df[\"NACIONALIDAD\"].value_counts()"
      ],
      "metadata": {
        "id": "A17dGSAbPzIf",
        "colab": {
          "base_uri": "https://localhost:8080/"
        },
        "outputId": "3b196268-dcff-4962-8f6b-7f89a5921254"
      },
      "execution_count": 6,
      "outputs": [
        {
          "output_type": "execute_result",
          "data": {
            "text/plain": [
              "1    1743571\n",
              "2       8671\n",
              "Name: NACIONALIDAD, dtype: int64"
            ]
          },
          "metadata": {},
          "execution_count": 6
        }
      ]
    },
    {
      "cell_type": "code",
      "source": [
        "df.columns"
      ],
      "metadata": {
        "id": "AOqcH_toLxtu",
        "colab": {
          "base_uri": "https://localhost:8080/"
        },
        "outputId": "9b06544a-05b6-4399-c178-043065328d93"
      },
      "execution_count": 7,
      "outputs": [
        {
          "output_type": "execute_result",
          "data": {
            "text/plain": [
              "Index(['FECHA_ACTUALIZACION', 'ID_REGISTRO', 'ORIGEN', 'SECTOR', 'ENTIDAD_UM',\n",
              "       'SEXO', 'ENTIDAD_NAC', 'ENTIDAD_RES', 'MUNICIPIO_RES', 'TIPO_PACIENTE',\n",
              "       'FECHA_INGRESO', 'FECHA_SINTOMAS', 'FECHA_DEF', 'INTUBADO', 'NEUMONIA',\n",
              "       'EDAD', 'NACIONALIDAD', 'EMBARAZO', 'HABLA_LENGUA_INDIG', 'INDIGENA',\n",
              "       'DIABETES', 'EPOC', 'ASMA', 'INMUSUPR', 'HIPERTENSION', 'OTRA_COM',\n",
              "       'CARDIOVASCULAR', 'OBESIDAD', 'RENAL_CRONICA', 'TABAQUISMO',\n",
              "       'OTRO_CASO', 'TOMA_MUESTRA_LAB', 'RESULTADO_LAB',\n",
              "       'TOMA_MUESTRA_ANTIGENO', 'RESULTADO_ANTIGENO', 'CLASIFICACION_FINAL',\n",
              "       'MIGRANTE', 'PAIS_NACIONALIDAD', 'PAIS_ORIGEN', 'UCI'],\n",
              "      dtype='object')"
            ]
          },
          "metadata": {},
          "execution_count": 7
        }
      ]
    },
    {
      "cell_type": "code",
      "source": [
        "df[\"TIPO_PACIENTE\"].value_counts()"
      ],
      "metadata": {
        "id": "u7-R40zNLxrk",
        "colab": {
          "base_uri": "https://localhost:8080/"
        },
        "outputId": "b8de3a0e-8e3c-41c5-f43a-80ca0a8be096"
      },
      "execution_count": 8,
      "outputs": [
        {
          "output_type": "execute_result",
          "data": {
            "text/plain": [
              "1    1656581\n",
              "2      95661\n",
              "Name: TIPO_PACIENTE, dtype: int64"
            ]
          },
          "metadata": {},
          "execution_count": 8
        }
      ]
    },
    {
      "cell_type": "code",
      "source": [
        "df.info()"
      ],
      "metadata": {
        "id": "_tQ-SHq4Lxoe",
        "colab": {
          "base_uri": "https://localhost:8080/"
        },
        "outputId": "eb42af0c-ab81-4c72-a6e9-cadda7bc4fca"
      },
      "execution_count": 9,
      "outputs": [
        {
          "output_type": "stream",
          "name": "stdout",
          "text": [
            "<class 'pandas.core.frame.DataFrame'>\n",
            "RangeIndex: 1752242 entries, 0 to 1752241\n",
            "Data columns (total 40 columns):\n",
            " #   Column                 Dtype \n",
            "---  ------                 ----- \n",
            " 0   FECHA_ACTUALIZACION    object\n",
            " 1   ID_REGISTRO            object\n",
            " 2   ORIGEN                 int64 \n",
            " 3   SECTOR                 int64 \n",
            " 4   ENTIDAD_UM             int64 \n",
            " 5   SEXO                   int64 \n",
            " 6   ENTIDAD_NAC            int64 \n",
            " 7   ENTIDAD_RES            int64 \n",
            " 8   MUNICIPIO_RES          int64 \n",
            " 9   TIPO_PACIENTE          int64 \n",
            " 10  FECHA_INGRESO          object\n",
            " 11  FECHA_SINTOMAS         object\n",
            " 12  FECHA_DEF              object\n",
            " 13  INTUBADO               int64 \n",
            " 14  NEUMONIA               int64 \n",
            " 15  EDAD                   int64 \n",
            " 16  NACIONALIDAD           int64 \n",
            " 17  EMBARAZO               int64 \n",
            " 18  HABLA_LENGUA_INDIG     int64 \n",
            " 19  INDIGENA               int64 \n",
            " 20  DIABETES               int64 \n",
            " 21  EPOC                   int64 \n",
            " 22  ASMA                   int64 \n",
            " 23  INMUSUPR               int64 \n",
            " 24  HIPERTENSION           int64 \n",
            " 25  OTRA_COM               int64 \n",
            " 26  CARDIOVASCULAR         int64 \n",
            " 27  OBESIDAD               int64 \n",
            " 28  RENAL_CRONICA          int64 \n",
            " 29  TABAQUISMO             int64 \n",
            " 30  OTRO_CASO              int64 \n",
            " 31  TOMA_MUESTRA_LAB       int64 \n",
            " 32  RESULTADO_LAB          int64 \n",
            " 33  TOMA_MUESTRA_ANTIGENO  int64 \n",
            " 34  RESULTADO_ANTIGENO     int64 \n",
            " 35  CLASIFICACION_FINAL    int64 \n",
            " 36  MIGRANTE               int64 \n",
            " 37  PAIS_NACIONALIDAD      object\n",
            " 38  PAIS_ORIGEN            object\n",
            " 39  UCI                    int64 \n",
            "dtypes: int64(33), object(7)\n",
            "memory usage: 534.7+ MB\n"
          ]
        }
      ]
    },
    {
      "cell_type": "markdown",
      "source": [
        "# Antes de implementar K-means es necesario convertir a dummy las variables categóricas\n",
        "## Objetivos\n",
        "* Identificar y eliminar variables irrelevantes\n",
        "* Crear un nuevo dataset con el resto de variables categóricas convertidas en variables dummy"
      ],
      "metadata": {
        "id": "eHugCJFtSQEH"
      }
    },
    {
      "cell_type": "code",
      "source": [
        "# Locaciones\n",
        "\n",
        "print(\"Número de entidades de nacimiento de los pacientes: \", len(df[\"ENTIDAD_NAC\"].value_counts()))\n",
        "print(\"Número de entidades donde se brindó asistencia médica: \", len(df[\"ENTIDAD_UM\"].value_counts()))\n",
        "print(\"Número de entidades de residencia de los pacientes: \", len(df[\"ENTIDAD_RES\"].value_counts()))\n",
        "\n",
        "# Quzás es necesario eliminar las tres variables, dado que no aportan información relevante sobre la salud de los pacientes.\n",
        "# Todos tienen residencia en la CDMX, por lo que esta variable también es intrascendente."
      ],
      "metadata": {
        "id": "3KYc5hkgSits",
        "colab": {
          "base_uri": "https://localhost:8080/"
        },
        "outputId": "54c284fc-5c02-4fe2-9b36-68a3830adb7c"
      },
      "execution_count": 10,
      "outputs": [
        {
          "output_type": "stream",
          "name": "stdout",
          "text": [
            "Número de entidades de nacimiento de los pacientes:  33\n",
            "Número de entidades donde se brindó asistencia médica:  32\n",
            "Número de entidades de residencia de los pacientes:  1\n"
          ]
        }
      ]
    },
    {
      "cell_type": "code",
      "source": [
        "# Fechas  \n",
        "\n",
        "print(\"Número de fechas de actualización: \", len(df[\"FECHA_ACTUALIZACION\"].unique()))\n",
        "print(\"Número de fechas de inicio de síntomas: \", len(df[\"FECHA_SINTOMAS\"].unique()))\n",
        "print(\"Número de fechas de ingreso: \", len(df[\"FECHA_INGRESO\"].unique()))\n",
        "print(\"Número de fechas de defunciones: \", len(df[\"FECHA_DEF\"].unique()))\n",
        "\n",
        "# Las fechas de actualización son irrelevantes\n",
        "# Las fechas de defunciones son un indicador para la gravedad de la viropolítica\n",
        "# La diferencia entre las fechas de ingreso menos las fechas de síntomas podría indicar la rapidez en el deterioro de la salud"
      ],
      "metadata": {
        "id": "pQUauRFOSiqP",
        "colab": {
          "base_uri": "https://localhost:8080/"
        },
        "outputId": "42d4f1de-efa3-4cc1-a6b0-6bbc9fc60442"
      },
      "execution_count": 11,
      "outputs": [
        {
          "output_type": "stream",
          "name": "stdout",
          "text": [
            "Número de fechas de actualización:  3\n",
            "Número de fechas de inicio de síntomas:  1000\n",
            "Número de fechas de ingreso:  995\n",
            "Número de fechas de defunciones:  902\n"
          ]
        }
      ]
    },
    {
      "cell_type": "code",
      "source": [
        "# Para la implementación de k-means, sería preciso eliminar momentáneamente las fechas \"FECHA_SINTOMAS\", \"FECHA_INGRESO\", \"FECHA_DEF\" en el dataset X, que tendría solamente variables dummy.\n",
        "\n",
        "df[[\"FECHA_SINTOMAS\", \"FECHA_INGRESO\", \"FECHA_DEF\"]].head()"
      ],
      "metadata": {
        "id": "fYow4vloSinB",
        "colab": {
          "base_uri": "https://localhost:8080/",
          "height": 206
        },
        "outputId": "bfd503ab-1c8e-44b0-dde3-8cbb4f34af28"
      },
      "execution_count": 12,
      "outputs": [
        {
          "output_type": "execute_result",
          "data": {
            "text/plain": [
              "  FECHA_SINTOMAS FECHA_INGRESO   FECHA_DEF\n",
              "0     2020-09-23    2020-09-23  9999-99-99\n",
              "1     2020-12-18    2020-12-21  9999-99-99\n",
              "2     2020-04-20    2020-04-22  9999-99-99\n",
              "3     2020-10-06    2020-10-07  9999-99-99\n",
              "4     2020-09-03    2020-09-08  9999-99-99"
            ],
            "text/html": [
              "\n",
              "  <div id=\"df-3fed72c1-9e41-488a-a061-cd955cbcd129\">\n",
              "    <div class=\"colab-df-container\">\n",
              "      <div>\n",
              "<style scoped>\n",
              "    .dataframe tbody tr th:only-of-type {\n",
              "        vertical-align: middle;\n",
              "    }\n",
              "\n",
              "    .dataframe tbody tr th {\n",
              "        vertical-align: top;\n",
              "    }\n",
              "\n",
              "    .dataframe thead th {\n",
              "        text-align: right;\n",
              "    }\n",
              "</style>\n",
              "<table border=\"1\" class=\"dataframe\">\n",
              "  <thead>\n",
              "    <tr style=\"text-align: right;\">\n",
              "      <th></th>\n",
              "      <th>FECHA_SINTOMAS</th>\n",
              "      <th>FECHA_INGRESO</th>\n",
              "      <th>FECHA_DEF</th>\n",
              "    </tr>\n",
              "  </thead>\n",
              "  <tbody>\n",
              "    <tr>\n",
              "      <th>0</th>\n",
              "      <td>2020-09-23</td>\n",
              "      <td>2020-09-23</td>\n",
              "      <td>9999-99-99</td>\n",
              "    </tr>\n",
              "    <tr>\n",
              "      <th>1</th>\n",
              "      <td>2020-12-18</td>\n",
              "      <td>2020-12-21</td>\n",
              "      <td>9999-99-99</td>\n",
              "    </tr>\n",
              "    <tr>\n",
              "      <th>2</th>\n",
              "      <td>2020-04-20</td>\n",
              "      <td>2020-04-22</td>\n",
              "      <td>9999-99-99</td>\n",
              "    </tr>\n",
              "    <tr>\n",
              "      <th>3</th>\n",
              "      <td>2020-10-06</td>\n",
              "      <td>2020-10-07</td>\n",
              "      <td>9999-99-99</td>\n",
              "    </tr>\n",
              "    <tr>\n",
              "      <th>4</th>\n",
              "      <td>2020-09-03</td>\n",
              "      <td>2020-09-08</td>\n",
              "      <td>9999-99-99</td>\n",
              "    </tr>\n",
              "  </tbody>\n",
              "</table>\n",
              "</div>\n",
              "      <button class=\"colab-df-convert\" onclick=\"convertToInteractive('df-3fed72c1-9e41-488a-a061-cd955cbcd129')\"\n",
              "              title=\"Convert this dataframe to an interactive table.\"\n",
              "              style=\"display:none;\">\n",
              "        \n",
              "  <svg xmlns=\"http://www.w3.org/2000/svg\" height=\"24px\"viewBox=\"0 0 24 24\"\n",
              "       width=\"24px\">\n",
              "    <path d=\"M0 0h24v24H0V0z\" fill=\"none\"/>\n",
              "    <path d=\"M18.56 5.44l.94 2.06.94-2.06 2.06-.94-2.06-.94-.94-2.06-.94 2.06-2.06.94zm-11 1L8.5 8.5l.94-2.06 2.06-.94-2.06-.94L8.5 2.5l-.94 2.06-2.06.94zm10 10l.94 2.06.94-2.06 2.06-.94-2.06-.94-.94-2.06-.94 2.06-2.06.94z\"/><path d=\"M17.41 7.96l-1.37-1.37c-.4-.4-.92-.59-1.43-.59-.52 0-1.04.2-1.43.59L10.3 9.45l-7.72 7.72c-.78.78-.78 2.05 0 2.83L4 21.41c.39.39.9.59 1.41.59.51 0 1.02-.2 1.41-.59l7.78-7.78 2.81-2.81c.8-.78.8-2.07 0-2.86zM5.41 20L4 18.59l7.72-7.72 1.47 1.35L5.41 20z\"/>\n",
              "  </svg>\n",
              "      </button>\n",
              "      \n",
              "  <style>\n",
              "    .colab-df-container {\n",
              "      display:flex;\n",
              "      flex-wrap:wrap;\n",
              "      gap: 12px;\n",
              "    }\n",
              "\n",
              "    .colab-df-convert {\n",
              "      background-color: #E8F0FE;\n",
              "      border: none;\n",
              "      border-radius: 50%;\n",
              "      cursor: pointer;\n",
              "      display: none;\n",
              "      fill: #1967D2;\n",
              "      height: 32px;\n",
              "      padding: 0 0 0 0;\n",
              "      width: 32px;\n",
              "    }\n",
              "\n",
              "    .colab-df-convert:hover {\n",
              "      background-color: #E2EBFA;\n",
              "      box-shadow: 0px 1px 2px rgba(60, 64, 67, 0.3), 0px 1px 3px 1px rgba(60, 64, 67, 0.15);\n",
              "      fill: #174EA6;\n",
              "    }\n",
              "\n",
              "    [theme=dark] .colab-df-convert {\n",
              "      background-color: #3B4455;\n",
              "      fill: #D2E3FC;\n",
              "    }\n",
              "\n",
              "    [theme=dark] .colab-df-convert:hover {\n",
              "      background-color: #434B5C;\n",
              "      box-shadow: 0px 1px 3px 1px rgba(0, 0, 0, 0.15);\n",
              "      filter: drop-shadow(0px 1px 2px rgba(0, 0, 0, 0.3));\n",
              "      fill: #FFFFFF;\n",
              "    }\n",
              "  </style>\n",
              "\n",
              "      <script>\n",
              "        const buttonEl =\n",
              "          document.querySelector('#df-3fed72c1-9e41-488a-a061-cd955cbcd129 button.colab-df-convert');\n",
              "        buttonEl.style.display =\n",
              "          google.colab.kernel.accessAllowed ? 'block' : 'none';\n",
              "\n",
              "        async function convertToInteractive(key) {\n",
              "          const element = document.querySelector('#df-3fed72c1-9e41-488a-a061-cd955cbcd129');\n",
              "          const dataTable =\n",
              "            await google.colab.kernel.invokeFunction('convertToInteractive',\n",
              "                                                     [key], {});\n",
              "          if (!dataTable) return;\n",
              "\n",
              "          const docLinkHtml = 'Like what you see? Visit the ' +\n",
              "            '<a target=\"_blank\" href=https://colab.research.google.com/notebooks/data_table.ipynb>data table notebook</a>'\n",
              "            + ' to learn more about interactive tables.';\n",
              "          element.innerHTML = '';\n",
              "          dataTable['output_type'] = 'display_data';\n",
              "          await google.colab.output.renderOutput(dataTable, element);\n",
              "          const docLink = document.createElement('div');\n",
              "          docLink.innerHTML = docLinkHtml;\n",
              "          element.appendChild(docLink);\n",
              "        }\n",
              "      </script>\n",
              "    </div>\n",
              "  </div>\n",
              "  "
            ]
          },
          "metadata": {},
          "execution_count": 12
        }
      ]
    },
    {
      "cell_type": "code",
      "source": [
        "# Sería conveniente incluir la variable \"FECHA_DEF\" como variable dummy, dónde eñ valor \"9999-99-99\" es igual al 0, y cualquier otro valor es igual a 1.\n",
        "df[\"FECHA_DEF\"].value_counts()"
      ],
      "metadata": {
        "id": "WOXAUcJ2Y-Hr",
        "colab": {
          "base_uri": "https://localhost:8080/"
        },
        "outputId": "6e22ac50-b402-4375-f5cf-9e677600f6ac"
      },
      "execution_count": 13,
      "outputs": [
        {
          "output_type": "execute_result",
          "data": {
            "text/plain": [
              "9999-99-99    1708625\n",
              "2021-01-26        270\n",
              "2021-01-25        261\n",
              "2021-01-19        253\n",
              "2021-01-20        243\n",
              "               ...   \n",
              "2022-05-18          1\n",
              "2022-05-19          1\n",
              "2022-05-14          1\n",
              "2022-06-06          1\n",
              "2022-11-18          1\n",
              "Name: FECHA_DEF, Length: 902, dtype: int64"
            ]
          },
          "metadata": {},
          "execution_count": 13
        }
      ]
    },
    {
      "cell_type": "code",
      "source": [
        "# Es conveniente eliminar la variable \"ID_REGISTRO\"\n",
        "len(df[\"ID_REGISTRO\"].unique())"
      ],
      "metadata": {
        "id": "yA8Vn7WyZv0U",
        "colab": {
          "base_uri": "https://localhost:8080/"
        },
        "outputId": "4c573871-afc9-4028-8766-9786e943b111"
      },
      "execution_count": 14,
      "outputs": [
        {
          "output_type": "execute_result",
          "data": {
            "text/plain": [
              "1752242"
            ]
          },
          "metadata": {},
          "execution_count": 14
        }
      ]
    },
    {
      "cell_type": "code",
      "source": [
        "# IMPORTANTE eliminar observaciones de nacionalidad extranjera\n",
        "df[\"NACIONALIDAD\"].value_counts()"
      ],
      "metadata": {
        "id": "TJBEGYwRamku",
        "colab": {
          "base_uri": "https://localhost:8080/"
        },
        "outputId": "53bfda2a-04ba-43b5-b112-04ed9fb163e6"
      },
      "execution_count": 15,
      "outputs": [
        {
          "output_type": "execute_result",
          "data": {
            "text/plain": [
              "1    1743571\n",
              "2       8671\n",
              "Name: NACIONALIDAD, dtype: int64"
            ]
          },
          "metadata": {},
          "execution_count": 15
        }
      ]
    },
    {
      "cell_type": "code",
      "source": [
        "# La columna origen no es relevante\n",
        "df[\"ORIGEN\"].value_counts()"
      ],
      "metadata": {
        "id": "PdL4vtkramhu",
        "colab": {
          "base_uri": "https://localhost:8080/"
        },
        "outputId": "1471267c-44d0-4cc2-f1b3-93941d51a711"
      },
      "execution_count": 16,
      "outputs": [
        {
          "output_type": "execute_result",
          "data": {
            "text/plain": [
              "2    1523240\n",
              "1     229002\n",
              "Name: ORIGEN, dtype: int64"
            ]
          },
          "metadata": {},
          "execution_count": 16
        }
      ]
    },
    {
      "cell_type": "code",
      "source": [
        "# Esta variedad de nacionalidades se evitará cuando se eliminen los valores \"NACIONALIDAD\" == 2\n",
        "# Eliminar, además, esta variable\n",
        "df[\"PAIS_NACIONALIDAD\"].value_counts()"
      ],
      "metadata": {
        "id": "o3F2FpMfdRXS",
        "colab": {
          "base_uri": "https://localhost:8080/"
        },
        "outputId": "db849a88-bd56-44e9-ea63-d5cd36c2abc6"
      },
      "execution_count": 17,
      "outputs": [
        {
          "output_type": "execute_result",
          "data": {
            "text/plain": [
              "México                       1743572\n",
              "Estados Unidos de América       1645\n",
              "Venezuela                       1558\n",
              "Colombia                         935\n",
              "Argentina                        381\n",
              "                              ...   \n",
              "Egipto                             1\n",
              "Etiopía                            1\n",
              "Yemen Democrática                  1\n",
              "Thailandia                         1\n",
              "Mongolia                           1\n",
              "Name: PAIS_NACIONALIDAD, Length: 123, dtype: int64"
            ]
          },
          "metadata": {},
          "execution_count": 17
        }
      ]
    },
    {
      "cell_type": "code",
      "source": [
        "# Eliminar variable\n",
        "df[\"PAIS_ORIGEN\"].value_counts()"
      ],
      "metadata": {
        "id": "DKgy0t8xeHhm",
        "colab": {
          "base_uri": "https://localhost:8080/"
        },
        "outputId": "58a56f19-0102-4e16-cd7b-10b5393857f2"
      },
      "execution_count": 18,
      "outputs": [
        {
          "output_type": "execute_result",
          "data": {
            "text/plain": [
              "97                           1750993\n",
              "Venezuela                        282\n",
              "Colombia                         144\n",
              "Estados Unidos de América        116\n",
              "China                             91\n",
              "                              ...   \n",
              "Myanmar                            1\n",
              "Nigeria                            1\n",
              "Grecia                             1\n",
              "Pakistán                           1\n",
              "Bangladesh                         1\n",
              "Name: PAIS_ORIGEN, Length: 71, dtype: int64"
            ]
          },
          "metadata": {},
          "execution_count": 18
        }
      ]
    },
    {
      "cell_type": "code",
      "source": [
        "#Resultados\n",
        "# Dado que todos los valores indican que el status de COVID-19 es positivo, se debe eliminar esta columna.\n",
        "print(\"Casos positivos\", \"\\n\", df[\"CLASIFICACION_FINAL\"].value_counts())\n",
        "print(\"¿Al paciente se le tomó la muestra de antígeno?\", \"\\n\", df[\"TOMA_MUESTRA_ANTIGENO\"].value_counts())\n",
        "print(\"Resultado del análisis de la muestra de antígeno\", \"\\n\", df[\"RESULTADO_ANTIGENO\"].value_counts())\n",
        "print(\"¿Al paciente se le tomó la muestra de laboratorio?\", \"\\n\", df[\"TOMA_MUESTRA_LAB\"].value_counts())\n",
        "print(\"Resultado de la muestra de laboratorio\", \"\\n\", df[\"RESULTADO_LAB\"].value_counts())\n",
        "# Eliminar también las columnas \"RESULTADO_ANTIGENO\", \"RESULTADO_LAB\", \"TOMA_MUESTRA_ANTIGENO\" y \"TOMA_MUESTRA_LAB\"."
      ],
      "metadata": {
        "id": "Tj7uizkPfbdq",
        "colab": {
          "base_uri": "https://localhost:8080/"
        },
        "outputId": "7419f66c-7605-47bc-f218-7855736bdae2"
      },
      "execution_count": 19,
      "outputs": [
        {
          "output_type": "stream",
          "name": "stdout",
          "text": [
            "Casos positivos \n",
            " 3    1537505\n",
            "1     211381\n",
            "2       3356\n",
            "Name: CLASIFICACION_FINAL, dtype: int64\n",
            "¿Al paciente se le tomó la muestra de antígeno? \n",
            " 1    1393134\n",
            "2     359108\n",
            "Name: TOMA_MUESTRA_ANTIGENO, dtype: int64\n",
            "Resultado del análisis de la muestra de antígeno \n",
            " 1     1160179\n",
            "97     359108\n",
            "2      232955\n",
            "Name: RESULTADO_ANTIGENO, dtype: int64\n",
            "¿Al paciente se le tomó la muestra de laboratorio? \n",
            " 2    1326740\n",
            "1     425502\n",
            "Name: TOMA_MUESTRA_LAB, dtype: int64\n",
            "Resultado de la muestra de laboratorio \n",
            " 97    1326740\n",
            "1      408235\n",
            "4       13682\n",
            "2        3569\n",
            "3          16\n",
            "Name: RESULTADO_LAB, dtype: int64\n"
          ]
        }
      ]
    },
    {
      "cell_type": "code",
      "source": [
        "# Esta variable puede ser la clave para distinguir a los individuos que ejercen más la viropolítica de los que la más la adolecen\n",
        "df[\"TIPO_PACIENTE\"].value_counts()"
      ],
      "metadata": {
        "id": "YLTD9kwHhu34",
        "colab": {
          "base_uri": "https://localhost:8080/"
        },
        "outputId": "b307f514-e2e0-41ab-927d-bac6fc5a6a67"
      },
      "execution_count": 20,
      "outputs": [
        {
          "output_type": "execute_result",
          "data": {
            "text/plain": [
              "1    1656581\n",
              "2      95661\n",
              "Name: TIPO_PACIENTE, dtype: int64"
            ]
          },
          "metadata": {},
          "execution_count": 20
        }
      ]
    },
    {
      "cell_type": "code",
      "source": [
        "# También da cuenta de la viropolítica\n",
        "df[\"UCI\"].value_counts()"
      ],
      "metadata": {
        "id": "ykCemLROjcpf",
        "colab": {
          "base_uri": "https://localhost:8080/"
        },
        "outputId": "8de7545f-0776-42d8-85e4-b58ee6affcd2"
      },
      "execution_count": 21,
      "outputs": [
        {
          "output_type": "execute_result",
          "data": {
            "text/plain": [
              "97    1656581\n",
              "2       89411\n",
              "1        6125\n",
              "99        125\n",
              "Name: UCI, dtype: int64"
            ]
          },
          "metadata": {},
          "execution_count": 21
        }
      ]
    },
    {
      "cell_type": "markdown",
      "source": [
        "## Resultados\n",
        "\n",
        "## Filas por eliminar\n",
        "- NACIONALIDAD == 2\n",
        "\n",
        "## Columnas por eliminar:\n",
        "- ENTIDAD_NAC\n",
        "- ENTIDAD_UM\n",
        "- ENTIDAD_RES\n",
        "- FECHA_ACTUALIZACION\n",
        "- FECHA_SINTOMAS\n",
        "- FECHA_INGRESO\n",
        "- ID_REGISTRO\n",
        "- ORIGEN\n",
        "- PAIS_NACIONALIDAD\n",
        "- PAIS_ORIGEN\n",
        "- CLASIFICACION_FINAL\n",
        "- RESULTADO_ANTIGENO\n",
        "- RESULTADO_LAB \n",
        "- TOMA_MUESTRA_ANTIGENO\n",
        "- TOMA_MUESTRA_LAB\n",
        "\n",
        "## Columnas por modificar:\n",
        "- FECHA_DEF"
      ],
      "metadata": {
        "id": "xVsg1SF3mAdP"
      }
    },
    {
      "cell_type": "code",
      "source": [
        "# Eliminando nacionalidad extranjera (2)\n",
        "df2 = df[df[\"NACIONALIDAD\"]==1]\n",
        "print(df2.shape)\n",
        "df2[\"PAIS_NACIONALIDAD\"].value_counts()"
      ],
      "metadata": {
        "id": "LjIObuxbrYDV",
        "colab": {
          "base_uri": "https://localhost:8080/"
        },
        "outputId": "6ea1103a-3563-494c-b4c8-4c7226c86aab"
      },
      "execution_count": 22,
      "outputs": [
        {
          "output_type": "stream",
          "name": "stdout",
          "text": [
            "(1743571, 40)\n"
          ]
        },
        {
          "output_type": "execute_result",
          "data": {
            "text/plain": [
              "México    1743571\n",
              "Name: PAIS_NACIONALIDAD, dtype: int64"
            ]
          },
          "metadata": {},
          "execution_count": 22
        }
      ]
    },
    {
      "cell_type": "code",
      "source": [
        "# Eliminando columnas\n",
        "print(df2.columns)\n",
        "df2 = df2.drop(columns=[\"ENTIDAD_NAC\", \"ENTIDAD_UM\", \"ENTIDAD_RES\", \"FECHA_ACTUALIZACION\", \"FECHA_SINTOMAS\", \"FECHA_INGRESO\", \"ID_REGISTRO\", \"ORIGEN\", \"PAIS_NACIONALIDAD\", \"PAIS_ORIGEN\", \"CLASIFICACION_FINAL\", \"RESULTADO_ANTIGENO\",\n",
        "\"RESULTADO_LAB\", \"TOMA_MUESTRA_ANTIGENO\", \"TOMA_MUESTRA_LAB\"])\n",
        "print(df2.columns)\n",
        "df2.shape"
      ],
      "metadata": {
        "id": "0bXgUiEGr7uG",
        "colab": {
          "base_uri": "https://localhost:8080/"
        },
        "outputId": "8a1fe2a3-5076-468f-bfc1-142198e93902"
      },
      "execution_count": 23,
      "outputs": [
        {
          "output_type": "stream",
          "name": "stdout",
          "text": [
            "Index(['FECHA_ACTUALIZACION', 'ID_REGISTRO', 'ORIGEN', 'SECTOR', 'ENTIDAD_UM',\n",
            "       'SEXO', 'ENTIDAD_NAC', 'ENTIDAD_RES', 'MUNICIPIO_RES', 'TIPO_PACIENTE',\n",
            "       'FECHA_INGRESO', 'FECHA_SINTOMAS', 'FECHA_DEF', 'INTUBADO', 'NEUMONIA',\n",
            "       'EDAD', 'NACIONALIDAD', 'EMBARAZO', 'HABLA_LENGUA_INDIG', 'INDIGENA',\n",
            "       'DIABETES', 'EPOC', 'ASMA', 'INMUSUPR', 'HIPERTENSION', 'OTRA_COM',\n",
            "       'CARDIOVASCULAR', 'OBESIDAD', 'RENAL_CRONICA', 'TABAQUISMO',\n",
            "       'OTRO_CASO', 'TOMA_MUESTRA_LAB', 'RESULTADO_LAB',\n",
            "       'TOMA_MUESTRA_ANTIGENO', 'RESULTADO_ANTIGENO', 'CLASIFICACION_FINAL',\n",
            "       'MIGRANTE', 'PAIS_NACIONALIDAD', 'PAIS_ORIGEN', 'UCI'],\n",
            "      dtype='object')\n",
            "Index(['SECTOR', 'SEXO', 'MUNICIPIO_RES', 'TIPO_PACIENTE', 'FECHA_DEF',\n",
            "       'INTUBADO', 'NEUMONIA', 'EDAD', 'NACIONALIDAD', 'EMBARAZO',\n",
            "       'HABLA_LENGUA_INDIG', 'INDIGENA', 'DIABETES', 'EPOC', 'ASMA',\n",
            "       'INMUSUPR', 'HIPERTENSION', 'OTRA_COM', 'CARDIOVASCULAR', 'OBESIDAD',\n",
            "       'RENAL_CRONICA', 'TABAQUISMO', 'OTRO_CASO', 'MIGRANTE', 'UCI'],\n",
            "      dtype='object')\n"
          ]
        },
        {
          "output_type": "execute_result",
          "data": {
            "text/plain": [
              "(1743571, 25)"
            ]
          },
          "metadata": {},
          "execution_count": 23
        }
      ]
    },
    {
      "cell_type": "code",
      "source": [
        "df2.head()"
      ],
      "metadata": {
        "id": "DIZLlCLtxLAr",
        "colab": {
          "base_uri": "https://localhost:8080/",
          "height": 236
        },
        "outputId": "a0bcbe5f-4f58-4cc5-ab56-dfc98b511343"
      },
      "execution_count": 24,
      "outputs": [
        {
          "output_type": "execute_result",
          "data": {
            "text/plain": [
              "   SECTOR  SEXO  MUNICIPIO_RES  TIPO_PACIENTE   FECHA_DEF  INTUBADO  NEUMONIA  \\\n",
              "0      12     1              4              1  9999-99-99        97         2   \n",
              "1      12     1             12              1  9999-99-99        97         2   \n",
              "2      12     1              5              1  9999-99-99        97         2   \n",
              "3      12     1              7              1  9999-99-99        97         2   \n",
              "4      12     1              6              1  9999-99-99        97         2   \n",
              "\n",
              "   EDAD  NACIONALIDAD  EMBARAZO  ...  INMUSUPR  HIPERTENSION  OTRA_COM  \\\n",
              "0    67             1         2  ...         2             2         2   \n",
              "1    62             1         2  ...         2             1         2   \n",
              "2    45             1         2  ...         2             2         2   \n",
              "3    38             1         2  ...         2             2         2   \n",
              "4    26             1         2  ...         2             2         2   \n",
              "\n",
              "   CARDIOVASCULAR  OBESIDAD  RENAL_CRONICA  TABAQUISMO  OTRO_CASO  MIGRANTE  \\\n",
              "0               2         2              2           2          1        99   \n",
              "1               2         1              2           2          1        99   \n",
              "2               2         1              2           2          1        99   \n",
              "3               2         2              2           2          1        99   \n",
              "4               2         2              2           2          1        99   \n",
              "\n",
              "   UCI  \n",
              "0   97  \n",
              "1   97  \n",
              "2   97  \n",
              "3   97  \n",
              "4   97  \n",
              "\n",
              "[5 rows x 25 columns]"
            ],
            "text/html": [
              "\n",
              "  <div id=\"df-8b34e157-3c10-4343-9042-21b69a6640e0\">\n",
              "    <div class=\"colab-df-container\">\n",
              "      <div>\n",
              "<style scoped>\n",
              "    .dataframe tbody tr th:only-of-type {\n",
              "        vertical-align: middle;\n",
              "    }\n",
              "\n",
              "    .dataframe tbody tr th {\n",
              "        vertical-align: top;\n",
              "    }\n",
              "\n",
              "    .dataframe thead th {\n",
              "        text-align: right;\n",
              "    }\n",
              "</style>\n",
              "<table border=\"1\" class=\"dataframe\">\n",
              "  <thead>\n",
              "    <tr style=\"text-align: right;\">\n",
              "      <th></th>\n",
              "      <th>SECTOR</th>\n",
              "      <th>SEXO</th>\n",
              "      <th>MUNICIPIO_RES</th>\n",
              "      <th>TIPO_PACIENTE</th>\n",
              "      <th>FECHA_DEF</th>\n",
              "      <th>INTUBADO</th>\n",
              "      <th>NEUMONIA</th>\n",
              "      <th>EDAD</th>\n",
              "      <th>NACIONALIDAD</th>\n",
              "      <th>EMBARAZO</th>\n",
              "      <th>...</th>\n",
              "      <th>INMUSUPR</th>\n",
              "      <th>HIPERTENSION</th>\n",
              "      <th>OTRA_COM</th>\n",
              "      <th>CARDIOVASCULAR</th>\n",
              "      <th>OBESIDAD</th>\n",
              "      <th>RENAL_CRONICA</th>\n",
              "      <th>TABAQUISMO</th>\n",
              "      <th>OTRO_CASO</th>\n",
              "      <th>MIGRANTE</th>\n",
              "      <th>UCI</th>\n",
              "    </tr>\n",
              "  </thead>\n",
              "  <tbody>\n",
              "    <tr>\n",
              "      <th>0</th>\n",
              "      <td>12</td>\n",
              "      <td>1</td>\n",
              "      <td>4</td>\n",
              "      <td>1</td>\n",
              "      <td>9999-99-99</td>\n",
              "      <td>97</td>\n",
              "      <td>2</td>\n",
              "      <td>67</td>\n",
              "      <td>1</td>\n",
              "      <td>2</td>\n",
              "      <td>...</td>\n",
              "      <td>2</td>\n",
              "      <td>2</td>\n",
              "      <td>2</td>\n",
              "      <td>2</td>\n",
              "      <td>2</td>\n",
              "      <td>2</td>\n",
              "      <td>2</td>\n",
              "      <td>1</td>\n",
              "      <td>99</td>\n",
              "      <td>97</td>\n",
              "    </tr>\n",
              "    <tr>\n",
              "      <th>1</th>\n",
              "      <td>12</td>\n",
              "      <td>1</td>\n",
              "      <td>12</td>\n",
              "      <td>1</td>\n",
              "      <td>9999-99-99</td>\n",
              "      <td>97</td>\n",
              "      <td>2</td>\n",
              "      <td>62</td>\n",
              "      <td>1</td>\n",
              "      <td>2</td>\n",
              "      <td>...</td>\n",
              "      <td>2</td>\n",
              "      <td>1</td>\n",
              "      <td>2</td>\n",
              "      <td>2</td>\n",
              "      <td>1</td>\n",
              "      <td>2</td>\n",
              "      <td>2</td>\n",
              "      <td>1</td>\n",
              "      <td>99</td>\n",
              "      <td>97</td>\n",
              "    </tr>\n",
              "    <tr>\n",
              "      <th>2</th>\n",
              "      <td>12</td>\n",
              "      <td>1</td>\n",
              "      <td>5</td>\n",
              "      <td>1</td>\n",
              "      <td>9999-99-99</td>\n",
              "      <td>97</td>\n",
              "      <td>2</td>\n",
              "      <td>45</td>\n",
              "      <td>1</td>\n",
              "      <td>2</td>\n",
              "      <td>...</td>\n",
              "      <td>2</td>\n",
              "      <td>2</td>\n",
              "      <td>2</td>\n",
              "      <td>2</td>\n",
              "      <td>1</td>\n",
              "      <td>2</td>\n",
              "      <td>2</td>\n",
              "      <td>1</td>\n",
              "      <td>99</td>\n",
              "      <td>97</td>\n",
              "    </tr>\n",
              "    <tr>\n",
              "      <th>3</th>\n",
              "      <td>12</td>\n",
              "      <td>1</td>\n",
              "      <td>7</td>\n",
              "      <td>1</td>\n",
              "      <td>9999-99-99</td>\n",
              "      <td>97</td>\n",
              "      <td>2</td>\n",
              "      <td>38</td>\n",
              "      <td>1</td>\n",
              "      <td>2</td>\n",
              "      <td>...</td>\n",
              "      <td>2</td>\n",
              "      <td>2</td>\n",
              "      <td>2</td>\n",
              "      <td>2</td>\n",
              "      <td>2</td>\n",
              "      <td>2</td>\n",
              "      <td>2</td>\n",
              "      <td>1</td>\n",
              "      <td>99</td>\n",
              "      <td>97</td>\n",
              "    </tr>\n",
              "    <tr>\n",
              "      <th>4</th>\n",
              "      <td>12</td>\n",
              "      <td>1</td>\n",
              "      <td>6</td>\n",
              "      <td>1</td>\n",
              "      <td>9999-99-99</td>\n",
              "      <td>97</td>\n",
              "      <td>2</td>\n",
              "      <td>26</td>\n",
              "      <td>1</td>\n",
              "      <td>2</td>\n",
              "      <td>...</td>\n",
              "      <td>2</td>\n",
              "      <td>2</td>\n",
              "      <td>2</td>\n",
              "      <td>2</td>\n",
              "      <td>2</td>\n",
              "      <td>2</td>\n",
              "      <td>2</td>\n",
              "      <td>1</td>\n",
              "      <td>99</td>\n",
              "      <td>97</td>\n",
              "    </tr>\n",
              "  </tbody>\n",
              "</table>\n",
              "<p>5 rows × 25 columns</p>\n",
              "</div>\n",
              "      <button class=\"colab-df-convert\" onclick=\"convertToInteractive('df-8b34e157-3c10-4343-9042-21b69a6640e0')\"\n",
              "              title=\"Convert this dataframe to an interactive table.\"\n",
              "              style=\"display:none;\">\n",
              "        \n",
              "  <svg xmlns=\"http://www.w3.org/2000/svg\" height=\"24px\"viewBox=\"0 0 24 24\"\n",
              "       width=\"24px\">\n",
              "    <path d=\"M0 0h24v24H0V0z\" fill=\"none\"/>\n",
              "    <path d=\"M18.56 5.44l.94 2.06.94-2.06 2.06-.94-2.06-.94-.94-2.06-.94 2.06-2.06.94zm-11 1L8.5 8.5l.94-2.06 2.06-.94-2.06-.94L8.5 2.5l-.94 2.06-2.06.94zm10 10l.94 2.06.94-2.06 2.06-.94-2.06-.94-.94-2.06-.94 2.06-2.06.94z\"/><path d=\"M17.41 7.96l-1.37-1.37c-.4-.4-.92-.59-1.43-.59-.52 0-1.04.2-1.43.59L10.3 9.45l-7.72 7.72c-.78.78-.78 2.05 0 2.83L4 21.41c.39.39.9.59 1.41.59.51 0 1.02-.2 1.41-.59l7.78-7.78 2.81-2.81c.8-.78.8-2.07 0-2.86zM5.41 20L4 18.59l7.72-7.72 1.47 1.35L5.41 20z\"/>\n",
              "  </svg>\n",
              "      </button>\n",
              "      \n",
              "  <style>\n",
              "    .colab-df-container {\n",
              "      display:flex;\n",
              "      flex-wrap:wrap;\n",
              "      gap: 12px;\n",
              "    }\n",
              "\n",
              "    .colab-df-convert {\n",
              "      background-color: #E8F0FE;\n",
              "      border: none;\n",
              "      border-radius: 50%;\n",
              "      cursor: pointer;\n",
              "      display: none;\n",
              "      fill: #1967D2;\n",
              "      height: 32px;\n",
              "      padding: 0 0 0 0;\n",
              "      width: 32px;\n",
              "    }\n",
              "\n",
              "    .colab-df-convert:hover {\n",
              "      background-color: #E2EBFA;\n",
              "      box-shadow: 0px 1px 2px rgba(60, 64, 67, 0.3), 0px 1px 3px 1px rgba(60, 64, 67, 0.15);\n",
              "      fill: #174EA6;\n",
              "    }\n",
              "\n",
              "    [theme=dark] .colab-df-convert {\n",
              "      background-color: #3B4455;\n",
              "      fill: #D2E3FC;\n",
              "    }\n",
              "\n",
              "    [theme=dark] .colab-df-convert:hover {\n",
              "      background-color: #434B5C;\n",
              "      box-shadow: 0px 1px 3px 1px rgba(0, 0, 0, 0.15);\n",
              "      filter: drop-shadow(0px 1px 2px rgba(0, 0, 0, 0.3));\n",
              "      fill: #FFFFFF;\n",
              "    }\n",
              "  </style>\n",
              "\n",
              "      <script>\n",
              "        const buttonEl =\n",
              "          document.querySelector('#df-8b34e157-3c10-4343-9042-21b69a6640e0 button.colab-df-convert');\n",
              "        buttonEl.style.display =\n",
              "          google.colab.kernel.accessAllowed ? 'block' : 'none';\n",
              "\n",
              "        async function convertToInteractive(key) {\n",
              "          const element = document.querySelector('#df-8b34e157-3c10-4343-9042-21b69a6640e0');\n",
              "          const dataTable =\n",
              "            await google.colab.kernel.invokeFunction('convertToInteractive',\n",
              "                                                     [key], {});\n",
              "          if (!dataTable) return;\n",
              "\n",
              "          const docLinkHtml = 'Like what you see? Visit the ' +\n",
              "            '<a target=\"_blank\" href=https://colab.research.google.com/notebooks/data_table.ipynb>data table notebook</a>'\n",
              "            + ' to learn more about interactive tables.';\n",
              "          element.innerHTML = '';\n",
              "          dataTable['output_type'] = 'display_data';\n",
              "          await google.colab.output.renderOutput(dataTable, element);\n",
              "          const docLink = document.createElement('div');\n",
              "          docLink.innerHTML = docLinkHtml;\n",
              "          element.appendChild(docLink);\n",
              "        }\n",
              "      </script>\n",
              "    </div>\n",
              "  </div>\n",
              "  "
            ]
          },
          "metadata": {},
          "execution_count": 24
        }
      ]
    },
    {
      "cell_type": "code",
      "source": [
        "# Creando una columna para las defunciones con valores dummy, a partir de \"FECHA_DEF\"\n",
        "# Casos donde no hubo defunciones: df2[\"FECHA_DEF\"] =  \"9999-99-99\"\n",
        "# Tiene datos tipo object/ string\n",
        "print(\"Tipo de dato: \", df2[\"FECHA_DEF\"].dtype)\n",
        "df2[\"FECHA_DEF\"].value_counts()"
      ],
      "metadata": {
        "id": "UE98pm_fr7rU",
        "colab": {
          "base_uri": "https://localhost:8080/"
        },
        "outputId": "9e30f05e-0cfd-4d95-bd42-c74d22049b36"
      },
      "execution_count": 25,
      "outputs": [
        {
          "output_type": "stream",
          "name": "stdout",
          "text": [
            "Tipo de dato:  object\n"
          ]
        },
        {
          "output_type": "execute_result",
          "data": {
            "text/plain": [
              "9999-99-99    1700058\n",
              "2021-01-26        269\n",
              "2021-01-25        260\n",
              "2021-01-19        253\n",
              "2021-01-20        243\n",
              "               ...   \n",
              "2022-06-09          1\n",
              "2022-05-18          1\n",
              "2022-05-19          1\n",
              "2022-06-06          1\n",
              "2022-11-18          1\n",
              "Name: FECHA_DEF, Length: 902, dtype: int64"
            ]
          },
          "metadata": {},
          "execution_count": 25
        }
      ]
    },
    {
      "cell_type": "code",
      "source": [
        "# Hay la misma cantidad de valores para 9999-99-99 que para 0, es decir,  1700058\n",
        "df2[\"defunciones\"] = np.where(df2[\"FECHA_DEF\"]== \"9999-99-99\", 0, 1)\n",
        "print(\"Número de valores para '9999-99-99': \", df2[\"FECHA_DEF\"].value_counts())\n",
        "print(\"Número de valores para 0: \", df2[\"defunciones\"].value_counts())\n",
        "print(\"La cantidad de valores para 9999-99-99 y para 0 debe ser la misma\")\n",
        "df2[[\"FECHA_DEF\", \"defunciones\"]].head(7)"
      ],
      "metadata": {
        "id": "fpGvsXUTr7mB",
        "colab": {
          "base_uri": "https://localhost:8080/",
          "height": 546
        },
        "outputId": "0dac7012-6b00-4a8f-d04a-ddbb67da5d66"
      },
      "execution_count": 26,
      "outputs": [
        {
          "output_type": "stream",
          "name": "stdout",
          "text": [
            "Número de valores para '9999-99-99':  9999-99-99    1700058\n",
            "2021-01-26        269\n",
            "2021-01-25        260\n",
            "2021-01-19        253\n",
            "2021-01-20        243\n",
            "               ...   \n",
            "2022-06-09          1\n",
            "2022-05-18          1\n",
            "2022-05-19          1\n",
            "2022-06-06          1\n",
            "2022-11-18          1\n",
            "Name: FECHA_DEF, Length: 902, dtype: int64\n",
            "Número de valores para 0:  0    1700058\n",
            "1      43513\n",
            "Name: defunciones, dtype: int64\n",
            "La cantidad de valores para 9999-99-99 y para 0 debe ser la misma\n"
          ]
        },
        {
          "output_type": "execute_result",
          "data": {
            "text/plain": [
              "    FECHA_DEF  defunciones\n",
              "0  9999-99-99            0\n",
              "1  9999-99-99            0\n",
              "2  9999-99-99            0\n",
              "3  9999-99-99            0\n",
              "4  9999-99-99            0\n",
              "5  9999-99-99            0\n",
              "6  9999-99-99            0"
            ],
            "text/html": [
              "\n",
              "  <div id=\"df-700e986f-e929-401f-a80e-3936dd9fe415\">\n",
              "    <div class=\"colab-df-container\">\n",
              "      <div>\n",
              "<style scoped>\n",
              "    .dataframe tbody tr th:only-of-type {\n",
              "        vertical-align: middle;\n",
              "    }\n",
              "\n",
              "    .dataframe tbody tr th {\n",
              "        vertical-align: top;\n",
              "    }\n",
              "\n",
              "    .dataframe thead th {\n",
              "        text-align: right;\n",
              "    }\n",
              "</style>\n",
              "<table border=\"1\" class=\"dataframe\">\n",
              "  <thead>\n",
              "    <tr style=\"text-align: right;\">\n",
              "      <th></th>\n",
              "      <th>FECHA_DEF</th>\n",
              "      <th>defunciones</th>\n",
              "    </tr>\n",
              "  </thead>\n",
              "  <tbody>\n",
              "    <tr>\n",
              "      <th>0</th>\n",
              "      <td>9999-99-99</td>\n",
              "      <td>0</td>\n",
              "    </tr>\n",
              "    <tr>\n",
              "      <th>1</th>\n",
              "      <td>9999-99-99</td>\n",
              "      <td>0</td>\n",
              "    </tr>\n",
              "    <tr>\n",
              "      <th>2</th>\n",
              "      <td>9999-99-99</td>\n",
              "      <td>0</td>\n",
              "    </tr>\n",
              "    <tr>\n",
              "      <th>3</th>\n",
              "      <td>9999-99-99</td>\n",
              "      <td>0</td>\n",
              "    </tr>\n",
              "    <tr>\n",
              "      <th>4</th>\n",
              "      <td>9999-99-99</td>\n",
              "      <td>0</td>\n",
              "    </tr>\n",
              "    <tr>\n",
              "      <th>5</th>\n",
              "      <td>9999-99-99</td>\n",
              "      <td>0</td>\n",
              "    </tr>\n",
              "    <tr>\n",
              "      <th>6</th>\n",
              "      <td>9999-99-99</td>\n",
              "      <td>0</td>\n",
              "    </tr>\n",
              "  </tbody>\n",
              "</table>\n",
              "</div>\n",
              "      <button class=\"colab-df-convert\" onclick=\"convertToInteractive('df-700e986f-e929-401f-a80e-3936dd9fe415')\"\n",
              "              title=\"Convert this dataframe to an interactive table.\"\n",
              "              style=\"display:none;\">\n",
              "        \n",
              "  <svg xmlns=\"http://www.w3.org/2000/svg\" height=\"24px\"viewBox=\"0 0 24 24\"\n",
              "       width=\"24px\">\n",
              "    <path d=\"M0 0h24v24H0V0z\" fill=\"none\"/>\n",
              "    <path d=\"M18.56 5.44l.94 2.06.94-2.06 2.06-.94-2.06-.94-.94-2.06-.94 2.06-2.06.94zm-11 1L8.5 8.5l.94-2.06 2.06-.94-2.06-.94L8.5 2.5l-.94 2.06-2.06.94zm10 10l.94 2.06.94-2.06 2.06-.94-2.06-.94-.94-2.06-.94 2.06-2.06.94z\"/><path d=\"M17.41 7.96l-1.37-1.37c-.4-.4-.92-.59-1.43-.59-.52 0-1.04.2-1.43.59L10.3 9.45l-7.72 7.72c-.78.78-.78 2.05 0 2.83L4 21.41c.39.39.9.59 1.41.59.51 0 1.02-.2 1.41-.59l7.78-7.78 2.81-2.81c.8-.78.8-2.07 0-2.86zM5.41 20L4 18.59l7.72-7.72 1.47 1.35L5.41 20z\"/>\n",
              "  </svg>\n",
              "      </button>\n",
              "      \n",
              "  <style>\n",
              "    .colab-df-container {\n",
              "      display:flex;\n",
              "      flex-wrap:wrap;\n",
              "      gap: 12px;\n",
              "    }\n",
              "\n",
              "    .colab-df-convert {\n",
              "      background-color: #E8F0FE;\n",
              "      border: none;\n",
              "      border-radius: 50%;\n",
              "      cursor: pointer;\n",
              "      display: none;\n",
              "      fill: #1967D2;\n",
              "      height: 32px;\n",
              "      padding: 0 0 0 0;\n",
              "      width: 32px;\n",
              "    }\n",
              "\n",
              "    .colab-df-convert:hover {\n",
              "      background-color: #E2EBFA;\n",
              "      box-shadow: 0px 1px 2px rgba(60, 64, 67, 0.3), 0px 1px 3px 1px rgba(60, 64, 67, 0.15);\n",
              "      fill: #174EA6;\n",
              "    }\n",
              "\n",
              "    [theme=dark] .colab-df-convert {\n",
              "      background-color: #3B4455;\n",
              "      fill: #D2E3FC;\n",
              "    }\n",
              "\n",
              "    [theme=dark] .colab-df-convert:hover {\n",
              "      background-color: #434B5C;\n",
              "      box-shadow: 0px 1px 3px 1px rgba(0, 0, 0, 0.15);\n",
              "      filter: drop-shadow(0px 1px 2px rgba(0, 0, 0, 0.3));\n",
              "      fill: #FFFFFF;\n",
              "    }\n",
              "  </style>\n",
              "\n",
              "      <script>\n",
              "        const buttonEl =\n",
              "          document.querySelector('#df-700e986f-e929-401f-a80e-3936dd9fe415 button.colab-df-convert');\n",
              "        buttonEl.style.display =\n",
              "          google.colab.kernel.accessAllowed ? 'block' : 'none';\n",
              "\n",
              "        async function convertToInteractive(key) {\n",
              "          const element = document.querySelector('#df-700e986f-e929-401f-a80e-3936dd9fe415');\n",
              "          const dataTable =\n",
              "            await google.colab.kernel.invokeFunction('convertToInteractive',\n",
              "                                                     [key], {});\n",
              "          if (!dataTable) return;\n",
              "\n",
              "          const docLinkHtml = 'Like what you see? Visit the ' +\n",
              "            '<a target=\"_blank\" href=https://colab.research.google.com/notebooks/data_table.ipynb>data table notebook</a>'\n",
              "            + ' to learn more about interactive tables.';\n",
              "          element.innerHTML = '';\n",
              "          dataTable['output_type'] = 'display_data';\n",
              "          await google.colab.output.renderOutput(dataTable, element);\n",
              "          const docLink = document.createElement('div');\n",
              "          docLink.innerHTML = docLinkHtml;\n",
              "          element.appendChild(docLink);\n",
              "        }\n",
              "      </script>\n",
              "    </div>\n",
              "  </div>\n",
              "  "
            ]
          },
          "metadata": {},
          "execution_count": 26
        }
      ]
    },
    {
      "cell_type": "code",
      "source": [
        "# Ahora ya podemos eliminar \"FECHA_DEF\"\n",
        "# Todas las variables son números enteros\n",
        "df3 = df2.drop(columns=[\"FECHA_DEF\"])\n",
        "print(df3.columns)\n",
        "df3.head()"
      ],
      "metadata": {
        "id": "ROfjsO7Qr7jb",
        "colab": {
          "base_uri": "https://localhost:8080/",
          "height": 340
        },
        "outputId": "53adfd8f-ba72-4711-9235-00aa369dbefd"
      },
      "execution_count": 27,
      "outputs": [
        {
          "output_type": "stream",
          "name": "stdout",
          "text": [
            "Index(['SECTOR', 'SEXO', 'MUNICIPIO_RES', 'TIPO_PACIENTE', 'INTUBADO',\n",
            "       'NEUMONIA', 'EDAD', 'NACIONALIDAD', 'EMBARAZO', 'HABLA_LENGUA_INDIG',\n",
            "       'INDIGENA', 'DIABETES', 'EPOC', 'ASMA', 'INMUSUPR', 'HIPERTENSION',\n",
            "       'OTRA_COM', 'CARDIOVASCULAR', 'OBESIDAD', 'RENAL_CRONICA', 'TABAQUISMO',\n",
            "       'OTRO_CASO', 'MIGRANTE', 'UCI', 'defunciones'],\n",
            "      dtype='object')\n"
          ]
        },
        {
          "output_type": "execute_result",
          "data": {
            "text/plain": [
              "   SECTOR  SEXO  MUNICIPIO_RES  TIPO_PACIENTE  INTUBADO  NEUMONIA  EDAD  \\\n",
              "0      12     1              4              1        97         2    67   \n",
              "1      12     1             12              1        97         2    62   \n",
              "2      12     1              5              1        97         2    45   \n",
              "3      12     1              7              1        97         2    38   \n",
              "4      12     1              6              1        97         2    26   \n",
              "\n",
              "   NACIONALIDAD  EMBARAZO  HABLA_LENGUA_INDIG  ...  HIPERTENSION  OTRA_COM  \\\n",
              "0             1         2                   2  ...             2         2   \n",
              "1             1         2                   2  ...             1         2   \n",
              "2             1         2                   2  ...             2         2   \n",
              "3             1         2                   2  ...             2         2   \n",
              "4             1         2                   2  ...             2         2   \n",
              "\n",
              "   CARDIOVASCULAR  OBESIDAD  RENAL_CRONICA  TABAQUISMO  OTRO_CASO  MIGRANTE  \\\n",
              "0               2         2              2           2          1        99   \n",
              "1               2         1              2           2          1        99   \n",
              "2               2         1              2           2          1        99   \n",
              "3               2         2              2           2          1        99   \n",
              "4               2         2              2           2          1        99   \n",
              "\n",
              "   UCI  defunciones  \n",
              "0   97            0  \n",
              "1   97            0  \n",
              "2   97            0  \n",
              "3   97            0  \n",
              "4   97            0  \n",
              "\n",
              "[5 rows x 25 columns]"
            ],
            "text/html": [
              "\n",
              "  <div id=\"df-7bf05812-0b17-4d3d-a10b-b899bea04d9c\">\n",
              "    <div class=\"colab-df-container\">\n",
              "      <div>\n",
              "<style scoped>\n",
              "    .dataframe tbody tr th:only-of-type {\n",
              "        vertical-align: middle;\n",
              "    }\n",
              "\n",
              "    .dataframe tbody tr th {\n",
              "        vertical-align: top;\n",
              "    }\n",
              "\n",
              "    .dataframe thead th {\n",
              "        text-align: right;\n",
              "    }\n",
              "</style>\n",
              "<table border=\"1\" class=\"dataframe\">\n",
              "  <thead>\n",
              "    <tr style=\"text-align: right;\">\n",
              "      <th></th>\n",
              "      <th>SECTOR</th>\n",
              "      <th>SEXO</th>\n",
              "      <th>MUNICIPIO_RES</th>\n",
              "      <th>TIPO_PACIENTE</th>\n",
              "      <th>INTUBADO</th>\n",
              "      <th>NEUMONIA</th>\n",
              "      <th>EDAD</th>\n",
              "      <th>NACIONALIDAD</th>\n",
              "      <th>EMBARAZO</th>\n",
              "      <th>HABLA_LENGUA_INDIG</th>\n",
              "      <th>...</th>\n",
              "      <th>HIPERTENSION</th>\n",
              "      <th>OTRA_COM</th>\n",
              "      <th>CARDIOVASCULAR</th>\n",
              "      <th>OBESIDAD</th>\n",
              "      <th>RENAL_CRONICA</th>\n",
              "      <th>TABAQUISMO</th>\n",
              "      <th>OTRO_CASO</th>\n",
              "      <th>MIGRANTE</th>\n",
              "      <th>UCI</th>\n",
              "      <th>defunciones</th>\n",
              "    </tr>\n",
              "  </thead>\n",
              "  <tbody>\n",
              "    <tr>\n",
              "      <th>0</th>\n",
              "      <td>12</td>\n",
              "      <td>1</td>\n",
              "      <td>4</td>\n",
              "      <td>1</td>\n",
              "      <td>97</td>\n",
              "      <td>2</td>\n",
              "      <td>67</td>\n",
              "      <td>1</td>\n",
              "      <td>2</td>\n",
              "      <td>2</td>\n",
              "      <td>...</td>\n",
              "      <td>2</td>\n",
              "      <td>2</td>\n",
              "      <td>2</td>\n",
              "      <td>2</td>\n",
              "      <td>2</td>\n",
              "      <td>2</td>\n",
              "      <td>1</td>\n",
              "      <td>99</td>\n",
              "      <td>97</td>\n",
              "      <td>0</td>\n",
              "    </tr>\n",
              "    <tr>\n",
              "      <th>1</th>\n",
              "      <td>12</td>\n",
              "      <td>1</td>\n",
              "      <td>12</td>\n",
              "      <td>1</td>\n",
              "      <td>97</td>\n",
              "      <td>2</td>\n",
              "      <td>62</td>\n",
              "      <td>1</td>\n",
              "      <td>2</td>\n",
              "      <td>2</td>\n",
              "      <td>...</td>\n",
              "      <td>1</td>\n",
              "      <td>2</td>\n",
              "      <td>2</td>\n",
              "      <td>1</td>\n",
              "      <td>2</td>\n",
              "      <td>2</td>\n",
              "      <td>1</td>\n",
              "      <td>99</td>\n",
              "      <td>97</td>\n",
              "      <td>0</td>\n",
              "    </tr>\n",
              "    <tr>\n",
              "      <th>2</th>\n",
              "      <td>12</td>\n",
              "      <td>1</td>\n",
              "      <td>5</td>\n",
              "      <td>1</td>\n",
              "      <td>97</td>\n",
              "      <td>2</td>\n",
              "      <td>45</td>\n",
              "      <td>1</td>\n",
              "      <td>2</td>\n",
              "      <td>2</td>\n",
              "      <td>...</td>\n",
              "      <td>2</td>\n",
              "      <td>2</td>\n",
              "      <td>2</td>\n",
              "      <td>1</td>\n",
              "      <td>2</td>\n",
              "      <td>2</td>\n",
              "      <td>1</td>\n",
              "      <td>99</td>\n",
              "      <td>97</td>\n",
              "      <td>0</td>\n",
              "    </tr>\n",
              "    <tr>\n",
              "      <th>3</th>\n",
              "      <td>12</td>\n",
              "      <td>1</td>\n",
              "      <td>7</td>\n",
              "      <td>1</td>\n",
              "      <td>97</td>\n",
              "      <td>2</td>\n",
              "      <td>38</td>\n",
              "      <td>1</td>\n",
              "      <td>2</td>\n",
              "      <td>2</td>\n",
              "      <td>...</td>\n",
              "      <td>2</td>\n",
              "      <td>2</td>\n",
              "      <td>2</td>\n",
              "      <td>2</td>\n",
              "      <td>2</td>\n",
              "      <td>2</td>\n",
              "      <td>1</td>\n",
              "      <td>99</td>\n",
              "      <td>97</td>\n",
              "      <td>0</td>\n",
              "    </tr>\n",
              "    <tr>\n",
              "      <th>4</th>\n",
              "      <td>12</td>\n",
              "      <td>1</td>\n",
              "      <td>6</td>\n",
              "      <td>1</td>\n",
              "      <td>97</td>\n",
              "      <td>2</td>\n",
              "      <td>26</td>\n",
              "      <td>1</td>\n",
              "      <td>2</td>\n",
              "      <td>2</td>\n",
              "      <td>...</td>\n",
              "      <td>2</td>\n",
              "      <td>2</td>\n",
              "      <td>2</td>\n",
              "      <td>2</td>\n",
              "      <td>2</td>\n",
              "      <td>2</td>\n",
              "      <td>1</td>\n",
              "      <td>99</td>\n",
              "      <td>97</td>\n",
              "      <td>0</td>\n",
              "    </tr>\n",
              "  </tbody>\n",
              "</table>\n",
              "<p>5 rows × 25 columns</p>\n",
              "</div>\n",
              "      <button class=\"colab-df-convert\" onclick=\"convertToInteractive('df-7bf05812-0b17-4d3d-a10b-b899bea04d9c')\"\n",
              "              title=\"Convert this dataframe to an interactive table.\"\n",
              "              style=\"display:none;\">\n",
              "        \n",
              "  <svg xmlns=\"http://www.w3.org/2000/svg\" height=\"24px\"viewBox=\"0 0 24 24\"\n",
              "       width=\"24px\">\n",
              "    <path d=\"M0 0h24v24H0V0z\" fill=\"none\"/>\n",
              "    <path d=\"M18.56 5.44l.94 2.06.94-2.06 2.06-.94-2.06-.94-.94-2.06-.94 2.06-2.06.94zm-11 1L8.5 8.5l.94-2.06 2.06-.94-2.06-.94L8.5 2.5l-.94 2.06-2.06.94zm10 10l.94 2.06.94-2.06 2.06-.94-2.06-.94-.94-2.06-.94 2.06-2.06.94z\"/><path d=\"M17.41 7.96l-1.37-1.37c-.4-.4-.92-.59-1.43-.59-.52 0-1.04.2-1.43.59L10.3 9.45l-7.72 7.72c-.78.78-.78 2.05 0 2.83L4 21.41c.39.39.9.59 1.41.59.51 0 1.02-.2 1.41-.59l7.78-7.78 2.81-2.81c.8-.78.8-2.07 0-2.86zM5.41 20L4 18.59l7.72-7.72 1.47 1.35L5.41 20z\"/>\n",
              "  </svg>\n",
              "      </button>\n",
              "      \n",
              "  <style>\n",
              "    .colab-df-container {\n",
              "      display:flex;\n",
              "      flex-wrap:wrap;\n",
              "      gap: 12px;\n",
              "    }\n",
              "\n",
              "    .colab-df-convert {\n",
              "      background-color: #E8F0FE;\n",
              "      border: none;\n",
              "      border-radius: 50%;\n",
              "      cursor: pointer;\n",
              "      display: none;\n",
              "      fill: #1967D2;\n",
              "      height: 32px;\n",
              "      padding: 0 0 0 0;\n",
              "      width: 32px;\n",
              "    }\n",
              "\n",
              "    .colab-df-convert:hover {\n",
              "      background-color: #E2EBFA;\n",
              "      box-shadow: 0px 1px 2px rgba(60, 64, 67, 0.3), 0px 1px 3px 1px rgba(60, 64, 67, 0.15);\n",
              "      fill: #174EA6;\n",
              "    }\n",
              "\n",
              "    [theme=dark] .colab-df-convert {\n",
              "      background-color: #3B4455;\n",
              "      fill: #D2E3FC;\n",
              "    }\n",
              "\n",
              "    [theme=dark] .colab-df-convert:hover {\n",
              "      background-color: #434B5C;\n",
              "      box-shadow: 0px 1px 3px 1px rgba(0, 0, 0, 0.15);\n",
              "      filter: drop-shadow(0px 1px 2px rgba(0, 0, 0, 0.3));\n",
              "      fill: #FFFFFF;\n",
              "    }\n",
              "  </style>\n",
              "\n",
              "      <script>\n",
              "        const buttonEl =\n",
              "          document.querySelector('#df-7bf05812-0b17-4d3d-a10b-b899bea04d9c button.colab-df-convert');\n",
              "        buttonEl.style.display =\n",
              "          google.colab.kernel.accessAllowed ? 'block' : 'none';\n",
              "\n",
              "        async function convertToInteractive(key) {\n",
              "          const element = document.querySelector('#df-7bf05812-0b17-4d3d-a10b-b899bea04d9c');\n",
              "          const dataTable =\n",
              "            await google.colab.kernel.invokeFunction('convertToInteractive',\n",
              "                                                     [key], {});\n",
              "          if (!dataTable) return;\n",
              "\n",
              "          const docLinkHtml = 'Like what you see? Visit the ' +\n",
              "            '<a target=\"_blank\" href=https://colab.research.google.com/notebooks/data_table.ipynb>data table notebook</a>'\n",
              "            + ' to learn more about interactive tables.';\n",
              "          element.innerHTML = '';\n",
              "          dataTable['output_type'] = 'display_data';\n",
              "          await google.colab.output.renderOutput(dataTable, element);\n",
              "          const docLink = document.createElement('div');\n",
              "          docLink.innerHTML = docLinkHtml;\n",
              "          element.appendChild(docLink);\n",
              "        }\n",
              "      </script>\n",
              "    </div>\n",
              "  </div>\n",
              "  "
            ]
          },
          "metadata": {},
          "execution_count": 27
        }
      ]
    },
    {
      "cell_type": "code",
      "source": [
        "# Eliminando los valores \"MUNICIPIO_RES\" = 106 de df3\n",
        "# Obteniendo los indices\n",
        "print(\"Dimensiones iniciales de df3: \", df3.shape)\n",
        "print(df3[df3[\"MUNICIPIO_RES\"]==106].index)\n",
        "df3[df3[\"MUNICIPIO_RES\"]==106]"
      ],
      "metadata": {
        "id": "He3EP0Fo7TI8",
        "colab": {
          "base_uri": "https://localhost:8080/",
          "height": 208
        },
        "outputId": "96142113-0466-43e8-a650-c3eaa6b7c77a"
      },
      "execution_count": 28,
      "outputs": [
        {
          "output_type": "stream",
          "name": "stdout",
          "text": [
            "Dimensiones iniciales de df3:  (1743571, 25)\n",
            "Int64Index([19885, 20280, 20655], dtype='int64')\n"
          ]
        },
        {
          "output_type": "execute_result",
          "data": {
            "text/plain": [
              "       SECTOR  SEXO  MUNICIPIO_RES  TIPO_PACIENTE  INTUBADO  NEUMONIA  EDAD  \\\n",
              "19885      12     1            106              1        97         2    26   \n",
              "20280      11     2            106              1        97         2    25   \n",
              "20655      12     1            106              1        97         2    30   \n",
              "\n",
              "       NACIONALIDAD  EMBARAZO  HABLA_LENGUA_INDIG  ...  HIPERTENSION  \\\n",
              "19885             1         2                   2  ...             2   \n",
              "20280             1        97                   2  ...             2   \n",
              "20655             1         2                   2  ...             2   \n",
              "\n",
              "       OTRA_COM  CARDIOVASCULAR  OBESIDAD  RENAL_CRONICA  TABAQUISMO  \\\n",
              "19885         2               2         2              2           2   \n",
              "20280         2               2         2              2           2   \n",
              "20655         2               2         2              2           2   \n",
              "\n",
              "       OTRO_CASO  MIGRANTE  UCI  defunciones  \n",
              "19885          1        99   97            0  \n",
              "20280          2        99   97            0  \n",
              "20655          1        99   97            0  \n",
              "\n",
              "[3 rows x 25 columns]"
            ],
            "text/html": [
              "\n",
              "  <div id=\"df-1039275e-9ad5-4c64-b69b-63327c179e1e\">\n",
              "    <div class=\"colab-df-container\">\n",
              "      <div>\n",
              "<style scoped>\n",
              "    .dataframe tbody tr th:only-of-type {\n",
              "        vertical-align: middle;\n",
              "    }\n",
              "\n",
              "    .dataframe tbody tr th {\n",
              "        vertical-align: top;\n",
              "    }\n",
              "\n",
              "    .dataframe thead th {\n",
              "        text-align: right;\n",
              "    }\n",
              "</style>\n",
              "<table border=\"1\" class=\"dataframe\">\n",
              "  <thead>\n",
              "    <tr style=\"text-align: right;\">\n",
              "      <th></th>\n",
              "      <th>SECTOR</th>\n",
              "      <th>SEXO</th>\n",
              "      <th>MUNICIPIO_RES</th>\n",
              "      <th>TIPO_PACIENTE</th>\n",
              "      <th>INTUBADO</th>\n",
              "      <th>NEUMONIA</th>\n",
              "      <th>EDAD</th>\n",
              "      <th>NACIONALIDAD</th>\n",
              "      <th>EMBARAZO</th>\n",
              "      <th>HABLA_LENGUA_INDIG</th>\n",
              "      <th>...</th>\n",
              "      <th>HIPERTENSION</th>\n",
              "      <th>OTRA_COM</th>\n",
              "      <th>CARDIOVASCULAR</th>\n",
              "      <th>OBESIDAD</th>\n",
              "      <th>RENAL_CRONICA</th>\n",
              "      <th>TABAQUISMO</th>\n",
              "      <th>OTRO_CASO</th>\n",
              "      <th>MIGRANTE</th>\n",
              "      <th>UCI</th>\n",
              "      <th>defunciones</th>\n",
              "    </tr>\n",
              "  </thead>\n",
              "  <tbody>\n",
              "    <tr>\n",
              "      <th>19885</th>\n",
              "      <td>12</td>\n",
              "      <td>1</td>\n",
              "      <td>106</td>\n",
              "      <td>1</td>\n",
              "      <td>97</td>\n",
              "      <td>2</td>\n",
              "      <td>26</td>\n",
              "      <td>1</td>\n",
              "      <td>2</td>\n",
              "      <td>2</td>\n",
              "      <td>...</td>\n",
              "      <td>2</td>\n",
              "      <td>2</td>\n",
              "      <td>2</td>\n",
              "      <td>2</td>\n",
              "      <td>2</td>\n",
              "      <td>2</td>\n",
              "      <td>1</td>\n",
              "      <td>99</td>\n",
              "      <td>97</td>\n",
              "      <td>0</td>\n",
              "    </tr>\n",
              "    <tr>\n",
              "      <th>20280</th>\n",
              "      <td>11</td>\n",
              "      <td>2</td>\n",
              "      <td>106</td>\n",
              "      <td>1</td>\n",
              "      <td>97</td>\n",
              "      <td>2</td>\n",
              "      <td>25</td>\n",
              "      <td>1</td>\n",
              "      <td>97</td>\n",
              "      <td>2</td>\n",
              "      <td>...</td>\n",
              "      <td>2</td>\n",
              "      <td>2</td>\n",
              "      <td>2</td>\n",
              "      <td>2</td>\n",
              "      <td>2</td>\n",
              "      <td>2</td>\n",
              "      <td>2</td>\n",
              "      <td>99</td>\n",
              "      <td>97</td>\n",
              "      <td>0</td>\n",
              "    </tr>\n",
              "    <tr>\n",
              "      <th>20655</th>\n",
              "      <td>12</td>\n",
              "      <td>1</td>\n",
              "      <td>106</td>\n",
              "      <td>1</td>\n",
              "      <td>97</td>\n",
              "      <td>2</td>\n",
              "      <td>30</td>\n",
              "      <td>1</td>\n",
              "      <td>2</td>\n",
              "      <td>2</td>\n",
              "      <td>...</td>\n",
              "      <td>2</td>\n",
              "      <td>2</td>\n",
              "      <td>2</td>\n",
              "      <td>2</td>\n",
              "      <td>2</td>\n",
              "      <td>2</td>\n",
              "      <td>1</td>\n",
              "      <td>99</td>\n",
              "      <td>97</td>\n",
              "      <td>0</td>\n",
              "    </tr>\n",
              "  </tbody>\n",
              "</table>\n",
              "<p>3 rows × 25 columns</p>\n",
              "</div>\n",
              "      <button class=\"colab-df-convert\" onclick=\"convertToInteractive('df-1039275e-9ad5-4c64-b69b-63327c179e1e')\"\n",
              "              title=\"Convert this dataframe to an interactive table.\"\n",
              "              style=\"display:none;\">\n",
              "        \n",
              "  <svg xmlns=\"http://www.w3.org/2000/svg\" height=\"24px\"viewBox=\"0 0 24 24\"\n",
              "       width=\"24px\">\n",
              "    <path d=\"M0 0h24v24H0V0z\" fill=\"none\"/>\n",
              "    <path d=\"M18.56 5.44l.94 2.06.94-2.06 2.06-.94-2.06-.94-.94-2.06-.94 2.06-2.06.94zm-11 1L8.5 8.5l.94-2.06 2.06-.94-2.06-.94L8.5 2.5l-.94 2.06-2.06.94zm10 10l.94 2.06.94-2.06 2.06-.94-2.06-.94-.94-2.06-.94 2.06-2.06.94z\"/><path d=\"M17.41 7.96l-1.37-1.37c-.4-.4-.92-.59-1.43-.59-.52 0-1.04.2-1.43.59L10.3 9.45l-7.72 7.72c-.78.78-.78 2.05 0 2.83L4 21.41c.39.39.9.59 1.41.59.51 0 1.02-.2 1.41-.59l7.78-7.78 2.81-2.81c.8-.78.8-2.07 0-2.86zM5.41 20L4 18.59l7.72-7.72 1.47 1.35L5.41 20z\"/>\n",
              "  </svg>\n",
              "      </button>\n",
              "      \n",
              "  <style>\n",
              "    .colab-df-container {\n",
              "      display:flex;\n",
              "      flex-wrap:wrap;\n",
              "      gap: 12px;\n",
              "    }\n",
              "\n",
              "    .colab-df-convert {\n",
              "      background-color: #E8F0FE;\n",
              "      border: none;\n",
              "      border-radius: 50%;\n",
              "      cursor: pointer;\n",
              "      display: none;\n",
              "      fill: #1967D2;\n",
              "      height: 32px;\n",
              "      padding: 0 0 0 0;\n",
              "      width: 32px;\n",
              "    }\n",
              "\n",
              "    .colab-df-convert:hover {\n",
              "      background-color: #E2EBFA;\n",
              "      box-shadow: 0px 1px 2px rgba(60, 64, 67, 0.3), 0px 1px 3px 1px rgba(60, 64, 67, 0.15);\n",
              "      fill: #174EA6;\n",
              "    }\n",
              "\n",
              "    [theme=dark] .colab-df-convert {\n",
              "      background-color: #3B4455;\n",
              "      fill: #D2E3FC;\n",
              "    }\n",
              "\n",
              "    [theme=dark] .colab-df-convert:hover {\n",
              "      background-color: #434B5C;\n",
              "      box-shadow: 0px 1px 3px 1px rgba(0, 0, 0, 0.15);\n",
              "      filter: drop-shadow(0px 1px 2px rgba(0, 0, 0, 0.3));\n",
              "      fill: #FFFFFF;\n",
              "    }\n",
              "  </style>\n",
              "\n",
              "      <script>\n",
              "        const buttonEl =\n",
              "          document.querySelector('#df-1039275e-9ad5-4c64-b69b-63327c179e1e button.colab-df-convert');\n",
              "        buttonEl.style.display =\n",
              "          google.colab.kernel.accessAllowed ? 'block' : 'none';\n",
              "\n",
              "        async function convertToInteractive(key) {\n",
              "          const element = document.querySelector('#df-1039275e-9ad5-4c64-b69b-63327c179e1e');\n",
              "          const dataTable =\n",
              "            await google.colab.kernel.invokeFunction('convertToInteractive',\n",
              "                                                     [key], {});\n",
              "          if (!dataTable) return;\n",
              "\n",
              "          const docLinkHtml = 'Like what you see? Visit the ' +\n",
              "            '<a target=\"_blank\" href=https://colab.research.google.com/notebooks/data_table.ipynb>data table notebook</a>'\n",
              "            + ' to learn more about interactive tables.';\n",
              "          element.innerHTML = '';\n",
              "          dataTable['output_type'] = 'display_data';\n",
              "          await google.colab.output.renderOutput(dataTable, element);\n",
              "          const docLink = document.createElement('div');\n",
              "          docLink.innerHTML = docLinkHtml;\n",
              "          element.appendChild(docLink);\n",
              "        }\n",
              "      </script>\n",
              "    </div>\n",
              "  </div>\n",
              "  "
            ]
          },
          "metadata": {},
          "execution_count": 28
        }
      ]
    },
    {
      "cell_type": "code",
      "source": [
        "df3 = df3.drop([19885, 20280, 20655])\n",
        "print(\"Dimensiones finales de df3: \", df3.shape)\n"
      ],
      "metadata": {
        "id": "swWqgKOt8m_Q",
        "colab": {
          "base_uri": "https://localhost:8080/"
        },
        "outputId": "cc745b3d-7720-4330-a6b2-3a72414dd6e5"
      },
      "execution_count": 29,
      "outputs": [
        {
          "output_type": "stream",
          "name": "stdout",
          "text": [
            "Dimensiones finales de df3:  (1743568, 25)\n"
          ]
        }
      ]
    },
    {
      "cell_type": "code",
      "source": [
        "# Prueba\n",
        "# Resultado exitoso\n",
        "df3[df3[\"MUNICIPIO_RES\"]==106]"
      ],
      "metadata": {
        "id": "US07L79X-K3N",
        "colab": {
          "base_uri": "https://localhost:8080/",
          "height": 79
        },
        "outputId": "34a2ee23-011b-4840-b9e0-ff2c9ed01734"
      },
      "execution_count": 30,
      "outputs": [
        {
          "output_type": "execute_result",
          "data": {
            "text/plain": [
              "Empty DataFrame\n",
              "Columns: [SECTOR, SEXO, MUNICIPIO_RES, TIPO_PACIENTE, INTUBADO, NEUMONIA, EDAD, NACIONALIDAD, EMBARAZO, HABLA_LENGUA_INDIG, INDIGENA, DIABETES, EPOC, ASMA, INMUSUPR, HIPERTENSION, OTRA_COM, CARDIOVASCULAR, OBESIDAD, RENAL_CRONICA, TABAQUISMO, OTRO_CASO, MIGRANTE, UCI, defunciones]\n",
              "Index: []\n",
              "\n",
              "[0 rows x 25 columns]"
            ],
            "text/html": [
              "\n",
              "  <div id=\"df-0e126d86-a4d3-47be-994b-d53bf1d92de0\">\n",
              "    <div class=\"colab-df-container\">\n",
              "      <div>\n",
              "<style scoped>\n",
              "    .dataframe tbody tr th:only-of-type {\n",
              "        vertical-align: middle;\n",
              "    }\n",
              "\n",
              "    .dataframe tbody tr th {\n",
              "        vertical-align: top;\n",
              "    }\n",
              "\n",
              "    .dataframe thead th {\n",
              "        text-align: right;\n",
              "    }\n",
              "</style>\n",
              "<table border=\"1\" class=\"dataframe\">\n",
              "  <thead>\n",
              "    <tr style=\"text-align: right;\">\n",
              "      <th></th>\n",
              "      <th>SECTOR</th>\n",
              "      <th>SEXO</th>\n",
              "      <th>MUNICIPIO_RES</th>\n",
              "      <th>TIPO_PACIENTE</th>\n",
              "      <th>INTUBADO</th>\n",
              "      <th>NEUMONIA</th>\n",
              "      <th>EDAD</th>\n",
              "      <th>NACIONALIDAD</th>\n",
              "      <th>EMBARAZO</th>\n",
              "      <th>HABLA_LENGUA_INDIG</th>\n",
              "      <th>...</th>\n",
              "      <th>HIPERTENSION</th>\n",
              "      <th>OTRA_COM</th>\n",
              "      <th>CARDIOVASCULAR</th>\n",
              "      <th>OBESIDAD</th>\n",
              "      <th>RENAL_CRONICA</th>\n",
              "      <th>TABAQUISMO</th>\n",
              "      <th>OTRO_CASO</th>\n",
              "      <th>MIGRANTE</th>\n",
              "      <th>UCI</th>\n",
              "      <th>defunciones</th>\n",
              "    </tr>\n",
              "  </thead>\n",
              "  <tbody>\n",
              "  </tbody>\n",
              "</table>\n",
              "<p>0 rows × 25 columns</p>\n",
              "</div>\n",
              "      <button class=\"colab-df-convert\" onclick=\"convertToInteractive('df-0e126d86-a4d3-47be-994b-d53bf1d92de0')\"\n",
              "              title=\"Convert this dataframe to an interactive table.\"\n",
              "              style=\"display:none;\">\n",
              "        \n",
              "  <svg xmlns=\"http://www.w3.org/2000/svg\" height=\"24px\"viewBox=\"0 0 24 24\"\n",
              "       width=\"24px\">\n",
              "    <path d=\"M0 0h24v24H0V0z\" fill=\"none\"/>\n",
              "    <path d=\"M18.56 5.44l.94 2.06.94-2.06 2.06-.94-2.06-.94-.94-2.06-.94 2.06-2.06.94zm-11 1L8.5 8.5l.94-2.06 2.06-.94-2.06-.94L8.5 2.5l-.94 2.06-2.06.94zm10 10l.94 2.06.94-2.06 2.06-.94-2.06-.94-.94-2.06-.94 2.06-2.06.94z\"/><path d=\"M17.41 7.96l-1.37-1.37c-.4-.4-.92-.59-1.43-.59-.52 0-1.04.2-1.43.59L10.3 9.45l-7.72 7.72c-.78.78-.78 2.05 0 2.83L4 21.41c.39.39.9.59 1.41.59.51 0 1.02-.2 1.41-.59l7.78-7.78 2.81-2.81c.8-.78.8-2.07 0-2.86zM5.41 20L4 18.59l7.72-7.72 1.47 1.35L5.41 20z\"/>\n",
              "  </svg>\n",
              "      </button>\n",
              "      \n",
              "  <style>\n",
              "    .colab-df-container {\n",
              "      display:flex;\n",
              "      flex-wrap:wrap;\n",
              "      gap: 12px;\n",
              "    }\n",
              "\n",
              "    .colab-df-convert {\n",
              "      background-color: #E8F0FE;\n",
              "      border: none;\n",
              "      border-radius: 50%;\n",
              "      cursor: pointer;\n",
              "      display: none;\n",
              "      fill: #1967D2;\n",
              "      height: 32px;\n",
              "      padding: 0 0 0 0;\n",
              "      width: 32px;\n",
              "    }\n",
              "\n",
              "    .colab-df-convert:hover {\n",
              "      background-color: #E2EBFA;\n",
              "      box-shadow: 0px 1px 2px rgba(60, 64, 67, 0.3), 0px 1px 3px 1px rgba(60, 64, 67, 0.15);\n",
              "      fill: #174EA6;\n",
              "    }\n",
              "\n",
              "    [theme=dark] .colab-df-convert {\n",
              "      background-color: #3B4455;\n",
              "      fill: #D2E3FC;\n",
              "    }\n",
              "\n",
              "    [theme=dark] .colab-df-convert:hover {\n",
              "      background-color: #434B5C;\n",
              "      box-shadow: 0px 1px 3px 1px rgba(0, 0, 0, 0.15);\n",
              "      filter: drop-shadow(0px 1px 2px rgba(0, 0, 0, 0.3));\n",
              "      fill: #FFFFFF;\n",
              "    }\n",
              "  </style>\n",
              "\n",
              "      <script>\n",
              "        const buttonEl =\n",
              "          document.querySelector('#df-0e126d86-a4d3-47be-994b-d53bf1d92de0 button.colab-df-convert');\n",
              "        buttonEl.style.display =\n",
              "          google.colab.kernel.accessAllowed ? 'block' : 'none';\n",
              "\n",
              "        async function convertToInteractive(key) {\n",
              "          const element = document.querySelector('#df-0e126d86-a4d3-47be-994b-d53bf1d92de0');\n",
              "          const dataTable =\n",
              "            await google.colab.kernel.invokeFunction('convertToInteractive',\n",
              "                                                     [key], {});\n",
              "          if (!dataTable) return;\n",
              "\n",
              "          const docLinkHtml = 'Like what you see? Visit the ' +\n",
              "            '<a target=\"_blank\" href=https://colab.research.google.com/notebooks/data_table.ipynb>data table notebook</a>'\n",
              "            + ' to learn more about interactive tables.';\n",
              "          element.innerHTML = '';\n",
              "          dataTable['output_type'] = 'display_data';\n",
              "          await google.colab.output.renderOutput(dataTable, element);\n",
              "          const docLink = document.createElement('div');\n",
              "          docLink.innerHTML = docLinkHtml;\n",
              "          element.appendChild(docLink);\n",
              "        }\n",
              "      </script>\n",
              "    </div>\n",
              "  </div>\n",
              "  "
            ]
          },
          "metadata": {},
          "execution_count": 30
        }
      ]
    },
    {
      "cell_type": "code",
      "source": [
        "# Eliminando la columna NACIONALIDAD\n",
        "df3 = df3.drop(columns=[\"NACIONALIDAD\"])\n"
      ],
      "metadata": {
        "id": "EN07uWIKixW9"
      },
      "execution_count": 31,
      "outputs": []
    },
    {
      "cell_type": "code",
      "source": [
        "# Eliminando la columna MIGRANTE\n",
        "df3 = df3.drop(columns=[\"MIGRANTE\"])"
      ],
      "metadata": {
        "id": "MgovmUUHwW4m"
      },
      "execution_count": 32,
      "outputs": []
    },
    {
      "cell_type": "code",
      "source": [
        "df3.columns"
      ],
      "metadata": {
        "id": "HYS8VTCcyHPT",
        "colab": {
          "base_uri": "https://localhost:8080/"
        },
        "outputId": "36d206e7-15ea-4b1f-9b78-da6be58519a9"
      },
      "execution_count": 33,
      "outputs": [
        {
          "output_type": "execute_result",
          "data": {
            "text/plain": [
              "Index(['SECTOR', 'SEXO', 'MUNICIPIO_RES', 'TIPO_PACIENTE', 'INTUBADO',\n",
              "       'NEUMONIA', 'EDAD', 'EMBARAZO', 'HABLA_LENGUA_INDIG', 'INDIGENA',\n",
              "       'DIABETES', 'EPOC', 'ASMA', 'INMUSUPR', 'HIPERTENSION', 'OTRA_COM',\n",
              "       'CARDIOVASCULAR', 'OBESIDAD', 'RENAL_CRONICA', 'TABAQUISMO',\n",
              "       'OTRO_CASO', 'UCI', 'defunciones'],\n",
              "      dtype='object')"
            ]
          },
          "metadata": {},
          "execution_count": 33
        }
      ]
    },
    {
      "cell_type": "markdown",
      "source": [
        "# Convirtiendo todas las variables dummies (menos \"defunciones\").\n",
        "## (¿Habría que obtener y después unir 25 dataframes?)"
      ],
      "metadata": {
        "id": "g-j0RnbK1x9g"
      }
    },
    {
      "cell_type": "code",
      "source": [
        "# Ejercicio\n",
        "# Para unir los datasets basta con concatenarlos de la siguiente manera\n",
        "# pd.concat([sexo, tipo_paciente], axis = 1)"
      ],
      "metadata": {
        "id": "ToqtgZJfFg2K"
      },
      "execution_count": 34,
      "outputs": []
    },
    {
      "cell_type": "code",
      "source": [
        "# SECTOR\n",
        "sector = pd.get_dummies(df3[\"SECTOR\"], prefix = \"inst\")\n",
        "sector.shape"
      ],
      "metadata": {
        "id": "p1N9nkter7go",
        "colab": {
          "base_uri": "https://localhost:8080/"
        },
        "outputId": "d906bd5b-1beb-4288-e37e-2cf39d63c810"
      },
      "execution_count": 35,
      "outputs": [
        {
          "output_type": "execute_result",
          "data": {
            "text/plain": [
              "(1743568, 14)"
            ]
          },
          "metadata": {},
          "execution_count": 35
        }
      ]
    },
    {
      "cell_type": "code",
      "source": [
        "# SEXO\n",
        "sexo = pd.get_dummies(df3[\"SEXO\"], prefix = \"sex\")\n",
        "sexo = sexo.rename({\"sex_1\":\"sex_M\", \"sex_2\":\"sex_H\"}, axis=\"columns\")\n",
        "sexo.shape"
      ],
      "metadata": {
        "id": "R9K1H6pP3rLD",
        "colab": {
          "base_uri": "https://localhost:8080/"
        },
        "outputId": "768d04a5-cee7-44cb-8275-9751fd4400ae"
      },
      "execution_count": 36,
      "outputs": [
        {
          "output_type": "execute_result",
          "data": {
            "text/plain": [
              "(1743568, 2)"
            ]
          },
          "metadata": {},
          "execution_count": 36
        }
      ]
    },
    {
      "cell_type": "code",
      "source": [
        "# MUNICIPIO_RES\n",
        "alcaldias = pd.get_dummies(df3[\"MUNICIPIO_RES\"], prefix = \"alc\")\n",
        "alcaldias = alcaldias.rename({\"alc_2\" : \"alc_azcap\", \"alc_3\" : \"alc_coyo\", \"alc_4\" : \"alc_cuaj\", \"alc_5\" : \"alc_gam\", \"alc_6\" : \"alc_iztac\", \"alc_7\" : \"alc_iztap\", \"alc_8\" : \"alc_magdC\", \"alc_9\" : \"alc_milpa\", \"alc_10\" : \"alc_alv\", \n",
        "                              \"alc_11\" : \"alc_tlah\", \"alc_12\" : \"alc_tlalp\", \"alc_13\" : \"alc_xoch\", \"alc_14\" : \"alc_beniJ\", \n",
        "                              \"alc_15\" : \"alc_cuauh\", \"alc_16\" : \"alc_migH\", \"alc_17\" : \"venusC\", \"alc_999\" : \"alc_noEsp\"}, axis = \"columns\")\n",
        "alcaldias.shape"
      ],
      "metadata": {
        "id": "MGMzMdFD5iS8",
        "colab": {
          "base_uri": "https://localhost:8080/"
        },
        "outputId": "0ecc6834-d6c7-4bbc-c5be-38b6f2592625"
      },
      "execution_count": 37,
      "outputs": [
        {
          "output_type": "execute_result",
          "data": {
            "text/plain": [
              "(1743568, 17)"
            ]
          },
          "metadata": {},
          "execution_count": 37
        }
      ]
    },
    {
      "cell_type": "code",
      "source": [
        "# TIPO_PACIENTE\n",
        "tipo_paciente = pd.get_dummies(df3[\"TIPO_PACIENTE\"], prefix = \"paciente\")\n",
        "tipo_paciente = tipo_paciente.rename({\"paciente_1\" : \"paciente_amb\", \"paciente_2\" : \"paciente_hosp\"}, axis = \"columns\")\n",
        "tipo_paciente.shape"
      ],
      "metadata": {
        "id": "uAKKBvQy5iQO",
        "colab": {
          "base_uri": "https://localhost:8080/"
        },
        "outputId": "14466437-d5a8-4f85-e721-51dbba7c9d75"
      },
      "execution_count": 38,
      "outputs": [
        {
          "output_type": "execute_result",
          "data": {
            "text/plain": [
              "(1743568, 2)"
            ]
          },
          "metadata": {},
          "execution_count": 38
        }
      ]
    },
    {
      "cell_type": "code",
      "source": [
        "# INTUBADO\n",
        "intubado = pd.get_dummies(df3[\"INTUBADO\"], prefix=\"intub\")\n",
        "intubado = intubado.rename({\"intub_1\" : \"intub_si\", \"intub_2\" : \"intub_no\", \"intub_97\" : \"intub_noAplica\", \"intub_99\" : \"intub_noEsp\"}, axis=\"columns\")\n",
        "intubado.shape"
      ],
      "metadata": {
        "id": "KOqueGCb5iN5",
        "colab": {
          "base_uri": "https://localhost:8080/"
        },
        "outputId": "b58fb00a-426c-4360-bc3d-7dbd78d4edc3"
      },
      "execution_count": 39,
      "outputs": [
        {
          "output_type": "execute_result",
          "data": {
            "text/plain": [
              "(1743568, 4)"
            ]
          },
          "metadata": {},
          "execution_count": 39
        }
      ]
    },
    {
      "cell_type": "code",
      "source": [
        "# NEUMONIA\n",
        "neumonia = pd.get_dummies(df3[\"NEUMONIA\"], prefix=\"neumonia\")\n",
        "neumonia = neumonia.rename({\"neumonia_1\" : \"neumonia_si\", \"neumonia_2\" : \"neumonia_no\", \"neumonia_99\" : \"neumonia_noEsp\"}, axis = \"columns\")\n",
        "neumonia.shape\n"
      ],
      "metadata": {
        "id": "HGElstVj5iKf",
        "colab": {
          "base_uri": "https://localhost:8080/"
        },
        "outputId": "a69c5b3d-cbc2-47fd-9726-65591df6950d"
      },
      "execution_count": 40,
      "outputs": [
        {
          "output_type": "execute_result",
          "data": {
            "text/plain": [
              "(1743568, 3)"
            ]
          },
          "metadata": {},
          "execution_count": 40
        }
      ]
    },
    {
      "cell_type": "code",
      "source": [
        "# EDAD\n",
        "# Se decidió dejar la columna EDAD intacta\n",
        "# Evaluar si esta decisión distorsiona el modelo K-means\n",
        "edad = df3[[\"EDAD\"]]\n",
        "edad.shape"
      ],
      "metadata": {
        "id": "H8tvi5BV5iG0",
        "colab": {
          "base_uri": "https://localhost:8080/"
        },
        "outputId": "8bec73f4-cd3e-4a0b-dfd1-9da284aa973e"
      },
      "execution_count": 41,
      "outputs": [
        {
          "output_type": "execute_result",
          "data": {
            "text/plain": [
              "(1743568, 1)"
            ]
          },
          "metadata": {},
          "execution_count": 41
        }
      ]
    },
    {
      "cell_type": "code",
      "source": [
        "# EMBARAZO\n",
        "embarazo =  pd.get_dummies(df3[\"EMBARAZO\"], prefix=\"embarazo\")\n",
        "embarazo = embarazo.rename({\"embarazo_1\":\"embarazo_si\", \"embarazo_2\":\"embarazo_no\", \"embarazo_97\":\"embarazo_noAplica\", \"embarazo_98\":\"embarazo_seIgn\"}, axis = \"columns\")\n",
        "embarazo.shape"
      ],
      "metadata": {
        "id": "68X2SPsBjkxm",
        "colab": {
          "base_uri": "https://localhost:8080/"
        },
        "outputId": "6c1715f4-d782-41a7-d9bd-c3d3cef19629"
      },
      "execution_count": 42,
      "outputs": [
        {
          "output_type": "execute_result",
          "data": {
            "text/plain": [
              "(1743568, 4)"
            ]
          },
          "metadata": {},
          "execution_count": 42
        }
      ]
    },
    {
      "cell_type": "code",
      "source": [
        "# HABLA_LENGUA_INDIG\n",
        "leng_ind = pd.get_dummies(df3[\"HABLA_LENGUA_INDIG\"], prefix=\"leng_ind\")\n",
        "leng_ind = leng_ind.rename({\"leng_ind_1\" : \"leng_ind_si\", \"leng_ind_2\" : \"leng_ind_no\", \"leng_ind_99\" : \"leng_ind_noEsp\"}, axis = \"columns\")\n",
        "leng_ind.shape"
      ],
      "metadata": {
        "id": "1lprn9uikpFh",
        "colab": {
          "base_uri": "https://localhost:8080/"
        },
        "outputId": "728bb896-6ab3-4b55-a3f9-8015fd6712be"
      },
      "execution_count": 43,
      "outputs": [
        {
          "output_type": "execute_result",
          "data": {
            "text/plain": [
              "(1743568, 3)"
            ]
          },
          "metadata": {},
          "execution_count": 43
        }
      ]
    },
    {
      "cell_type": "code",
      "source": [
        "# INDIGENA\n",
        "indigena = pd.get_dummies(df3[\"INDIGENA\"], prefix=\"indigena\")\n",
        "indigena = indigena.rename({\"indigena_1\":\"indigena_si\", \"indigena_2\":\"indigena_no\", \"indigena_99\":\"indigena_noEsp\"}, axis = \"columns\")\n",
        "indigena.shape"
      ],
      "metadata": {
        "id": "NKME_QKFl1py",
        "colab": {
          "base_uri": "https://localhost:8080/"
        },
        "outputId": "fca071a7-7fc5-44b4-eca6-9e424b0132da"
      },
      "execution_count": 44,
      "outputs": [
        {
          "output_type": "execute_result",
          "data": {
            "text/plain": [
              "(1743568, 3)"
            ]
          },
          "metadata": {},
          "execution_count": 44
        }
      ]
    },
    {
      "cell_type": "code",
      "source": [
        "# DIABETES\n",
        "diabetes = pd.get_dummies(df3[\"DIABETES\"], prefix = \"diabetes\")\n",
        "diabetes = diabetes.rename({\"diabetes_1\":\"diabetes_si\", \"diabetes_2\":\"diabetes_no\", \"diabetes_98\":\"diabetes_seIgn\"}, axis=\"columns\")\n",
        "diabetes.shape"
      ],
      "metadata": {
        "id": "SF3uQ4uAm-V5",
        "colab": {
          "base_uri": "https://localhost:8080/"
        },
        "outputId": "fa7ec501-3902-4d47-9242-c4afdc8aa9b4"
      },
      "execution_count": 45,
      "outputs": [
        {
          "output_type": "execute_result",
          "data": {
            "text/plain": [
              "(1743568, 3)"
            ]
          },
          "metadata": {},
          "execution_count": 45
        }
      ]
    },
    {
      "cell_type": "code",
      "source": [
        "# EPOC\n",
        "epoc = pd.get_dummies(df3[\"EPOC\"], prefix=\"epoc\")\n",
        "epoc = epoc.rename({\"epoc_1\" : \"epoc_si\", \"epoc_2\" : \"epoc_no\", \"epoc_98\" : \"epoc_seIgn\"}, axis=\"columns\")\n",
        "epoc.shape"
      ],
      "metadata": {
        "id": "SecQGCX9kpCr",
        "colab": {
          "base_uri": "https://localhost:8080/"
        },
        "outputId": "72bf6f97-7fbd-4ef6-fc8e-6e1462e75346"
      },
      "execution_count": 46,
      "outputs": [
        {
          "output_type": "execute_result",
          "data": {
            "text/plain": [
              "(1743568, 3)"
            ]
          },
          "metadata": {},
          "execution_count": 46
        }
      ]
    },
    {
      "cell_type": "code",
      "source": [
        "# ASMA\n",
        "asma = pd.get_dummies(df3[\"ASMA\"], prefix=\"asma\")\n",
        "asma = asma.rename({\"asma_1\" : \"asma_si\", \"asma_2\" : \"asma_no\", \"asma_98\" : \"asma_seIgn\"}, axis=\"columns\")\n",
        "asma.shape"
      ],
      "metadata": {
        "id": "bA8Ah-GKko92",
        "colab": {
          "base_uri": "https://localhost:8080/"
        },
        "outputId": "a240d75a-2da7-4821-c0c7-0ff8d0770bac"
      },
      "execution_count": 47,
      "outputs": [
        {
          "output_type": "execute_result",
          "data": {
            "text/plain": [
              "(1743568, 3)"
            ]
          },
          "metadata": {},
          "execution_count": 47
        }
      ]
    },
    {
      "cell_type": "code",
      "source": [
        "# INMUSUPR\n",
        "inmusupr = pd.get_dummies(df3[\"INMUSUPR\"], prefix = \"inmusupr\")\n",
        "inmusupr = inmusupr.rename({\"inmusupr_1\":\"inmusupr_si\", \"inmusupr_2\":\"inmusupr_no\", \"inmusupr_98\":\"inmusupr_seIgn\"}, axis=\"columns\")\n",
        "inmusupr.shape"
      ],
      "metadata": {
        "id": "xtsP0JbqkonS",
        "colab": {
          "base_uri": "https://localhost:8080/"
        },
        "outputId": "ba651893-3af4-450e-d1fe-b480027a40ae"
      },
      "execution_count": 48,
      "outputs": [
        {
          "output_type": "execute_result",
          "data": {
            "text/plain": [
              "(1743568, 3)"
            ]
          },
          "metadata": {},
          "execution_count": 48
        }
      ]
    },
    {
      "cell_type": "code",
      "source": [
        "# HIPERTENSION\n",
        "hipertension = pd.get_dummies(df3[\"HIPERTENSION\"], prefix=\"hipert\")\n",
        "hipertension = hipertension.rename({\"hipert_1\":\"hipert_si\", \"hipert_2\":\"hipert_no\", \"hipert_98\":\"hipert_seIgn\"}, axis=\"columns\")\n",
        "hipertension.shape"
      ],
      "metadata": {
        "id": "hkr5xQ0RpoWz",
        "colab": {
          "base_uri": "https://localhost:8080/"
        },
        "outputId": "305bbcad-992d-4625-a3c8-60dec7174275"
      },
      "execution_count": 49,
      "outputs": [
        {
          "output_type": "execute_result",
          "data": {
            "text/plain": [
              "(1743568, 3)"
            ]
          },
          "metadata": {},
          "execution_count": 49
        }
      ]
    },
    {
      "cell_type": "code",
      "source": [
        "# OTRA_COM\n",
        "otra_com = pd.get_dummies(df3[\"OTRA_COM\"], prefix = \"otr_com\")\n",
        "otra_com = otra_com.rename({\"otr_com_1\":\"otr_com_si\", \"otr_com_2\":\"otr_com_no\", \"otr_com_98\":\"otr_com_seIgn\"}, axis=\"columns\")\n",
        "otra_com.shape"
      ],
      "metadata": {
        "id": "-0JbyFrMpoTd",
        "colab": {
          "base_uri": "https://localhost:8080/"
        },
        "outputId": "c066efa6-7dc7-44e1-e1c3-dabfd325d64f"
      },
      "execution_count": 50,
      "outputs": [
        {
          "output_type": "execute_result",
          "data": {
            "text/plain": [
              "(1743568, 3)"
            ]
          },
          "metadata": {},
          "execution_count": 50
        }
      ]
    },
    {
      "cell_type": "code",
      "source": [
        "# CARDIOVASCULAR\n",
        "cardio = pd.get_dummies(df3[\"CARDIOVASCULAR\"], prefix=\"cardio\")\n",
        "cardio = cardio.rename({\"cardio_1\":\"cardio_si\", \"cardio_2\":\"cardio_no\", \"cardio_98\":\"cardio_seIgn\"}, axis=\"columns\")\n",
        "cardio.shape"
      ],
      "metadata": {
        "id": "pUfWJkm2poQJ",
        "colab": {
          "base_uri": "https://localhost:8080/"
        },
        "outputId": "93e41c41-a6bd-4052-af74-108b338ec7e0"
      },
      "execution_count": 51,
      "outputs": [
        {
          "output_type": "execute_result",
          "data": {
            "text/plain": [
              "(1743568, 3)"
            ]
          },
          "metadata": {},
          "execution_count": 51
        }
      ]
    },
    {
      "cell_type": "code",
      "source": [
        "# OBESIDAD\n",
        "obesidad = pd.get_dummies(df3[\"OBESIDAD\"], prefix=\"obesidad\")\n",
        "obesidad = obesidad.rename({\"obesidad_1\":\"obesidad_si\", \"obesidad_2\":\"obesidad_no\", \"obesidad_98\":\"obesidad_seIgn\"}, axis=\"columns\")\n",
        "obesidad.shape"
      ],
      "metadata": {
        "id": "RJXpgNffszns",
        "colab": {
          "base_uri": "https://localhost:8080/"
        },
        "outputId": "95693bbb-83c6-4a7a-d925-0bf88b85605d"
      },
      "execution_count": 52,
      "outputs": [
        {
          "output_type": "execute_result",
          "data": {
            "text/plain": [
              "(1743568, 3)"
            ]
          },
          "metadata": {},
          "execution_count": 52
        }
      ]
    },
    {
      "cell_type": "code",
      "source": [
        "# RENAL_CRONICA\n",
        "renal_cronica = pd.get_dummies(df3[\"RENAL_CRONICA\"], prefix=\"renalCr\")\n",
        "renal_cronica = renal_cronica.rename({\"renalCr_1\":\"renalCr_si\", \"renalCr_2\":\"renalCr_no\", \"renalCr_98\":\"renalCr_seIgn\"}, axis=\"columns\")\n",
        "renal_cronica.shape"
      ],
      "metadata": {
        "id": "66UycW00szkk",
        "colab": {
          "base_uri": "https://localhost:8080/"
        },
        "outputId": "54acb68f-d8e1-405a-91ed-88b71beef206"
      },
      "execution_count": 53,
      "outputs": [
        {
          "output_type": "execute_result",
          "data": {
            "text/plain": [
              "(1743568, 3)"
            ]
          },
          "metadata": {},
          "execution_count": 53
        }
      ]
    },
    {
      "cell_type": "code",
      "source": [
        "# TABAQUISMO\n",
        "tabaquismo = pd.get_dummies(df3[\"TABAQUISMO\"], prefix=\"tabaq\")\n",
        "tabaquismo = tabaquismo.rename({\"tabaq_1\":\"tabaq_si\", \"tabaq_2\":\"tabaq_no\", \"tabaq_98\":\"tabaq_seIgn\"}, axis=\"columns\")\n",
        "tabaquismo.shape"
      ],
      "metadata": {
        "id": "obaTrF-fszh4",
        "colab": {
          "base_uri": "https://localhost:8080/"
        },
        "outputId": "ea426118-d78e-49e3-b5f3-6d2c34e0f8eb"
      },
      "execution_count": 54,
      "outputs": [
        {
          "output_type": "execute_result",
          "data": {
            "text/plain": [
              "(1743568, 3)"
            ]
          },
          "metadata": {},
          "execution_count": 54
        }
      ]
    },
    {
      "cell_type": "code",
      "source": [
        "# OTRO_CASO\n",
        "otro_caso = pd.get_dummies(df3[\"OTRO_CASO\"], prefix=\"otr_caso\")\n",
        "otro_caso = otro_caso.rename({\"otr_caso_1\":\"otr_caso_si\", \"otr_caso_2\":\"otr_caso_no\", \"otr_caso_99\":\"otr_caso_seIgn\"}, axis=\"columns\")\n",
        "otro_caso.shape"
      ],
      "metadata": {
        "id": "JbHRearEszet",
        "colab": {
          "base_uri": "https://localhost:8080/"
        },
        "outputId": "a841b3a3-7bbd-4520-fddd-1d14951f35e8"
      },
      "execution_count": 55,
      "outputs": [
        {
          "output_type": "execute_result",
          "data": {
            "text/plain": [
              "(1743568, 3)"
            ]
          },
          "metadata": {},
          "execution_count": 55
        }
      ]
    },
    {
      "cell_type": "code",
      "source": [
        "# UCI\n",
        "uci = pd.get_dummies(df3[\"UCI\"], prefix=\"uci\")\n",
        "uci = uci.rename({\"uci_1\":\"uci_si\", \"uci_2\":\"uci_no\", \"uci_97\":\"uci_noAplica\", \"uci_99\":\"uci_noEsp\"}, axis=\"columns\")\n",
        "uci.shape"
      ],
      "metadata": {
        "id": "54Io12nfvzc1",
        "colab": {
          "base_uri": "https://localhost:8080/"
        },
        "outputId": "28f66cbe-8554-497e-d3b0-c1f2fcb03a5c"
      },
      "execution_count": 56,
      "outputs": [
        {
          "output_type": "execute_result",
          "data": {
            "text/plain": [
              "(1743568, 4)"
            ]
          },
          "metadata": {},
          "execution_count": 56
        }
      ]
    },
    {
      "cell_type": "code",
      "source": [
        "# defunciones\n",
        "defunciones = df3[[\"defunciones\"]]\n",
        "defunciones.shape"
      ],
      "metadata": {
        "id": "_aOm-piF0CLe",
        "colab": {
          "base_uri": "https://localhost:8080/"
        },
        "outputId": "08eff34f-6777-4161-dbef-4eec6051fd89"
      },
      "execution_count": 57,
      "outputs": [
        {
          "output_type": "execute_result",
          "data": {
            "text/plain": [
              "(1743568, 1)"
            ]
          },
          "metadata": {},
          "execution_count": 57
        }
      ]
    },
    {
      "cell_type": "markdown",
      "source": [
        "# Concatenando los 23 dataframes en el dataframe df4"
      ],
      "metadata": {
        "id": "1Xd87QbgxXE2"
      }
    },
    {
      "cell_type": "code",
      "source": [
        "X = pd.concat([sector, sexo, alcaldias, tipo_paciente, intubado, neumonia, edad, embarazo, leng_ind, indigena, diabetes, epoc, asma, inmusupr, hipertension, otra_com, cardio, obesidad, renal_cronica, tabaquismo, otro_caso, uci, defunciones], axis=1)\n",
        "X"
      ],
      "metadata": {
        "id": "GZhOGyRHvzWT",
        "colab": {
          "base_uri": "https://localhost:8080/",
          "height": 0
        },
        "outputId": "5886ce3d-358c-4cc6-adc8-edc7d015940e"
      },
      "execution_count": 58,
      "outputs": [
        {
          "output_type": "execute_result",
          "data": {
            "text/plain": [
              "         inst_1  inst_2  inst_3  inst_4  inst_5  inst_6  inst_7  inst_8  \\\n",
              "0             0       0       0       0       0       0       0       0   \n",
              "1             0       0       0       0       0       0       0       0   \n",
              "2             0       0       0       0       0       0       0       0   \n",
              "3             0       0       0       0       0       0       0       0   \n",
              "4             0       0       0       0       0       0       0       0   \n",
              "...         ...     ...     ...     ...     ...     ...     ...     ...   \n",
              "1752237       0       0       0       0       0       0       0       0   \n",
              "1752238       0       0       0       0       0       0       0       0   \n",
              "1752239       0       0       0       0       0       0       0       0   \n",
              "1752240       0       0       0       0       0       0       0       0   \n",
              "1752241       0       0       0       0       0       0       0       0   \n",
              "\n",
              "         inst_9  inst_10  ...  tabaq_no  tabaq_seIgn  otr_caso_si  \\\n",
              "0             0        0  ...         1            0            1   \n",
              "1             0        0  ...         1            0            1   \n",
              "2             0        0  ...         1            0            1   \n",
              "3             0        0  ...         1            0            1   \n",
              "4             0        0  ...         1            0            1   \n",
              "...         ...      ...  ...       ...          ...          ...   \n",
              "1752237       0        0  ...         1            0            0   \n",
              "1752238       0        0  ...         1            0            0   \n",
              "1752239       1        0  ...         1            0            0   \n",
              "1752240       0        0  ...         1            0            0   \n",
              "1752241       0        0  ...         1            0            0   \n",
              "\n",
              "         otr_caso_no  otr_caso_seIgn  uci_si  uci_no  uci_noAplica  uci_noEsp  \\\n",
              "0                  0               0       0       0             1          0   \n",
              "1                  0               0       0       0             1          0   \n",
              "2                  0               0       0       0             1          0   \n",
              "3                  0               0       0       0             1          0   \n",
              "4                  0               0       0       0             1          0   \n",
              "...              ...             ...     ...     ...           ...        ...   \n",
              "1752237            0               1       0       0             1          0   \n",
              "1752238            0               1       0       0             1          0   \n",
              "1752239            0               1       0       0             1          0   \n",
              "1752240            0               1       0       0             1          0   \n",
              "1752241            0               1       0       0             1          0   \n",
              "\n",
              "         defunciones  \n",
              "0                  0  \n",
              "1                  0  \n",
              "2                  0  \n",
              "3                  0  \n",
              "4                  0  \n",
              "...              ...  \n",
              "1752237            0  \n",
              "1752238            0  \n",
              "1752239            0  \n",
              "1752240            0  \n",
              "1752241            0  \n",
              "\n",
              "[1743568 rows x 91 columns]"
            ],
            "text/html": [
              "\n",
              "  <div id=\"df-bd4f7d05-8620-47a0-b979-9a07ad581247\">\n",
              "    <div class=\"colab-df-container\">\n",
              "      <div>\n",
              "<style scoped>\n",
              "    .dataframe tbody tr th:only-of-type {\n",
              "        vertical-align: middle;\n",
              "    }\n",
              "\n",
              "    .dataframe tbody tr th {\n",
              "        vertical-align: top;\n",
              "    }\n",
              "\n",
              "    .dataframe thead th {\n",
              "        text-align: right;\n",
              "    }\n",
              "</style>\n",
              "<table border=\"1\" class=\"dataframe\">\n",
              "  <thead>\n",
              "    <tr style=\"text-align: right;\">\n",
              "      <th></th>\n",
              "      <th>inst_1</th>\n",
              "      <th>inst_2</th>\n",
              "      <th>inst_3</th>\n",
              "      <th>inst_4</th>\n",
              "      <th>inst_5</th>\n",
              "      <th>inst_6</th>\n",
              "      <th>inst_7</th>\n",
              "      <th>inst_8</th>\n",
              "      <th>inst_9</th>\n",
              "      <th>inst_10</th>\n",
              "      <th>...</th>\n",
              "      <th>tabaq_no</th>\n",
              "      <th>tabaq_seIgn</th>\n",
              "      <th>otr_caso_si</th>\n",
              "      <th>otr_caso_no</th>\n",
              "      <th>otr_caso_seIgn</th>\n",
              "      <th>uci_si</th>\n",
              "      <th>uci_no</th>\n",
              "      <th>uci_noAplica</th>\n",
              "      <th>uci_noEsp</th>\n",
              "      <th>defunciones</th>\n",
              "    </tr>\n",
              "  </thead>\n",
              "  <tbody>\n",
              "    <tr>\n",
              "      <th>0</th>\n",
              "      <td>0</td>\n",
              "      <td>0</td>\n",
              "      <td>0</td>\n",
              "      <td>0</td>\n",
              "      <td>0</td>\n",
              "      <td>0</td>\n",
              "      <td>0</td>\n",
              "      <td>0</td>\n",
              "      <td>0</td>\n",
              "      <td>0</td>\n",
              "      <td>...</td>\n",
              "      <td>1</td>\n",
              "      <td>0</td>\n",
              "      <td>1</td>\n",
              "      <td>0</td>\n",
              "      <td>0</td>\n",
              "      <td>0</td>\n",
              "      <td>0</td>\n",
              "      <td>1</td>\n",
              "      <td>0</td>\n",
              "      <td>0</td>\n",
              "    </tr>\n",
              "    <tr>\n",
              "      <th>1</th>\n",
              "      <td>0</td>\n",
              "      <td>0</td>\n",
              "      <td>0</td>\n",
              "      <td>0</td>\n",
              "      <td>0</td>\n",
              "      <td>0</td>\n",
              "      <td>0</td>\n",
              "      <td>0</td>\n",
              "      <td>0</td>\n",
              "      <td>0</td>\n",
              "      <td>...</td>\n",
              "      <td>1</td>\n",
              "      <td>0</td>\n",
              "      <td>1</td>\n",
              "      <td>0</td>\n",
              "      <td>0</td>\n",
              "      <td>0</td>\n",
              "      <td>0</td>\n",
              "      <td>1</td>\n",
              "      <td>0</td>\n",
              "      <td>0</td>\n",
              "    </tr>\n",
              "    <tr>\n",
              "      <th>2</th>\n",
              "      <td>0</td>\n",
              "      <td>0</td>\n",
              "      <td>0</td>\n",
              "      <td>0</td>\n",
              "      <td>0</td>\n",
              "      <td>0</td>\n",
              "      <td>0</td>\n",
              "      <td>0</td>\n",
              "      <td>0</td>\n",
              "      <td>0</td>\n",
              "      <td>...</td>\n",
              "      <td>1</td>\n",
              "      <td>0</td>\n",
              "      <td>1</td>\n",
              "      <td>0</td>\n",
              "      <td>0</td>\n",
              "      <td>0</td>\n",
              "      <td>0</td>\n",
              "      <td>1</td>\n",
              "      <td>0</td>\n",
              "      <td>0</td>\n",
              "    </tr>\n",
              "    <tr>\n",
              "      <th>3</th>\n",
              "      <td>0</td>\n",
              "      <td>0</td>\n",
              "      <td>0</td>\n",
              "      <td>0</td>\n",
              "      <td>0</td>\n",
              "      <td>0</td>\n",
              "      <td>0</td>\n",
              "      <td>0</td>\n",
              "      <td>0</td>\n",
              "      <td>0</td>\n",
              "      <td>...</td>\n",
              "      <td>1</td>\n",
              "      <td>0</td>\n",
              "      <td>1</td>\n",
              "      <td>0</td>\n",
              "      <td>0</td>\n",
              "      <td>0</td>\n",
              "      <td>0</td>\n",
              "      <td>1</td>\n",
              "      <td>0</td>\n",
              "      <td>0</td>\n",
              "    </tr>\n",
              "    <tr>\n",
              "      <th>4</th>\n",
              "      <td>0</td>\n",
              "      <td>0</td>\n",
              "      <td>0</td>\n",
              "      <td>0</td>\n",
              "      <td>0</td>\n",
              "      <td>0</td>\n",
              "      <td>0</td>\n",
              "      <td>0</td>\n",
              "      <td>0</td>\n",
              "      <td>0</td>\n",
              "      <td>...</td>\n",
              "      <td>1</td>\n",
              "      <td>0</td>\n",
              "      <td>1</td>\n",
              "      <td>0</td>\n",
              "      <td>0</td>\n",
              "      <td>0</td>\n",
              "      <td>0</td>\n",
              "      <td>1</td>\n",
              "      <td>0</td>\n",
              "      <td>0</td>\n",
              "    </tr>\n",
              "    <tr>\n",
              "      <th>...</th>\n",
              "      <td>...</td>\n",
              "      <td>...</td>\n",
              "      <td>...</td>\n",
              "      <td>...</td>\n",
              "      <td>...</td>\n",
              "      <td>...</td>\n",
              "      <td>...</td>\n",
              "      <td>...</td>\n",
              "      <td>...</td>\n",
              "      <td>...</td>\n",
              "      <td>...</td>\n",
              "      <td>...</td>\n",
              "      <td>...</td>\n",
              "      <td>...</td>\n",
              "      <td>...</td>\n",
              "      <td>...</td>\n",
              "      <td>...</td>\n",
              "      <td>...</td>\n",
              "      <td>...</td>\n",
              "      <td>...</td>\n",
              "      <td>...</td>\n",
              "    </tr>\n",
              "    <tr>\n",
              "      <th>1752237</th>\n",
              "      <td>0</td>\n",
              "      <td>0</td>\n",
              "      <td>0</td>\n",
              "      <td>0</td>\n",
              "      <td>0</td>\n",
              "      <td>0</td>\n",
              "      <td>0</td>\n",
              "      <td>0</td>\n",
              "      <td>0</td>\n",
              "      <td>0</td>\n",
              "      <td>...</td>\n",
              "      <td>1</td>\n",
              "      <td>0</td>\n",
              "      <td>0</td>\n",
              "      <td>0</td>\n",
              "      <td>1</td>\n",
              "      <td>0</td>\n",
              "      <td>0</td>\n",
              "      <td>1</td>\n",
              "      <td>0</td>\n",
              "      <td>0</td>\n",
              "    </tr>\n",
              "    <tr>\n",
              "      <th>1752238</th>\n",
              "      <td>0</td>\n",
              "      <td>0</td>\n",
              "      <td>0</td>\n",
              "      <td>0</td>\n",
              "      <td>0</td>\n",
              "      <td>0</td>\n",
              "      <td>0</td>\n",
              "      <td>0</td>\n",
              "      <td>0</td>\n",
              "      <td>0</td>\n",
              "      <td>...</td>\n",
              "      <td>1</td>\n",
              "      <td>0</td>\n",
              "      <td>0</td>\n",
              "      <td>0</td>\n",
              "      <td>1</td>\n",
              "      <td>0</td>\n",
              "      <td>0</td>\n",
              "      <td>1</td>\n",
              "      <td>0</td>\n",
              "      <td>0</td>\n",
              "    </tr>\n",
              "    <tr>\n",
              "      <th>1752239</th>\n",
              "      <td>0</td>\n",
              "      <td>0</td>\n",
              "      <td>0</td>\n",
              "      <td>0</td>\n",
              "      <td>0</td>\n",
              "      <td>0</td>\n",
              "      <td>0</td>\n",
              "      <td>0</td>\n",
              "      <td>1</td>\n",
              "      <td>0</td>\n",
              "      <td>...</td>\n",
              "      <td>1</td>\n",
              "      <td>0</td>\n",
              "      <td>0</td>\n",
              "      <td>0</td>\n",
              "      <td>1</td>\n",
              "      <td>0</td>\n",
              "      <td>0</td>\n",
              "      <td>1</td>\n",
              "      <td>0</td>\n",
              "      <td>0</td>\n",
              "    </tr>\n",
              "    <tr>\n",
              "      <th>1752240</th>\n",
              "      <td>0</td>\n",
              "      <td>0</td>\n",
              "      <td>0</td>\n",
              "      <td>0</td>\n",
              "      <td>0</td>\n",
              "      <td>0</td>\n",
              "      <td>0</td>\n",
              "      <td>0</td>\n",
              "      <td>0</td>\n",
              "      <td>0</td>\n",
              "      <td>...</td>\n",
              "      <td>1</td>\n",
              "      <td>0</td>\n",
              "      <td>0</td>\n",
              "      <td>0</td>\n",
              "      <td>1</td>\n",
              "      <td>0</td>\n",
              "      <td>0</td>\n",
              "      <td>1</td>\n",
              "      <td>0</td>\n",
              "      <td>0</td>\n",
              "    </tr>\n",
              "    <tr>\n",
              "      <th>1752241</th>\n",
              "      <td>0</td>\n",
              "      <td>0</td>\n",
              "      <td>0</td>\n",
              "      <td>0</td>\n",
              "      <td>0</td>\n",
              "      <td>0</td>\n",
              "      <td>0</td>\n",
              "      <td>0</td>\n",
              "      <td>0</td>\n",
              "      <td>0</td>\n",
              "      <td>...</td>\n",
              "      <td>1</td>\n",
              "      <td>0</td>\n",
              "      <td>0</td>\n",
              "      <td>0</td>\n",
              "      <td>1</td>\n",
              "      <td>0</td>\n",
              "      <td>0</td>\n",
              "      <td>1</td>\n",
              "      <td>0</td>\n",
              "      <td>0</td>\n",
              "    </tr>\n",
              "  </tbody>\n",
              "</table>\n",
              "<p>1743568 rows × 91 columns</p>\n",
              "</div>\n",
              "      <button class=\"colab-df-convert\" onclick=\"convertToInteractive('df-bd4f7d05-8620-47a0-b979-9a07ad581247')\"\n",
              "              title=\"Convert this dataframe to an interactive table.\"\n",
              "              style=\"display:none;\">\n",
              "        \n",
              "  <svg xmlns=\"http://www.w3.org/2000/svg\" height=\"24px\"viewBox=\"0 0 24 24\"\n",
              "       width=\"24px\">\n",
              "    <path d=\"M0 0h24v24H0V0z\" fill=\"none\"/>\n",
              "    <path d=\"M18.56 5.44l.94 2.06.94-2.06 2.06-.94-2.06-.94-.94-2.06-.94 2.06-2.06.94zm-11 1L8.5 8.5l.94-2.06 2.06-.94-2.06-.94L8.5 2.5l-.94 2.06-2.06.94zm10 10l.94 2.06.94-2.06 2.06-.94-2.06-.94-.94-2.06-.94 2.06-2.06.94z\"/><path d=\"M17.41 7.96l-1.37-1.37c-.4-.4-.92-.59-1.43-.59-.52 0-1.04.2-1.43.59L10.3 9.45l-7.72 7.72c-.78.78-.78 2.05 0 2.83L4 21.41c.39.39.9.59 1.41.59.51 0 1.02-.2 1.41-.59l7.78-7.78 2.81-2.81c.8-.78.8-2.07 0-2.86zM5.41 20L4 18.59l7.72-7.72 1.47 1.35L5.41 20z\"/>\n",
              "  </svg>\n",
              "      </button>\n",
              "      \n",
              "  <style>\n",
              "    .colab-df-container {\n",
              "      display:flex;\n",
              "      flex-wrap:wrap;\n",
              "      gap: 12px;\n",
              "    }\n",
              "\n",
              "    .colab-df-convert {\n",
              "      background-color: #E8F0FE;\n",
              "      border: none;\n",
              "      border-radius: 50%;\n",
              "      cursor: pointer;\n",
              "      display: none;\n",
              "      fill: #1967D2;\n",
              "      height: 32px;\n",
              "      padding: 0 0 0 0;\n",
              "      width: 32px;\n",
              "    }\n",
              "\n",
              "    .colab-df-convert:hover {\n",
              "      background-color: #E2EBFA;\n",
              "      box-shadow: 0px 1px 2px rgba(60, 64, 67, 0.3), 0px 1px 3px 1px rgba(60, 64, 67, 0.15);\n",
              "      fill: #174EA6;\n",
              "    }\n",
              "\n",
              "    [theme=dark] .colab-df-convert {\n",
              "      background-color: #3B4455;\n",
              "      fill: #D2E3FC;\n",
              "    }\n",
              "\n",
              "    [theme=dark] .colab-df-convert:hover {\n",
              "      background-color: #434B5C;\n",
              "      box-shadow: 0px 1px 3px 1px rgba(0, 0, 0, 0.15);\n",
              "      filter: drop-shadow(0px 1px 2px rgba(0, 0, 0, 0.3));\n",
              "      fill: #FFFFFF;\n",
              "    }\n",
              "  </style>\n",
              "\n",
              "      <script>\n",
              "        const buttonEl =\n",
              "          document.querySelector('#df-bd4f7d05-8620-47a0-b979-9a07ad581247 button.colab-df-convert');\n",
              "        buttonEl.style.display =\n",
              "          google.colab.kernel.accessAllowed ? 'block' : 'none';\n",
              "\n",
              "        async function convertToInteractive(key) {\n",
              "          const element = document.querySelector('#df-bd4f7d05-8620-47a0-b979-9a07ad581247');\n",
              "          const dataTable =\n",
              "            await google.colab.kernel.invokeFunction('convertToInteractive',\n",
              "                                                     [key], {});\n",
              "          if (!dataTable) return;\n",
              "\n",
              "          const docLinkHtml = 'Like what you see? Visit the ' +\n",
              "            '<a target=\"_blank\" href=https://colab.research.google.com/notebooks/data_table.ipynb>data table notebook</a>'\n",
              "            + ' to learn more about interactive tables.';\n",
              "          element.innerHTML = '';\n",
              "          dataTable['output_type'] = 'display_data';\n",
              "          await google.colab.output.renderOutput(dataTable, element);\n",
              "          const docLink = document.createElement('div');\n",
              "          docLink.innerHTML = docLinkHtml;\n",
              "          element.appendChild(docLink);\n",
              "        }\n",
              "      </script>\n",
              "    </div>\n",
              "  </div>\n",
              "  "
            ]
          },
          "metadata": {},
          "execution_count": 58
        }
      ]
    },
    {
      "cell_type": "markdown",
      "source": [
        "# Creando el dataframe X"
      ],
      "metadata": {
        "id": "skLyYrz9PIKe"
      }
    },
    {
      "cell_type": "code",
      "source": [
        "# X = df.drop(columns=[\"FECHA_ACTUALIZACION\", \"ID_REGISTRO\", \"ENTIDAD_RES\", \"FECHA_INGRESO\", \"FECHA_SINTOMAS\", \"FECHA_DEF\", \"PAIS_NACIONALIDAD\", \"PAIS_ORIGEN\"])\n",
        "X.head()"
      ],
      "metadata": {
        "id": "Z4es_J2ZPLzK",
        "colab": {
          "base_uri": "https://localhost:8080/",
          "height": 236
        },
        "outputId": "4bf39540-de7f-4308-8578-5356f8c99be0"
      },
      "execution_count": 59,
      "outputs": [
        {
          "output_type": "execute_result",
          "data": {
            "text/plain": [
              "   inst_1  inst_2  inst_3  inst_4  inst_5  inst_6  inst_7  inst_8  inst_9  \\\n",
              "0       0       0       0       0       0       0       0       0       0   \n",
              "1       0       0       0       0       0       0       0       0       0   \n",
              "2       0       0       0       0       0       0       0       0       0   \n",
              "3       0       0       0       0       0       0       0       0       0   \n",
              "4       0       0       0       0       0       0       0       0       0   \n",
              "\n",
              "   inst_10  ...  tabaq_no  tabaq_seIgn  otr_caso_si  otr_caso_no  \\\n",
              "0        0  ...         1            0            1            0   \n",
              "1        0  ...         1            0            1            0   \n",
              "2        0  ...         1            0            1            0   \n",
              "3        0  ...         1            0            1            0   \n",
              "4        0  ...         1            0            1            0   \n",
              "\n",
              "   otr_caso_seIgn  uci_si  uci_no  uci_noAplica  uci_noEsp  defunciones  \n",
              "0               0       0       0             1          0            0  \n",
              "1               0       0       0             1          0            0  \n",
              "2               0       0       0             1          0            0  \n",
              "3               0       0       0             1          0            0  \n",
              "4               0       0       0             1          0            0  \n",
              "\n",
              "[5 rows x 91 columns]"
            ],
            "text/html": [
              "\n",
              "  <div id=\"df-917af409-0a41-486c-8c2c-287a7caecd13\">\n",
              "    <div class=\"colab-df-container\">\n",
              "      <div>\n",
              "<style scoped>\n",
              "    .dataframe tbody tr th:only-of-type {\n",
              "        vertical-align: middle;\n",
              "    }\n",
              "\n",
              "    .dataframe tbody tr th {\n",
              "        vertical-align: top;\n",
              "    }\n",
              "\n",
              "    .dataframe thead th {\n",
              "        text-align: right;\n",
              "    }\n",
              "</style>\n",
              "<table border=\"1\" class=\"dataframe\">\n",
              "  <thead>\n",
              "    <tr style=\"text-align: right;\">\n",
              "      <th></th>\n",
              "      <th>inst_1</th>\n",
              "      <th>inst_2</th>\n",
              "      <th>inst_3</th>\n",
              "      <th>inst_4</th>\n",
              "      <th>inst_5</th>\n",
              "      <th>inst_6</th>\n",
              "      <th>inst_7</th>\n",
              "      <th>inst_8</th>\n",
              "      <th>inst_9</th>\n",
              "      <th>inst_10</th>\n",
              "      <th>...</th>\n",
              "      <th>tabaq_no</th>\n",
              "      <th>tabaq_seIgn</th>\n",
              "      <th>otr_caso_si</th>\n",
              "      <th>otr_caso_no</th>\n",
              "      <th>otr_caso_seIgn</th>\n",
              "      <th>uci_si</th>\n",
              "      <th>uci_no</th>\n",
              "      <th>uci_noAplica</th>\n",
              "      <th>uci_noEsp</th>\n",
              "      <th>defunciones</th>\n",
              "    </tr>\n",
              "  </thead>\n",
              "  <tbody>\n",
              "    <tr>\n",
              "      <th>0</th>\n",
              "      <td>0</td>\n",
              "      <td>0</td>\n",
              "      <td>0</td>\n",
              "      <td>0</td>\n",
              "      <td>0</td>\n",
              "      <td>0</td>\n",
              "      <td>0</td>\n",
              "      <td>0</td>\n",
              "      <td>0</td>\n",
              "      <td>0</td>\n",
              "      <td>...</td>\n",
              "      <td>1</td>\n",
              "      <td>0</td>\n",
              "      <td>1</td>\n",
              "      <td>0</td>\n",
              "      <td>0</td>\n",
              "      <td>0</td>\n",
              "      <td>0</td>\n",
              "      <td>1</td>\n",
              "      <td>0</td>\n",
              "      <td>0</td>\n",
              "    </tr>\n",
              "    <tr>\n",
              "      <th>1</th>\n",
              "      <td>0</td>\n",
              "      <td>0</td>\n",
              "      <td>0</td>\n",
              "      <td>0</td>\n",
              "      <td>0</td>\n",
              "      <td>0</td>\n",
              "      <td>0</td>\n",
              "      <td>0</td>\n",
              "      <td>0</td>\n",
              "      <td>0</td>\n",
              "      <td>...</td>\n",
              "      <td>1</td>\n",
              "      <td>0</td>\n",
              "      <td>1</td>\n",
              "      <td>0</td>\n",
              "      <td>0</td>\n",
              "      <td>0</td>\n",
              "      <td>0</td>\n",
              "      <td>1</td>\n",
              "      <td>0</td>\n",
              "      <td>0</td>\n",
              "    </tr>\n",
              "    <tr>\n",
              "      <th>2</th>\n",
              "      <td>0</td>\n",
              "      <td>0</td>\n",
              "      <td>0</td>\n",
              "      <td>0</td>\n",
              "      <td>0</td>\n",
              "      <td>0</td>\n",
              "      <td>0</td>\n",
              "      <td>0</td>\n",
              "      <td>0</td>\n",
              "      <td>0</td>\n",
              "      <td>...</td>\n",
              "      <td>1</td>\n",
              "      <td>0</td>\n",
              "      <td>1</td>\n",
              "      <td>0</td>\n",
              "      <td>0</td>\n",
              "      <td>0</td>\n",
              "      <td>0</td>\n",
              "      <td>1</td>\n",
              "      <td>0</td>\n",
              "      <td>0</td>\n",
              "    </tr>\n",
              "    <tr>\n",
              "      <th>3</th>\n",
              "      <td>0</td>\n",
              "      <td>0</td>\n",
              "      <td>0</td>\n",
              "      <td>0</td>\n",
              "      <td>0</td>\n",
              "      <td>0</td>\n",
              "      <td>0</td>\n",
              "      <td>0</td>\n",
              "      <td>0</td>\n",
              "      <td>0</td>\n",
              "      <td>...</td>\n",
              "      <td>1</td>\n",
              "      <td>0</td>\n",
              "      <td>1</td>\n",
              "      <td>0</td>\n",
              "      <td>0</td>\n",
              "      <td>0</td>\n",
              "      <td>0</td>\n",
              "      <td>1</td>\n",
              "      <td>0</td>\n",
              "      <td>0</td>\n",
              "    </tr>\n",
              "    <tr>\n",
              "      <th>4</th>\n",
              "      <td>0</td>\n",
              "      <td>0</td>\n",
              "      <td>0</td>\n",
              "      <td>0</td>\n",
              "      <td>0</td>\n",
              "      <td>0</td>\n",
              "      <td>0</td>\n",
              "      <td>0</td>\n",
              "      <td>0</td>\n",
              "      <td>0</td>\n",
              "      <td>...</td>\n",
              "      <td>1</td>\n",
              "      <td>0</td>\n",
              "      <td>1</td>\n",
              "      <td>0</td>\n",
              "      <td>0</td>\n",
              "      <td>0</td>\n",
              "      <td>0</td>\n",
              "      <td>1</td>\n",
              "      <td>0</td>\n",
              "      <td>0</td>\n",
              "    </tr>\n",
              "  </tbody>\n",
              "</table>\n",
              "<p>5 rows × 91 columns</p>\n",
              "</div>\n",
              "      <button class=\"colab-df-convert\" onclick=\"convertToInteractive('df-917af409-0a41-486c-8c2c-287a7caecd13')\"\n",
              "              title=\"Convert this dataframe to an interactive table.\"\n",
              "              style=\"display:none;\">\n",
              "        \n",
              "  <svg xmlns=\"http://www.w3.org/2000/svg\" height=\"24px\"viewBox=\"0 0 24 24\"\n",
              "       width=\"24px\">\n",
              "    <path d=\"M0 0h24v24H0V0z\" fill=\"none\"/>\n",
              "    <path d=\"M18.56 5.44l.94 2.06.94-2.06 2.06-.94-2.06-.94-.94-2.06-.94 2.06-2.06.94zm-11 1L8.5 8.5l.94-2.06 2.06-.94-2.06-.94L8.5 2.5l-.94 2.06-2.06.94zm10 10l.94 2.06.94-2.06 2.06-.94-2.06-.94-.94-2.06-.94 2.06-2.06.94z\"/><path d=\"M17.41 7.96l-1.37-1.37c-.4-.4-.92-.59-1.43-.59-.52 0-1.04.2-1.43.59L10.3 9.45l-7.72 7.72c-.78.78-.78 2.05 0 2.83L4 21.41c.39.39.9.59 1.41.59.51 0 1.02-.2 1.41-.59l7.78-7.78 2.81-2.81c.8-.78.8-2.07 0-2.86zM5.41 20L4 18.59l7.72-7.72 1.47 1.35L5.41 20z\"/>\n",
              "  </svg>\n",
              "      </button>\n",
              "      \n",
              "  <style>\n",
              "    .colab-df-container {\n",
              "      display:flex;\n",
              "      flex-wrap:wrap;\n",
              "      gap: 12px;\n",
              "    }\n",
              "\n",
              "    .colab-df-convert {\n",
              "      background-color: #E8F0FE;\n",
              "      border: none;\n",
              "      border-radius: 50%;\n",
              "      cursor: pointer;\n",
              "      display: none;\n",
              "      fill: #1967D2;\n",
              "      height: 32px;\n",
              "      padding: 0 0 0 0;\n",
              "      width: 32px;\n",
              "    }\n",
              "\n",
              "    .colab-df-convert:hover {\n",
              "      background-color: #E2EBFA;\n",
              "      box-shadow: 0px 1px 2px rgba(60, 64, 67, 0.3), 0px 1px 3px 1px rgba(60, 64, 67, 0.15);\n",
              "      fill: #174EA6;\n",
              "    }\n",
              "\n",
              "    [theme=dark] .colab-df-convert {\n",
              "      background-color: #3B4455;\n",
              "      fill: #D2E3FC;\n",
              "    }\n",
              "\n",
              "    [theme=dark] .colab-df-convert:hover {\n",
              "      background-color: #434B5C;\n",
              "      box-shadow: 0px 1px 3px 1px rgba(0, 0, 0, 0.15);\n",
              "      filter: drop-shadow(0px 1px 2px rgba(0, 0, 0, 0.3));\n",
              "      fill: #FFFFFF;\n",
              "    }\n",
              "  </style>\n",
              "\n",
              "      <script>\n",
              "        const buttonEl =\n",
              "          document.querySelector('#df-917af409-0a41-486c-8c2c-287a7caecd13 button.colab-df-convert');\n",
              "        buttonEl.style.display =\n",
              "          google.colab.kernel.accessAllowed ? 'block' : 'none';\n",
              "\n",
              "        async function convertToInteractive(key) {\n",
              "          const element = document.querySelector('#df-917af409-0a41-486c-8c2c-287a7caecd13');\n",
              "          const dataTable =\n",
              "            await google.colab.kernel.invokeFunction('convertToInteractive',\n",
              "                                                     [key], {});\n",
              "          if (!dataTable) return;\n",
              "\n",
              "          const docLinkHtml = 'Like what you see? Visit the ' +\n",
              "            '<a target=\"_blank\" href=https://colab.research.google.com/notebooks/data_table.ipynb>data table notebook</a>'\n",
              "            + ' to learn more about interactive tables.';\n",
              "          element.innerHTML = '';\n",
              "          dataTable['output_type'] = 'display_data';\n",
              "          await google.colab.output.renderOutput(dataTable, element);\n",
              "          const docLink = document.createElement('div');\n",
              "          docLink.innerHTML = docLinkHtml;\n",
              "          element.appendChild(docLink);\n",
              "        }\n",
              "      </script>\n",
              "    </div>\n",
              "  </div>\n",
              "  "
            ]
          },
          "metadata": {},
          "execution_count": 59
        }
      ]
    },
    {
      "cell_type": "code",
      "source": [
        "X.columns"
      ],
      "metadata": {
        "id": "9LocWdhWRpLw",
        "colab": {
          "base_uri": "https://localhost:8080/"
        },
        "outputId": "275b4f6e-7b14-4d63-a337-a3983ffb2c82"
      },
      "execution_count": 60,
      "outputs": [
        {
          "output_type": "execute_result",
          "data": {
            "text/plain": [
              "Index(['inst_1', 'inst_2', 'inst_3', 'inst_4', 'inst_5', 'inst_6', 'inst_7',\n",
              "       'inst_8', 'inst_9', 'inst_10', 'inst_11', 'inst_12', 'inst_13',\n",
              "       'inst_14', 'sex_M', 'sex_H', 'alc_azcap', 'alc_coyo', 'alc_cuaj',\n",
              "       'alc_gam', 'alc_iztac', 'alc_iztap', 'alc_magdC', 'alc_milpa',\n",
              "       'alc_alv', 'alc_tlah', 'alc_tlalp', 'alc_xoch', 'alc_beniJ',\n",
              "       'alc_cuauh', 'alc_migH', 'venusC', 'alc_noEsp', 'paciente_amb',\n",
              "       'paciente_hosp', 'intub_si', 'intub_no', 'intub_noAplica',\n",
              "       'intub_noEsp', 'neumonia_si', 'neumonia_no', 'neumonia_noEsp', 'EDAD',\n",
              "       'embarazo_si', 'embarazo_no', 'embarazo_noAplica', 'embarazo_seIgn',\n",
              "       'leng_ind_si', 'leng_ind_no', 'leng_ind_noEsp', 'indigena_si',\n",
              "       'indigena_no', 'indigena_noEsp', 'diabetes_si', 'diabetes_no',\n",
              "       'diabetes_seIgn', 'epoc_si', 'epoc_no', 'epoc_seIgn', 'asma_si',\n",
              "       'asma_no', 'asma_seIgn', 'inmusupr_si', 'inmusupr_no', 'inmusupr_seIgn',\n",
              "       'hipert_si', 'hipert_no', 'hipert_seIgn', 'otr_com_si', 'otr_com_no',\n",
              "       'otr_com_seIgn', 'cardio_si', 'cardio_no', 'cardio_seIgn',\n",
              "       'obesidad_si', 'obesidad_no', 'obesidad_seIgn', 'renalCr_si',\n",
              "       'renalCr_no', 'renalCr_seIgn', 'tabaq_si', 'tabaq_no', 'tabaq_seIgn',\n",
              "       'otr_caso_si', 'otr_caso_no', 'otr_caso_seIgn', 'uci_si', 'uci_no',\n",
              "       'uci_noAplica', 'uci_noEsp', 'defunciones'],\n",
              "      dtype='object')"
            ]
          },
          "metadata": {},
          "execution_count": 60
        }
      ]
    },
    {
      "cell_type": "markdown",
      "source": [
        "# Definiendo un número de clusters"
      ],
      "metadata": {
        "id": "knG__-_7XBQ0"
      }
    },
    {
      "cell_type": "code",
      "source": [
        "from sklearn.cluster import KMeans\n",
        "inertias = {k: KMeans(n_clusters=k).fit(X).inertia_ for k in range(1, 13)}\n",
        "\n",
        "plt.plot(list(inertias.keys()), \n",
        "         list(inertias.values()), '-o')\n",
        "plt.xlabel('Número de clusters, k')\n",
        "plt.ylabel('Inertia')\n",
        "plt.xticks(list(inertias.keys()))\n",
        "plt.show()"
      ],
      "metadata": {
        "colab": {
          "base_uri": "https://localhost:8080/",
          "height": 290
        },
        "id": "ndLwH-QswvLH",
        "outputId": "9b1230ca-ae3f-4b65-f934-054d4e4f8b1e"
      },
      "execution_count": 61,
      "outputs": [
        {
          "output_type": "display_data",
          "data": {
            "text/plain": [
              "<Figure size 432x288 with 1 Axes>"
            ],
            "image/png": "[encoded data removed]"
          },
          "metadata": {
            "needs_background": "light"
          }
        }
      ]
    },
    {
      "cell_type": "markdown",
      "source": [
        "# Implementando kmeans"
      ],
      "metadata": {
        "id": "6m0PK6SkxFLG"
      }
    },
    {
      "cell_type": "code",
      "source": [
        "# Implementando kmeans\n",
        "k = 4\n",
        "kmeans = KMeans(n_clusters=k)\n",
        "y_pred = kmeans.fit_predict(X)"
      ],
      "metadata": {
        "id": "OqEmivz0nMkA"
      },
      "execution_count": 62,
      "outputs": []
    },
    {
      "cell_type": "code",
      "source": [
        "y_pred\n",
        "y_pred is kmeans.labels_"
      ],
      "metadata": {
        "colab": {
          "base_uri": "https://localhost:8080/"
        },
        "id": "sylUBmehn5jl",
        "outputId": "59e7358e-bf90-4130-bd27-145397b8ea2e"
      },
      "execution_count": 63,
      "outputs": [
        {
          "output_type": "execute_result",
          "data": {
            "text/plain": [
              "True"
            ]
          },
          "metadata": {},
          "execution_count": 63
        }
      ]
    },
    {
      "cell_type": "code",
      "source": [
        "# Coordenadas de los centroides\n",
        "pd.DataFrame(kmeans.cluster_centers_)"
      ],
      "metadata": {
        "colab": {
          "base_uri": "https://localhost:8080/",
          "height": 204
        },
        "id": "I4_tmLHVoKEU",
        "outputId": "afc8d037-51c3-4ff5-86ce-ca513694025e"
      },
      "execution_count": 64,
      "outputs": [
        {
          "output_type": "execute_result",
          "data": {
            "text/plain": [
              "         0             1         2         3         4         5         6   \\\n",
              "0  0.000170  1.087379e-18  0.000723  0.284383  0.000023  0.034281  0.000008   \n",
              "1  0.000206  2.548329e-06  0.000178  0.219271  0.000008  0.004442  0.000003   \n",
              "2  0.000125  1.977152e-06  0.000793  0.257933  0.000018  0.017110  0.000006   \n",
              "3  0.000208  1.170176e-18  0.000583  0.273321  0.000034  0.010493  0.000003   \n",
              "\n",
              "         7         8         9   ...        81        82        83        84  \\\n",
              "0  0.007254  0.087961  0.006612  ...  0.930912  0.007041  0.384705  0.577519   \n",
              "1  0.001249  0.068453  0.000522  ...  0.945981  0.004584  0.462932  0.525180   \n",
              "2  0.004478  0.072906  0.002968  ...  0.919247  0.005421  0.430819  0.546398   \n",
              "3  0.003035  0.081471  0.001592  ...  0.897005  0.005788  0.438953  0.543633   \n",
              "\n",
              "         85        86        87        88        89        90  \n",
              "0  0.037776  0.012087  0.177267  0.810379  0.000267  0.111794  \n",
              "1  0.011888  0.000650  0.010114  0.989231  0.000005  0.000742  \n",
              "2  0.022783  0.003828  0.054308  0.941799  0.000065  0.022917  \n",
              "3  0.017415  0.001275  0.020065  0.978625  0.000036  0.004632  \n",
              "\n",
              "[4 rows x 91 columns]"
            ],
            "text/html": [
              "\n",
              "  <div id=\"df-532f7c6d-d7a3-4245-aba6-04779a7ce8e2\">\n",
              "    <div class=\"colab-df-container\">\n",
              "      <div>\n",
              "<style scoped>\n",
              "    .dataframe tbody tr th:only-of-type {\n",
              "        vertical-align: middle;\n",
              "    }\n",
              "\n",
              "    .dataframe tbody tr th {\n",
              "        vertical-align: top;\n",
              "    }\n",
              "\n",
              "    .dataframe thead th {\n",
              "        text-align: right;\n",
              "    }\n",
              "</style>\n",
              "<table border=\"1\" class=\"dataframe\">\n",
              "  <thead>\n",
              "    <tr style=\"text-align: right;\">\n",
              "      <th></th>\n",
              "      <th>0</th>\n",
              "      <th>1</th>\n",
              "      <th>2</th>\n",
              "      <th>3</th>\n",
              "      <th>4</th>\n",
              "      <th>5</th>\n",
              "      <th>6</th>\n",
              "      <th>7</th>\n",
              "      <th>8</th>\n",
              "      <th>9</th>\n",
              "      <th>...</th>\n",
              "      <th>81</th>\n",
              "      <th>82</th>\n",
              "      <th>83</th>\n",
              "      <th>84</th>\n",
              "      <th>85</th>\n",
              "      <th>86</th>\n",
              "      <th>87</th>\n",
              "      <th>88</th>\n",
              "      <th>89</th>\n",
              "      <th>90</th>\n",
              "    </tr>\n",
              "  </thead>\n",
              "  <tbody>\n",
              "    <tr>\n",
              "      <th>0</th>\n",
              "      <td>0.000170</td>\n",
              "      <td>1.087379e-18</td>\n",
              "      <td>0.000723</td>\n",
              "      <td>0.284383</td>\n",
              "      <td>0.000023</td>\n",
              "      <td>0.034281</td>\n",
              "      <td>0.000008</td>\n",
              "      <td>0.007254</td>\n",
              "      <td>0.087961</td>\n",
              "      <td>0.006612</td>\n",
              "      <td>...</td>\n",
              "      <td>0.930912</td>\n",
              "      <td>0.007041</td>\n",
              "      <td>0.384705</td>\n",
              "      <td>0.577519</td>\n",
              "      <td>0.037776</td>\n",
              "      <td>0.012087</td>\n",
              "      <td>0.177267</td>\n",
              "      <td>0.810379</td>\n",
              "      <td>0.000267</td>\n",
              "      <td>0.111794</td>\n",
              "    </tr>\n",
              "    <tr>\n",
              "      <th>1</th>\n",
              "      <td>0.000206</td>\n",
              "      <td>2.548329e-06</td>\n",
              "      <td>0.000178</td>\n",
              "      <td>0.219271</td>\n",
              "      <td>0.000008</td>\n",
              "      <td>0.004442</td>\n",
              "      <td>0.000003</td>\n",
              "      <td>0.001249</td>\n",
              "      <td>0.068453</td>\n",
              "      <td>0.000522</td>\n",
              "      <td>...</td>\n",
              "      <td>0.945981</td>\n",
              "      <td>0.004584</td>\n",
              "      <td>0.462932</td>\n",
              "      <td>0.525180</td>\n",
              "      <td>0.011888</td>\n",
              "      <td>0.000650</td>\n",
              "      <td>0.010114</td>\n",
              "      <td>0.989231</td>\n",
              "      <td>0.000005</td>\n",
              "      <td>0.000742</td>\n",
              "    </tr>\n",
              "    <tr>\n",
              "      <th>2</th>\n",
              "      <td>0.000125</td>\n",
              "      <td>1.977152e-06</td>\n",
              "      <td>0.000793</td>\n",
              "      <td>0.257933</td>\n",
              "      <td>0.000018</td>\n",
              "      <td>0.017110</td>\n",
              "      <td>0.000006</td>\n",
              "      <td>0.004478</td>\n",
              "      <td>0.072906</td>\n",
              "      <td>0.002968</td>\n",
              "      <td>...</td>\n",
              "      <td>0.919247</td>\n",
              "      <td>0.005421</td>\n",
              "      <td>0.430819</td>\n",
              "      <td>0.546398</td>\n",
              "      <td>0.022783</td>\n",
              "      <td>0.003828</td>\n",
              "      <td>0.054308</td>\n",
              "      <td>0.941799</td>\n",
              "      <td>0.000065</td>\n",
              "      <td>0.022917</td>\n",
              "    </tr>\n",
              "    <tr>\n",
              "      <th>3</th>\n",
              "      <td>0.000208</td>\n",
              "      <td>1.170176e-18</td>\n",
              "      <td>0.000583</td>\n",
              "      <td>0.273321</td>\n",
              "      <td>0.000034</td>\n",
              "      <td>0.010493</td>\n",
              "      <td>0.000003</td>\n",
              "      <td>0.003035</td>\n",
              "      <td>0.081471</td>\n",
              "      <td>0.001592</td>\n",
              "      <td>...</td>\n",
              "      <td>0.897005</td>\n",
              "      <td>0.005788</td>\n",
              "      <td>0.438953</td>\n",
              "      <td>0.543633</td>\n",
              "      <td>0.017415</td>\n",
              "      <td>0.001275</td>\n",
              "      <td>0.020065</td>\n",
              "      <td>0.978625</td>\n",
              "      <td>0.000036</td>\n",
              "      <td>0.004632</td>\n",
              "    </tr>\n",
              "  </tbody>\n",
              "</table>\n",
              "<p>4 rows × 91 columns</p>\n",
              "</div>\n",
              "      <button class=\"colab-df-convert\" onclick=\"convertToInteractive('df-532f7c6d-d7a3-4245-aba6-04779a7ce8e2')\"\n",
              "              title=\"Convert this dataframe to an interactive table.\"\n",
              "              style=\"display:none;\">\n",
              "        \n",
              "  <svg xmlns=\"http://www.w3.org/2000/svg\" height=\"24px\"viewBox=\"0 0 24 24\"\n",
              "       width=\"24px\">\n",
              "    <path d=\"M0 0h24v24H0V0z\" fill=\"none\"/>\n",
              "    <path d=\"M18.56 5.44l.94 2.06.94-2.06 2.06-.94-2.06-.94-.94-2.06-.94 2.06-2.06.94zm-11 1L8.5 8.5l.94-2.06 2.06-.94-2.06-.94L8.5 2.5l-.94 2.06-2.06.94zm10 10l.94 2.06.94-2.06 2.06-.94-2.06-.94-.94-2.06-.94 2.06-2.06.94z\"/><path d=\"M17.41 7.96l-1.37-1.37c-.4-.4-.92-.59-1.43-.59-.52 0-1.04.2-1.43.59L10.3 9.45l-7.72 7.72c-.78.78-.78 2.05 0 2.83L4 21.41c.39.39.9.59 1.41.59.51 0 1.02-.2 1.41-.59l7.78-7.78 2.81-2.81c.8-.78.8-2.07 0-2.86zM5.41 20L4 18.59l7.72-7.72 1.47 1.35L5.41 20z\"/>\n",
              "  </svg>\n",
              "      </button>\n",
              "      \n",
              "  <style>\n",
              "    .colab-df-container {\n",
              "      display:flex;\n",
              "      flex-wrap:wrap;\n",
              "      gap: 12px;\n",
              "    }\n",
              "\n",
              "    .colab-df-convert {\n",
              "      background-color: #E8F0FE;\n",
              "      border: none;\n",
              "      border-radius: 50%;\n",
              "      cursor: pointer;\n",
              "      display: none;\n",
              "      fill: #1967D2;\n",
              "      height: 32px;\n",
              "      padding: 0 0 0 0;\n",
              "      width: 32px;\n",
              "    }\n",
              "\n",
              "    .colab-df-convert:hover {\n",
              "      background-color: #E2EBFA;\n",
              "      box-shadow: 0px 1px 2px rgba(60, 64, 67, 0.3), 0px 1px 3px 1px rgba(60, 64, 67, 0.15);\n",
              "      fill: #174EA6;\n",
              "    }\n",
              "\n",
              "    [theme=dark] .colab-df-convert {\n",
              "      background-color: #3B4455;\n",
              "      fill: #D2E3FC;\n",
              "    }\n",
              "\n",
              "    [theme=dark] .colab-df-convert:hover {\n",
              "      background-color: #434B5C;\n",
              "      box-shadow: 0px 1px 3px 1px rgba(0, 0, 0, 0.15);\n",
              "      filter: drop-shadow(0px 1px 2px rgba(0, 0, 0, 0.3));\n",
              "      fill: #FFFFFF;\n",
              "    }\n",
              "  </style>\n",
              "\n",
              "      <script>\n",
              "        const buttonEl =\n",
              "          document.querySelector('#df-532f7c6d-d7a3-4245-aba6-04779a7ce8e2 button.colab-df-convert');\n",
              "        buttonEl.style.display =\n",
              "          google.colab.kernel.accessAllowed ? 'block' : 'none';\n",
              "\n",
              "        async function convertToInteractive(key) {\n",
              "          const element = document.querySelector('#df-532f7c6d-d7a3-4245-aba6-04779a7ce8e2');\n",
              "          const dataTable =\n",
              "            await google.colab.kernel.invokeFunction('convertToInteractive',\n",
              "                                                     [key], {});\n",
              "          if (!dataTable) return;\n",
              "\n",
              "          const docLinkHtml = 'Like what you see? Visit the ' +\n",
              "            '<a target=\"_blank\" href=https://colab.research.google.com/notebooks/data_table.ipynb>data table notebook</a>'\n",
              "            + ' to learn more about interactive tables.';\n",
              "          element.innerHTML = '';\n",
              "          dataTable['output_type'] = 'display_data';\n",
              "          await google.colab.output.renderOutput(dataTable, element);\n",
              "          const docLink = document.createElement('div');\n",
              "          docLink.innerHTML = docLinkHtml;\n",
              "          element.appendChild(docLink);\n",
              "        }\n",
              "      </script>\n",
              "    </div>\n",
              "  </div>\n",
              "  "
            ]
          },
          "metadata": {},
          "execution_count": 64
        }
      ]
    },
    {
      "cell_type": "code",
      "source": [
        "# NO EJECUTAR\n",
        "# from sklearn.metrics import silhouette_score\n",
        "# silhouette_score(X, kmeans.labels_)"
      ],
      "metadata": {
        "id": "dljkvugSkT4r"
      },
      "execution_count": 65,
      "outputs": []
    },
    {
      "cell_type": "code",
      "source": [
        "X[\"cluster\"] = y_pred\n",
        "X.head()"
      ],
      "metadata": {
        "id": "jYrpY9jchm4r",
        "colab": {
          "base_uri": "https://localhost:8080/",
          "height": 236
        },
        "outputId": "ee6bd472-2727-438a-a6c7-945d3ca582da"
      },
      "execution_count": 66,
      "outputs": [
        {
          "output_type": "execute_result",
          "data": {
            "text/plain": [
              "   inst_1  inst_2  inst_3  inst_4  inst_5  inst_6  inst_7  inst_8  inst_9  \\\n",
              "0       0       0       0       0       0       0       0       0       0   \n",
              "1       0       0       0       0       0       0       0       0       0   \n",
              "2       0       0       0       0       0       0       0       0       0   \n",
              "3       0       0       0       0       0       0       0       0       0   \n",
              "4       0       0       0       0       0       0       0       0       0   \n",
              "\n",
              "   inst_10  ...  tabaq_seIgn  otr_caso_si  otr_caso_no  otr_caso_seIgn  \\\n",
              "0        0  ...            0            1            0               0   \n",
              "1        0  ...            0            1            0               0   \n",
              "2        0  ...            0            1            0               0   \n",
              "3        0  ...            0            1            0               0   \n",
              "4        0  ...            0            1            0               0   \n",
              "\n",
              "   uci_si  uci_no  uci_noAplica  uci_noEsp  defunciones  cluster  \n",
              "0       0       0             1          0            0        0  \n",
              "1       0       0             1          0            0        0  \n",
              "2       0       0             1          0            0        2  \n",
              "3       0       0             1          0            0        3  \n",
              "4       0       0             1          0            0        3  \n",
              "\n",
              "[5 rows x 92 columns]"
            ],
            "text/html": [
              "\n",
              "  <div id=\"df-5c8eec50-6d05-48a5-8392-f85044919501\">\n",
              "    <div class=\"colab-df-container\">\n",
              "      <div>\n",
              "<style scoped>\n",
              "    .dataframe tbody tr th:only-of-type {\n",
              "        vertical-align: middle;\n",
              "    }\n",
              "\n",
              "    .dataframe tbody tr th {\n",
              "        vertical-align: top;\n",
              "    }\n",
              "\n",
              "    .dataframe thead th {\n",
              "        text-align: right;\n",
              "    }\n",
              "</style>\n",
              "<table border=\"1\" class=\"dataframe\">\n",
              "  <thead>\n",
              "    <tr style=\"text-align: right;\">\n",
              "      <th></th>\n",
              "      <th>inst_1</th>\n",
              "      <th>inst_2</th>\n",
              "      <th>inst_3</th>\n",
              "      <th>inst_4</th>\n",
              "      <th>inst_5</th>\n",
              "      <th>inst_6</th>\n",
              "      <th>inst_7</th>\n",
              "      <th>inst_8</th>\n",
              "      <th>inst_9</th>\n",
              "      <th>inst_10</th>\n",
              "      <th>...</th>\n",
              "      <th>tabaq_seIgn</th>\n",
              "      <th>otr_caso_si</th>\n",
              "      <th>otr_caso_no</th>\n",
              "      <th>otr_caso_seIgn</th>\n",
              "      <th>uci_si</th>\n",
              "      <th>uci_no</th>\n",
              "      <th>uci_noAplica</th>\n",
              "      <th>uci_noEsp</th>\n",
              "      <th>defunciones</th>\n",
              "      <th>cluster</th>\n",
              "    </tr>\n",
              "  </thead>\n",
              "  <tbody>\n",
              "    <tr>\n",
              "      <th>0</th>\n",
              "      <td>0</td>\n",
              "      <td>0</td>\n",
              "      <td>0</td>\n",
              "      <td>0</td>\n",
              "      <td>0</td>\n",
              "      <td>0</td>\n",
              "      <td>0</td>\n",
              "      <td>0</td>\n",
              "      <td>0</td>\n",
              "      <td>0</td>\n",
              "      <td>...</td>\n",
              "      <td>0</td>\n",
              "      <td>1</td>\n",
              "      <td>0</td>\n",
              "      <td>0</td>\n",
              "      <td>0</td>\n",
              "      <td>0</td>\n",
              "      <td>1</td>\n",
              "      <td>0</td>\n",
              "      <td>0</td>\n",
              "      <td>0</td>\n",
              "    </tr>\n",
              "    <tr>\n",
              "      <th>1</th>\n",
              "      <td>0</td>\n",
              "      <td>0</td>\n",
              "      <td>0</td>\n",
              "      <td>0</td>\n",
              "      <td>0</td>\n",
              "      <td>0</td>\n",
              "      <td>0</td>\n",
              "      <td>0</td>\n",
              "      <td>0</td>\n",
              "      <td>0</td>\n",
              "      <td>...</td>\n",
              "      <td>0</td>\n",
              "      <td>1</td>\n",
              "      <td>0</td>\n",
              "      <td>0</td>\n",
              "      <td>0</td>\n",
              "      <td>0</td>\n",
              "      <td>1</td>\n",
              "      <td>0</td>\n",
              "      <td>0</td>\n",
              "      <td>0</td>\n",
              "    </tr>\n",
              "    <tr>\n",
              "      <th>2</th>\n",
              "      <td>0</td>\n",
              "      <td>0</td>\n",
              "      <td>0</td>\n",
              "      <td>0</td>\n",
              "      <td>0</td>\n",
              "      <td>0</td>\n",
              "      <td>0</td>\n",
              "      <td>0</td>\n",
              "      <td>0</td>\n",
              "      <td>0</td>\n",
              "      <td>...</td>\n",
              "      <td>0</td>\n",
              "      <td>1</td>\n",
              "      <td>0</td>\n",
              "      <td>0</td>\n",
              "      <td>0</td>\n",
              "      <td>0</td>\n",
              "      <td>1</td>\n",
              "      <td>0</td>\n",
              "      <td>0</td>\n",
              "      <td>2</td>\n",
              "    </tr>\n",
              "    <tr>\n",
              "      <th>3</th>\n",
              "      <td>0</td>\n",
              "      <td>0</td>\n",
              "      <td>0</td>\n",
              "      <td>0</td>\n",
              "      <td>0</td>\n",
              "      <td>0</td>\n",
              "      <td>0</td>\n",
              "      <td>0</td>\n",
              "      <td>0</td>\n",
              "      <td>0</td>\n",
              "      <td>...</td>\n",
              "      <td>0</td>\n",
              "      <td>1</td>\n",
              "      <td>0</td>\n",
              "      <td>0</td>\n",
              "      <td>0</td>\n",
              "      <td>0</td>\n",
              "      <td>1</td>\n",
              "      <td>0</td>\n",
              "      <td>0</td>\n",
              "      <td>3</td>\n",
              "    </tr>\n",
              "    <tr>\n",
              "      <th>4</th>\n",
              "      <td>0</td>\n",
              "      <td>0</td>\n",
              "      <td>0</td>\n",
              "      <td>0</td>\n",
              "      <td>0</td>\n",
              "      <td>0</td>\n",
              "      <td>0</td>\n",
              "      <td>0</td>\n",
              "      <td>0</td>\n",
              "      <td>0</td>\n",
              "      <td>...</td>\n",
              "      <td>0</td>\n",
              "      <td>1</td>\n",
              "      <td>0</td>\n",
              "      <td>0</td>\n",
              "      <td>0</td>\n",
              "      <td>0</td>\n",
              "      <td>1</td>\n",
              "      <td>0</td>\n",
              "      <td>0</td>\n",
              "      <td>3</td>\n",
              "    </tr>\n",
              "  </tbody>\n",
              "</table>\n",
              "<p>5 rows × 92 columns</p>\n",
              "</div>\n",
              "      <button class=\"colab-df-convert\" onclick=\"convertToInteractive('df-5c8eec50-6d05-48a5-8392-f85044919501')\"\n",
              "              title=\"Convert this dataframe to an interactive table.\"\n",
              "              style=\"display:none;\">\n",
              "        \n",
              "  <svg xmlns=\"http://www.w3.org/2000/svg\" height=\"24px\"viewBox=\"0 0 24 24\"\n",
              "       width=\"24px\">\n",
              "    <path d=\"M0 0h24v24H0V0z\" fill=\"none\"/>\n",
              "    <path d=\"M18.56 5.44l.94 2.06.94-2.06 2.06-.94-2.06-.94-.94-2.06-.94 2.06-2.06.94zm-11 1L8.5 8.5l.94-2.06 2.06-.94-2.06-.94L8.5 2.5l-.94 2.06-2.06.94zm10 10l.94 2.06.94-2.06 2.06-.94-2.06-.94-.94-2.06-.94 2.06-2.06.94z\"/><path d=\"M17.41 7.96l-1.37-1.37c-.4-.4-.92-.59-1.43-.59-.52 0-1.04.2-1.43.59L10.3 9.45l-7.72 7.72c-.78.78-.78 2.05 0 2.83L4 21.41c.39.39.9.59 1.41.59.51 0 1.02-.2 1.41-.59l7.78-7.78 2.81-2.81c.8-.78.8-2.07 0-2.86zM5.41 20L4 18.59l7.72-7.72 1.47 1.35L5.41 20z\"/>\n",
              "  </svg>\n",
              "      </button>\n",
              "      \n",
              "  <style>\n",
              "    .colab-df-container {\n",
              "      display:flex;\n",
              "      flex-wrap:wrap;\n",
              "      gap: 12px;\n",
              "    }\n",
              "\n",
              "    .colab-df-convert {\n",
              "      background-color: #E8F0FE;\n",
              "      border: none;\n",
              "      border-radius: 50%;\n",
              "      cursor: pointer;\n",
              "      display: none;\n",
              "      fill: #1967D2;\n",
              "      height: 32px;\n",
              "      padding: 0 0 0 0;\n",
              "      width: 32px;\n",
              "    }\n",
              "\n",
              "    .colab-df-convert:hover {\n",
              "      background-color: #E2EBFA;\n",
              "      box-shadow: 0px 1px 2px rgba(60, 64, 67, 0.3), 0px 1px 3px 1px rgba(60, 64, 67, 0.15);\n",
              "      fill: #174EA6;\n",
              "    }\n",
              "\n",
              "    [theme=dark] .colab-df-convert {\n",
              "      background-color: #3B4455;\n",
              "      fill: #D2E3FC;\n",
              "    }\n",
              "\n",
              "    [theme=dark] .colab-df-convert:hover {\n",
              "      background-color: #434B5C;\n",
              "      box-shadow: 0px 1px 3px 1px rgba(0, 0, 0, 0.15);\n",
              "      filter: drop-shadow(0px 1px 2px rgba(0, 0, 0, 0.3));\n",
              "      fill: #FFFFFF;\n",
              "    }\n",
              "  </style>\n",
              "\n",
              "      <script>\n",
              "        const buttonEl =\n",
              "          document.querySelector('#df-5c8eec50-6d05-48a5-8392-f85044919501 button.colab-df-convert');\n",
              "        buttonEl.style.display =\n",
              "          google.colab.kernel.accessAllowed ? 'block' : 'none';\n",
              "\n",
              "        async function convertToInteractive(key) {\n",
              "          const element = document.querySelector('#df-5c8eec50-6d05-48a5-8392-f85044919501');\n",
              "          const dataTable =\n",
              "            await google.colab.kernel.invokeFunction('convertToInteractive',\n",
              "                                                     [key], {});\n",
              "          if (!dataTable) return;\n",
              "\n",
              "          const docLinkHtml = 'Like what you see? Visit the ' +\n",
              "            '<a target=\"_blank\" href=https://colab.research.google.com/notebooks/data_table.ipynb>data table notebook</a>'\n",
              "            + ' to learn more about interactive tables.';\n",
              "          element.innerHTML = '';\n",
              "          dataTable['output_type'] = 'display_data';\n",
              "          await google.colab.output.renderOutput(dataTable, element);\n",
              "          const docLink = document.createElement('div');\n",
              "          docLink.innerHTML = docLinkHtml;\n",
              "          element.appendChild(docLink);\n",
              "        }\n",
              "      </script>\n",
              "    </div>\n",
              "  </div>\n",
              "  "
            ]
          },
          "metadata": {},
          "execution_count": 66
        }
      ]
    },
    {
      "cell_type": "markdown",
      "source": [
        "# Exportando el dataframe X"
      ],
      "metadata": {
        "id": "Vvw4J2dGUxEe"
      }
    },
    {
      "cell_type": "code",
      "source": [],
      "metadata": {
        "id": "0LU17KMKUwls"
      },
      "execution_count": null,
      "outputs": []
    },
    {
      "cell_type": "markdown",
      "source": [
        "# Haciendo una tabla pivote\n",
        "\n",
        "\n",
        "\n",
        "\n"
      ],
      "metadata": {
        "id": "oQRqR1U5kC5G"
      }
    },
    {
      "cell_type": "code",
      "source": [
        "X_pivot = pd.pivot_table(X, index='cluster')\n",
        "X_pivot[\"cluster\"] = X_pivot.index\n",
        "X_pivot.head()"
      ],
      "metadata": {
        "id": "FPZ_9BoRXo_G",
        "colab": {
          "base_uri": "https://localhost:8080/",
          "height": 236
        },
        "outputId": "81aef488-2474-4928-ff87-679c5eeffdcc"
      },
      "execution_count": 67,
      "outputs": [
        {
          "output_type": "execute_result",
          "data": {
            "text/plain": [
              "              EDAD   alc_alv  alc_azcap  alc_beniJ  alc_coyo  alc_cuaj  \\\n",
              "cluster                                                                  \n",
              "0        68.055744  0.118410   0.059228   0.050045  0.066737  0.014113   \n",
              "1        17.515665  0.145810   0.053523   0.030549  0.055255  0.019146   \n",
              "2        49.491581  0.125664   0.056647   0.039347  0.061096  0.016290   \n",
              "3        33.194011  0.126197   0.054526   0.042483  0.059923  0.017210   \n",
              "\n",
              "         alc_cuauh   alc_gam  alc_iztac  alc_iztap  ...     sex_M  tabaq_no  \\\n",
              "cluster                                             ...                       \n",
              "0         0.062921  0.131394   0.045792   0.142994  ...  0.536104  0.930912   \n",
              "1         0.046558  0.117988   0.037547   0.143496  ...  0.518498  0.945981   \n",
              "2         0.054180  0.127429   0.043994   0.148534  ...  0.565673  0.919247   \n",
              "3         0.057575  0.120818   0.040914   0.149304  ...  0.542424  0.897005   \n",
              "\n",
              "         tabaq_seIgn  tabaq_si    uci_no  uci_noAplica  uci_noEsp    uci_si  \\\n",
              "cluster                                                                       \n",
              "0           0.007041  0.062047  0.177267      0.810379   0.000267  0.012087   \n",
              "1           0.004584  0.049435  0.010114      0.989231   0.000005  0.000650   \n",
              "2           0.005421  0.075331  0.054308      0.941799   0.000065  0.003828   \n",
              "3           0.005788  0.097207  0.020065      0.978625   0.000036  0.001275   \n",
              "\n",
              "           venusC  cluster  \n",
              "cluster                     \n",
              "0        0.052029        0  \n",
              "1        0.042730        1  \n",
              "2        0.046566        2  \n",
              "3        0.042964        3  \n",
              "\n",
              "[4 rows x 92 columns]"
            ],
            "text/html": [
              "\n",
              "  <div id=\"df-475f54aa-044f-4791-ae29-6e6bb0f01d09\">\n",
              "    <div class=\"colab-df-container\">\n",
              "      <div>\n",
              "<style scoped>\n",
              "    .dataframe tbody tr th:only-of-type {\n",
              "        vertical-align: middle;\n",
              "    }\n",
              "\n",
              "    .dataframe tbody tr th {\n",
              "        vertical-align: top;\n",
              "    }\n",
              "\n",
              "    .dataframe thead th {\n",
              "        text-align: right;\n",
              "    }\n",
              "</style>\n",
              "<table border=\"1\" class=\"dataframe\">\n",
              "  <thead>\n",
              "    <tr style=\"text-align: right;\">\n",
              "      <th></th>\n",
              "      <th>EDAD</th>\n",
              "      <th>alc_alv</th>\n",
              "      <th>alc_azcap</th>\n",
              "      <th>alc_beniJ</th>\n",
              "      <th>alc_coyo</th>\n",
              "      <th>alc_cuaj</th>\n",
              "      <th>alc_cuauh</th>\n",
              "      <th>alc_gam</th>\n",
              "      <th>alc_iztac</th>\n",
              "      <th>alc_iztap</th>\n",
              "      <th>...</th>\n",
              "      <th>sex_M</th>\n",
              "      <th>tabaq_no</th>\n",
              "      <th>tabaq_seIgn</th>\n",
              "      <th>tabaq_si</th>\n",
              "      <th>uci_no</th>\n",
              "      <th>uci_noAplica</th>\n",
              "      <th>uci_noEsp</th>\n",
              "      <th>uci_si</th>\n",
              "      <th>venusC</th>\n",
              "      <th>cluster</th>\n",
              "    </tr>\n",
              "    <tr>\n",
              "      <th>cluster</th>\n",
              "      <th></th>\n",
              "      <th></th>\n",
              "      <th></th>\n",
              "      <th></th>\n",
              "      <th></th>\n",
              "      <th></th>\n",
              "      <th></th>\n",
              "      <th></th>\n",
              "      <th></th>\n",
              "      <th></th>\n",
              "      <th></th>\n",
              "      <th></th>\n",
              "      <th></th>\n",
              "      <th></th>\n",
              "      <th></th>\n",
              "      <th></th>\n",
              "      <th></th>\n",
              "      <th></th>\n",
              "      <th></th>\n",
              "      <th></th>\n",
              "      <th></th>\n",
              "    </tr>\n",
              "  </thead>\n",
              "  <tbody>\n",
              "    <tr>\n",
              "      <th>0</th>\n",
              "      <td>68.055744</td>\n",
              "      <td>0.118410</td>\n",
              "      <td>0.059228</td>\n",
              "      <td>0.050045</td>\n",
              "      <td>0.066737</td>\n",
              "      <td>0.014113</td>\n",
              "      <td>0.062921</td>\n",
              "      <td>0.131394</td>\n",
              "      <td>0.045792</td>\n",
              "      <td>0.142994</td>\n",
              "      <td>...</td>\n",
              "      <td>0.536104</td>\n",
              "      <td>0.930912</td>\n",
              "      <td>0.007041</td>\n",
              "      <td>0.062047</td>\n",
              "      <td>0.177267</td>\n",
              "      <td>0.810379</td>\n",
              "      <td>0.000267</td>\n",
              "      <td>0.012087</td>\n",
              "      <td>0.052029</td>\n",
              "      <td>0</td>\n",
              "    </tr>\n",
              "    <tr>\n",
              "      <th>1</th>\n",
              "      <td>17.515665</td>\n",
              "      <td>0.145810</td>\n",
              "      <td>0.053523</td>\n",
              "      <td>0.030549</td>\n",
              "      <td>0.055255</td>\n",
              "      <td>0.019146</td>\n",
              "      <td>0.046558</td>\n",
              "      <td>0.117988</td>\n",
              "      <td>0.037547</td>\n",
              "      <td>0.143496</td>\n",
              "      <td>...</td>\n",
              "      <td>0.518498</td>\n",
              "      <td>0.945981</td>\n",
              "      <td>0.004584</td>\n",
              "      <td>0.049435</td>\n",
              "      <td>0.010114</td>\n",
              "      <td>0.989231</td>\n",
              "      <td>0.000005</td>\n",
              "      <td>0.000650</td>\n",
              "      <td>0.042730</td>\n",
              "      <td>1</td>\n",
              "    </tr>\n",
              "    <tr>\n",
              "      <th>2</th>\n",
              "      <td>49.491581</td>\n",
              "      <td>0.125664</td>\n",
              "      <td>0.056647</td>\n",
              "      <td>0.039347</td>\n",
              "      <td>0.061096</td>\n",
              "      <td>0.016290</td>\n",
              "      <td>0.054180</td>\n",
              "      <td>0.127429</td>\n",
              "      <td>0.043994</td>\n",
              "      <td>0.148534</td>\n",
              "      <td>...</td>\n",
              "      <td>0.565673</td>\n",
              "      <td>0.919247</td>\n",
              "      <td>0.005421</td>\n",
              "      <td>0.075331</td>\n",
              "      <td>0.054308</td>\n",
              "      <td>0.941799</td>\n",
              "      <td>0.000065</td>\n",
              "      <td>0.003828</td>\n",
              "      <td>0.046566</td>\n",
              "      <td>2</td>\n",
              "    </tr>\n",
              "    <tr>\n",
              "      <th>3</th>\n",
              "      <td>33.194011</td>\n",
              "      <td>0.126197</td>\n",
              "      <td>0.054526</td>\n",
              "      <td>0.042483</td>\n",
              "      <td>0.059923</td>\n",
              "      <td>0.017210</td>\n",
              "      <td>0.057575</td>\n",
              "      <td>0.120818</td>\n",
              "      <td>0.040914</td>\n",
              "      <td>0.149304</td>\n",
              "      <td>...</td>\n",
              "      <td>0.542424</td>\n",
              "      <td>0.897005</td>\n",
              "      <td>0.005788</td>\n",
              "      <td>0.097207</td>\n",
              "      <td>0.020065</td>\n",
              "      <td>0.978625</td>\n",
              "      <td>0.000036</td>\n",
              "      <td>0.001275</td>\n",
              "      <td>0.042964</td>\n",
              "      <td>3</td>\n",
              "    </tr>\n",
              "  </tbody>\n",
              "</table>\n",
              "<p>4 rows × 92 columns</p>\n",
              "</div>\n",
              "      <button class=\"colab-df-convert\" onclick=\"convertToInteractive('df-475f54aa-044f-4791-ae29-6e6bb0f01d09')\"\n",
              "              title=\"Convert this dataframe to an interactive table.\"\n",
              "              style=\"display:none;\">\n",
              "        \n",
              "  <svg xmlns=\"http://www.w3.org/2000/svg\" height=\"24px\"viewBox=\"0 0 24 24\"\n",
              "       width=\"24px\">\n",
              "    <path d=\"M0 0h24v24H0V0z\" fill=\"none\"/>\n",
              "    <path d=\"M18.56 5.44l.94 2.06.94-2.06 2.06-.94-2.06-.94-.94-2.06-.94 2.06-2.06.94zm-11 1L8.5 8.5l.94-2.06 2.06-.94-2.06-.94L8.5 2.5l-.94 2.06-2.06.94zm10 10l.94 2.06.94-2.06 2.06-.94-2.06-.94-.94-2.06-.94 2.06-2.06.94z\"/><path d=\"M17.41 7.96l-1.37-1.37c-.4-.4-.92-.59-1.43-.59-.52 0-1.04.2-1.43.59L10.3 9.45l-7.72 7.72c-.78.78-.78 2.05 0 2.83L4 21.41c.39.39.9.59 1.41.59.51 0 1.02-.2 1.41-.59l7.78-7.78 2.81-2.81c.8-.78.8-2.07 0-2.86zM5.41 20L4 18.59l7.72-7.72 1.47 1.35L5.41 20z\"/>\n",
              "  </svg>\n",
              "      </button>\n",
              "      \n",
              "  <style>\n",
              "    .colab-df-container {\n",
              "      display:flex;\n",
              "      flex-wrap:wrap;\n",
              "      gap: 12px;\n",
              "    }\n",
              "\n",
              "    .colab-df-convert {\n",
              "      background-color: #E8F0FE;\n",
              "      border: none;\n",
              "      border-radius: 50%;\n",
              "      cursor: pointer;\n",
              "      display: none;\n",
              "      fill: #1967D2;\n",
              "      height: 32px;\n",
              "      padding: 0 0 0 0;\n",
              "      width: 32px;\n",
              "    }\n",
              "\n",
              "    .colab-df-convert:hover {\n",
              "      background-color: #E2EBFA;\n",
              "      box-shadow: 0px 1px 2px rgba(60, 64, 67, 0.3), 0px 1px 3px 1px rgba(60, 64, 67, 0.15);\n",
              "      fill: #174EA6;\n",
              "    }\n",
              "\n",
              "    [theme=dark] .colab-df-convert {\n",
              "      background-color: #3B4455;\n",
              "      fill: #D2E3FC;\n",
              "    }\n",
              "\n",
              "    [theme=dark] .colab-df-convert:hover {\n",
              "      background-color: #434B5C;\n",
              "      box-shadow: 0px 1px 3px 1px rgba(0, 0, 0, 0.15);\n",
              "      filter: drop-shadow(0px 1px 2px rgba(0, 0, 0, 0.3));\n",
              "      fill: #FFFFFF;\n",
              "    }\n",
              "  </style>\n",
              "\n",
              "      <script>\n",
              "        const buttonEl =\n",
              "          document.querySelector('#df-475f54aa-044f-4791-ae29-6e6bb0f01d09 button.colab-df-convert');\n",
              "        buttonEl.style.display =\n",
              "          google.colab.kernel.accessAllowed ? 'block' : 'none';\n",
              "\n",
              "        async function convertToInteractive(key) {\n",
              "          const element = document.querySelector('#df-475f54aa-044f-4791-ae29-6e6bb0f01d09');\n",
              "          const dataTable =\n",
              "            await google.colab.kernel.invokeFunction('convertToInteractive',\n",
              "                                                     [key], {});\n",
              "          if (!dataTable) return;\n",
              "\n",
              "          const docLinkHtml = 'Like what you see? Visit the ' +\n",
              "            '<a target=\"_blank\" href=https://colab.research.google.com/notebooks/data_table.ipynb>data table notebook</a>'\n",
              "            + ' to learn more about interactive tables.';\n",
              "          element.innerHTML = '';\n",
              "          dataTable['output_type'] = 'display_data';\n",
              "          await google.colab.output.renderOutput(dataTable, element);\n",
              "          const docLink = document.createElement('div');\n",
              "          docLink.innerHTML = docLinkHtml;\n",
              "          element.appendChild(docLink);\n",
              "        }\n",
              "      </script>\n",
              "    </div>\n",
              "  </div>\n",
              "  "
            ]
          },
          "metadata": {},
          "execution_count": 67
        }
      ]
    },
    {
      "cell_type": "code",
      "source": [
        "print(X_pivot.shape)\n",
        "X_pivot.columns"
      ],
      "metadata": {
        "id": "juiMaLlN4Ojv",
        "colab": {
          "base_uri": "https://localhost:8080/"
        },
        "outputId": "db61d75a-12dc-4efe-ed30-7ca5331d9f6c"
      },
      "execution_count": 68,
      "outputs": [
        {
          "output_type": "stream",
          "name": "stdout",
          "text": [
            "(4, 92)\n"
          ]
        },
        {
          "output_type": "execute_result",
          "data": {
            "text/plain": [
              "Index(['EDAD', 'alc_alv', 'alc_azcap', 'alc_beniJ', 'alc_coyo', 'alc_cuaj',\n",
              "       'alc_cuauh', 'alc_gam', 'alc_iztac', 'alc_iztap', 'alc_magdC',\n",
              "       'alc_migH', 'alc_milpa', 'alc_noEsp', 'alc_tlah', 'alc_tlalp',\n",
              "       'alc_xoch', 'asma_no', 'asma_seIgn', 'asma_si', 'cardio_no',\n",
              "       'cardio_seIgn', 'cardio_si', 'defunciones', 'diabetes_no',\n",
              "       'diabetes_seIgn', 'diabetes_si', 'embarazo_no', 'embarazo_noAplica',\n",
              "       'embarazo_seIgn', 'embarazo_si', 'epoc_no', 'epoc_seIgn', 'epoc_si',\n",
              "       'hipert_no', 'hipert_seIgn', 'hipert_si', 'indigena_no',\n",
              "       'indigena_noEsp', 'indigena_si', 'inmusupr_no', 'inmusupr_seIgn',\n",
              "       'inmusupr_si', 'inst_1', 'inst_10', 'inst_11', 'inst_12', 'inst_13',\n",
              "       'inst_14', 'inst_2', 'inst_3', 'inst_4', 'inst_5', 'inst_6', 'inst_7',\n",
              "       'inst_8', 'inst_9', 'intub_no', 'intub_noAplica', 'intub_noEsp',\n",
              "       'intub_si', 'leng_ind_no', 'leng_ind_noEsp', 'leng_ind_si',\n",
              "       'neumonia_no', 'neumonia_noEsp', 'neumonia_si', 'obesidad_no',\n",
              "       'obesidad_seIgn', 'obesidad_si', 'otr_caso_no', 'otr_caso_seIgn',\n",
              "       'otr_caso_si', 'otr_com_no', 'otr_com_seIgn', 'otr_com_si',\n",
              "       'paciente_amb', 'paciente_hosp', 'renalCr_no', 'renalCr_seIgn',\n",
              "       'renalCr_si', 'sex_H', 'sex_M', 'tabaq_no', 'tabaq_seIgn', 'tabaq_si',\n",
              "       'uci_no', 'uci_noAplica', 'uci_noEsp', 'uci_si', 'venusC', 'cluster'],\n",
              "      dtype='object')"
            ]
          },
          "metadata": {},
          "execution_count": 68
        }
      ]
    },
    {
      "cell_type": "code",
      "source": [
        "X_pivot[[\"EDAD\", \"defunciones\", \"uci_si\", \"intub_si\", \"asma_si\", \"diabetes_si\", \"inmusupr_si\",\"indigena_si\", \"paciente_hosp\", \"obesidad_si\", \"renalCr_si\"]]"
      ],
      "metadata": {
        "id": "v4ghynm3Xo8j",
        "colab": {
          "base_uri": "https://localhost:8080/",
          "height": 206
        },
        "outputId": "def6ab48-6714-4683-f73c-0f6dc61e2f16"
      },
      "execution_count": 69,
      "outputs": [
        {
          "output_type": "execute_result",
          "data": {
            "text/plain": [
              "              EDAD  defunciones    uci_si  intub_si   asma_si  diabetes_si  \\\n",
              "cluster                                                                      \n",
              "0        68.055744     0.111794  0.012087  0.031706  0.013463     0.234102   \n",
              "1        17.515665     0.000742  0.000650  0.000558  0.021256     0.004172   \n",
              "2        49.491581     0.022917  0.003828  0.009299  0.017320     0.107954   \n",
              "3        33.194011     0.004632  0.001275  0.002221  0.019908     0.020608   \n",
              "\n",
              "         inmusupr_si  indigena_si  paciente_hosp  obesidad_si  renalCr_si  \n",
              "cluster                                                                    \n",
              "0           0.011627     0.003797       0.189621     0.093536    0.018950  \n",
              "1           0.002110     0.002237       0.010769     0.032364    0.001514  \n",
              "2           0.006374     0.003278       0.058201     0.104902    0.006880  \n",
              "3           0.003083     0.002822       0.021375     0.078701    0.003201  "
            ],
            "text/html": [
              "\n",
              "  <div id=\"df-107793aa-7a15-4fed-908e-37ebd4116573\">\n",
              "    <div class=\"colab-df-container\">\n",
              "      <div>\n",
              "<style scoped>\n",
              "    .dataframe tbody tr th:only-of-type {\n",
              "        vertical-align: middle;\n",
              "    }\n",
              "\n",
              "    .dataframe tbody tr th {\n",
              "        vertical-align: top;\n",
              "    }\n",
              "\n",
              "    .dataframe thead th {\n",
              "        text-align: right;\n",
              "    }\n",
              "</style>\n",
              "<table border=\"1\" class=\"dataframe\">\n",
              "  <thead>\n",
              "    <tr style=\"text-align: right;\">\n",
              "      <th></th>\n",
              "      <th>EDAD</th>\n",
              "      <th>defunciones</th>\n",
              "      <th>uci_si</th>\n",
              "      <th>intub_si</th>\n",
              "      <th>asma_si</th>\n",
              "      <th>diabetes_si</th>\n",
              "      <th>inmusupr_si</th>\n",
              "      <th>indigena_si</th>\n",
              "      <th>paciente_hosp</th>\n",
              "      <th>obesidad_si</th>\n",
              "      <th>renalCr_si</th>\n",
              "    </tr>\n",
              "    <tr>\n",
              "      <th>cluster</th>\n",
              "      <th></th>\n",
              "      <th></th>\n",
              "      <th></th>\n",
              "      <th></th>\n",
              "      <th></th>\n",
              "      <th></th>\n",
              "      <th></th>\n",
              "      <th></th>\n",
              "      <th></th>\n",
              "      <th></th>\n",
              "      <th></th>\n",
              "    </tr>\n",
              "  </thead>\n",
              "  <tbody>\n",
              "    <tr>\n",
              "      <th>0</th>\n",
              "      <td>68.055744</td>\n",
              "      <td>0.111794</td>\n",
              "      <td>0.012087</td>\n",
              "      <td>0.031706</td>\n",
              "      <td>0.013463</td>\n",
              "      <td>0.234102</td>\n",
              "      <td>0.011627</td>\n",
              "      <td>0.003797</td>\n",
              "      <td>0.189621</td>\n",
              "      <td>0.093536</td>\n",
              "      <td>0.018950</td>\n",
              "    </tr>\n",
              "    <tr>\n",
              "      <th>1</th>\n",
              "      <td>17.515665</td>\n",
              "      <td>0.000742</td>\n",
              "      <td>0.000650</td>\n",
              "      <td>0.000558</td>\n",
              "      <td>0.021256</td>\n",
              "      <td>0.004172</td>\n",
              "      <td>0.002110</td>\n",
              "      <td>0.002237</td>\n",
              "      <td>0.010769</td>\n",
              "      <td>0.032364</td>\n",
              "      <td>0.001514</td>\n",
              "    </tr>\n",
              "    <tr>\n",
              "      <th>2</th>\n",
              "      <td>49.491581</td>\n",
              "      <td>0.022917</td>\n",
              "      <td>0.003828</td>\n",
              "      <td>0.009299</td>\n",
              "      <td>0.017320</td>\n",
              "      <td>0.107954</td>\n",
              "      <td>0.006374</td>\n",
              "      <td>0.003278</td>\n",
              "      <td>0.058201</td>\n",
              "      <td>0.104902</td>\n",
              "      <td>0.006880</td>\n",
              "    </tr>\n",
              "    <tr>\n",
              "      <th>3</th>\n",
              "      <td>33.194011</td>\n",
              "      <td>0.004632</td>\n",
              "      <td>0.001275</td>\n",
              "      <td>0.002221</td>\n",
              "      <td>0.019908</td>\n",
              "      <td>0.020608</td>\n",
              "      <td>0.003083</td>\n",
              "      <td>0.002822</td>\n",
              "      <td>0.021375</td>\n",
              "      <td>0.078701</td>\n",
              "      <td>0.003201</td>\n",
              "    </tr>\n",
              "  </tbody>\n",
              "</table>\n",
              "</div>\n",
              "      <button class=\"colab-df-convert\" onclick=\"convertToInteractive('df-107793aa-7a15-4fed-908e-37ebd4116573')\"\n",
              "              title=\"Convert this dataframe to an interactive table.\"\n",
              "              style=\"display:none;\">\n",
              "        \n",
              "  <svg xmlns=\"http://www.w3.org/2000/svg\" height=\"24px\"viewBox=\"0 0 24 24\"\n",
              "       width=\"24px\">\n",
              "    <path d=\"M0 0h24v24H0V0z\" fill=\"none\"/>\n",
              "    <path d=\"M18.56 5.44l.94 2.06.94-2.06 2.06-.94-2.06-.94-.94-2.06-.94 2.06-2.06.94zm-11 1L8.5 8.5l.94-2.06 2.06-.94-2.06-.94L8.5 2.5l-.94 2.06-2.06.94zm10 10l.94 2.06.94-2.06 2.06-.94-2.06-.94-.94-2.06-.94 2.06-2.06.94z\"/><path d=\"M17.41 7.96l-1.37-1.37c-.4-.4-.92-.59-1.43-.59-.52 0-1.04.2-1.43.59L10.3 9.45l-7.72 7.72c-.78.78-.78 2.05 0 2.83L4 21.41c.39.39.9.59 1.41.59.51 0 1.02-.2 1.41-.59l7.78-7.78 2.81-2.81c.8-.78.8-2.07 0-2.86zM5.41 20L4 18.59l7.72-7.72 1.47 1.35L5.41 20z\"/>\n",
              "  </svg>\n",
              "      </button>\n",
              "      \n",
              "  <style>\n",
              "    .colab-df-container {\n",
              "      display:flex;\n",
              "      flex-wrap:wrap;\n",
              "      gap: 12px;\n",
              "    }\n",
              "\n",
              "    .colab-df-convert {\n",
              "      background-color: #E8F0FE;\n",
              "      border: none;\n",
              "      border-radius: 50%;\n",
              "      cursor: pointer;\n",
              "      display: none;\n",
              "      fill: #1967D2;\n",
              "      height: 32px;\n",
              "      padding: 0 0 0 0;\n",
              "      width: 32px;\n",
              "    }\n",
              "\n",
              "    .colab-df-convert:hover {\n",
              "      background-color: #E2EBFA;\n",
              "      box-shadow: 0px 1px 2px rgba(60, 64, 67, 0.3), 0px 1px 3px 1px rgba(60, 64, 67, 0.15);\n",
              "      fill: #174EA6;\n",
              "    }\n",
              "\n",
              "    [theme=dark] .colab-df-convert {\n",
              "      background-color: #3B4455;\n",
              "      fill: #D2E3FC;\n",
              "    }\n",
              "\n",
              "    [theme=dark] .colab-df-convert:hover {\n",
              "      background-color: #434B5C;\n",
              "      box-shadow: 0px 1px 3px 1px rgba(0, 0, 0, 0.15);\n",
              "      filter: drop-shadow(0px 1px 2px rgba(0, 0, 0, 0.3));\n",
              "      fill: #FFFFFF;\n",
              "    }\n",
              "  </style>\n",
              "\n",
              "      <script>\n",
              "        const buttonEl =\n",
              "          document.querySelector('#df-107793aa-7a15-4fed-908e-37ebd4116573 button.colab-df-convert');\n",
              "        buttonEl.style.display =\n",
              "          google.colab.kernel.accessAllowed ? 'block' : 'none';\n",
              "\n",
              "        async function convertToInteractive(key) {\n",
              "          const element = document.querySelector('#df-107793aa-7a15-4fed-908e-37ebd4116573');\n",
              "          const dataTable =\n",
              "            await google.colab.kernel.invokeFunction('convertToInteractive',\n",
              "                                                     [key], {});\n",
              "          if (!dataTable) return;\n",
              "\n",
              "          const docLinkHtml = 'Like what you see? Visit the ' +\n",
              "            '<a target=\"_blank\" href=https://colab.research.google.com/notebooks/data_table.ipynb>data table notebook</a>'\n",
              "            + ' to learn more about interactive tables.';\n",
              "          element.innerHTML = '';\n",
              "          dataTable['output_type'] = 'display_data';\n",
              "          await google.colab.output.renderOutput(dataTable, element);\n",
              "          const docLink = document.createElement('div');\n",
              "          docLink.innerHTML = docLinkHtml;\n",
              "          element.appendChild(docLink);\n",
              "        }\n",
              "      </script>\n",
              "    </div>\n",
              "  </div>\n",
              "  "
            ]
          },
          "metadata": {},
          "execution_count": 69
        }
      ]
    },
    {
      "cell_type": "markdown",
      "source": [
        "# Análisis de los clusters"
      ],
      "metadata": {
        "id": "uIe6uz_3xJY1"
      }
    },
    {
      "cell_type": "code",
      "source": [
        "\"\"\"\n",
        "\n",
        "Cluster 0 / delta: Es el grupo más vulnerable frente a la viropolítica. Incluye a la población que requirió mayores cuidados intensivos, ser intubada. Tuvo valores mayores de sistema inmunosuprimido, requirió mñas hospitalizaciones. \n",
        "Cluster 2 / gamma: Es el segundo grupo más vulnerable a la viropolítica.\n",
        "Cluster 3 / beta: Es el segundo grupo más capaz de ejercer la viropolítica. Mantiene valorrs bajos para cada condición de riesgo.\n",
        "Cluster 1 / alpha: Es el grupo más capaz de ejercer la viropolítica. Dados sus bajos valores para cada condición de riesgo, es el grupo menos vulnerable. \n",
        "\n",
        "\"\"\""
      ],
      "metadata": {
        "id": "Ime8kcgg47fE",
        "colab": {
          "base_uri": "https://localhost:8080/",
          "height": 70
        },
        "outputId": "f3c02eed-20d3-4111-b78a-4767b2481e4f"
      },
      "execution_count": 92,
      "outputs": [
        {
          "output_type": "execute_result",
          "data": {
            "text/plain": [
              "'\\n\\nCluster 0 / delta: Es el grupo más vulnerable frente a la viropolítica. Incluye a la población que requirió mayores cuidados intensivos, ser intubada. Tuvo valores mayores de sistema inmunosuprimido, requirió mñas hospitalizaciones. \\nCluster 2 / gamma: Es el segundo grupo más vulnerable a la viropolítica.\\nCluster 3 / beta: Es el segundo grupo más capaz de ejercer la viropolítica. Mantiene valorrs bajos para cada condición de riesgo.\\nCluster 1 / alpha: Es el grupo más capaz de ejercer la viropolítica. Dados sus bajos valores para cada condición de riesgo, es el grupo menos vulnerable. \\n\\n'"
            ],
            "application/vnd.google.colaboratory.intrinsic+json": {
              "type": "string"
            }
          },
          "metadata": {},
          "execution_count": 92
        }
      ]
    },
    {
      "cell_type": "code",
      "source": [
        "import plotly.express as px\n",
        "fig = px.scatter(X_pivot,\n",
        "                 x=\"defunciones\",\n",
        "                 y=\"paciente_hosp\",\n",
        "                 size=\"EDAD\",\n",
        "                  template = \"plotly_dark\",\n",
        "                 color=\"cluster\", title = \"Correlación entre el numero de defunciones y los pacientes hospitalizados por COVID-19\")\n",
        "fig.show()"
      ],
      "metadata": {
        "id": "fsr34BpxXo56",
        "colab": {
          "base_uri": "https://localhost:8080/",
          "height": 542
        },
        "outputId": "8947594f-5ee1-44ca-8b25-d981357b50e2"
      },
      "execution_count": 71,
      "outputs": [
        {
          "output_type": "display_data",
          "data": {
            "text/html": [
              "<html>\n",
              "<head><meta charset=\"utf-8\" /></head>\n",
              "<body>\n",
              "    <div>            <script src=\"https://cdnjs.cloudflare.com/ajax/libs/mathjax/2.7.5/MathJax.js?config=TeX-AMS-MML_SVG\"></script><script type=\"text/javascript\">if (window.MathJax) {MathJax.Hub.Config({SVG: {font: \"STIX-Web\"}});}</script>                <script type=\"text/javascript\">window.PlotlyConfig = {MathJaxConfig: 'local'};</script>\n",
              "        <script src=\"https://cdn.plot.ly/plotly-2.8.3.min.js\"></script>                <div id=\"8065d539-a711-47e5-ad19-ea820884d2f0\" class=\"plotly-graph-div\" style=\"height:525px; width:100%;\"></div>            <script type=\"text/javascript\">                                    window.PLOTLYENV=window.PLOTLYENV || {};                                    if (document.getElementById(\"8065d539-a711-47e5-ad19-ea820884d2f0\")) {                    Plotly.newPlot(                        \"8065d539-a711-47e5-ad19-ea820884d2f0\",                        [{\"hovertemplate\":\"defunciones=%{x}<br>paciente_hosp=%{y}<br>EDAD=%{marker.size}<br>cluster=%{marker.color}<extra></extra>\",\"legendgroup\":\"\",\"marker\":{\"color\":[0,1,2,3],\"coloraxis\":\"coloraxis\",\"size\":[68.05574437317063,17.515664578735723,49.49158128665145,33.194011408626174],\"sizemode\":\"area\",\"sizeref\":0.17013936093292656,\"symbol\":\"circle\"},\"mode\":\"markers\",\"name\":\"\",\"orientation\":\"v\",\"showlegend\":false,\"x\":[0.1117942055547178,0.000741563756644768,0.022917169192807913,0.00463230444363774],\"xaxis\":\"x\",\"y\":[0.18962057325801251,0.010769238610243264,0.05820142434032322,0.021375409246543242],\"yaxis\":\"y\",\"type\":\"scatter\"}],                        {\"template\":{\"data\":{\"barpolar\":[{\"marker\":{\"line\":{\"color\":\"rgb(17,17,17)\",\"width\":0.5},\"pattern\":{\"fillmode\":\"overlay\",\"size\":10,\"solidity\":0.2}},\"type\":\"barpolar\"}],\"bar\":[{\"error_x\":{\"color\":\"#f2f5fa\"},\"error_y\":{\"color\":\"#f2f5fa\"},\"marker\":{\"line\":{\"color\":\"rgb(17,17,17)\",\"width\":0.5},\"pattern\":{\"fillmode\":\"overlay\",\"size\":10,\"solidity\":0.2}},\"type\":\"bar\"}],\"carpet\":[{\"aaxis\":{\"endlinecolor\":\"#A2B1C6\",\"gridcolor\":\"#506784\",\"linecolor\":\"#506784\",\"minorgridcolor\":\"#506784\",\"startlinecolor\":\"#A2B1C6\"},\"baxis\":{\"endlinecolor\":\"#A2B1C6\",\"gridcolor\":\"#506784\",\"linecolor\":\"#506784\",\"minorgridcolor\":\"#506784\",\"startlinecolor\":\"#A2B1C6\"},\"type\":\"carpet\"}],\"choropleth\":[{\"colorbar\":{\"outlinewidth\":0,\"ticks\":\"\"},\"type\":\"choropleth\"}],\"contourcarpet\":[{\"colorbar\":{\"outlinewidth\":0,\"ticks\":\"\"},\"type\":\"contourcarpet\"}],\"contour\":[{\"colorbar\":{\"outlinewidth\":0,\"ticks\":\"\"},\"colorscale\":[[0.0,\"#0d0887\"],[0.1111111111111111,\"#46039f\"],[0.2222222222222222,\"#7201a8\"],[0.3333333333333333,\"#9c179e\"],[0.4444444444444444,\"#bd3786\"],[0.5555555555555556,\"#d8576b\"],[0.6666666666666666,\"#ed7953\"],[0.7777777777777778,\"#fb9f3a\"],[0.8888888888888888,\"#fdca26\"],[1.0,\"#f0f921\"]],\"type\":\"contour\"}],\"heatmapgl\":[{\"colorbar\":{\"outlinewidth\":0,\"ticks\":\"\"},\"colorscale\":[[0.0,\"#0d0887\"],[0.1111111111111111,\"#46039f\"],[0.2222222222222222,\"#7201a8\"],[0.3333333333333333,\"#9c179e\"],[0.4444444444444444,\"#bd3786\"],[0.5555555555555556,\"#d8576b\"],[0.6666666666666666,\"#ed7953\"],[0.7777777777777778,\"#fb9f3a\"],[0.8888888888888888,\"#fdca26\"],[1.0,\"#f0f921\"]],\"type\":\"heatmapgl\"}],\"heatmap\":[{\"colorbar\":{\"outlinewidth\":0,\"ticks\":\"\"},\"colorscale\":[[0.0,\"#0d0887\"],[0.1111111111111111,\"#46039f\"],[0.2222222222222222,\"#7201a8\"],[0.3333333333333333,\"#9c179e\"],[0.4444444444444444,\"#bd3786\"],[0.5555555555555556,\"#d8576b\"],[0.6666666666666666,\"#ed7953\"],[0.7777777777777778,\"#fb9f3a\"],[0.8888888888888888,\"#fdca26\"],[1.0,\"#f0f921\"]],\"type\":\"heatmap\"}],\"histogram2dcontour\":[{\"colorbar\":{\"outlinewidth\":0,\"ticks\":\"\"},\"colorscale\":[[0.0,\"#0d0887\"],[0.1111111111111111,\"#46039f\"],[0.2222222222222222,\"#7201a8\"],[0.3333333333333333,\"#9c179e\"],[0.4444444444444444,\"#bd3786\"],[0.5555555555555556,\"#d8576b\"],[0.6666666666666666,\"#ed7953\"],[0.7777777777777778,\"#fb9f3a\"],[0.8888888888888888,\"#fdca26\"],[1.0,\"#f0f921\"]],\"type\":\"histogram2dcontour\"}],\"histogram2d\":[{\"colorbar\":{\"outlinewidth\":0,\"ticks\":\"\"},\"colorscale\":[[0.0,\"#0d0887\"],[0.1111111111111111,\"#46039f\"],[0.2222222222222222,\"#7201a8\"],[0.3333333333333333,\"#9c179e\"],[0.4444444444444444,\"#bd3786\"],[0.5555555555555556,\"#d8576b\"],[0.6666666666666666,\"#ed7953\"],[0.7777777777777778,\"#fb9f3a\"],[0.8888888888888888,\"#fdca26\"],[1.0,\"#f0f921\"]],\"type\":\"histogram2d\"}],\"histogram\":[{\"marker\":{\"pattern\":{\"fillmode\":\"overlay\",\"size\":10,\"solidity\":0.2}},\"type\":\"histogram\"}],\"mesh3d\":[{\"colorbar\":{\"outlinewidth\":0,\"ticks\":\"\"},\"type\":\"mesh3d\"}],\"parcoords\":[{\"line\":{\"colorbar\":{\"outlinewidth\":0,\"ticks\":\"\"}},\"type\":\"parcoords\"}],\"pie\":[{\"automargin\":true,\"type\":\"pie\"}],\"scatter3d\":[{\"line\":{\"colorbar\":{\"outlinewidth\":0,\"ticks\":\"\"}},\"marker\":{\"colorbar\":{\"outlinewidth\":0,\"ticks\":\"\"}},\"type\":\"scatter3d\"}],\"scattercarpet\":[{\"marker\":{\"colorbar\":{\"outlinewidth\":0,\"ticks\":\"\"}},\"type\":\"scattercarpet\"}],\"scattergeo\":[{\"marker\":{\"colorbar\":{\"outlinewidth\":0,\"ticks\":\"\"}},\"type\":\"scattergeo\"}],\"scattergl\":[{\"marker\":{\"line\":{\"color\":\"#283442\"}},\"type\":\"scattergl\"}],\"scattermapbox\":[{\"marker\":{\"colorbar\":{\"outlinewidth\":0,\"ticks\":\"\"}},\"type\":\"scattermapbox\"}],\"scatterpolargl\":[{\"marker\":{\"colorbar\":{\"outlinewidth\":0,\"ticks\":\"\"}},\"type\":\"scatterpolargl\"}],\"scatterpolar\":[{\"marker\":{\"colorbar\":{\"outlinewidth\":0,\"ticks\":\"\"}},\"type\":\"scatterpolar\"}],\"scatter\":[{\"marker\":{\"line\":{\"color\":\"#283442\"}},\"type\":\"scatter\"}],\"scatterternary\":[{\"marker\":{\"colorbar\":{\"outlinewidth\":0,\"ticks\":\"\"}},\"type\":\"scatterternary\"}],\"surface\":[{\"colorbar\":{\"outlinewidth\":0,\"ticks\":\"\"},\"colorscale\":[[0.0,\"#0d0887\"],[0.1111111111111111,\"#46039f\"],[0.2222222222222222,\"#7201a8\"],[0.3333333333333333,\"#9c179e\"],[0.4444444444444444,\"#bd3786\"],[0.5555555555555556,\"#d8576b\"],[0.6666666666666666,\"#ed7953\"],[0.7777777777777778,\"#fb9f3a\"],[0.8888888888888888,\"#fdca26\"],[1.0,\"#f0f921\"]],\"type\":\"surface\"}],\"table\":[{\"cells\":{\"fill\":{\"color\":\"#506784\"},\"line\":{\"color\":\"rgb(17,17,17)\"}},\"header\":{\"fill\":{\"color\":\"#2a3f5f\"},\"line\":{\"color\":\"rgb(17,17,17)\"}},\"type\":\"table\"}]},\"layout\":{\"annotationdefaults\":{\"arrowcolor\":\"#f2f5fa\",\"arrowhead\":0,\"arrowwidth\":1},\"autotypenumbers\":\"strict\",\"coloraxis\":{\"colorbar\":{\"outlinewidth\":0,\"ticks\":\"\"}},\"colorscale\":{\"diverging\":[[0,\"#8e0152\"],[0.1,\"#c51b7d\"],[0.2,\"#de77ae\"],[0.3,\"#f1b6da\"],[0.4,\"#fde0ef\"],[0.5,\"#f7f7f7\"],[0.6,\"#e6f5d0\"],[0.7,\"#b8e186\"],[0.8,\"#7fbc41\"],[0.9,\"#4d9221\"],[1,\"#276419\"]],\"sequential\":[[0.0,\"#0d0887\"],[0.1111111111111111,\"#46039f\"],[0.2222222222222222,\"#7201a8\"],[0.3333333333333333,\"#9c179e\"],[0.4444444444444444,\"#bd3786\"],[0.5555555555555556,\"#d8576b\"],[0.6666666666666666,\"#ed7953\"],[0.7777777777777778,\"#fb9f3a\"],[0.8888888888888888,\"#fdca26\"],[1.0,\"#f0f921\"]],\"sequentialminus\":[[0.0,\"#0d0887\"],[0.1111111111111111,\"#46039f\"],[0.2222222222222222,\"#7201a8\"],[0.3333333333333333,\"#9c179e\"],[0.4444444444444444,\"#bd3786\"],[0.5555555555555556,\"#d8576b\"],[0.6666666666666666,\"#ed7953\"],[0.7777777777777778,\"#fb9f3a\"],[0.8888888888888888,\"#fdca26\"],[1.0,\"#f0f921\"]]},\"colorway\":[\"#636efa\",\"#EF553B\",\"#00cc96\",\"#ab63fa\",\"#FFA15A\",\"#19d3f3\",\"#FF6692\",\"#B6E880\",\"#FF97FF\",\"#FECB52\"],\"font\":{\"color\":\"#f2f5fa\"},\"geo\":{\"bgcolor\":\"rgb(17,17,17)\",\"lakecolor\":\"rgb(17,17,17)\",\"landcolor\":\"rgb(17,17,17)\",\"showlakes\":true,\"showland\":true,\"subunitcolor\":\"#506784\"},\"hoverlabel\":{\"align\":\"left\"},\"hovermode\":\"closest\",\"mapbox\":{\"style\":\"dark\"},\"paper_bgcolor\":\"rgb(17,17,17)\",\"plot_bgcolor\":\"rgb(17,17,17)\",\"polar\":{\"angularaxis\":{\"gridcolor\":\"#506784\",\"linecolor\":\"#506784\",\"ticks\":\"\"},\"bgcolor\":\"rgb(17,17,17)\",\"radialaxis\":{\"gridcolor\":\"#506784\",\"linecolor\":\"#506784\",\"ticks\":\"\"}},\"scene\":{\"xaxis\":{\"backgroundcolor\":\"rgb(17,17,17)\",\"gridcolor\":\"#506784\",\"gridwidth\":2,\"linecolor\":\"#506784\",\"showbackground\":true,\"ticks\":\"\",\"zerolinecolor\":\"#C8D4E3\"},\"yaxis\":{\"backgroundcolor\":\"rgb(17,17,17)\",\"gridcolor\":\"#506784\",\"gridwidth\":2,\"linecolor\":\"#506784\",\"showbackground\":true,\"ticks\":\"\",\"zerolinecolor\":\"#C8D4E3\"},\"zaxis\":{\"backgroundcolor\":\"rgb(17,17,17)\",\"gridcolor\":\"#506784\",\"gridwidth\":2,\"linecolor\":\"#506784\",\"showbackground\":true,\"ticks\":\"\",\"zerolinecolor\":\"#C8D4E3\"}},\"shapedefaults\":{\"line\":{\"color\":\"#f2f5fa\"}},\"sliderdefaults\":{\"bgcolor\":\"#C8D4E3\",\"bordercolor\":\"rgb(17,17,17)\",\"borderwidth\":1,\"tickwidth\":0},\"ternary\":{\"aaxis\":{\"gridcolor\":\"#506784\",\"linecolor\":\"#506784\",\"ticks\":\"\"},\"baxis\":{\"gridcolor\":\"#506784\",\"linecolor\":\"#506784\",\"ticks\":\"\"},\"bgcolor\":\"rgb(17,17,17)\",\"caxis\":{\"gridcolor\":\"#506784\",\"linecolor\":\"#506784\",\"ticks\":\"\"}},\"title\":{\"x\":0.05},\"updatemenudefaults\":{\"bgcolor\":\"#506784\",\"borderwidth\":0},\"xaxis\":{\"automargin\":true,\"gridcolor\":\"#283442\",\"linecolor\":\"#506784\",\"ticks\":\"\",\"title\":{\"standoff\":15},\"zerolinecolor\":\"#283442\",\"zerolinewidth\":2},\"yaxis\":{\"automargin\":true,\"gridcolor\":\"#283442\",\"linecolor\":\"#506784\",\"ticks\":\"\",\"title\":{\"standoff\":15},\"zerolinecolor\":\"#283442\",\"zerolinewidth\":2}}},\"xaxis\":{\"anchor\":\"y\",\"domain\":[0.0,1.0],\"title\":{\"text\":\"defunciones\"}},\"yaxis\":{\"anchor\":\"x\",\"domain\":[0.0,1.0],\"title\":{\"text\":\"paciente_hosp\"}},\"coloraxis\":{\"colorbar\":{\"title\":{\"text\":\"cluster\"}},\"colorscale\":[[0.0,\"#0d0887\"],[0.1111111111111111,\"#46039f\"],[0.2222222222222222,\"#7201a8\"],[0.3333333333333333,\"#9c179e\"],[0.4444444444444444,\"#bd3786\"],[0.5555555555555556,\"#d8576b\"],[0.6666666666666666,\"#ed7953\"],[0.7777777777777778,\"#fb9f3a\"],[0.8888888888888888,\"#fdca26\"],[1.0,\"#f0f921\"]]},\"legend\":{\"tracegroupgap\":0,\"itemsizing\":\"constant\"},\"title\":{\"text\":\"Correlaci\\u00f3n entre el numero de defunciones y los pacientes hospitalizados por COVID-19\"}},                        {\"responsive\": true}                    ).then(function(){\n",
              "                            \n",
              "var gd = document.getElementById('8065d539-a711-47e5-ad19-ea820884d2f0');\n",
              "var x = new MutationObserver(function (mutations, observer) {{\n",
              "        var display = window.getComputedStyle(gd).display;\n",
              "        if (!display || display === 'none') {{\n",
              "            console.log([gd, 'removed!']);\n",
              "            Plotly.purge(gd);\n",
              "            observer.disconnect();\n",
              "        }}\n",
              "}});\n",
              "\n",
              "// Listen for the removal of the full notebook cells\n",
              "var notebookContainer = gd.closest('#notebook-container');\n",
              "if (notebookContainer) {{\n",
              "    x.observe(notebookContainer, {childList: true});\n",
              "}}\n",
              "\n",
              "// Listen for the clearing of the current output cell\n",
              "var outputEl = gd.closest('.output');\n",
              "if (outputEl) {{\n",
              "    x.observe(outputEl, {childList: true});\n",
              "}}\n",
              "\n",
              "                        })                };                            </script>        </div>\n",
              "</body>\n",
              "</html>"
            ]
          },
          "metadata": {}
        }
      ]
    },
    {
      "cell_type": "code",
      "source": [
        "\n",
        "fig = px.scatter_ternary(X_pivot, \n",
        "                         a=\"diabetes_si\", \n",
        "                         b=\"hipert_si\", \n",
        "                         c=\"asma_si\",\n",
        "                         size=\"EDAD\",\n",
        "                         size_max = 20,\n",
        "                         color  = 'cluster',\n",
        "                         template = \"plotly_dark\",\n",
        "                          title = \"Condiciones de coomorbilidad más relevantes en la viropolítica, según los grupos\"\n",
        "                         )\n",
        "fig.show()"
      ],
      "metadata": {
        "id": "b6O8YH8NXo3I",
        "colab": {
          "base_uri": "https://localhost:8080/",
          "height": 542
        },
        "outputId": "efeeec0c-b008-45ea-81c1-e25a12e8f96c"
      },
      "execution_count": 72,
      "outputs": [
        {
          "output_type": "display_data",
          "data": {
            "text/html": [
              "<html>\n",
              "<head><meta charset=\"utf-8\" /></head>\n",
              "<body>\n",
              "    <div>            <script src=\"https://cdnjs.cloudflare.com/ajax/libs/mathjax/2.7.5/MathJax.js?config=TeX-AMS-MML_SVG\"></script><script type=\"text/javascript\">if (window.MathJax) {MathJax.Hub.Config({SVG: {font: \"STIX-Web\"}});}</script>                <script type=\"text/javascript\">window.PlotlyConfig = {MathJaxConfig: 'local'};</script>\n",
              "        <script src=\"https://cdn.plot.ly/plotly-2.8.3.min.js\"></script>                <div id=\"8a03690d-a895-4d0b-8dc1-ef139c981143\" class=\"plotly-graph-div\" style=\"height:525px; width:100%;\"></div>            <script type=\"text/javascript\">                                    window.PLOTLYENV=window.PLOTLYENV || {};                                    if (document.getElementById(\"8a03690d-a895-4d0b-8dc1-ef139c981143\")) {                    Plotly.newPlot(                        \"8a03690d-a895-4d0b-8dc1-ef139c981143\",                        [{\"a\":[0.23410162125377473,0.0041716146722594,0.1079544780516353,0.020608471424748913],\"b\":[0.32501246969573944,0.004854566860509564,0.1320717785273381,0.02752625057733375],\"c\":[0.013463404826255573,0.021255612694756048,0.017319851792683746,0.019908001547510094],\"hovertemplate\":\"diabetes_si=%{a}<br>hipert_si=%{b}<br>asma_si=%{c}<br>EDAD=%{marker.size}<br>cluster=%{marker.color}<extra></extra>\",\"legendgroup\":\"\",\"marker\":{\"color\":[0,1,2,3],\"coloraxis\":\"coloraxis\",\"size\":[68.05574437317063,17.515664578735723,49.49158128665145,33.194011408626174],\"sizemode\":\"area\",\"sizeref\":0.17013936093292656,\"symbol\":\"circle\"},\"mode\":\"markers\",\"name\":\"\",\"showlegend\":false,\"subplot\":\"ternary\",\"type\":\"scatterternary\"}],                        {\"template\":{\"data\":{\"barpolar\":[{\"marker\":{\"line\":{\"color\":\"rgb(17,17,17)\",\"width\":0.5},\"pattern\":{\"fillmode\":\"overlay\",\"size\":10,\"solidity\":0.2}},\"type\":\"barpolar\"}],\"bar\":[{\"error_x\":{\"color\":\"#f2f5fa\"},\"error_y\":{\"color\":\"#f2f5fa\"},\"marker\":{\"line\":{\"color\":\"rgb(17,17,17)\",\"width\":0.5},\"pattern\":{\"fillmode\":\"overlay\",\"size\":10,\"solidity\":0.2}},\"type\":\"bar\"}],\"carpet\":[{\"aaxis\":{\"endlinecolor\":\"#A2B1C6\",\"gridcolor\":\"#506784\",\"linecolor\":\"#506784\",\"minorgridcolor\":\"#506784\",\"startlinecolor\":\"#A2B1C6\"},\"baxis\":{\"endlinecolor\":\"#A2B1C6\",\"gridcolor\":\"#506784\",\"linecolor\":\"#506784\",\"minorgridcolor\":\"#506784\",\"startlinecolor\":\"#A2B1C6\"},\"type\":\"carpet\"}],\"choropleth\":[{\"colorbar\":{\"outlinewidth\":0,\"ticks\":\"\"},\"type\":\"choropleth\"}],\"contourcarpet\":[{\"colorbar\":{\"outlinewidth\":0,\"ticks\":\"\"},\"type\":\"contourcarpet\"}],\"contour\":[{\"colorbar\":{\"outlinewidth\":0,\"ticks\":\"\"},\"colorscale\":[[0.0,\"#0d0887\"],[0.1111111111111111,\"#46039f\"],[0.2222222222222222,\"#7201a8\"],[0.3333333333333333,\"#9c179e\"],[0.4444444444444444,\"#bd3786\"],[0.5555555555555556,\"#d8576b\"],[0.6666666666666666,\"#ed7953\"],[0.7777777777777778,\"#fb9f3a\"],[0.8888888888888888,\"#fdca26\"],[1.0,\"#f0f921\"]],\"type\":\"contour\"}],\"heatmapgl\":[{\"colorbar\":{\"outlinewidth\":0,\"ticks\":\"\"},\"colorscale\":[[0.0,\"#0d0887\"],[0.1111111111111111,\"#46039f\"],[0.2222222222222222,\"#7201a8\"],[0.3333333333333333,\"#9c179e\"],[0.4444444444444444,\"#bd3786\"],[0.5555555555555556,\"#d8576b\"],[0.6666666666666666,\"#ed7953\"],[0.7777777777777778,\"#fb9f3a\"],[0.8888888888888888,\"#fdca26\"],[1.0,\"#f0f921\"]],\"type\":\"heatmapgl\"}],\"heatmap\":[{\"colorbar\":{\"outlinewidth\":0,\"ticks\":\"\"},\"colorscale\":[[0.0,\"#0d0887\"],[0.1111111111111111,\"#46039f\"],[0.2222222222222222,\"#7201a8\"],[0.3333333333333333,\"#9c179e\"],[0.4444444444444444,\"#bd3786\"],[0.5555555555555556,\"#d8576b\"],[0.6666666666666666,\"#ed7953\"],[0.7777777777777778,\"#fb9f3a\"],[0.8888888888888888,\"#fdca26\"],[1.0,\"#f0f921\"]],\"type\":\"heatmap\"}],\"histogram2dcontour\":[{\"colorbar\":{\"outlinewidth\":0,\"ticks\":\"\"},\"colorscale\":[[0.0,\"#0d0887\"],[0.1111111111111111,\"#46039f\"],[0.2222222222222222,\"#7201a8\"],[0.3333333333333333,\"#9c179e\"],[0.4444444444444444,\"#bd3786\"],[0.5555555555555556,\"#d8576b\"],[0.6666666666666666,\"#ed7953\"],[0.7777777777777778,\"#fb9f3a\"],[0.8888888888888888,\"#fdca26\"],[1.0,\"#f0f921\"]],\"type\":\"histogram2dcontour\"}],\"histogram2d\":[{\"colorbar\":{\"outlinewidth\":0,\"ticks\":\"\"},\"colorscale\":[[0.0,\"#0d0887\"],[0.1111111111111111,\"#46039f\"],[0.2222222222222222,\"#7201a8\"],[0.3333333333333333,\"#9c179e\"],[0.4444444444444444,\"#bd3786\"],[0.5555555555555556,\"#d8576b\"],[0.6666666666666666,\"#ed7953\"],[0.7777777777777778,\"#fb9f3a\"],[0.8888888888888888,\"#fdca26\"],[1.0,\"#f0f921\"]],\"type\":\"histogram2d\"}],\"histogram\":[{\"marker\":{\"pattern\":{\"fillmode\":\"overlay\",\"size\":10,\"solidity\":0.2}},\"type\":\"histogram\"}],\"mesh3d\":[{\"colorbar\":{\"outlinewidth\":0,\"ticks\":\"\"},\"type\":\"mesh3d\"}],\"parcoords\":[{\"line\":{\"colorbar\":{\"outlinewidth\":0,\"ticks\":\"\"}},\"type\":\"parcoords\"}],\"pie\":[{\"automargin\":true,\"type\":\"pie\"}],\"scatter3d\":[{\"line\":{\"colorbar\":{\"outlinewidth\":0,\"ticks\":\"\"}},\"marker\":{\"colorbar\":{\"outlinewidth\":0,\"ticks\":\"\"}},\"type\":\"scatter3d\"}],\"scattercarpet\":[{\"marker\":{\"colorbar\":{\"outlinewidth\":0,\"ticks\":\"\"}},\"type\":\"scattercarpet\"}],\"scattergeo\":[{\"marker\":{\"colorbar\":{\"outlinewidth\":0,\"ticks\":\"\"}},\"type\":\"scattergeo\"}],\"scattergl\":[{\"marker\":{\"line\":{\"color\":\"#283442\"}},\"type\":\"scattergl\"}],\"scattermapbox\":[{\"marker\":{\"colorbar\":{\"outlinewidth\":0,\"ticks\":\"\"}},\"type\":\"scattermapbox\"}],\"scatterpolargl\":[{\"marker\":{\"colorbar\":{\"outlinewidth\":0,\"ticks\":\"\"}},\"type\":\"scatterpolargl\"}],\"scatterpolar\":[{\"marker\":{\"colorbar\":{\"outlinewidth\":0,\"ticks\":\"\"}},\"type\":\"scatterpolar\"}],\"scatter\":[{\"marker\":{\"line\":{\"color\":\"#283442\"}},\"type\":\"scatter\"}],\"scatterternary\":[{\"marker\":{\"colorbar\":{\"outlinewidth\":0,\"ticks\":\"\"}},\"type\":\"scatterternary\"}],\"surface\":[{\"colorbar\":{\"outlinewidth\":0,\"ticks\":\"\"},\"colorscale\":[[0.0,\"#0d0887\"],[0.1111111111111111,\"#46039f\"],[0.2222222222222222,\"#7201a8\"],[0.3333333333333333,\"#9c179e\"],[0.4444444444444444,\"#bd3786\"],[0.5555555555555556,\"#d8576b\"],[0.6666666666666666,\"#ed7953\"],[0.7777777777777778,\"#fb9f3a\"],[0.8888888888888888,\"#fdca26\"],[1.0,\"#f0f921\"]],\"type\":\"surface\"}],\"table\":[{\"cells\":{\"fill\":{\"color\":\"#506784\"},\"line\":{\"color\":\"rgb(17,17,17)\"}},\"header\":{\"fill\":{\"color\":\"#2a3f5f\"},\"line\":{\"color\":\"rgb(17,17,17)\"}},\"type\":\"table\"}]},\"layout\":{\"annotationdefaults\":{\"arrowcolor\":\"#f2f5fa\",\"arrowhead\":0,\"arrowwidth\":1},\"autotypenumbers\":\"strict\",\"coloraxis\":{\"colorbar\":{\"outlinewidth\":0,\"ticks\":\"\"}},\"colorscale\":{\"diverging\":[[0,\"#8e0152\"],[0.1,\"#c51b7d\"],[0.2,\"#de77ae\"],[0.3,\"#f1b6da\"],[0.4,\"#fde0ef\"],[0.5,\"#f7f7f7\"],[0.6,\"#e6f5d0\"],[0.7,\"#b8e186\"],[0.8,\"#7fbc41\"],[0.9,\"#4d9221\"],[1,\"#276419\"]],\"sequential\":[[0.0,\"#0d0887\"],[0.1111111111111111,\"#46039f\"],[0.2222222222222222,\"#7201a8\"],[0.3333333333333333,\"#9c179e\"],[0.4444444444444444,\"#bd3786\"],[0.5555555555555556,\"#d8576b\"],[0.6666666666666666,\"#ed7953\"],[0.7777777777777778,\"#fb9f3a\"],[0.8888888888888888,\"#fdca26\"],[1.0,\"#f0f921\"]],\"sequentialminus\":[[0.0,\"#0d0887\"],[0.1111111111111111,\"#46039f\"],[0.2222222222222222,\"#7201a8\"],[0.3333333333333333,\"#9c179e\"],[0.4444444444444444,\"#bd3786\"],[0.5555555555555556,\"#d8576b\"],[0.6666666666666666,\"#ed7953\"],[0.7777777777777778,\"#fb9f3a\"],[0.8888888888888888,\"#fdca26\"],[1.0,\"#f0f921\"]]},\"colorway\":[\"#636efa\",\"#EF553B\",\"#00cc96\",\"#ab63fa\",\"#FFA15A\",\"#19d3f3\",\"#FF6692\",\"#B6E880\",\"#FF97FF\",\"#FECB52\"],\"font\":{\"color\":\"#f2f5fa\"},\"geo\":{\"bgcolor\":\"rgb(17,17,17)\",\"lakecolor\":\"rgb(17,17,17)\",\"landcolor\":\"rgb(17,17,17)\",\"showlakes\":true,\"showland\":true,\"subunitcolor\":\"#506784\"},\"hoverlabel\":{\"align\":\"left\"},\"hovermode\":\"closest\",\"mapbox\":{\"style\":\"dark\"},\"paper_bgcolor\":\"rgb(17,17,17)\",\"plot_bgcolor\":\"rgb(17,17,17)\",\"polar\":{\"angularaxis\":{\"gridcolor\":\"#506784\",\"linecolor\":\"#506784\",\"ticks\":\"\"},\"bgcolor\":\"rgb(17,17,17)\",\"radialaxis\":{\"gridcolor\":\"#506784\",\"linecolor\":\"#506784\",\"ticks\":\"\"}},\"scene\":{\"xaxis\":{\"backgroundcolor\":\"rgb(17,17,17)\",\"gridcolor\":\"#506784\",\"gridwidth\":2,\"linecolor\":\"#506784\",\"showbackground\":true,\"ticks\":\"\",\"zerolinecolor\":\"#C8D4E3\"},\"yaxis\":{\"backgroundcolor\":\"rgb(17,17,17)\",\"gridcolor\":\"#506784\",\"gridwidth\":2,\"linecolor\":\"#506784\",\"showbackground\":true,\"ticks\":\"\",\"zerolinecolor\":\"#C8D4E3\"},\"zaxis\":{\"backgroundcolor\":\"rgb(17,17,17)\",\"gridcolor\":\"#506784\",\"gridwidth\":2,\"linecolor\":\"#506784\",\"showbackground\":true,\"ticks\":\"\",\"zerolinecolor\":\"#C8D4E3\"}},\"shapedefaults\":{\"line\":{\"color\":\"#f2f5fa\"}},\"sliderdefaults\":{\"bgcolor\":\"#C8D4E3\",\"bordercolor\":\"rgb(17,17,17)\",\"borderwidth\":1,\"tickwidth\":0},\"ternary\":{\"aaxis\":{\"gridcolor\":\"#506784\",\"linecolor\":\"#506784\",\"ticks\":\"\"},\"baxis\":{\"gridcolor\":\"#506784\",\"linecolor\":\"#506784\",\"ticks\":\"\"},\"bgcolor\":\"rgb(17,17,17)\",\"caxis\":{\"gridcolor\":\"#506784\",\"linecolor\":\"#506784\",\"ticks\":\"\"}},\"title\":{\"x\":0.05},\"updatemenudefaults\":{\"bgcolor\":\"#506784\",\"borderwidth\":0},\"xaxis\":{\"automargin\":true,\"gridcolor\":\"#283442\",\"linecolor\":\"#506784\",\"ticks\":\"\",\"title\":{\"standoff\":15},\"zerolinecolor\":\"#283442\",\"zerolinewidth\":2},\"yaxis\":{\"automargin\":true,\"gridcolor\":\"#283442\",\"linecolor\":\"#506784\",\"ticks\":\"\",\"title\":{\"standoff\":15},\"zerolinecolor\":\"#283442\",\"zerolinewidth\":2}}},\"ternary\":{\"domain\":{\"x\":[0.0,1.0],\"y\":[0.0,1.0]},\"aaxis\":{\"title\":{\"text\":\"diabetes_si\"}},\"baxis\":{\"title\":{\"text\":\"hipert_si\"}},\"caxis\":{\"title\":{\"text\":\"asma_si\"}}},\"coloraxis\":{\"colorbar\":{\"title\":{\"text\":\"cluster\"}},\"colorscale\":[[0.0,\"#0d0887\"],[0.1111111111111111,\"#46039f\"],[0.2222222222222222,\"#7201a8\"],[0.3333333333333333,\"#9c179e\"],[0.4444444444444444,\"#bd3786\"],[0.5555555555555556,\"#d8576b\"],[0.6666666666666666,\"#ed7953\"],[0.7777777777777778,\"#fb9f3a\"],[0.8888888888888888,\"#fdca26\"],[1.0,\"#f0f921\"]]},\"legend\":{\"tracegroupgap\":0,\"itemsizing\":\"constant\"},\"title\":{\"text\":\"Condiciones de coomorbilidad m\\u00e1s relevantes en la viropol\\u00edtica, seg\\u00fan los grupos\"}},                        {\"responsive\": true}                    ).then(function(){\n",
              "                            \n",
              "var gd = document.getElementById('8a03690d-a895-4d0b-8dc1-ef139c981143');\n",
              "var x = new MutationObserver(function (mutations, observer) {{\n",
              "        var display = window.getComputedStyle(gd).display;\n",
              "        if (!display || display === 'none') {{\n",
              "            console.log([gd, 'removed!']);\n",
              "            Plotly.purge(gd);\n",
              "            observer.disconnect();\n",
              "        }}\n",
              "}});\n",
              "\n",
              "// Listen for the removal of the full notebook cells\n",
              "var notebookContainer = gd.closest('#notebook-container');\n",
              "if (notebookContainer) {{\n",
              "    x.observe(notebookContainer, {childList: true});\n",
              "}}\n",
              "\n",
              "// Listen for the clearing of the current output cell\n",
              "var outputEl = gd.closest('.output');\n",
              "if (outputEl) {{\n",
              "    x.observe(outputEl, {childList: true});\n",
              "}}\n",
              "\n",
              "                        })                };                            </script>        </div>\n",
              "</body>\n",
              "</html>"
            ]
          },
          "metadata": {}
        }
      ]
    },
    {
      "cell_type": "code",
      "source": [
        "fig = px.scatter_ternary(X_pivot, \n",
        "                         a=\"uci_si\", \n",
        "                         b=\"paciente_hosp\", \n",
        "                         c=\"intub_si\",\n",
        "                         size=\"EDAD\",\n",
        "                         size_max = 20,\n",
        "                         color  = 'cluster',\n",
        "                         template = \"plotly_dark\",\n",
        "                          title = \"Condiciones de coomorbilidad más relevantes en la viropolítica, según los grupos\"\n",
        "                         )\n",
        "fig.show()"
      ],
      "metadata": {
        "id": "arAigr1e9pM2",
        "colab": {
          "base_uri": "https://localhost:8080/",
          "height": 542
        },
        "outputId": "51ec16c4-2729-47db-c03b-f3ecf78e23b2"
      },
      "execution_count": 73,
      "outputs": [
        {
          "output_type": "display_data",
          "data": {
            "text/html": [
              "<html>\n",
              "<head><meta charset=\"utf-8\" /></head>\n",
              "<body>\n",
              "    <div>            <script src=\"https://cdnjs.cloudflare.com/ajax/libs/mathjax/2.7.5/MathJax.js?config=TeX-AMS-MML_SVG\"></script><script type=\"text/javascript\">if (window.MathJax) {MathJax.Hub.Config({SVG: {font: \"STIX-Web\"}});}</script>                <script type=\"text/javascript\">window.PlotlyConfig = {MathJaxConfig: 'local'};</script>\n",
              "        <script src=\"https://cdn.plot.ly/plotly-2.8.3.min.js\"></script>                <div id=\"d2f2c2da-aed6-4416-b5df-f41c8cc2fa8c\" class=\"plotly-graph-div\" style=\"height:525px; width:100%;\"></div>            <script type=\"text/javascript\">                                    window.PLOTLYENV=window.PLOTLYENV || {};                                    if (document.getElementById(\"d2f2c2da-aed6-4416-b5df-f41c8cc2fa8c\")) {                    Plotly.newPlot(                        \"d2f2c2da-aed6-4416-b5df-f41c8cc2fa8c\",                        [{\"a\":[0.01208690507951606,0.0006498239104619101,0.003827766332264353,0.0012748210904492381],\"b\":[0.18962057325801251,0.010769238610243264,0.05820142434032322,0.021375409246543242],\"c\":[0.031705893042876424,0.0005580840642790523,0.009298546002396308,0.0022207110706622423],\"hovertemplate\":\"uci_si=%{a}<br>paciente_hosp=%{b}<br>intub_si=%{c}<br>EDAD=%{marker.size}<br>cluster=%{marker.color}<extra></extra>\",\"legendgroup\":\"\",\"marker\":{\"color\":[0,1,2,3],\"coloraxis\":\"coloraxis\",\"size\":[68.05574437317063,17.515664578735723,49.49158128665145,33.194011408626174],\"sizemode\":\"area\",\"sizeref\":0.17013936093292656,\"symbol\":\"circle\"},\"mode\":\"markers\",\"name\":\"\",\"showlegend\":false,\"subplot\":\"ternary\",\"type\":\"scatterternary\"}],                        {\"template\":{\"data\":{\"barpolar\":[{\"marker\":{\"line\":{\"color\":\"rgb(17,17,17)\",\"width\":0.5},\"pattern\":{\"fillmode\":\"overlay\",\"size\":10,\"solidity\":0.2}},\"type\":\"barpolar\"}],\"bar\":[{\"error_x\":{\"color\":\"#f2f5fa\"},\"error_y\":{\"color\":\"#f2f5fa\"},\"marker\":{\"line\":{\"color\":\"rgb(17,17,17)\",\"width\":0.5},\"pattern\":{\"fillmode\":\"overlay\",\"size\":10,\"solidity\":0.2}},\"type\":\"bar\"}],\"carpet\":[{\"aaxis\":{\"endlinecolor\":\"#A2B1C6\",\"gridcolor\":\"#506784\",\"linecolor\":\"#506784\",\"minorgridcolor\":\"#506784\",\"startlinecolor\":\"#A2B1C6\"},\"baxis\":{\"endlinecolor\":\"#A2B1C6\",\"gridcolor\":\"#506784\",\"linecolor\":\"#506784\",\"minorgridcolor\":\"#506784\",\"startlinecolor\":\"#A2B1C6\"},\"type\":\"carpet\"}],\"choropleth\":[{\"colorbar\":{\"outlinewidth\":0,\"ticks\":\"\"},\"type\":\"choropleth\"}],\"contourcarpet\":[{\"colorbar\":{\"outlinewidth\":0,\"ticks\":\"\"},\"type\":\"contourcarpet\"}],\"contour\":[{\"colorbar\":{\"outlinewidth\":0,\"ticks\":\"\"},\"colorscale\":[[0.0,\"#0d0887\"],[0.1111111111111111,\"#46039f\"],[0.2222222222222222,\"#7201a8\"],[0.3333333333333333,\"#9c179e\"],[0.4444444444444444,\"#bd3786\"],[0.5555555555555556,\"#d8576b\"],[0.6666666666666666,\"#ed7953\"],[0.7777777777777778,\"#fb9f3a\"],[0.8888888888888888,\"#fdca26\"],[1.0,\"#f0f921\"]],\"type\":\"contour\"}],\"heatmapgl\":[{\"colorbar\":{\"outlinewidth\":0,\"ticks\":\"\"},\"colorscale\":[[0.0,\"#0d0887\"],[0.1111111111111111,\"#46039f\"],[0.2222222222222222,\"#7201a8\"],[0.3333333333333333,\"#9c179e\"],[0.4444444444444444,\"#bd3786\"],[0.5555555555555556,\"#d8576b\"],[0.6666666666666666,\"#ed7953\"],[0.7777777777777778,\"#fb9f3a\"],[0.8888888888888888,\"#fdca26\"],[1.0,\"#f0f921\"]],\"type\":\"heatmapgl\"}],\"heatmap\":[{\"colorbar\":{\"outlinewidth\":0,\"ticks\":\"\"},\"colorscale\":[[0.0,\"#0d0887\"],[0.1111111111111111,\"#46039f\"],[0.2222222222222222,\"#7201a8\"],[0.3333333333333333,\"#9c179e\"],[0.4444444444444444,\"#bd3786\"],[0.5555555555555556,\"#d8576b\"],[0.6666666666666666,\"#ed7953\"],[0.7777777777777778,\"#fb9f3a\"],[0.8888888888888888,\"#fdca26\"],[1.0,\"#f0f921\"]],\"type\":\"heatmap\"}],\"histogram2dcontour\":[{\"colorbar\":{\"outlinewidth\":0,\"ticks\":\"\"},\"colorscale\":[[0.0,\"#0d0887\"],[0.1111111111111111,\"#46039f\"],[0.2222222222222222,\"#7201a8\"],[0.3333333333333333,\"#9c179e\"],[0.4444444444444444,\"#bd3786\"],[0.5555555555555556,\"#d8576b\"],[0.6666666666666666,\"#ed7953\"],[0.7777777777777778,\"#fb9f3a\"],[0.8888888888888888,\"#fdca26\"],[1.0,\"#f0f921\"]],\"type\":\"histogram2dcontour\"}],\"histogram2d\":[{\"colorbar\":{\"outlinewidth\":0,\"ticks\":\"\"},\"colorscale\":[[0.0,\"#0d0887\"],[0.1111111111111111,\"#46039f\"],[0.2222222222222222,\"#7201a8\"],[0.3333333333333333,\"#9c179e\"],[0.4444444444444444,\"#bd3786\"],[0.5555555555555556,\"#d8576b\"],[0.6666666666666666,\"#ed7953\"],[0.7777777777777778,\"#fb9f3a\"],[0.8888888888888888,\"#fdca26\"],[1.0,\"#f0f921\"]],\"type\":\"histogram2d\"}],\"histogram\":[{\"marker\":{\"pattern\":{\"fillmode\":\"overlay\",\"size\":10,\"solidity\":0.2}},\"type\":\"histogram\"}],\"mesh3d\":[{\"colorbar\":{\"outlinewidth\":0,\"ticks\":\"\"},\"type\":\"mesh3d\"}],\"parcoords\":[{\"line\":{\"colorbar\":{\"outlinewidth\":0,\"ticks\":\"\"}},\"type\":\"parcoords\"}],\"pie\":[{\"automargin\":true,\"type\":\"pie\"}],\"scatter3d\":[{\"line\":{\"colorbar\":{\"outlinewidth\":0,\"ticks\":\"\"}},\"marker\":{\"colorbar\":{\"outlinewidth\":0,\"ticks\":\"\"}},\"type\":\"scatter3d\"}],\"scattercarpet\":[{\"marker\":{\"colorbar\":{\"outlinewidth\":0,\"ticks\":\"\"}},\"type\":\"scattercarpet\"}],\"scattergeo\":[{\"marker\":{\"colorbar\":{\"outlinewidth\":0,\"ticks\":\"\"}},\"type\":\"scattergeo\"}],\"scattergl\":[{\"marker\":{\"line\":{\"color\":\"#283442\"}},\"type\":\"scattergl\"}],\"scattermapbox\":[{\"marker\":{\"colorbar\":{\"outlinewidth\":0,\"ticks\":\"\"}},\"type\":\"scattermapbox\"}],\"scatterpolargl\":[{\"marker\":{\"colorbar\":{\"outlinewidth\":0,\"ticks\":\"\"}},\"type\":\"scatterpolargl\"}],\"scatterpolar\":[{\"marker\":{\"colorbar\":{\"outlinewidth\":0,\"ticks\":\"\"}},\"type\":\"scatterpolar\"}],\"scatter\":[{\"marker\":{\"line\":{\"color\":\"#283442\"}},\"type\":\"scatter\"}],\"scatterternary\":[{\"marker\":{\"colorbar\":{\"outlinewidth\":0,\"ticks\":\"\"}},\"type\":\"scatterternary\"}],\"surface\":[{\"colorbar\":{\"outlinewidth\":0,\"ticks\":\"\"},\"colorscale\":[[0.0,\"#0d0887\"],[0.1111111111111111,\"#46039f\"],[0.2222222222222222,\"#7201a8\"],[0.3333333333333333,\"#9c179e\"],[0.4444444444444444,\"#bd3786\"],[0.5555555555555556,\"#d8576b\"],[0.6666666666666666,\"#ed7953\"],[0.7777777777777778,\"#fb9f3a\"],[0.8888888888888888,\"#fdca26\"],[1.0,\"#f0f921\"]],\"type\":\"surface\"}],\"table\":[{\"cells\":{\"fill\":{\"color\":\"#506784\"},\"line\":{\"color\":\"rgb(17,17,17)\"}},\"header\":{\"fill\":{\"color\":\"#2a3f5f\"},\"line\":{\"color\":\"rgb(17,17,17)\"}},\"type\":\"table\"}]},\"layout\":{\"annotationdefaults\":{\"arrowcolor\":\"#f2f5fa\",\"arrowhead\":0,\"arrowwidth\":1},\"autotypenumbers\":\"strict\",\"coloraxis\":{\"colorbar\":{\"outlinewidth\":0,\"ticks\":\"\"}},\"colorscale\":{\"diverging\":[[0,\"#8e0152\"],[0.1,\"#c51b7d\"],[0.2,\"#de77ae\"],[0.3,\"#f1b6da\"],[0.4,\"#fde0ef\"],[0.5,\"#f7f7f7\"],[0.6,\"#e6f5d0\"],[0.7,\"#b8e186\"],[0.8,\"#7fbc41\"],[0.9,\"#4d9221\"],[1,\"#276419\"]],\"sequential\":[[0.0,\"#0d0887\"],[0.1111111111111111,\"#46039f\"],[0.2222222222222222,\"#7201a8\"],[0.3333333333333333,\"#9c179e\"],[0.4444444444444444,\"#bd3786\"],[0.5555555555555556,\"#d8576b\"],[0.6666666666666666,\"#ed7953\"],[0.7777777777777778,\"#fb9f3a\"],[0.8888888888888888,\"#fdca26\"],[1.0,\"#f0f921\"]],\"sequentialminus\":[[0.0,\"#0d0887\"],[0.1111111111111111,\"#46039f\"],[0.2222222222222222,\"#7201a8\"],[0.3333333333333333,\"#9c179e\"],[0.4444444444444444,\"#bd3786\"],[0.5555555555555556,\"#d8576b\"],[0.6666666666666666,\"#ed7953\"],[0.7777777777777778,\"#fb9f3a\"],[0.8888888888888888,\"#fdca26\"],[1.0,\"#f0f921\"]]},\"colorway\":[\"#636efa\",\"#EF553B\",\"#00cc96\",\"#ab63fa\",\"#FFA15A\",\"#19d3f3\",\"#FF6692\",\"#B6E880\",\"#FF97FF\",\"#FECB52\"],\"font\":{\"color\":\"#f2f5fa\"},\"geo\":{\"bgcolor\":\"rgb(17,17,17)\",\"lakecolor\":\"rgb(17,17,17)\",\"landcolor\":\"rgb(17,17,17)\",\"showlakes\":true,\"showland\":true,\"subunitcolor\":\"#506784\"},\"hoverlabel\":{\"align\":\"left\"},\"hovermode\":\"closest\",\"mapbox\":{\"style\":\"dark\"},\"paper_bgcolor\":\"rgb(17,17,17)\",\"plot_bgcolor\":\"rgb(17,17,17)\",\"polar\":{\"angularaxis\":{\"gridcolor\":\"#506784\",\"linecolor\":\"#506784\",\"ticks\":\"\"},\"bgcolor\":\"rgb(17,17,17)\",\"radialaxis\":{\"gridcolor\":\"#506784\",\"linecolor\":\"#506784\",\"ticks\":\"\"}},\"scene\":{\"xaxis\":{\"backgroundcolor\":\"rgb(17,17,17)\",\"gridcolor\":\"#506784\",\"gridwidth\":2,\"linecolor\":\"#506784\",\"showbackground\":true,\"ticks\":\"\",\"zerolinecolor\":\"#C8D4E3\"},\"yaxis\":{\"backgroundcolor\":\"rgb(17,17,17)\",\"gridcolor\":\"#506784\",\"gridwidth\":2,\"linecolor\":\"#506784\",\"showbackground\":true,\"ticks\":\"\",\"zerolinecolor\":\"#C8D4E3\"},\"zaxis\":{\"backgroundcolor\":\"rgb(17,17,17)\",\"gridcolor\":\"#506784\",\"gridwidth\":2,\"linecolor\":\"#506784\",\"showbackground\":true,\"ticks\":\"\",\"zerolinecolor\":\"#C8D4E3\"}},\"shapedefaults\":{\"line\":{\"color\":\"#f2f5fa\"}},\"sliderdefaults\":{\"bgcolor\":\"#C8D4E3\",\"bordercolor\":\"rgb(17,17,17)\",\"borderwidth\":1,\"tickwidth\":0},\"ternary\":{\"aaxis\":{\"gridcolor\":\"#506784\",\"linecolor\":\"#506784\",\"ticks\":\"\"},\"baxis\":{\"gridcolor\":\"#506784\",\"linecolor\":\"#506784\",\"ticks\":\"\"},\"bgcolor\":\"rgb(17,17,17)\",\"caxis\":{\"gridcolor\":\"#506784\",\"linecolor\":\"#506784\",\"ticks\":\"\"}},\"title\":{\"x\":0.05},\"updatemenudefaults\":{\"bgcolor\":\"#506784\",\"borderwidth\":0},\"xaxis\":{\"automargin\":true,\"gridcolor\":\"#283442\",\"linecolor\":\"#506784\",\"ticks\":\"\",\"title\":{\"standoff\":15},\"zerolinecolor\":\"#283442\",\"zerolinewidth\":2},\"yaxis\":{\"automargin\":true,\"gridcolor\":\"#283442\",\"linecolor\":\"#506784\",\"ticks\":\"\",\"title\":{\"standoff\":15},\"zerolinecolor\":\"#283442\",\"zerolinewidth\":2}}},\"ternary\":{\"domain\":{\"x\":[0.0,1.0],\"y\":[0.0,1.0]},\"aaxis\":{\"title\":{\"text\":\"uci_si\"}},\"baxis\":{\"title\":{\"text\":\"paciente_hosp\"}},\"caxis\":{\"title\":{\"text\":\"intub_si\"}}},\"coloraxis\":{\"colorbar\":{\"title\":{\"text\":\"cluster\"}},\"colorscale\":[[0.0,\"#0d0887\"],[0.1111111111111111,\"#46039f\"],[0.2222222222222222,\"#7201a8\"],[0.3333333333333333,\"#9c179e\"],[0.4444444444444444,\"#bd3786\"],[0.5555555555555556,\"#d8576b\"],[0.6666666666666666,\"#ed7953\"],[0.7777777777777778,\"#fb9f3a\"],[0.8888888888888888,\"#fdca26\"],[1.0,\"#f0f921\"]]},\"legend\":{\"tracegroupgap\":0,\"itemsizing\":\"constant\"},\"title\":{\"text\":\"Condiciones de coomorbilidad m\\u00e1s relevantes en la viropol\\u00edtica, seg\\u00fan los grupos\"}},                        {\"responsive\": true}                    ).then(function(){\n",
              "                            \n",
              "var gd = document.getElementById('d2f2c2da-aed6-4416-b5df-f41c8cc2fa8c');\n",
              "var x = new MutationObserver(function (mutations, observer) {{\n",
              "        var display = window.getComputedStyle(gd).display;\n",
              "        if (!display || display === 'none') {{\n",
              "            console.log([gd, 'removed!']);\n",
              "            Plotly.purge(gd);\n",
              "            observer.disconnect();\n",
              "        }}\n",
              "}});\n",
              "\n",
              "// Listen for the removal of the full notebook cells\n",
              "var notebookContainer = gd.closest('#notebook-container');\n",
              "if (notebookContainer) {{\n",
              "    x.observe(notebookContainer, {childList: true});\n",
              "}}\n",
              "\n",
              "// Listen for the clearing of the current output cell\n",
              "var outputEl = gd.closest('.output');\n",
              "if (outputEl) {{\n",
              "    x.observe(outputEl, {childList: true});\n",
              "}}\n",
              "\n",
              "                        })                };                            </script>        </div>\n",
              "</body>\n",
              "</html>"
            ]
          },
          "metadata": {}
        }
      ]
    },
    {
      "cell_type": "code",
      "source": [
        "fig = px.scatter_3d(X_pivot, x=\"diabetes_si\", y=\"hipert_si\", z='paciente_hosp', template=\"plotly_dark\",\n",
        "              color=\"cluster\", size=\"EDAD\", size_max=50, title=\"Clusters para el análisis de la viropolítica\")\n",
        "fig.show()"
      ],
      "metadata": {
        "id": "xhJyBomQDoSX",
        "colab": {
          "base_uri": "https://localhost:8080/",
          "height": 542
        },
        "outputId": "efb038ca-d72e-4393-aff1-4787f23c5d89"
      },
      "execution_count": 74,
      "outputs": [
        {
          "output_type": "display_data",
          "data": {
            "text/html": [
              "<html>\n",
              "<head><meta charset=\"utf-8\" /></head>\n",
              "<body>\n",
              "    <div>            <script src=\"https://cdnjs.cloudflare.com/ajax/libs/mathjax/2.7.5/MathJax.js?config=TeX-AMS-MML_SVG\"></script><script type=\"text/javascript\">if (window.MathJax) {MathJax.Hub.Config({SVG: {font: \"STIX-Web\"}});}</script>                <script type=\"text/javascript\">window.PlotlyConfig = {MathJaxConfig: 'local'};</script>\n",
              "        <script src=\"https://cdn.plot.ly/plotly-2.8.3.min.js\"></script>                <div id=\"6d439a53-20d6-426b-84c8-4e393e958cd0\" class=\"plotly-graph-div\" style=\"height:525px; width:100%;\"></div>            <script type=\"text/javascript\">                                    window.PLOTLYENV=window.PLOTLYENV || {};                                    if (document.getElementById(\"6d439a53-20d6-426b-84c8-4e393e958cd0\")) {                    Plotly.newPlot(                        \"6d439a53-20d6-426b-84c8-4e393e958cd0\",                        [{\"hovertemplate\":\"diabetes_si=%{x}<br>hipert_si=%{y}<br>paciente_hosp=%{z}<br>EDAD=%{marker.size}<br>cluster=%{marker.color}<extra></extra>\",\"legendgroup\":\"\",\"marker\":{\"color\":[0,1,2,3],\"coloraxis\":\"coloraxis\",\"size\":[68.05574437317063,17.515664578735723,49.49158128665145,33.194011408626174],\"sizemode\":\"area\",\"sizeref\":0.02722229774926825,\"symbol\":\"circle\"},\"mode\":\"markers\",\"name\":\"\",\"scene\":\"scene\",\"showlegend\":false,\"x\":[0.23410162125377473,0.0041716146722594,0.1079544780516353,0.020608471424748913],\"y\":[0.32501246969573944,0.004854566860509564,0.1320717785273381,0.02752625057733375],\"z\":[0.18962057325801251,0.010769238610243264,0.05820142434032322,0.021375409246543242],\"type\":\"scatter3d\"}],                        {\"template\":{\"data\":{\"barpolar\":[{\"marker\":{\"line\":{\"color\":\"rgb(17,17,17)\",\"width\":0.5},\"pattern\":{\"fillmode\":\"overlay\",\"size\":10,\"solidity\":0.2}},\"type\":\"barpolar\"}],\"bar\":[{\"error_x\":{\"color\":\"#f2f5fa\"},\"error_y\":{\"color\":\"#f2f5fa\"},\"marker\":{\"line\":{\"color\":\"rgb(17,17,17)\",\"width\":0.5},\"pattern\":{\"fillmode\":\"overlay\",\"size\":10,\"solidity\":0.2}},\"type\":\"bar\"}],\"carpet\":[{\"aaxis\":{\"endlinecolor\":\"#A2B1C6\",\"gridcolor\":\"#506784\",\"linecolor\":\"#506784\",\"minorgridcolor\":\"#506784\",\"startlinecolor\":\"#A2B1C6\"},\"baxis\":{\"endlinecolor\":\"#A2B1C6\",\"gridcolor\":\"#506784\",\"linecolor\":\"#506784\",\"minorgridcolor\":\"#506784\",\"startlinecolor\":\"#A2B1C6\"},\"type\":\"carpet\"}],\"choropleth\":[{\"colorbar\":{\"outlinewidth\":0,\"ticks\":\"\"},\"type\":\"choropleth\"}],\"contourcarpet\":[{\"colorbar\":{\"outlinewidth\":0,\"ticks\":\"\"},\"type\":\"contourcarpet\"}],\"contour\":[{\"colorbar\":{\"outlinewidth\":0,\"ticks\":\"\"},\"colorscale\":[[0.0,\"#0d0887\"],[0.1111111111111111,\"#46039f\"],[0.2222222222222222,\"#7201a8\"],[0.3333333333333333,\"#9c179e\"],[0.4444444444444444,\"#bd3786\"],[0.5555555555555556,\"#d8576b\"],[0.6666666666666666,\"#ed7953\"],[0.7777777777777778,\"#fb9f3a\"],[0.8888888888888888,\"#fdca26\"],[1.0,\"#f0f921\"]],\"type\":\"contour\"}],\"heatmapgl\":[{\"colorbar\":{\"outlinewidth\":0,\"ticks\":\"\"},\"colorscale\":[[0.0,\"#0d0887\"],[0.1111111111111111,\"#46039f\"],[0.2222222222222222,\"#7201a8\"],[0.3333333333333333,\"#9c179e\"],[0.4444444444444444,\"#bd3786\"],[0.5555555555555556,\"#d8576b\"],[0.6666666666666666,\"#ed7953\"],[0.7777777777777778,\"#fb9f3a\"],[0.8888888888888888,\"#fdca26\"],[1.0,\"#f0f921\"]],\"type\":\"heatmapgl\"}],\"heatmap\":[{\"colorbar\":{\"outlinewidth\":0,\"ticks\":\"\"},\"colorscale\":[[0.0,\"#0d0887\"],[0.1111111111111111,\"#46039f\"],[0.2222222222222222,\"#7201a8\"],[0.3333333333333333,\"#9c179e\"],[0.4444444444444444,\"#bd3786\"],[0.5555555555555556,\"#d8576b\"],[0.6666666666666666,\"#ed7953\"],[0.7777777777777778,\"#fb9f3a\"],[0.8888888888888888,\"#fdca26\"],[1.0,\"#f0f921\"]],\"type\":\"heatmap\"}],\"histogram2dcontour\":[{\"colorbar\":{\"outlinewidth\":0,\"ticks\":\"\"},\"colorscale\":[[0.0,\"#0d0887\"],[0.1111111111111111,\"#46039f\"],[0.2222222222222222,\"#7201a8\"],[0.3333333333333333,\"#9c179e\"],[0.4444444444444444,\"#bd3786\"],[0.5555555555555556,\"#d8576b\"],[0.6666666666666666,\"#ed7953\"],[0.7777777777777778,\"#fb9f3a\"],[0.8888888888888888,\"#fdca26\"],[1.0,\"#f0f921\"]],\"type\":\"histogram2dcontour\"}],\"histogram2d\":[{\"colorbar\":{\"outlinewidth\":0,\"ticks\":\"\"},\"colorscale\":[[0.0,\"#0d0887\"],[0.1111111111111111,\"#46039f\"],[0.2222222222222222,\"#7201a8\"],[0.3333333333333333,\"#9c179e\"],[0.4444444444444444,\"#bd3786\"],[0.5555555555555556,\"#d8576b\"],[0.6666666666666666,\"#ed7953\"],[0.7777777777777778,\"#fb9f3a\"],[0.8888888888888888,\"#fdca26\"],[1.0,\"#f0f921\"]],\"type\":\"histogram2d\"}],\"histogram\":[{\"marker\":{\"pattern\":{\"fillmode\":\"overlay\",\"size\":10,\"solidity\":0.2}},\"type\":\"histogram\"}],\"mesh3d\":[{\"colorbar\":{\"outlinewidth\":0,\"ticks\":\"\"},\"type\":\"mesh3d\"}],\"parcoords\":[{\"line\":{\"colorbar\":{\"outlinewidth\":0,\"ticks\":\"\"}},\"type\":\"parcoords\"}],\"pie\":[{\"automargin\":true,\"type\":\"pie\"}],\"scatter3d\":[{\"line\":{\"colorbar\":{\"outlinewidth\":0,\"ticks\":\"\"}},\"marker\":{\"colorbar\":{\"outlinewidth\":0,\"ticks\":\"\"}},\"type\":\"scatter3d\"}],\"scattercarpet\":[{\"marker\":{\"colorbar\":{\"outlinewidth\":0,\"ticks\":\"\"}},\"type\":\"scattercarpet\"}],\"scattergeo\":[{\"marker\":{\"colorbar\":{\"outlinewidth\":0,\"ticks\":\"\"}},\"type\":\"scattergeo\"}],\"scattergl\":[{\"marker\":{\"line\":{\"color\":\"#283442\"}},\"type\":\"scattergl\"}],\"scattermapbox\":[{\"marker\":{\"colorbar\":{\"outlinewidth\":0,\"ticks\":\"\"}},\"type\":\"scattermapbox\"}],\"scatterpolargl\":[{\"marker\":{\"colorbar\":{\"outlinewidth\":0,\"ticks\":\"\"}},\"type\":\"scatterpolargl\"}],\"scatterpolar\":[{\"marker\":{\"colorbar\":{\"outlinewidth\":0,\"ticks\":\"\"}},\"type\":\"scatterpolar\"}],\"scatter\":[{\"marker\":{\"line\":{\"color\":\"#283442\"}},\"type\":\"scatter\"}],\"scatterternary\":[{\"marker\":{\"colorbar\":{\"outlinewidth\":0,\"ticks\":\"\"}},\"type\":\"scatterternary\"}],\"surface\":[{\"colorbar\":{\"outlinewidth\":0,\"ticks\":\"\"},\"colorscale\":[[0.0,\"#0d0887\"],[0.1111111111111111,\"#46039f\"],[0.2222222222222222,\"#7201a8\"],[0.3333333333333333,\"#9c179e\"],[0.4444444444444444,\"#bd3786\"],[0.5555555555555556,\"#d8576b\"],[0.6666666666666666,\"#ed7953\"],[0.7777777777777778,\"#fb9f3a\"],[0.8888888888888888,\"#fdca26\"],[1.0,\"#f0f921\"]],\"type\":\"surface\"}],\"table\":[{\"cells\":{\"fill\":{\"color\":\"#506784\"},\"line\":{\"color\":\"rgb(17,17,17)\"}},\"header\":{\"fill\":{\"color\":\"#2a3f5f\"},\"line\":{\"color\":\"rgb(17,17,17)\"}},\"type\":\"table\"}]},\"layout\":{\"annotationdefaults\":{\"arrowcolor\":\"#f2f5fa\",\"arrowhead\":0,\"arrowwidth\":1},\"autotypenumbers\":\"strict\",\"coloraxis\":{\"colorbar\":{\"outlinewidth\":0,\"ticks\":\"\"}},\"colorscale\":{\"diverging\":[[0,\"#8e0152\"],[0.1,\"#c51b7d\"],[0.2,\"#de77ae\"],[0.3,\"#f1b6da\"],[0.4,\"#fde0ef\"],[0.5,\"#f7f7f7\"],[0.6,\"#e6f5d0\"],[0.7,\"#b8e186\"],[0.8,\"#7fbc41\"],[0.9,\"#4d9221\"],[1,\"#276419\"]],\"sequential\":[[0.0,\"#0d0887\"],[0.1111111111111111,\"#46039f\"],[0.2222222222222222,\"#7201a8\"],[0.3333333333333333,\"#9c179e\"],[0.4444444444444444,\"#bd3786\"],[0.5555555555555556,\"#d8576b\"],[0.6666666666666666,\"#ed7953\"],[0.7777777777777778,\"#fb9f3a\"],[0.8888888888888888,\"#fdca26\"],[1.0,\"#f0f921\"]],\"sequentialminus\":[[0.0,\"#0d0887\"],[0.1111111111111111,\"#46039f\"],[0.2222222222222222,\"#7201a8\"],[0.3333333333333333,\"#9c179e\"],[0.4444444444444444,\"#bd3786\"],[0.5555555555555556,\"#d8576b\"],[0.6666666666666666,\"#ed7953\"],[0.7777777777777778,\"#fb9f3a\"],[0.8888888888888888,\"#fdca26\"],[1.0,\"#f0f921\"]]},\"colorway\":[\"#636efa\",\"#EF553B\",\"#00cc96\",\"#ab63fa\",\"#FFA15A\",\"#19d3f3\",\"#FF6692\",\"#B6E880\",\"#FF97FF\",\"#FECB52\"],\"font\":{\"color\":\"#f2f5fa\"},\"geo\":{\"bgcolor\":\"rgb(17,17,17)\",\"lakecolor\":\"rgb(17,17,17)\",\"landcolor\":\"rgb(17,17,17)\",\"showlakes\":true,\"showland\":true,\"subunitcolor\":\"#506784\"},\"hoverlabel\":{\"align\":\"left\"},\"hovermode\":\"closest\",\"mapbox\":{\"style\":\"dark\"},\"paper_bgcolor\":\"rgb(17,17,17)\",\"plot_bgcolor\":\"rgb(17,17,17)\",\"polar\":{\"angularaxis\":{\"gridcolor\":\"#506784\",\"linecolor\":\"#506784\",\"ticks\":\"\"},\"bgcolor\":\"rgb(17,17,17)\",\"radialaxis\":{\"gridcolor\":\"#506784\",\"linecolor\":\"#506784\",\"ticks\":\"\"}},\"scene\":{\"xaxis\":{\"backgroundcolor\":\"rgb(17,17,17)\",\"gridcolor\":\"#506784\",\"gridwidth\":2,\"linecolor\":\"#506784\",\"showbackground\":true,\"ticks\":\"\",\"zerolinecolor\":\"#C8D4E3\"},\"yaxis\":{\"backgroundcolor\":\"rgb(17,17,17)\",\"gridcolor\":\"#506784\",\"gridwidth\":2,\"linecolor\":\"#506784\",\"showbackground\":true,\"ticks\":\"\",\"zerolinecolor\":\"#C8D4E3\"},\"zaxis\":{\"backgroundcolor\":\"rgb(17,17,17)\",\"gridcolor\":\"#506784\",\"gridwidth\":2,\"linecolor\":\"#506784\",\"showbackground\":true,\"ticks\":\"\",\"zerolinecolor\":\"#C8D4E3\"}},\"shapedefaults\":{\"line\":{\"color\":\"#f2f5fa\"}},\"sliderdefaults\":{\"bgcolor\":\"#C8D4E3\",\"bordercolor\":\"rgb(17,17,17)\",\"borderwidth\":1,\"tickwidth\":0},\"ternary\":{\"aaxis\":{\"gridcolor\":\"#506784\",\"linecolor\":\"#506784\",\"ticks\":\"\"},\"baxis\":{\"gridcolor\":\"#506784\",\"linecolor\":\"#506784\",\"ticks\":\"\"},\"bgcolor\":\"rgb(17,17,17)\",\"caxis\":{\"gridcolor\":\"#506784\",\"linecolor\":\"#506784\",\"ticks\":\"\"}},\"title\":{\"x\":0.05},\"updatemenudefaults\":{\"bgcolor\":\"#506784\",\"borderwidth\":0},\"xaxis\":{\"automargin\":true,\"gridcolor\":\"#283442\",\"linecolor\":\"#506784\",\"ticks\":\"\",\"title\":{\"standoff\":15},\"zerolinecolor\":\"#283442\",\"zerolinewidth\":2},\"yaxis\":{\"automargin\":true,\"gridcolor\":\"#283442\",\"linecolor\":\"#506784\",\"ticks\":\"\",\"title\":{\"standoff\":15},\"zerolinecolor\":\"#283442\",\"zerolinewidth\":2}}},\"scene\":{\"domain\":{\"x\":[0.0,1.0],\"y\":[0.0,1.0]},\"xaxis\":{\"title\":{\"text\":\"diabetes_si\"}},\"yaxis\":{\"title\":{\"text\":\"hipert_si\"}},\"zaxis\":{\"title\":{\"text\":\"paciente_hosp\"}}},\"coloraxis\":{\"colorbar\":{\"title\":{\"text\":\"cluster\"}},\"colorscale\":[[0.0,\"#0d0887\"],[0.1111111111111111,\"#46039f\"],[0.2222222222222222,\"#7201a8\"],[0.3333333333333333,\"#9c179e\"],[0.4444444444444444,\"#bd3786\"],[0.5555555555555556,\"#d8576b\"],[0.6666666666666666,\"#ed7953\"],[0.7777777777777778,\"#fb9f3a\"],[0.8888888888888888,\"#fdca26\"],[1.0,\"#f0f921\"]]},\"legend\":{\"tracegroupgap\":0,\"itemsizing\":\"constant\"},\"title\":{\"text\":\"Clusters para el an\\u00e1lisis de la viropol\\u00edtica\"}},                        {\"responsive\": true}                    ).then(function(){\n",
              "                            \n",
              "var gd = document.getElementById('6d439a53-20d6-426b-84c8-4e393e958cd0');\n",
              "var x = new MutationObserver(function (mutations, observer) {{\n",
              "        var display = window.getComputedStyle(gd).display;\n",
              "        if (!display || display === 'none') {{\n",
              "            console.log([gd, 'removed!']);\n",
              "            Plotly.purge(gd);\n",
              "            observer.disconnect();\n",
              "        }}\n",
              "}});\n",
              "\n",
              "// Listen for the removal of the full notebook cells\n",
              "var notebookContainer = gd.closest('#notebook-container');\n",
              "if (notebookContainer) {{\n",
              "    x.observe(notebookContainer, {childList: true});\n",
              "}}\n",
              "\n",
              "// Listen for the clearing of the current output cell\n",
              "var outputEl = gd.closest('.output');\n",
              "if (outputEl) {{\n",
              "    x.observe(outputEl, {childList: true});\n",
              "}}\n",
              "\n",
              "                        })                };                            </script>        </div>\n",
              "</body>\n",
              "</html>"
            ]
          },
          "metadata": {}
        }
      ]
    },
    {
      "cell_type": "markdown",
      "source": [
        "# Proporcion de clusters para cada alcaldía"
      ],
      "metadata": {
        "id": "n5CpYcYtFtBS"
      }
    },
    {
      "cell_type": "code",
      "source": [
        "print(X.shape)\n",
        "X.columns"
      ],
      "metadata": {
        "id": "gWjJsvQqDoON",
        "colab": {
          "base_uri": "https://localhost:8080/"
        },
        "outputId": "9f53543d-21dc-43ed-c446-ce5cc6614935"
      },
      "execution_count": 75,
      "outputs": [
        {
          "output_type": "stream",
          "name": "stdout",
          "text": [
            "(1743568, 92)\n"
          ]
        },
        {
          "output_type": "execute_result",
          "data": {
            "text/plain": [
              "Index(['inst_1', 'inst_2', 'inst_3', 'inst_4', 'inst_5', 'inst_6', 'inst_7',\n",
              "       'inst_8', 'inst_9', 'inst_10', 'inst_11', 'inst_12', 'inst_13',\n",
              "       'inst_14', 'sex_M', 'sex_H', 'alc_azcap', 'alc_coyo', 'alc_cuaj',\n",
              "       'alc_gam', 'alc_iztac', 'alc_iztap', 'alc_magdC', 'alc_milpa',\n",
              "       'alc_alv', 'alc_tlah', 'alc_tlalp', 'alc_xoch', 'alc_beniJ',\n",
              "       'alc_cuauh', 'alc_migH', 'venusC', 'alc_noEsp', 'paciente_amb',\n",
              "       'paciente_hosp', 'intub_si', 'intub_no', 'intub_noAplica',\n",
              "       'intub_noEsp', 'neumonia_si', 'neumonia_no', 'neumonia_noEsp', 'EDAD',\n",
              "       'embarazo_si', 'embarazo_no', 'embarazo_noAplica', 'embarazo_seIgn',\n",
              "       'leng_ind_si', 'leng_ind_no', 'leng_ind_noEsp', 'indigena_si',\n",
              "       'indigena_no', 'indigena_noEsp', 'diabetes_si', 'diabetes_no',\n",
              "       'diabetes_seIgn', 'epoc_si', 'epoc_no', 'epoc_seIgn', 'asma_si',\n",
              "       'asma_no', 'asma_seIgn', 'inmusupr_si', 'inmusupr_no', 'inmusupr_seIgn',\n",
              "       'hipert_si', 'hipert_no', 'hipert_seIgn', 'otr_com_si', 'otr_com_no',\n",
              "       'otr_com_seIgn', 'cardio_si', 'cardio_no', 'cardio_seIgn',\n",
              "       'obesidad_si', 'obesidad_no', 'obesidad_seIgn', 'renalCr_si',\n",
              "       'renalCr_no', 'renalCr_seIgn', 'tabaq_si', 'tabaq_no', 'tabaq_seIgn',\n",
              "       'otr_caso_si', 'otr_caso_no', 'otr_caso_seIgn', 'uci_si', 'uci_no',\n",
              "       'uci_noAplica', 'uci_noEsp', 'defunciones', 'cluster'],\n",
              "      dtype='object')"
            ]
          },
          "metadata": {},
          "execution_count": 75
        }
      ]
    },
    {
      "cell_type": "code",
      "source": [
        "# Definiendo un dataframe por aclcaldía\n",
        "\n",
        "azcapotzalco = pd.DataFrame(X[X[\"alc_azcap\"]==1][\"cluster\"].value_counts()).reset_index()\n",
        "azcapotzalco = azcapotzalco.rename({\"index\":\"cluster\", \"cluster\":\"poblacion\"}, axis=\"columns\")\n",
        "\n",
        "alvaroOb = pd.DataFrame(X[X[\"alc_alv\"]==1][\"cluster\"].value_counts()).reset_index()\n",
        "alvaroOb = alvaroOb.rename({\"index\":\"cluster\", \"cluster\":\"poblacion\"}, axis=\"columns\")\n",
        "\n",
        "benitoJ = pd.DataFrame(X[X[\"alc_beniJ\"]==1][\"cluster\"].value_counts()).reset_index()\n",
        "benitoJ = benitoJ.rename({\"index\":\"cluster\", \"cluster\":\"poblacion\"}, axis=\"columns\")\n",
        "\n",
        "coyoacan = pd.DataFrame(X[X[\"alc_coyo\"]==1][\"cluster\"].value_counts()).reset_index()\n",
        "coyoacan = coyoacan.rename({\"index\":\"cluster\", \"cluster\":\"poblacion\"}, axis=\"columns\")\n",
        "\n",
        "cuajimalpa = pd.DataFrame(X[X[\"alc_cuaj\"]==1][\"cluster\"].value_counts()).reset_index()\n",
        "cuajimalpa = cuajimalpa.rename({\"index\":\"cluster\", \"cluster\":\"poblacion\"}, axis=\"columns\")\n",
        "\n",
        "cuauhtemoc = pd.DataFrame(X[X[\"alc_cuauh\"]==1][\"cluster\"].value_counts()).reset_index()\n",
        "cuauhtemoc = cuauhtemoc.rename({\"index\":\"cluster\", \"cluster\":\"poblacion\"}, axis=\"columns\")\n",
        "\n",
        "gam = pd.DataFrame(X[X[\"alc_gam\"]==1][\"cluster\"].value_counts()).reset_index()\n",
        "gam = gam.rename({\"index\":\"cluster\", \"cluster\":\"poblacion\"}, axis=\"columns\")\n",
        "\n",
        "iztacalco = pd.DataFrame(X[X[\"alc_iztac\"]==1][\"cluster\"].value_counts()).reset_index()\n",
        "iztacalco = iztacalco.rename({\"index\":\"cluster\", \"cluster\":\"poblacion\"}, axis=\"columns\")\n",
        "\n",
        "iztapalapa = pd.DataFrame(X[X[\"alc_iztap\"]==1][\"cluster\"].value_counts()).reset_index()\n",
        "iztapalapa = iztapalapa.rename({\"index\":\"cluster\", \"cluster\":\"poblacion\"}, axis=\"columns\")\n",
        "\n",
        "magdalenaC = pd.DataFrame(X[X[\"alc_magdC\"]==1][\"cluster\"].value_counts()).reset_index()\n",
        "magdalenaC = magdalenaC.rename({\"index\":\"cluster\", \"cluster\":\"poblacion\"}, axis=\"columns\")\n",
        "\n",
        "miguelH = pd.DataFrame(X[X[\"alc_migH\"]==1][\"cluster\"].value_counts()).reset_index()\n",
        "miguelH = miguelH.rename({\"index\":\"cluster\", \"cluster\":\"poblacion\"}, axis=\"columns\")\n",
        "\n",
        "milpaA = pd.DataFrame(X[X[\"alc_milpa\"]==1][\"cluster\"].value_counts()).reset_index()\n",
        "milpaA = milpaA.rename({\"index\":\"cluster\", \"cluster\":\"poblacion\"}, axis=\"columns\")\n",
        "\n",
        "noEspecificado = pd.DataFrame(X[X[\"alc_noEsp\"]==1][\"cluster\"].value_counts()).reset_index()\n",
        "noEspecificado = noEspecificado.rename({\"index\":\"cluster\", \"cluster\":\"poblacion\"}, axis=\"columns\")\n",
        "\n",
        "tlahuac = pd.DataFrame(X[X[\"alc_tlah\"]==1][\"cluster\"].value_counts()).reset_index()\n",
        "tlahuac = tlahuac.rename({\"index\":\"cluster\", \"cluster\":\"poblacion\"}, axis=\"columns\")\n",
        "\n",
        "tlalpan = pd.DataFrame(X[X[\"alc_tlalp\"]==1][\"cluster\"].value_counts()).reset_index()\n",
        "tlalpan = tlalpan.rename({\"index\":\"cluster\", \"cluster\":\"poblacion\"}, axis=\"columns\")\n",
        "\n",
        "venustianoC = pd.DataFrame(X[X[\"venusC\"]==1][\"cluster\"].value_counts()).reset_index()\n",
        "venustianoC = venustianoC.rename({\"index\":\"cluster\", \"cluster\":\"poblacion\"}, axis=\"columns\")\n",
        "\n",
        "xochimilco = pd.DataFrame(X[X[\"alc_xoch\"]==1][\"cluster\"].value_counts()).reset_index()\n",
        "xochimilco = xochimilco.rename({\"index\":\"cluster\", \"cluster\":\"poblacion\"}, axis=\"columns\")\n"
      ],
      "metadata": {
        "id": "chR03VgK5wmm"
      },
      "execution_count": 79,
      "outputs": []
    },
    {
      "cell_type": "markdown",
      "source": [
        "## Graficando resultados"
      ],
      "metadata": {
        "id": "s7r1ik435Vef"
      }
    },
    {
      "cell_type": "code",
      "source": [
        "\"\"\"\n",
        "\n",
        "Cluster 0 / delta: Es el grupo más vulnerable frente a la viropolítica. Incluye a la población que requirió mayores cuidados intensivos, ser intubada. Tuvo valores mayores de sistema inmunosuprimido, requirió mñas hospitalizaciones. \n",
        "Cluster 2 / gamma: Es el segundo grupo más vulnerable a la viropolítica.\n",
        "Cluster 3 / beta: Es el segundo grupo más capaz de ejercer la viropolítica. Mantiene valorrs bajos para cada condición de riesgo.\n",
        "Cluster 1 / alpha: Es el grupo más capaz de ejercer la viropolítica. Dados sus bajos valores para cada condición de riesgo, es el grupo menos vulnerable. \n",
        "\n",
        "\"\"\""
      ],
      "metadata": {
        "colab": {
          "base_uri": "https://localhost:8080/",
          "height": 70
        },
        "id": "m1VWiHxnIdkF",
        "outputId": "00b0155f-54e3-460c-cabd-38c5be6c9e73"
      },
      "execution_count": 97,
      "outputs": [
        {
          "output_type": "execute_result",
          "data": {
            "text/plain": [
              "'\\n\\nCluster 0 / delta: Es el grupo más vulnerable frente a la viropolítica. Incluye a la población que requirió mayores cuidados intensivos, ser intubada. Tuvo valores mayores de sistema inmunosuprimido, requirió mñas hospitalizaciones. \\nCluster 2 / gamma: Es el segundo grupo más vulnerable a la viropolítica.\\nCluster 3 / beta: Es el segundo grupo más capaz de ejercer la viropolítica. Mantiene valorrs bajos para cada condición de riesgo.\\nCluster 1 / alpha: Es el grupo más capaz de ejercer la viropolítica. Dados sus bajos valores para cada condición de riesgo, es el grupo menos vulnerable. \\n\\n'"
            ],
            "application/vnd.google.colaboratory.intrinsic+json": {
              "type": "string"
            }
          },
          "metadata": {},
          "execution_count": 97
        }
      ]
    },
    {
      "cell_type": "code",
      "source": [
        "X_pivot.columns"
      ],
      "metadata": {
        "colab": {
          "base_uri": "https://localhost:8080/"
        },
        "id": "uQ2te7ZNHvHN",
        "outputId": "5678b54d-0bc3-404b-b9d8-e44633f46ab7"
      },
      "execution_count": 94,
      "outputs": [
        {
          "output_type": "execute_result",
          "data": {
            "text/plain": [
              "Index(['EDAD', 'alc_alv', 'alc_azcap', 'alc_beniJ', 'alc_coyo', 'alc_cuaj',\n",
              "       'alc_cuauh', 'alc_gam', 'alc_iztac', 'alc_iztap', 'alc_magdC',\n",
              "       'alc_migH', 'alc_milpa', 'alc_noEsp', 'alc_tlah', 'alc_tlalp',\n",
              "       'alc_xoch', 'asma_no', 'asma_seIgn', 'asma_si', 'cardio_no',\n",
              "       'cardio_seIgn', 'cardio_si', 'defunciones', 'diabetes_no',\n",
              "       'diabetes_seIgn', 'diabetes_si', 'embarazo_no', 'embarazo_noAplica',\n",
              "       'embarazo_seIgn', 'embarazo_si', 'epoc_no', 'epoc_seIgn', 'epoc_si',\n",
              "       'hipert_no', 'hipert_seIgn', 'hipert_si', 'indigena_no',\n",
              "       'indigena_noEsp', 'indigena_si', 'inmusupr_no', 'inmusupr_seIgn',\n",
              "       'inmusupr_si', 'inst_1', 'inst_10', 'inst_11', 'inst_12', 'inst_13',\n",
              "       'inst_14', 'inst_2', 'inst_3', 'inst_4', 'inst_5', 'inst_6', 'inst_7',\n",
              "       'inst_8', 'inst_9', 'intub_no', 'intub_noAplica', 'intub_noEsp',\n",
              "       'intub_si', 'leng_ind_no', 'leng_ind_noEsp', 'leng_ind_si',\n",
              "       'neumonia_no', 'neumonia_noEsp', 'neumonia_si', 'obesidad_no',\n",
              "       'obesidad_seIgn', 'obesidad_si', 'otr_caso_no', 'otr_caso_seIgn',\n",
              "       'otr_caso_si', 'otr_com_no', 'otr_com_seIgn', 'otr_com_si',\n",
              "       'paciente_amb', 'paciente_hosp', 'renalCr_no', 'renalCr_seIgn',\n",
              "       'renalCr_si', 'sex_H', 'sex_M', 'tabaq_no', 'tabaq_seIgn', 'tabaq_si',\n",
              "       'uci_no', 'uci_noAplica', 'uci_noEsp', 'uci_si', 'venusC', 'cluster'],\n",
              "      dtype='object')"
            ]
          },
          "metadata": {},
          "execution_count": 94
        }
      ]
    },
    {
      "cell_type": "code",
      "source": [
        "resumen = X_pivot[['alc_alv', 'alc_azcap', 'alc_beniJ', 'alc_coyo', 'alc_cuaj',\n",
        "       'alc_cuauh', 'alc_gam', 'alc_iztac', 'alc_iztap', 'alc_magdC',\n",
        "       'alc_migH', 'alc_milpa', 'alc_noEsp', 'alc_tlah', 'alc_tlalp',\n",
        "       'alc_xoch', 'venusC']]\n",
        "resumen"
      ],
      "metadata": {
        "colab": {
          "base_uri": "https://localhost:8080/",
          "height": 206
        },
        "id": "zD_XfN746eMV",
        "outputId": "8fdae542-8838-4a6e-b4b8-efdbc47b2ca8"
      },
      "execution_count": 98,
      "outputs": [
        {
          "output_type": "execute_result",
          "data": {
            "text/plain": [
              "          alc_alv  alc_azcap  alc_beniJ  alc_coyo  alc_cuaj  alc_cuauh  \\\n",
              "cluster                                                                  \n",
              "0        0.118410   0.059228   0.050045  0.066737  0.014113   0.062921   \n",
              "1        0.145810   0.053523   0.030549  0.055255  0.019146   0.046558   \n",
              "2        0.125664   0.056647   0.039347  0.061096  0.016290   0.054180   \n",
              "3        0.126197   0.054526   0.042483  0.059923  0.017210   0.057575   \n",
              "\n",
              "          alc_gam  alc_iztac  alc_iztap  alc_magdC  alc_migH  alc_milpa  \\\n",
              "cluster                                                                   \n",
              "0        0.131394   0.045792   0.142994   0.025485  0.037216   0.017318   \n",
              "1        0.117988   0.037547   0.143496   0.030909  0.030888   0.026110   \n",
              "2        0.127429   0.043994   0.148534   0.029112  0.034197   0.020738   \n",
              "3        0.120818   0.040914   0.149304   0.027712  0.035199   0.021948   \n",
              "\n",
              "         alc_noEsp  alc_tlah  alc_tlalp  alc_xoch    venusC  \n",
              "cluster                                                      \n",
              "0         0.000008  0.041129   0.088865  0.046318  0.052029  \n",
              "1         0.000005  0.055867   0.107455  0.056163  0.042730  \n",
              "2         0.000002  0.048375   0.094267  0.053563  0.046566  \n",
              "3         0.000007  0.050422   0.098577  0.054221  0.042964  "
            ],
            "text/html": [
              "\n",
              "  <div id=\"df-776e76b4-8801-4677-b41c-7846948a36c5\">\n",
              "    <div class=\"colab-df-container\">\n",
              "      <div>\n",
              "<style scoped>\n",
              "    .dataframe tbody tr th:only-of-type {\n",
              "        vertical-align: middle;\n",
              "    }\n",
              "\n",
              "    .dataframe tbody tr th {\n",
              "        vertical-align: top;\n",
              "    }\n",
              "\n",
              "    .dataframe thead th {\n",
              "        text-align: right;\n",
              "    }\n",
              "</style>\n",
              "<table border=\"1\" class=\"dataframe\">\n",
              "  <thead>\n",
              "    <tr style=\"text-align: right;\">\n",
              "      <th></th>\n",
              "      <th>alc_alv</th>\n",
              "      <th>alc_azcap</th>\n",
              "      <th>alc_beniJ</th>\n",
              "      <th>alc_coyo</th>\n",
              "      <th>alc_cuaj</th>\n",
              "      <th>alc_cuauh</th>\n",
              "      <th>alc_gam</th>\n",
              "      <th>alc_iztac</th>\n",
              "      <th>alc_iztap</th>\n",
              "      <th>alc_magdC</th>\n",
              "      <th>alc_migH</th>\n",
              "      <th>alc_milpa</th>\n",
              "      <th>alc_noEsp</th>\n",
              "      <th>alc_tlah</th>\n",
              "      <th>alc_tlalp</th>\n",
              "      <th>alc_xoch</th>\n",
              "      <th>venusC</th>\n",
              "    </tr>\n",
              "    <tr>\n",
              "      <th>cluster</th>\n",
              "      <th></th>\n",
              "      <th></th>\n",
              "      <th></th>\n",
              "      <th></th>\n",
              "      <th></th>\n",
              "      <th></th>\n",
              "      <th></th>\n",
              "      <th></th>\n",
              "      <th></th>\n",
              "      <th></th>\n",
              "      <th></th>\n",
              "      <th></th>\n",
              "      <th></th>\n",
              "      <th></th>\n",
              "      <th></th>\n",
              "      <th></th>\n",
              "      <th></th>\n",
              "    </tr>\n",
              "  </thead>\n",
              "  <tbody>\n",
              "    <tr>\n",
              "      <th>0</th>\n",
              "      <td>0.118410</td>\n",
              "      <td>0.059228</td>\n",
              "      <td>0.050045</td>\n",
              "      <td>0.066737</td>\n",
              "      <td>0.014113</td>\n",
              "      <td>0.062921</td>\n",
              "      <td>0.131394</td>\n",
              "      <td>0.045792</td>\n",
              "      <td>0.142994</td>\n",
              "      <td>0.025485</td>\n",
              "      <td>0.037216</td>\n",
              "      <td>0.017318</td>\n",
              "      <td>0.000008</td>\n",
              "      <td>0.041129</td>\n",
              "      <td>0.088865</td>\n",
              "      <td>0.046318</td>\n",
              "      <td>0.052029</td>\n",
              "    </tr>\n",
              "    <tr>\n",
              "      <th>1</th>\n",
              "      <td>0.145810</td>\n",
              "      <td>0.053523</td>\n",
              "      <td>0.030549</td>\n",
              "      <td>0.055255</td>\n",
              "      <td>0.019146</td>\n",
              "      <td>0.046558</td>\n",
              "      <td>0.117988</td>\n",
              "      <td>0.037547</td>\n",
              "      <td>0.143496</td>\n",
              "      <td>0.030909</td>\n",
              "      <td>0.030888</td>\n",
              "      <td>0.026110</td>\n",
              "      <td>0.000005</td>\n",
              "      <td>0.055867</td>\n",
              "      <td>0.107455</td>\n",
              "      <td>0.056163</td>\n",
              "      <td>0.042730</td>\n",
              "    </tr>\n",
              "    <tr>\n",
              "      <th>2</th>\n",
              "      <td>0.125664</td>\n",
              "      <td>0.056647</td>\n",
              "      <td>0.039347</td>\n",
              "      <td>0.061096</td>\n",
              "      <td>0.016290</td>\n",
              "      <td>0.054180</td>\n",
              "      <td>0.127429</td>\n",
              "      <td>0.043994</td>\n",
              "      <td>0.148534</td>\n",
              "      <td>0.029112</td>\n",
              "      <td>0.034197</td>\n",
              "      <td>0.020738</td>\n",
              "      <td>0.000002</td>\n",
              "      <td>0.048375</td>\n",
              "      <td>0.094267</td>\n",
              "      <td>0.053563</td>\n",
              "      <td>0.046566</td>\n",
              "    </tr>\n",
              "    <tr>\n",
              "      <th>3</th>\n",
              "      <td>0.126197</td>\n",
              "      <td>0.054526</td>\n",
              "      <td>0.042483</td>\n",
              "      <td>0.059923</td>\n",
              "      <td>0.017210</td>\n",
              "      <td>0.057575</td>\n",
              "      <td>0.120818</td>\n",
              "      <td>0.040914</td>\n",
              "      <td>0.149304</td>\n",
              "      <td>0.027712</td>\n",
              "      <td>0.035199</td>\n",
              "      <td>0.021948</td>\n",
              "      <td>0.000007</td>\n",
              "      <td>0.050422</td>\n",
              "      <td>0.098577</td>\n",
              "      <td>0.054221</td>\n",
              "      <td>0.042964</td>\n",
              "    </tr>\n",
              "  </tbody>\n",
              "</table>\n",
              "</div>\n",
              "      <button class=\"colab-df-convert\" onclick=\"convertToInteractive('df-776e76b4-8801-4677-b41c-7846948a36c5')\"\n",
              "              title=\"Convert this dataframe to an interactive table.\"\n",
              "              style=\"display:none;\">\n",
              "        \n",
              "  <svg xmlns=\"http://www.w3.org/2000/svg\" height=\"24px\"viewBox=\"0 0 24 24\"\n",
              "       width=\"24px\">\n",
              "    <path d=\"M0 0h24v24H0V0z\" fill=\"none\"/>\n",
              "    <path d=\"M18.56 5.44l.94 2.06.94-2.06 2.06-.94-2.06-.94-.94-2.06-.94 2.06-2.06.94zm-11 1L8.5 8.5l.94-2.06 2.06-.94-2.06-.94L8.5 2.5l-.94 2.06-2.06.94zm10 10l.94 2.06.94-2.06 2.06-.94-2.06-.94-.94-2.06-.94 2.06-2.06.94z\"/><path d=\"M17.41 7.96l-1.37-1.37c-.4-.4-.92-.59-1.43-.59-.52 0-1.04.2-1.43.59L10.3 9.45l-7.72 7.72c-.78.78-.78 2.05 0 2.83L4 21.41c.39.39.9.59 1.41.59.51 0 1.02-.2 1.41-.59l7.78-7.78 2.81-2.81c.8-.78.8-2.07 0-2.86zM5.41 20L4 18.59l7.72-7.72 1.47 1.35L5.41 20z\"/>\n",
              "  </svg>\n",
              "      </button>\n",
              "      \n",
              "  <style>\n",
              "    .colab-df-container {\n",
              "      display:flex;\n",
              "      flex-wrap:wrap;\n",
              "      gap: 12px;\n",
              "    }\n",
              "\n",
              "    .colab-df-convert {\n",
              "      background-color: #E8F0FE;\n",
              "      border: none;\n",
              "      border-radius: 50%;\n",
              "      cursor: pointer;\n",
              "      display: none;\n",
              "      fill: #1967D2;\n",
              "      height: 32px;\n",
              "      padding: 0 0 0 0;\n",
              "      width: 32px;\n",
              "    }\n",
              "\n",
              "    .colab-df-convert:hover {\n",
              "      background-color: #E2EBFA;\n",
              "      box-shadow: 0px 1px 2px rgba(60, 64, 67, 0.3), 0px 1px 3px 1px rgba(60, 64, 67, 0.15);\n",
              "      fill: #174EA6;\n",
              "    }\n",
              "\n",
              "    [theme=dark] .colab-df-convert {\n",
              "      background-color: #3B4455;\n",
              "      fill: #D2E3FC;\n",
              "    }\n",
              "\n",
              "    [theme=dark] .colab-df-convert:hover {\n",
              "      background-color: #434B5C;\n",
              "      box-shadow: 0px 1px 3px 1px rgba(0, 0, 0, 0.15);\n",
              "      filter: drop-shadow(0px 1px 2px rgba(0, 0, 0, 0.3));\n",
              "      fill: #FFFFFF;\n",
              "    }\n",
              "  </style>\n",
              "\n",
              "      <script>\n",
              "        const buttonEl =\n",
              "          document.querySelector('#df-776e76b4-8801-4677-b41c-7846948a36c5 button.colab-df-convert');\n",
              "        buttonEl.style.display =\n",
              "          google.colab.kernel.accessAllowed ? 'block' : 'none';\n",
              "\n",
              "        async function convertToInteractive(key) {\n",
              "          const element = document.querySelector('#df-776e76b4-8801-4677-b41c-7846948a36c5');\n",
              "          const dataTable =\n",
              "            await google.colab.kernel.invokeFunction('convertToInteractive',\n",
              "                                                     [key], {});\n",
              "          if (!dataTable) return;\n",
              "\n",
              "          const docLinkHtml = 'Like what you see? Visit the ' +\n",
              "            '<a target=\"_blank\" href=https://colab.research.google.com/notebooks/data_table.ipynb>data table notebook</a>'\n",
              "            + ' to learn more about interactive tables.';\n",
              "          element.innerHTML = '';\n",
              "          dataTable['output_type'] = 'display_data';\n",
              "          await google.colab.output.renderOutput(dataTable, element);\n",
              "          const docLink = document.createElement('div');\n",
              "          docLink.innerHTML = docLinkHtml;\n",
              "          element.appendChild(docLink);\n",
              "        }\n",
              "      </script>\n",
              "    </div>\n",
              "  </div>\n",
              "  "
            ]
          },
          "metadata": {},
          "execution_count": 98
        }
      ]
    },
    {
      "cell_type": "code",
      "source": [
        "alvaroOb"
      ],
      "metadata": {
        "colab": {
          "base_uri": "https://localhost:8080/",
          "height": 175
        },
        "id": "yfADU3_nQXJG",
        "outputId": "ca1871fc-7453-4a63-a12e-a14ba29515c0"
      },
      "execution_count": 145,
      "outputs": [
        {
          "output_type": "execute_result",
          "data": {
            "text/plain": [
              "   cluster  poblacion\n",
              "0        3      74046\n",
              "1        2      63558\n",
              "2        1      57218\n",
              "3        0      30624"
            ],
            "text/html": [
              "\n",
              "  <div id=\"df-1f27c0f1-154b-436f-a1cd-3fa93c600b93\">\n",
              "    <div class=\"colab-df-container\">\n",
              "      <div>\n",
              "<style scoped>\n",
              "    .dataframe tbody tr th:only-of-type {\n",
              "        vertical-align: middle;\n",
              "    }\n",
              "\n",
              "    .dataframe tbody tr th {\n",
              "        vertical-align: top;\n",
              "    }\n",
              "\n",
              "    .dataframe thead th {\n",
              "        text-align: right;\n",
              "    }\n",
              "</style>\n",
              "<table border=\"1\" class=\"dataframe\">\n",
              "  <thead>\n",
              "    <tr style=\"text-align: right;\">\n",
              "      <th></th>\n",
              "      <th>cluster</th>\n",
              "      <th>poblacion</th>\n",
              "    </tr>\n",
              "  </thead>\n",
              "  <tbody>\n",
              "    <tr>\n",
              "      <th>0</th>\n",
              "      <td>3</td>\n",
              "      <td>74046</td>\n",
              "    </tr>\n",
              "    <tr>\n",
              "      <th>1</th>\n",
              "      <td>2</td>\n",
              "      <td>63558</td>\n",
              "    </tr>\n",
              "    <tr>\n",
              "      <th>2</th>\n",
              "      <td>1</td>\n",
              "      <td>57218</td>\n",
              "    </tr>\n",
              "    <tr>\n",
              "      <th>3</th>\n",
              "      <td>0</td>\n",
              "      <td>30624</td>\n",
              "    </tr>\n",
              "  </tbody>\n",
              "</table>\n",
              "</div>\n",
              "      <button class=\"colab-df-convert\" onclick=\"convertToInteractive('df-1f27c0f1-154b-436f-a1cd-3fa93c600b93')\"\n",
              "              title=\"Convert this dataframe to an interactive table.\"\n",
              "              style=\"display:none;\">\n",
              "        \n",
              "  <svg xmlns=\"http://www.w3.org/2000/svg\" height=\"24px\"viewBox=\"0 0 24 24\"\n",
              "       width=\"24px\">\n",
              "    <path d=\"M0 0h24v24H0V0z\" fill=\"none\"/>\n",
              "    <path d=\"M18.56 5.44l.94 2.06.94-2.06 2.06-.94-2.06-.94-.94-2.06-.94 2.06-2.06.94zm-11 1L8.5 8.5l.94-2.06 2.06-.94-2.06-.94L8.5 2.5l-.94 2.06-2.06.94zm10 10l.94 2.06.94-2.06 2.06-.94-2.06-.94-.94-2.06-.94 2.06-2.06.94z\"/><path d=\"M17.41 7.96l-1.37-1.37c-.4-.4-.92-.59-1.43-.59-.52 0-1.04.2-1.43.59L10.3 9.45l-7.72 7.72c-.78.78-.78 2.05 0 2.83L4 21.41c.39.39.9.59 1.41.59.51 0 1.02-.2 1.41-.59l7.78-7.78 2.81-2.81c.8-.78.8-2.07 0-2.86zM5.41 20L4 18.59l7.72-7.72 1.47 1.35L5.41 20z\"/>\n",
              "  </svg>\n",
              "      </button>\n",
              "      \n",
              "  <style>\n",
              "    .colab-df-container {\n",
              "      display:flex;\n",
              "      flex-wrap:wrap;\n",
              "      gap: 12px;\n",
              "    }\n",
              "\n",
              "    .colab-df-convert {\n",
              "      background-color: #E8F0FE;\n",
              "      border: none;\n",
              "      border-radius: 50%;\n",
              "      cursor: pointer;\n",
              "      display: none;\n",
              "      fill: #1967D2;\n",
              "      height: 32px;\n",
              "      padding: 0 0 0 0;\n",
              "      width: 32px;\n",
              "    }\n",
              "\n",
              "    .colab-df-convert:hover {\n",
              "      background-color: #E2EBFA;\n",
              "      box-shadow: 0px 1px 2px rgba(60, 64, 67, 0.3), 0px 1px 3px 1px rgba(60, 64, 67, 0.15);\n",
              "      fill: #174EA6;\n",
              "    }\n",
              "\n",
              "    [theme=dark] .colab-df-convert {\n",
              "      background-color: #3B4455;\n",
              "      fill: #D2E3FC;\n",
              "    }\n",
              "\n",
              "    [theme=dark] .colab-df-convert:hover {\n",
              "      background-color: #434B5C;\n",
              "      box-shadow: 0px 1px 3px 1px rgba(0, 0, 0, 0.15);\n",
              "      filter: drop-shadow(0px 1px 2px rgba(0, 0, 0, 0.3));\n",
              "      fill: #FFFFFF;\n",
              "    }\n",
              "  </style>\n",
              "\n",
              "      <script>\n",
              "        const buttonEl =\n",
              "          document.querySelector('#df-1f27c0f1-154b-436f-a1cd-3fa93c600b93 button.colab-df-convert');\n",
              "        buttonEl.style.display =\n",
              "          google.colab.kernel.accessAllowed ? 'block' : 'none';\n",
              "\n",
              "        async function convertToInteractive(key) {\n",
              "          const element = document.querySelector('#df-1f27c0f1-154b-436f-a1cd-3fa93c600b93');\n",
              "          const dataTable =\n",
              "            await google.colab.kernel.invokeFunction('convertToInteractive',\n",
              "                                                     [key], {});\n",
              "          if (!dataTable) return;\n",
              "\n",
              "          const docLinkHtml = 'Like what you see? Visit the ' +\n",
              "            '<a target=\"_blank\" href=https://colab.research.google.com/notebooks/data_table.ipynb>data table notebook</a>'\n",
              "            + ' to learn more about interactive tables.';\n",
              "          element.innerHTML = '';\n",
              "          dataTable['output_type'] = 'display_data';\n",
              "          await google.colab.output.renderOutput(dataTable, element);\n",
              "          const docLink = document.createElement('div');\n",
              "          docLink.innerHTML = docLinkHtml;\n",
              "          element.appendChild(docLink);\n",
              "        }\n",
              "      </script>\n",
              "    </div>\n",
              "  </div>\n",
              "  "
            ]
          },
          "metadata": {},
          "execution_count": 145
        }
      ]
    },
    {
      "cell_type": "code",
      "source": [
        "# Alvaro Obregón\n",
        "\n",
        "\n",
        "conteo = alvaroOb[\"poblacion\"]\n",
        "etiquetas = alvaroOb[\"cluster\"].unique()\n",
        "colores = [\"#60D394\", \"#AAF683\", \"#FFD97D\", \"#EE6055\", \"#FF9B85\"]\n",
        "extraccion = 0,0,0,0.5\n",
        "\n",
        "fig, ax = plt.subplots()\n",
        "plt.pie(conteo, \n",
        "        labels= etiquetas,\n",
        "        autopct = (\"%0.2f %%\"),\n",
        "        colors = colores,\n",
        "        explode = extraccion, \n",
        "        shadow=True)\n",
        "\n",
        "ax.set_title(\"Porcentaje de clusters de viropolítica para Álvaro Obregón \\n\")\n",
        "ax.legend()\n",
        "plt.show()\n"
      ],
      "metadata": {
        "colab": {
          "base_uri": "https://localhost:8080/",
          "height": 281
        },
        "id": "tuRDpminKyj0",
        "outputId": "2ceacc92-01b8-4c58-f382-66f6ecc4c531"
      },
      "execution_count": 154,
      "outputs": [
        {
          "output_type": "display_data",
          "data": {
            "text/plain": [
              "<Figure size 432x288 with 1 Axes>"
            ],
            "image/png": "[encoded data removed]"
          },
          "metadata": {}
        }
      ]
    },
    {
      "cell_type": "code",
      "source": [
        "# Azcapotzalco\n",
        "\n",
        "conteo = azcapotzalco[\"poblacion\"]\n",
        "etiquetas = azcapotzalco[\"cluster\"].unique()\n",
        "colores = [\"#60D394\", \"#AAF683\", \"#FFD97D\", \"#EE6055\", \"#FF9B85\"]\n",
        "extraccion = 0,0,0,0.5\n",
        "\n",
        "fig, ax = plt.subplots()\n",
        "plt.pie(conteo, \n",
        "        labels= etiquetas,\n",
        "        autopct = (\"%0.2f %%\"),\n",
        "        colors = colores,\n",
        "        explode = extraccion, \n",
        "        shadow=True)\n",
        "\n",
        "ax.set_title(\"Porcentaje de clusters de viropolítica para Álvaro Obregón \\n\")\n",
        "ax.legend()\n",
        "plt.show()"
      ],
      "metadata": {
        "colab": {
          "base_uri": "https://localhost:8080/",
          "height": 281
        },
        "id": "PRpNjlwaTSG1",
        "outputId": "1bae89ba-653f-4113-d580-b4a0bffe7428"
      },
      "execution_count": 155,
      "outputs": [
        {
          "output_type": "display_data",
          "data": {
            "text/plain": [
              "<Figure size 432x288 with 1 Axes>"
            ],
            "image/png": "[encoded data removed]"
          },
          "metadata": {}
        }
      ]
    },
    {
      "cell_type": "code",
      "source": [],
      "metadata": {
        "id": "1dBaxaEiTl_r"
      },
      "execution_count": null,
      "outputs": []
    },
    {
      "cell_type": "markdown",
      "source": [],
      "metadata": {
        "id": "iRTUou1_OmRF"
      }
    }
  ]
}