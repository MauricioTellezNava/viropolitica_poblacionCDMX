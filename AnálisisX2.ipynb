{
  "nbformat": 4,
  "nbformat_minor": 0,
  "metadata": {
    "colab": {
      "provenance": [],
      "collapsed_sections": [
        "eLfbS7Jhv-14"
      ],
      "toc_visible": true,
      "authorship_tag": "ABX9TyNyx6XnnlYDDfD/ZiwK5ugC",
      "include_colab_link": true
    },
    "kernelspec": {
      "name": "python3",
      "display_name": "Python 3"
    },
    "language_info": {
      "name": "python"
    }
  },
  "cells": [
    {
      "cell_type": "markdown",
      "metadata": {
        "id": "view-in-github",
        "colab_type": "text"
      },
      "source": [
        "<a href=\"https://colab.research.google.com/github/MauricioTellezNava/viropolitica_poblacionCDMX/blob/main/An%C3%A1lisisX2.ipynb\" target=\"_parent\"><img src=\"https://colab.research.google.com/assets/colab-badge.svg\" alt=\"Open In Colab\"/></a>"
      ]
    },
    {
      "cell_type": "markdown",
      "source": [
        "# Análisis de X2"
      ],
      "metadata": {
        "id": "PikAlB2usiEI"
      }
    },
    {
      "cell_type": "code",
      "execution_count": 64,
      "metadata": {
        "id": "mtoj30O6sgvl"
      },
      "outputs": [],
      "source": [
        "import pandas as pd\n",
        "import numpy as np\n",
        "import seaborn as sns\n",
        "import matplotlib.pyplot as plt"
      ]
    },
    {
      "cell_type": "code",
      "source": [
        "from google.colab import drive\n",
        "drive.mount('/content/drive')"
      ],
      "metadata": {
        "colab": {
          "base_uri": "https://localhost:8080/"
        },
        "id": "3t_2dAr4s2i8",
        "outputId": "fc99e14a-a57c-44a3-83dd-dce6b54f0a7f"
      },
      "execution_count": 65,
      "outputs": [
        {
          "output_type": "stream",
          "name": "stdout",
          "text": [
            "Drive already mounted at /content/drive; to attempt to forcibly remount, call drive.mount(\"/content/drive\", force_remount=True).\n"
          ]
        }
      ]
    },
    {
      "cell_type": "code",
      "source": [
        "X = pd.read_csv(\"/content/drive/MyDrive/Análisis del COVID-19 para la Ciudad de México/población parte 2/X2.csv\")\n",
        "X = X.drop(columns=[\"Unnamed: 0\"])\n",
        "print(X.shape)\n",
        "X.head()"
      ],
      "metadata": {
        "colab": {
          "base_uri": "https://localhost:8080/",
          "height": 253
        },
        "id": "dMHOvXI_s2gf",
        "outputId": "bc48c9c7-d129-4f31-b933-9319a7c5d468"
      },
      "execution_count": 66,
      "outputs": [
        {
          "output_type": "stream",
          "name": "stdout",
          "text": [
            "(1668642, 39)\n"
          ]
        },
        {
          "output_type": "execute_result",
          "data": {
            "text/plain": [
              "   asma_si  cardio_si  diabetes_si  EDAD  embarazo_si  epoc_si  leng_ind_si  \\\n",
              "0        0          0            1    67            0        0            0   \n",
              "1        0          0            0    62            0        0            0   \n",
              "2        0          0            0    45            0        0            0   \n",
              "3        0          0            0    38            0        0            0   \n",
              "4        0          0            0    26            0        0            0   \n",
              "\n",
              "   hipert_si  indigena_si  inmusupr_si  ...  otr_com_si  otr_caso_si  \\\n",
              "0          0            0            0  ...           0            1   \n",
              "1          1            0            0  ...           0            1   \n",
              "2          0            0            0  ...           0            1   \n",
              "3          0            0            0  ...           0            1   \n",
              "4          0            0            0  ...           0            1   \n",
              "\n",
              "   renalCr_si  sex_M  sex_H  tabaq_si  paciente_hosp  uci_si  defunciones  \\\n",
              "0           0      1      0         0              0       0            0   \n",
              "1           0      1      0         0              0       0            0   \n",
              "2           0      1      0         0              0       0            0   \n",
              "3           0      1      0         0              0       0            0   \n",
              "4           0      1      0         0              0       0            0   \n",
              "\n",
              "   cluster  \n",
              "0        2  \n",
              "1        2  \n",
              "2        0  \n",
              "3        3  \n",
              "4        1  \n",
              "\n",
              "[5 rows x 39 columns]"
            ],
            "text/html": [
              "\n",
              "  <div id=\"df-fae4a603-9a22-4e53-9e72-9cff83bce112\">\n",
              "    <div class=\"colab-df-container\">\n",
              "      <div>\n",
              "<style scoped>\n",
              "    .dataframe tbody tr th:only-of-type {\n",
              "        vertical-align: middle;\n",
              "    }\n",
              "\n",
              "    .dataframe tbody tr th {\n",
              "        vertical-align: top;\n",
              "    }\n",
              "\n",
              "    .dataframe thead th {\n",
              "        text-align: right;\n",
              "    }\n",
              "</style>\n",
              "<table border=\"1\" class=\"dataframe\">\n",
              "  <thead>\n",
              "    <tr style=\"text-align: right;\">\n",
              "      <th></th>\n",
              "      <th>asma_si</th>\n",
              "      <th>cardio_si</th>\n",
              "      <th>diabetes_si</th>\n",
              "      <th>EDAD</th>\n",
              "      <th>embarazo_si</th>\n",
              "      <th>epoc_si</th>\n",
              "      <th>leng_ind_si</th>\n",
              "      <th>hipert_si</th>\n",
              "      <th>indigena_si</th>\n",
              "      <th>inmusupr_si</th>\n",
              "      <th>...</th>\n",
              "      <th>otr_com_si</th>\n",
              "      <th>otr_caso_si</th>\n",
              "      <th>renalCr_si</th>\n",
              "      <th>sex_M</th>\n",
              "      <th>sex_H</th>\n",
              "      <th>tabaq_si</th>\n",
              "      <th>paciente_hosp</th>\n",
              "      <th>uci_si</th>\n",
              "      <th>defunciones</th>\n",
              "      <th>cluster</th>\n",
              "    </tr>\n",
              "  </thead>\n",
              "  <tbody>\n",
              "    <tr>\n",
              "      <th>0</th>\n",
              "      <td>0</td>\n",
              "      <td>0</td>\n",
              "      <td>1</td>\n",
              "      <td>67</td>\n",
              "      <td>0</td>\n",
              "      <td>0</td>\n",
              "      <td>0</td>\n",
              "      <td>0</td>\n",
              "      <td>0</td>\n",
              "      <td>0</td>\n",
              "      <td>...</td>\n",
              "      <td>0</td>\n",
              "      <td>1</td>\n",
              "      <td>0</td>\n",
              "      <td>1</td>\n",
              "      <td>0</td>\n",
              "      <td>0</td>\n",
              "      <td>0</td>\n",
              "      <td>0</td>\n",
              "      <td>0</td>\n",
              "      <td>2</td>\n",
              "    </tr>\n",
              "    <tr>\n",
              "      <th>1</th>\n",
              "      <td>0</td>\n",
              "      <td>0</td>\n",
              "      <td>0</td>\n",
              "      <td>62</td>\n",
              "      <td>0</td>\n",
              "      <td>0</td>\n",
              "      <td>0</td>\n",
              "      <td>1</td>\n",
              "      <td>0</td>\n",
              "      <td>0</td>\n",
              "      <td>...</td>\n",
              "      <td>0</td>\n",
              "      <td>1</td>\n",
              "      <td>0</td>\n",
              "      <td>1</td>\n",
              "      <td>0</td>\n",
              "      <td>0</td>\n",
              "      <td>0</td>\n",
              "      <td>0</td>\n",
              "      <td>0</td>\n",
              "      <td>2</td>\n",
              "    </tr>\n",
              "    <tr>\n",
              "      <th>2</th>\n",
              "      <td>0</td>\n",
              "      <td>0</td>\n",
              "      <td>0</td>\n",
              "      <td>45</td>\n",
              "      <td>0</td>\n",
              "      <td>0</td>\n",
              "      <td>0</td>\n",
              "      <td>0</td>\n",
              "      <td>0</td>\n",
              "      <td>0</td>\n",
              "      <td>...</td>\n",
              "      <td>0</td>\n",
              "      <td>1</td>\n",
              "      <td>0</td>\n",
              "      <td>1</td>\n",
              "      <td>0</td>\n",
              "      <td>0</td>\n",
              "      <td>0</td>\n",
              "      <td>0</td>\n",
              "      <td>0</td>\n",
              "      <td>0</td>\n",
              "    </tr>\n",
              "    <tr>\n",
              "      <th>3</th>\n",
              "      <td>0</td>\n",
              "      <td>0</td>\n",
              "      <td>0</td>\n",
              "      <td>38</td>\n",
              "      <td>0</td>\n",
              "      <td>0</td>\n",
              "      <td>0</td>\n",
              "      <td>0</td>\n",
              "      <td>0</td>\n",
              "      <td>0</td>\n",
              "      <td>...</td>\n",
              "      <td>0</td>\n",
              "      <td>1</td>\n",
              "      <td>0</td>\n",
              "      <td>1</td>\n",
              "      <td>0</td>\n",
              "      <td>0</td>\n",
              "      <td>0</td>\n",
              "      <td>0</td>\n",
              "      <td>0</td>\n",
              "      <td>3</td>\n",
              "    </tr>\n",
              "    <tr>\n",
              "      <th>4</th>\n",
              "      <td>0</td>\n",
              "      <td>0</td>\n",
              "      <td>0</td>\n",
              "      <td>26</td>\n",
              "      <td>0</td>\n",
              "      <td>0</td>\n",
              "      <td>0</td>\n",
              "      <td>0</td>\n",
              "      <td>0</td>\n",
              "      <td>0</td>\n",
              "      <td>...</td>\n",
              "      <td>0</td>\n",
              "      <td>1</td>\n",
              "      <td>0</td>\n",
              "      <td>1</td>\n",
              "      <td>0</td>\n",
              "      <td>0</td>\n",
              "      <td>0</td>\n",
              "      <td>0</td>\n",
              "      <td>0</td>\n",
              "      <td>1</td>\n",
              "    </tr>\n",
              "  </tbody>\n",
              "</table>\n",
              "<p>5 rows × 39 columns</p>\n",
              "</div>\n",
              "      <button class=\"colab-df-convert\" onclick=\"convertToInteractive('df-fae4a603-9a22-4e53-9e72-9cff83bce112')\"\n",
              "              title=\"Convert this dataframe to an interactive table.\"\n",
              "              style=\"display:none;\">\n",
              "        \n",
              "  <svg xmlns=\"http://www.w3.org/2000/svg\" height=\"24px\"viewBox=\"0 0 24 24\"\n",
              "       width=\"24px\">\n",
              "    <path d=\"M0 0h24v24H0V0z\" fill=\"none\"/>\n",
              "    <path d=\"M18.56 5.44l.94 2.06.94-2.06 2.06-.94-2.06-.94-.94-2.06-.94 2.06-2.06.94zm-11 1L8.5 8.5l.94-2.06 2.06-.94-2.06-.94L8.5 2.5l-.94 2.06-2.06.94zm10 10l.94 2.06.94-2.06 2.06-.94-2.06-.94-.94-2.06-.94 2.06-2.06.94z\"/><path d=\"M17.41 7.96l-1.37-1.37c-.4-.4-.92-.59-1.43-.59-.52 0-1.04.2-1.43.59L10.3 9.45l-7.72 7.72c-.78.78-.78 2.05 0 2.83L4 21.41c.39.39.9.59 1.41.59.51 0 1.02-.2 1.41-.59l7.78-7.78 2.81-2.81c.8-.78.8-2.07 0-2.86zM5.41 20L4 18.59l7.72-7.72 1.47 1.35L5.41 20z\"/>\n",
              "  </svg>\n",
              "      </button>\n",
              "      \n",
              "  <style>\n",
              "    .colab-df-container {\n",
              "      display:flex;\n",
              "      flex-wrap:wrap;\n",
              "      gap: 12px;\n",
              "    }\n",
              "\n",
              "    .colab-df-convert {\n",
              "      background-color: #E8F0FE;\n",
              "      border: none;\n",
              "      border-radius: 50%;\n",
              "      cursor: pointer;\n",
              "      display: none;\n",
              "      fill: #1967D2;\n",
              "      height: 32px;\n",
              "      padding: 0 0 0 0;\n",
              "      width: 32px;\n",
              "    }\n",
              "\n",
              "    .colab-df-convert:hover {\n",
              "      background-color: #E2EBFA;\n",
              "      box-shadow: 0px 1px 2px rgba(60, 64, 67, 0.3), 0px 1px 3px 1px rgba(60, 64, 67, 0.15);\n",
              "      fill: #174EA6;\n",
              "    }\n",
              "\n",
              "    [theme=dark] .colab-df-convert {\n",
              "      background-color: #3B4455;\n",
              "      fill: #D2E3FC;\n",
              "    }\n",
              "\n",
              "    [theme=dark] .colab-df-convert:hover {\n",
              "      background-color: #434B5C;\n",
              "      box-shadow: 0px 1px 3px 1px rgba(0, 0, 0, 0.15);\n",
              "      filter: drop-shadow(0px 1px 2px rgba(0, 0, 0, 0.3));\n",
              "      fill: #FFFFFF;\n",
              "    }\n",
              "  </style>\n",
              "\n",
              "      <script>\n",
              "        const buttonEl =\n",
              "          document.querySelector('#df-fae4a603-9a22-4e53-9e72-9cff83bce112 button.colab-df-convert');\n",
              "        buttonEl.style.display =\n",
              "          google.colab.kernel.accessAllowed ? 'block' : 'none';\n",
              "\n",
              "        async function convertToInteractive(key) {\n",
              "          const element = document.querySelector('#df-fae4a603-9a22-4e53-9e72-9cff83bce112');\n",
              "          const dataTable =\n",
              "            await google.colab.kernel.invokeFunction('convertToInteractive',\n",
              "                                                     [key], {});\n",
              "          if (!dataTable) return;\n",
              "\n",
              "          const docLinkHtml = 'Like what you see? Visit the ' +\n",
              "            '<a target=\"_blank\" href=https://colab.research.google.com/notebooks/data_table.ipynb>data table notebook</a>'\n",
              "            + ' to learn more about interactive tables.';\n",
              "          element.innerHTML = '';\n",
              "          dataTable['output_type'] = 'display_data';\n",
              "          await google.colab.output.renderOutput(dataTable, element);\n",
              "          const docLink = document.createElement('div');\n",
              "          docLink.innerHTML = docLinkHtml;\n",
              "          element.appendChild(docLink);\n",
              "        }\n",
              "      </script>\n",
              "    </div>\n",
              "  </div>\n",
              "  "
            ]
          },
          "metadata": {},
          "execution_count": 66
        }
      ]
    },
    {
      "cell_type": "markdown",
      "source": [
        "## Tabla pivote "
      ],
      "metadata": {
        "id": "UdYDxADKt0Us"
      }
    },
    {
      "cell_type": "code",
      "source": [
        "X_pivot = pd.pivot_table(X, index='cluster')\n",
        "X_pivot[\"cluster\"] = X_pivot.index\n",
        "X_pivot.sort_values(by=\"EDAD\")"
      ],
      "metadata": {
        "colab": {
          "base_uri": "https://localhost:8080/",
          "height": 236
        },
        "id": "5ATknkdotzt2",
        "outputId": "a75a89ab-74d4-4faf-c200-b6535dbcc348"
      },
      "execution_count": 67,
      "outputs": [
        {
          "output_type": "execute_result",
          "data": {
            "text/plain": [
              "              EDAD   alc_alv  alc_azcap  alc_beniJ  alc_coyo  alc_cuaj  \\\n",
              "cluster                                                                  \n",
              "1        19.544662  0.144312   0.052988   0.030330  0.056013  0.019074   \n",
              "3        32.776576  0.125986   0.054602   0.043118  0.060125  0.017284   \n",
              "0        46.827103  0.125125   0.055685   0.039615  0.061040  0.016420   \n",
              "2        62.670197  0.122199   0.058714   0.045982  0.063968  0.014727   \n",
              "\n",
              "         alc_cuauh   alc_gam  alc_iztac  alc_iztap  ...  otr_caso_si  \\\n",
              "cluster                                             ...                \n",
              "1         0.046331  0.118191   0.037840   0.146352  ...     0.461197   \n",
              "3         0.057994  0.120840   0.041025   0.148791  ...     0.439349   \n",
              "0         0.054431  0.125167   0.043242   0.149781  ...     0.433085   \n",
              "2         0.060307  0.130714   0.045005   0.144313  ...     0.401429   \n",
              "\n",
              "         otr_com_si  paciente_hosp  renalCr_si     sex_H     sex_M  tabaq_si  \\\n",
              "cluster                                                                        \n",
              "1          0.004682       0.008636    0.001665  0.476050  0.523950  0.058554   \n",
              "3          0.007314       0.020786    0.003158  0.459122  0.540878  0.097401   \n",
              "0          0.010303       0.048896    0.005912  0.435375  0.564625  0.079743   \n",
              "2          0.016529       0.138139    0.015052  0.454347  0.545653  0.064353   \n",
              "\n",
              "           uci_si    venusC  cluster  \n",
              "cluster                               \n",
              "1        0.000415  0.042307        1  \n",
              "3        0.001218  0.042992        3  \n",
              "0        0.003192  0.046113        0  \n",
              "2        0.009214  0.050303        2  \n",
              "\n",
              "[4 rows x 39 columns]"
            ],
            "text/html": [
              "\n",
              "  <div id=\"df-eeb86d86-e9ce-4d22-8813-b1fb46101dd6\">\n",
              "    <div class=\"colab-df-container\">\n",
              "      <div>\n",
              "<style scoped>\n",
              "    .dataframe tbody tr th:only-of-type {\n",
              "        vertical-align: middle;\n",
              "    }\n",
              "\n",
              "    .dataframe tbody tr th {\n",
              "        vertical-align: top;\n",
              "    }\n",
              "\n",
              "    .dataframe thead th {\n",
              "        text-align: right;\n",
              "    }\n",
              "</style>\n",
              "<table border=\"1\" class=\"dataframe\">\n",
              "  <thead>\n",
              "    <tr style=\"text-align: right;\">\n",
              "      <th></th>\n",
              "      <th>EDAD</th>\n",
              "      <th>alc_alv</th>\n",
              "      <th>alc_azcap</th>\n",
              "      <th>alc_beniJ</th>\n",
              "      <th>alc_coyo</th>\n",
              "      <th>alc_cuaj</th>\n",
              "      <th>alc_cuauh</th>\n",
              "      <th>alc_gam</th>\n",
              "      <th>alc_iztac</th>\n",
              "      <th>alc_iztap</th>\n",
              "      <th>...</th>\n",
              "      <th>otr_caso_si</th>\n",
              "      <th>otr_com_si</th>\n",
              "      <th>paciente_hosp</th>\n",
              "      <th>renalCr_si</th>\n",
              "      <th>sex_H</th>\n",
              "      <th>sex_M</th>\n",
              "      <th>tabaq_si</th>\n",
              "      <th>uci_si</th>\n",
              "      <th>venusC</th>\n",
              "      <th>cluster</th>\n",
              "    </tr>\n",
              "    <tr>\n",
              "      <th>cluster</th>\n",
              "      <th></th>\n",
              "      <th></th>\n",
              "      <th></th>\n",
              "      <th></th>\n",
              "      <th></th>\n",
              "      <th></th>\n",
              "      <th></th>\n",
              "      <th></th>\n",
              "      <th></th>\n",
              "      <th></th>\n",
              "      <th></th>\n",
              "      <th></th>\n",
              "      <th></th>\n",
              "      <th></th>\n",
              "      <th></th>\n",
              "      <th></th>\n",
              "      <th></th>\n",
              "      <th></th>\n",
              "      <th></th>\n",
              "      <th></th>\n",
              "      <th></th>\n",
              "    </tr>\n",
              "  </thead>\n",
              "  <tbody>\n",
              "    <tr>\n",
              "      <th>1</th>\n",
              "      <td>19.544662</td>\n",
              "      <td>0.144312</td>\n",
              "      <td>0.052988</td>\n",
              "      <td>0.030330</td>\n",
              "      <td>0.056013</td>\n",
              "      <td>0.019074</td>\n",
              "      <td>0.046331</td>\n",
              "      <td>0.118191</td>\n",
              "      <td>0.037840</td>\n",
              "      <td>0.146352</td>\n",
              "      <td>...</td>\n",
              "      <td>0.461197</td>\n",
              "      <td>0.004682</td>\n",
              "      <td>0.008636</td>\n",
              "      <td>0.001665</td>\n",
              "      <td>0.476050</td>\n",
              "      <td>0.523950</td>\n",
              "      <td>0.058554</td>\n",
              "      <td>0.000415</td>\n",
              "      <td>0.042307</td>\n",
              "      <td>1</td>\n",
              "    </tr>\n",
              "    <tr>\n",
              "      <th>3</th>\n",
              "      <td>32.776576</td>\n",
              "      <td>0.125986</td>\n",
              "      <td>0.054602</td>\n",
              "      <td>0.043118</td>\n",
              "      <td>0.060125</td>\n",
              "      <td>0.017284</td>\n",
              "      <td>0.057994</td>\n",
              "      <td>0.120840</td>\n",
              "      <td>0.041025</td>\n",
              "      <td>0.148791</td>\n",
              "      <td>...</td>\n",
              "      <td>0.439349</td>\n",
              "      <td>0.007314</td>\n",
              "      <td>0.020786</td>\n",
              "      <td>0.003158</td>\n",
              "      <td>0.459122</td>\n",
              "      <td>0.540878</td>\n",
              "      <td>0.097401</td>\n",
              "      <td>0.001218</td>\n",
              "      <td>0.042992</td>\n",
              "      <td>3</td>\n",
              "    </tr>\n",
              "    <tr>\n",
              "      <th>0</th>\n",
              "      <td>46.827103</td>\n",
              "      <td>0.125125</td>\n",
              "      <td>0.055685</td>\n",
              "      <td>0.039615</td>\n",
              "      <td>0.061040</td>\n",
              "      <td>0.016420</td>\n",
              "      <td>0.054431</td>\n",
              "      <td>0.125167</td>\n",
              "      <td>0.043242</td>\n",
              "      <td>0.149781</td>\n",
              "      <td>...</td>\n",
              "      <td>0.433085</td>\n",
              "      <td>0.010303</td>\n",
              "      <td>0.048896</td>\n",
              "      <td>0.005912</td>\n",
              "      <td>0.435375</td>\n",
              "      <td>0.564625</td>\n",
              "      <td>0.079743</td>\n",
              "      <td>0.003192</td>\n",
              "      <td>0.046113</td>\n",
              "      <td>0</td>\n",
              "    </tr>\n",
              "    <tr>\n",
              "      <th>2</th>\n",
              "      <td>62.670197</td>\n",
              "      <td>0.122199</td>\n",
              "      <td>0.058714</td>\n",
              "      <td>0.045982</td>\n",
              "      <td>0.063968</td>\n",
              "      <td>0.014727</td>\n",
              "      <td>0.060307</td>\n",
              "      <td>0.130714</td>\n",
              "      <td>0.045005</td>\n",
              "      <td>0.144313</td>\n",
              "      <td>...</td>\n",
              "      <td>0.401429</td>\n",
              "      <td>0.016529</td>\n",
              "      <td>0.138139</td>\n",
              "      <td>0.015052</td>\n",
              "      <td>0.454347</td>\n",
              "      <td>0.545653</td>\n",
              "      <td>0.064353</td>\n",
              "      <td>0.009214</td>\n",
              "      <td>0.050303</td>\n",
              "      <td>2</td>\n",
              "    </tr>\n",
              "  </tbody>\n",
              "</table>\n",
              "<p>4 rows × 39 columns</p>\n",
              "</div>\n",
              "      <button class=\"colab-df-convert\" onclick=\"convertToInteractive('df-eeb86d86-e9ce-4d22-8813-b1fb46101dd6')\"\n",
              "              title=\"Convert this dataframe to an interactive table.\"\n",
              "              style=\"display:none;\">\n",
              "        \n",
              "  <svg xmlns=\"http://www.w3.org/2000/svg\" height=\"24px\"viewBox=\"0 0 24 24\"\n",
              "       width=\"24px\">\n",
              "    <path d=\"M0 0h24v24H0V0z\" fill=\"none\"/>\n",
              "    <path d=\"M18.56 5.44l.94 2.06.94-2.06 2.06-.94-2.06-.94-.94-2.06-.94 2.06-2.06.94zm-11 1L8.5 8.5l.94-2.06 2.06-.94-2.06-.94L8.5 2.5l-.94 2.06-2.06.94zm10 10l.94 2.06.94-2.06 2.06-.94-2.06-.94-.94-2.06-.94 2.06-2.06.94z\"/><path d=\"M17.41 7.96l-1.37-1.37c-.4-.4-.92-.59-1.43-.59-.52 0-1.04.2-1.43.59L10.3 9.45l-7.72 7.72c-.78.78-.78 2.05 0 2.83L4 21.41c.39.39.9.59 1.41.59.51 0 1.02-.2 1.41-.59l7.78-7.78 2.81-2.81c.8-.78.8-2.07 0-2.86zM5.41 20L4 18.59l7.72-7.72 1.47 1.35L5.41 20z\"/>\n",
              "  </svg>\n",
              "      </button>\n",
              "      \n",
              "  <style>\n",
              "    .colab-df-container {\n",
              "      display:flex;\n",
              "      flex-wrap:wrap;\n",
              "      gap: 12px;\n",
              "    }\n",
              "\n",
              "    .colab-df-convert {\n",
              "      background-color: #E8F0FE;\n",
              "      border: none;\n",
              "      border-radius: 50%;\n",
              "      cursor: pointer;\n",
              "      display: none;\n",
              "      fill: #1967D2;\n",
              "      height: 32px;\n",
              "      padding: 0 0 0 0;\n",
              "      width: 32px;\n",
              "    }\n",
              "\n",
              "    .colab-df-convert:hover {\n",
              "      background-color: #E2EBFA;\n",
              "      box-shadow: 0px 1px 2px rgba(60, 64, 67, 0.3), 0px 1px 3px 1px rgba(60, 64, 67, 0.15);\n",
              "      fill: #174EA6;\n",
              "    }\n",
              "\n",
              "    [theme=dark] .colab-df-convert {\n",
              "      background-color: #3B4455;\n",
              "      fill: #D2E3FC;\n",
              "    }\n",
              "\n",
              "    [theme=dark] .colab-df-convert:hover {\n",
              "      background-color: #434B5C;\n",
              "      box-shadow: 0px 1px 3px 1px rgba(0, 0, 0, 0.15);\n",
              "      filter: drop-shadow(0px 1px 2px rgba(0, 0, 0, 0.3));\n",
              "      fill: #FFFFFF;\n",
              "    }\n",
              "  </style>\n",
              "\n",
              "      <script>\n",
              "        const buttonEl =\n",
              "          document.querySelector('#df-eeb86d86-e9ce-4d22-8813-b1fb46101dd6 button.colab-df-convert');\n",
              "        buttonEl.style.display =\n",
              "          google.colab.kernel.accessAllowed ? 'block' : 'none';\n",
              "\n",
              "        async function convertToInteractive(key) {\n",
              "          const element = document.querySelector('#df-eeb86d86-e9ce-4d22-8813-b1fb46101dd6');\n",
              "          const dataTable =\n",
              "            await google.colab.kernel.invokeFunction('convertToInteractive',\n",
              "                                                     [key], {});\n",
              "          if (!dataTable) return;\n",
              "\n",
              "          const docLinkHtml = 'Like what you see? Visit the ' +\n",
              "            '<a target=\"_blank\" href=https://colab.research.google.com/notebooks/data_table.ipynb>data table notebook</a>'\n",
              "            + ' to learn more about interactive tables.';\n",
              "          element.innerHTML = '';\n",
              "          dataTable['output_type'] = 'display_data';\n",
              "          await google.colab.output.renderOutput(dataTable, element);\n",
              "          const docLink = document.createElement('div');\n",
              "          docLink.innerHTML = docLinkHtml;\n",
              "          element.appendChild(docLink);\n",
              "        }\n",
              "      </script>\n",
              "    </div>\n",
              "  </div>\n",
              "  "
            ]
          },
          "metadata": {},
          "execution_count": 67
        }
      ]
    },
    {
      "cell_type": "markdown",
      "source": [
        "## Analisis de los clústeres"
      ],
      "metadata": {
        "id": "GmixVmr_tafM"
      }
    },
    {
      "cell_type": "markdown",
      "source": [
        "* Alpha = cluster 1. Es el grupo más capaz de ejercer la viropolítica. Dados sus bajos valores para cada condición de riesgo, es el grupo menos vulnerable. \n",
        "* Beta = cluster 3. Es el segundo grupo más capaz de ejercer la viropolítica. Mantiene valores bajos para cada condición de riesgo.\n",
        "* Gamma = cluster 0. Es el segundo grupo más vulnerable a la viropolítica.\n",
        "* Delta = cluster 2. Es el grupo más vulnerable frente a la viropolítica. Incluye a la población que requirió mayores cuidados intensivos, ser intubada. Tuvo valores mayores de sistema inmunosuprimido, requirió mñas hospitalizaciones. "
      ],
      "metadata": {
        "id": "NiFXngxhuR_M"
      }
    },
    {
      "cell_type": "markdown",
      "source": [
        "### Crear la columna nombre_cluster con función condicional"
      ],
      "metadata": {
        "id": "uZZQ594IvBwd"
      }
    },
    {
      "cell_type": "code",
      "source": [
        "condiciones = [\n",
        "    (X[\"cluster\"]== 1),\n",
        "    (X[\"cluster\"]== 3),\n",
        "    (X[\"cluster\"]== 0),\n",
        "    (X[\"cluster\"]== 2)\n",
        "               ]\n",
        "nombre = [\"alpha\", \"beta\", \"gamma\", \"delta\"]\n",
        "X[\"nombre_cluster\"] = np.select(condiciones, nombre)\n",
        "X.head()"
      ],
      "metadata": {
        "colab": {
          "base_uri": "https://localhost:8080/",
          "height": 236
        },
        "id": "IQoJpQl-taK6",
        "outputId": "6ec46bd9-17b4-4c9f-b123-e97ff8ba9e59"
      },
      "execution_count": 68,
      "outputs": [
        {
          "output_type": "execute_result",
          "data": {
            "text/plain": [
              "   asma_si  cardio_si  diabetes_si  EDAD  embarazo_si  epoc_si  leng_ind_si  \\\n",
              "0        0          0            1    67            0        0            0   \n",
              "1        0          0            0    62            0        0            0   \n",
              "2        0          0            0    45            0        0            0   \n",
              "3        0          0            0    38            0        0            0   \n",
              "4        0          0            0    26            0        0            0   \n",
              "\n",
              "   hipert_si  indigena_si  inmusupr_si  ...  otr_caso_si  renalCr_si  sex_M  \\\n",
              "0          0            0            0  ...            1           0      1   \n",
              "1          1            0            0  ...            1           0      1   \n",
              "2          0            0            0  ...            1           0      1   \n",
              "3          0            0            0  ...            1           0      1   \n",
              "4          0            0            0  ...            1           0      1   \n",
              "\n",
              "   sex_H  tabaq_si  paciente_hosp  uci_si  defunciones  cluster  \\\n",
              "0      0         0              0       0            0        2   \n",
              "1      0         0              0       0            0        2   \n",
              "2      0         0              0       0            0        0   \n",
              "3      0         0              0       0            0        3   \n",
              "4      0         0              0       0            0        1   \n",
              "\n",
              "   nombre_cluster  \n",
              "0           delta  \n",
              "1           delta  \n",
              "2           gamma  \n",
              "3            beta  \n",
              "4           alpha  \n",
              "\n",
              "[5 rows x 40 columns]"
            ],
            "text/html": [
              "\n",
              "  <div id=\"df-af985189-b3c5-46da-8fd2-98d0c8a4ed21\">\n",
              "    <div class=\"colab-df-container\">\n",
              "      <div>\n",
              "<style scoped>\n",
              "    .dataframe tbody tr th:only-of-type {\n",
              "        vertical-align: middle;\n",
              "    }\n",
              "\n",
              "    .dataframe tbody tr th {\n",
              "        vertical-align: top;\n",
              "    }\n",
              "\n",
              "    .dataframe thead th {\n",
              "        text-align: right;\n",
              "    }\n",
              "</style>\n",
              "<table border=\"1\" class=\"dataframe\">\n",
              "  <thead>\n",
              "    <tr style=\"text-align: right;\">\n",
              "      <th></th>\n",
              "      <th>asma_si</th>\n",
              "      <th>cardio_si</th>\n",
              "      <th>diabetes_si</th>\n",
              "      <th>EDAD</th>\n",
              "      <th>embarazo_si</th>\n",
              "      <th>epoc_si</th>\n",
              "      <th>leng_ind_si</th>\n",
              "      <th>hipert_si</th>\n",
              "      <th>indigena_si</th>\n",
              "      <th>inmusupr_si</th>\n",
              "      <th>...</th>\n",
              "      <th>otr_caso_si</th>\n",
              "      <th>renalCr_si</th>\n",
              "      <th>sex_M</th>\n",
              "      <th>sex_H</th>\n",
              "      <th>tabaq_si</th>\n",
              "      <th>paciente_hosp</th>\n",
              "      <th>uci_si</th>\n",
              "      <th>defunciones</th>\n",
              "      <th>cluster</th>\n",
              "      <th>nombre_cluster</th>\n",
              "    </tr>\n",
              "  </thead>\n",
              "  <tbody>\n",
              "    <tr>\n",
              "      <th>0</th>\n",
              "      <td>0</td>\n",
              "      <td>0</td>\n",
              "      <td>1</td>\n",
              "      <td>67</td>\n",
              "      <td>0</td>\n",
              "      <td>0</td>\n",
              "      <td>0</td>\n",
              "      <td>0</td>\n",
              "      <td>0</td>\n",
              "      <td>0</td>\n",
              "      <td>...</td>\n",
              "      <td>1</td>\n",
              "      <td>0</td>\n",
              "      <td>1</td>\n",
              "      <td>0</td>\n",
              "      <td>0</td>\n",
              "      <td>0</td>\n",
              "      <td>0</td>\n",
              "      <td>0</td>\n",
              "      <td>2</td>\n",
              "      <td>delta</td>\n",
              "    </tr>\n",
              "    <tr>\n",
              "      <th>1</th>\n",
              "      <td>0</td>\n",
              "      <td>0</td>\n",
              "      <td>0</td>\n",
              "      <td>62</td>\n",
              "      <td>0</td>\n",
              "      <td>0</td>\n",
              "      <td>0</td>\n",
              "      <td>1</td>\n",
              "      <td>0</td>\n",
              "      <td>0</td>\n",
              "      <td>...</td>\n",
              "      <td>1</td>\n",
              "      <td>0</td>\n",
              "      <td>1</td>\n",
              "      <td>0</td>\n",
              "      <td>0</td>\n",
              "      <td>0</td>\n",
              "      <td>0</td>\n",
              "      <td>0</td>\n",
              "      <td>2</td>\n",
              "      <td>delta</td>\n",
              "    </tr>\n",
              "    <tr>\n",
              "      <th>2</th>\n",
              "      <td>0</td>\n",
              "      <td>0</td>\n",
              "      <td>0</td>\n",
              "      <td>45</td>\n",
              "      <td>0</td>\n",
              "      <td>0</td>\n",
              "      <td>0</td>\n",
              "      <td>0</td>\n",
              "      <td>0</td>\n",
              "      <td>0</td>\n",
              "      <td>...</td>\n",
              "      <td>1</td>\n",
              "      <td>0</td>\n",
              "      <td>1</td>\n",
              "      <td>0</td>\n",
              "      <td>0</td>\n",
              "      <td>0</td>\n",
              "      <td>0</td>\n",
              "      <td>0</td>\n",
              "      <td>0</td>\n",
              "      <td>gamma</td>\n",
              "    </tr>\n",
              "    <tr>\n",
              "      <th>3</th>\n",
              "      <td>0</td>\n",
              "      <td>0</td>\n",
              "      <td>0</td>\n",
              "      <td>38</td>\n",
              "      <td>0</td>\n",
              "      <td>0</td>\n",
              "      <td>0</td>\n",
              "      <td>0</td>\n",
              "      <td>0</td>\n",
              "      <td>0</td>\n",
              "      <td>...</td>\n",
              "      <td>1</td>\n",
              "      <td>0</td>\n",
              "      <td>1</td>\n",
              "      <td>0</td>\n",
              "      <td>0</td>\n",
              "      <td>0</td>\n",
              "      <td>0</td>\n",
              "      <td>0</td>\n",
              "      <td>3</td>\n",
              "      <td>beta</td>\n",
              "    </tr>\n",
              "    <tr>\n",
              "      <th>4</th>\n",
              "      <td>0</td>\n",
              "      <td>0</td>\n",
              "      <td>0</td>\n",
              "      <td>26</td>\n",
              "      <td>0</td>\n",
              "      <td>0</td>\n",
              "      <td>0</td>\n",
              "      <td>0</td>\n",
              "      <td>0</td>\n",
              "      <td>0</td>\n",
              "      <td>...</td>\n",
              "      <td>1</td>\n",
              "      <td>0</td>\n",
              "      <td>1</td>\n",
              "      <td>0</td>\n",
              "      <td>0</td>\n",
              "      <td>0</td>\n",
              "      <td>0</td>\n",
              "      <td>0</td>\n",
              "      <td>1</td>\n",
              "      <td>alpha</td>\n",
              "    </tr>\n",
              "  </tbody>\n",
              "</table>\n",
              "<p>5 rows × 40 columns</p>\n",
              "</div>\n",
              "      <button class=\"colab-df-convert\" onclick=\"convertToInteractive('df-af985189-b3c5-46da-8fd2-98d0c8a4ed21')\"\n",
              "              title=\"Convert this dataframe to an interactive table.\"\n",
              "              style=\"display:none;\">\n",
              "        \n",
              "  <svg xmlns=\"http://www.w3.org/2000/svg\" height=\"24px\"viewBox=\"0 0 24 24\"\n",
              "       width=\"24px\">\n",
              "    <path d=\"M0 0h24v24H0V0z\" fill=\"none\"/>\n",
              "    <path d=\"M18.56 5.44l.94 2.06.94-2.06 2.06-.94-2.06-.94-.94-2.06-.94 2.06-2.06.94zm-11 1L8.5 8.5l.94-2.06 2.06-.94-2.06-.94L8.5 2.5l-.94 2.06-2.06.94zm10 10l.94 2.06.94-2.06 2.06-.94-2.06-.94-.94-2.06-.94 2.06-2.06.94z\"/><path d=\"M17.41 7.96l-1.37-1.37c-.4-.4-.92-.59-1.43-.59-.52 0-1.04.2-1.43.59L10.3 9.45l-7.72 7.72c-.78.78-.78 2.05 0 2.83L4 21.41c.39.39.9.59 1.41.59.51 0 1.02-.2 1.41-.59l7.78-7.78 2.81-2.81c.8-.78.8-2.07 0-2.86zM5.41 20L4 18.59l7.72-7.72 1.47 1.35L5.41 20z\"/>\n",
              "  </svg>\n",
              "      </button>\n",
              "      \n",
              "  <style>\n",
              "    .colab-df-container {\n",
              "      display:flex;\n",
              "      flex-wrap:wrap;\n",
              "      gap: 12px;\n",
              "    }\n",
              "\n",
              "    .colab-df-convert {\n",
              "      background-color: #E8F0FE;\n",
              "      border: none;\n",
              "      border-radius: 50%;\n",
              "      cursor: pointer;\n",
              "      display: none;\n",
              "      fill: #1967D2;\n",
              "      height: 32px;\n",
              "      padding: 0 0 0 0;\n",
              "      width: 32px;\n",
              "    }\n",
              "\n",
              "    .colab-df-convert:hover {\n",
              "      background-color: #E2EBFA;\n",
              "      box-shadow: 0px 1px 2px rgba(60, 64, 67, 0.3), 0px 1px 3px 1px rgba(60, 64, 67, 0.15);\n",
              "      fill: #174EA6;\n",
              "    }\n",
              "\n",
              "    [theme=dark] .colab-df-convert {\n",
              "      background-color: #3B4455;\n",
              "      fill: #D2E3FC;\n",
              "    }\n",
              "\n",
              "    [theme=dark] .colab-df-convert:hover {\n",
              "      background-color: #434B5C;\n",
              "      box-shadow: 0px 1px 3px 1px rgba(0, 0, 0, 0.15);\n",
              "      filter: drop-shadow(0px 1px 2px rgba(0, 0, 0, 0.3));\n",
              "      fill: #FFFFFF;\n",
              "    }\n",
              "  </style>\n",
              "\n",
              "      <script>\n",
              "        const buttonEl =\n",
              "          document.querySelector('#df-af985189-b3c5-46da-8fd2-98d0c8a4ed21 button.colab-df-convert');\n",
              "        buttonEl.style.display =\n",
              "          google.colab.kernel.accessAllowed ? 'block' : 'none';\n",
              "\n",
              "        async function convertToInteractive(key) {\n",
              "          const element = document.querySelector('#df-af985189-b3c5-46da-8fd2-98d0c8a4ed21');\n",
              "          const dataTable =\n",
              "            await google.colab.kernel.invokeFunction('convertToInteractive',\n",
              "                                                     [key], {});\n",
              "          if (!dataTable) return;\n",
              "\n",
              "          const docLinkHtml = 'Like what you see? Visit the ' +\n",
              "            '<a target=\"_blank\" href=https://colab.research.google.com/notebooks/data_table.ipynb>data table notebook</a>'\n",
              "            + ' to learn more about interactive tables.';\n",
              "          element.innerHTML = '';\n",
              "          dataTable['output_type'] = 'display_data';\n",
              "          await google.colab.output.renderOutput(dataTable, element);\n",
              "          const docLink = document.createElement('div');\n",
              "          docLink.innerHTML = docLinkHtml;\n",
              "          element.appendChild(docLink);\n",
              "        }\n",
              "      </script>\n",
              "    </div>\n",
              "  </div>\n",
              "  "
            ]
          },
          "metadata": {},
          "execution_count": 68
        }
      ]
    },
    {
      "cell_type": "markdown",
      "source": [
        "### Analisis de los clústeres"
      ],
      "metadata": {
        "id": "eLfbS7Jhv-14"
      }
    },
    {
      "cell_type": "markdown",
      "source": [
        "#### conjunto de clústeres"
      ],
      "metadata": {
        "id": "7rM6YVFgx0DY"
      }
    },
    {
      "cell_type": "code",
      "source": [
        "X[\"nombre_cluster\"].value_counts()"
      ],
      "metadata": {
        "colab": {
          "base_uri": "https://localhost:8080/"
        },
        "id": "OTGpKRXSwCNb",
        "outputId": "f953d8b8-ba1d-4f5c-bff9-0e5273c98114"
      },
      "execution_count": 69,
      "outputs": [
        {
          "output_type": "execute_result",
          "data": {
            "text/plain": [
              "beta     482880\n",
              "gamma    474311\n",
              "alpha    395089\n",
              "delta    316362\n",
              "Name: nombre_cluster, dtype: int64"
            ]
          },
          "metadata": {},
          "execution_count": 69
        }
      ]
    },
    {
      "cell_type": "code",
      "source": [
        "X[\"EDAD\"].hist(bins=30)"
      ],
      "metadata": {
        "colab": {
          "base_uri": "https://localhost:8080/",
          "height": 0
        },
        "id": "eC_Y165sx4ax",
        "outputId": "e5d50f3b-6f5d-48b7-da1f-49206ae9f047"
      },
      "execution_count": 70,
      "outputs": [
        {
          "output_type": "execute_result",
          "data": {
            "text/plain": [
              "<Axes: >"
            ]
          },
          "metadata": {},
          "execution_count": 70
        },
        {
          "output_type": "display_data",
          "data": {
            "text/plain": [
              "<Figure size 432x288 with 1 Axes>"
            ],
            "image/png": "[encoded data removed]"
          },
          "metadata": {
            "needs_background": "light"
          }
        }
      ]
    },
    {
      "cell_type": "markdown",
      "source": [
        "#### alpha"
      ],
      "metadata": {
        "id": "CtvVV6yIxCdr"
      }
    },
    {
      "cell_type": "code",
      "source": [
        "# alpha\n",
        "X[X[\"nombre_cluster\"]==\"alpha\"][\"EDAD\"].describe()"
      ],
      "metadata": {
        "colab": {
          "base_uri": "https://localhost:8080/"
        },
        "id": "Q5GDXVzWwDGo",
        "outputId": "339bf1a3-a8d4-4647-b3da-5d974b32ee48"
      },
      "execution_count": 71,
      "outputs": [
        {
          "output_type": "execute_result",
          "data": {
            "text/plain": [
              "count    395089.000000\n",
              "mean         19.544662\n",
              "std           5.067375\n",
              "min           8.000000\n",
              "25%          16.000000\n",
              "50%          21.000000\n",
              "75%          24.000000\n",
              "max          26.000000\n",
              "Name: EDAD, dtype: float64"
            ]
          },
          "metadata": {},
          "execution_count": 71
        }
      ]
    },
    {
      "cell_type": "code",
      "source": [
        "X[X[\"nombre_cluster\"]==\"alpha\"][\"EDAD\"].hist()"
      ],
      "metadata": {
        "colab": {
          "base_uri": "https://localhost:8080/",
          "height": 0
        },
        "id": "ZaMv35hnwDD0",
        "outputId": "73b421ef-c8b1-484f-fd7a-ef005a23f0b9"
      },
      "execution_count": 72,
      "outputs": [
        {
          "output_type": "execute_result",
          "data": {
            "text/plain": [
              "<Axes: >"
            ]
          },
          "metadata": {},
          "execution_count": 72
        },
        {
          "output_type": "display_data",
          "data": {
            "text/plain": [
              "<Figure size 432x288 with 1 Axes>"
            ],
            "image/png": "[encoded data removed]"
          },
          "metadata": {
            "needs_background": "light"
          }
        }
      ]
    },
    {
      "cell_type": "markdown",
      "source": [
        "#### beta"
      ],
      "metadata": {
        "id": "cf2zgVSkxE0A"
      }
    },
    {
      "cell_type": "code",
      "source": [
        "X[X[\"nombre_cluster\"]==\"beta\"][\"EDAD\"].describe()"
      ],
      "metadata": {
        "colab": {
          "base_uri": "https://localhost:8080/"
        },
        "id": "_PdInyb0wDBF",
        "outputId": "9073b2cd-e8aa-40af-e66d-564e7efc1bc2"
      },
      "execution_count": 73,
      "outputs": [
        {
          "output_type": "execute_result",
          "data": {
            "text/plain": [
              "count    482880.000000\n",
              "mean         32.776576\n",
              "std           3.734821\n",
              "min          27.000000\n",
              "25%          30.000000\n",
              "50%          33.000000\n",
              "75%          36.000000\n",
              "max          39.000000\n",
              "Name: EDAD, dtype: float64"
            ]
          },
          "metadata": {},
          "execution_count": 73
        }
      ]
    },
    {
      "cell_type": "code",
      "source": [
        "X[X[\"nombre_cluster\"]==\"beta\"][\"EDAD\"].hist()"
      ],
      "metadata": {
        "colab": {
          "base_uri": "https://localhost:8080/",
          "height": 0
        },
        "id": "XrSpyxjvxLRQ",
        "outputId": "d6ed5aa0-3060-4716-a58b-0338c88a8692"
      },
      "execution_count": 74,
      "outputs": [
        {
          "output_type": "execute_result",
          "data": {
            "text/plain": [
              "<Axes: >"
            ]
          },
          "metadata": {},
          "execution_count": 74
        },
        {
          "output_type": "display_data",
          "data": {
            "text/plain": [
              "<Figure size 432x288 with 1 Axes>"
            ],
            "image/png": "[encoded data removed]"
          },
          "metadata": {
            "needs_background": "light"
          }
        }
      ]
    },
    {
      "cell_type": "markdown",
      "source": [
        "#### gamma"
      ],
      "metadata": {
        "id": "idiAs9YLxYK_"
      }
    },
    {
      "cell_type": "code",
      "source": [
        "X[X[\"nombre_cluster\"]==\"gamma\"][\"EDAD\"].describe()"
      ],
      "metadata": {
        "colab": {
          "base_uri": "https://localhost:8080/"
        },
        "id": "hvPqlPFxxbrr",
        "outputId": "ca410bcb-4581-474c-fcc9-b7ce12309630"
      },
      "execution_count": 75,
      "outputs": [
        {
          "output_type": "execute_result",
          "data": {
            "text/plain": [
              "count    474311.000000\n",
              "mean         46.827103\n",
              "std           4.235008\n",
              "min          40.000000\n",
              "25%          43.000000\n",
              "50%          47.000000\n",
              "75%          50.000000\n",
              "max          54.000000\n",
              "Name: EDAD, dtype: float64"
            ]
          },
          "metadata": {},
          "execution_count": 75
        }
      ]
    },
    {
      "cell_type": "code",
      "source": [
        "X[X[\"nombre_cluster\"]==\"gamma\"][\"EDAD\"].hist()"
      ],
      "metadata": {
        "colab": {
          "base_uri": "https://localhost:8080/",
          "height": 0
        },
        "id": "p1zjQre1xc-x",
        "outputId": "b85b1bfa-11de-408e-95b6-c9914ae328e8"
      },
      "execution_count": 76,
      "outputs": [
        {
          "output_type": "execute_result",
          "data": {
            "text/plain": [
              "<Axes: >"
            ]
          },
          "metadata": {},
          "execution_count": 76
        },
        {
          "output_type": "display_data",
          "data": {
            "text/plain": [
              "<Figure size 432x288 with 1 Axes>"
            ],
            "image/png": "[encoded data removed]"
          },
          "metadata": {
            "needs_background": "light"
          }
        }
      ]
    },
    {
      "cell_type": "markdown",
      "source": [
        "#### delta"
      ],
      "metadata": {
        "id": "aOfrHbO7xnbJ"
      }
    },
    {
      "cell_type": "code",
      "source": [
        "X[X[\"nombre_cluster\"]==\"delta\"][\"EDAD\"].describe()"
      ],
      "metadata": {
        "colab": {
          "base_uri": "https://localhost:8080/"
        },
        "id": "OVi5Xp31xlAh",
        "outputId": "131fc69a-3fce-4d43-b6b0-703e140557f4"
      },
      "execution_count": 77,
      "outputs": [
        {
          "output_type": "execute_result",
          "data": {
            "text/plain": [
              "count    316362.000000\n",
              "mean         62.670197\n",
              "std           5.841905\n",
              "min          55.000000\n",
              "25%          58.000000\n",
              "50%          62.000000\n",
              "75%          67.000000\n",
              "max          76.000000\n",
              "Name: EDAD, dtype: float64"
            ]
          },
          "metadata": {},
          "execution_count": 77
        }
      ]
    },
    {
      "cell_type": "code",
      "source": [
        "X[X[\"nombre_cluster\"]==\"delta\"][\"EDAD\"].hist()"
      ],
      "metadata": {
        "colab": {
          "base_uri": "https://localhost:8080/",
          "height": 0
        },
        "id": "zpliWPCgxtu3",
        "outputId": "8c2f592f-2f1f-42e7-ab04-b14e4ed18471"
      },
      "execution_count": 78,
      "outputs": [
        {
          "output_type": "execute_result",
          "data": {
            "text/plain": [
              "<Axes: >"
            ]
          },
          "metadata": {},
          "execution_count": 78
        },
        {
          "output_type": "display_data",
          "data": {
            "text/plain": [
              "<Figure size 432x288 with 1 Axes>"
            ],
            "image/png": "[encoded data removed]"
          },
          "metadata": {
            "needs_background": "light"
          }
        }
      ]
    },
    {
      "cell_type": "markdown",
      "source": [
        "### Manipulación de tabla pivote"
      ],
      "metadata": {
        "id": "V6fDnQ_jvzsX"
      }
    },
    {
      "cell_type": "code",
      "source": [
        "X_pivot = pd.pivot_table(X, index='nombre_cluster')\n",
        "X_pivot[\"nombre_cluster\"] = X_pivot.index\n",
        "X_pivot = X_pivot.sort_values(by=\"EDAD\")\n",
        "X_pivot"
      ],
      "metadata": {
        "colab": {
          "base_uri": "https://localhost:8080/",
          "height": 236
        },
        "id": "vS9zkuwKy1nX",
        "outputId": "e2300c7e-235c-41fa-af0e-ff9ef8e4ed36"
      },
      "execution_count": 79,
      "outputs": [
        {
          "output_type": "execute_result",
          "data": {
            "text/plain": [
              "                     EDAD   alc_alv  alc_azcap  alc_beniJ  alc_coyo  alc_cuaj  \\\n",
              "nombre_cluster                                                                  \n",
              "alpha           19.544662  0.144312   0.052988   0.030330  0.056013  0.019074   \n",
              "beta            32.776576  0.125986   0.054602   0.043118  0.060125  0.017284   \n",
              "gamma           46.827103  0.125125   0.055685   0.039615  0.061040  0.016420   \n",
              "delta           62.670197  0.122199   0.058714   0.045982  0.063968  0.014727   \n",
              "\n",
              "                alc_cuauh   alc_gam  alc_iztac  alc_iztap  ...  otr_caso_si  \\\n",
              "nombre_cluster                                             ...                \n",
              "alpha            0.046331  0.118191   0.037840   0.146352  ...     0.461197   \n",
              "beta             0.057994  0.120840   0.041025   0.148791  ...     0.439349   \n",
              "gamma            0.054431  0.125167   0.043242   0.149781  ...     0.433085   \n",
              "delta            0.060307  0.130714   0.045005   0.144313  ...     0.401429   \n",
              "\n",
              "                otr_com_si  paciente_hosp  renalCr_si     sex_H     sex_M  \\\n",
              "nombre_cluster                                                              \n",
              "alpha             0.004682       0.008636    0.001665  0.476050  0.523950   \n",
              "beta              0.007314       0.020786    0.003158  0.459122  0.540878   \n",
              "gamma             0.010303       0.048896    0.005912  0.435375  0.564625   \n",
              "delta             0.016529       0.138139    0.015052  0.454347  0.545653   \n",
              "\n",
              "                tabaq_si    uci_si    venusC  nombre_cluster  \n",
              "nombre_cluster                                                \n",
              "alpha           0.058554  0.000415  0.042307           alpha  \n",
              "beta            0.097401  0.001218  0.042992            beta  \n",
              "gamma           0.079743  0.003192  0.046113           gamma  \n",
              "delta           0.064353  0.009214  0.050303           delta  \n",
              "\n",
              "[4 rows x 40 columns]"
            ],
            "text/html": [
              "\n",
              "  <div id=\"df-0f7fa57e-5a4d-478b-b8b2-a806316ead68\">\n",
              "    <div class=\"colab-df-container\">\n",
              "      <div>\n",
              "<style scoped>\n",
              "    .dataframe tbody tr th:only-of-type {\n",
              "        vertical-align: middle;\n",
              "    }\n",
              "\n",
              "    .dataframe tbody tr th {\n",
              "        vertical-align: top;\n",
              "    }\n",
              "\n",
              "    .dataframe thead th {\n",
              "        text-align: right;\n",
              "    }\n",
              "</style>\n",
              "<table border=\"1\" class=\"dataframe\">\n",
              "  <thead>\n",
              "    <tr style=\"text-align: right;\">\n",
              "      <th></th>\n",
              "      <th>EDAD</th>\n",
              "      <th>alc_alv</th>\n",
              "      <th>alc_azcap</th>\n",
              "      <th>alc_beniJ</th>\n",
              "      <th>alc_coyo</th>\n",
              "      <th>alc_cuaj</th>\n",
              "      <th>alc_cuauh</th>\n",
              "      <th>alc_gam</th>\n",
              "      <th>alc_iztac</th>\n",
              "      <th>alc_iztap</th>\n",
              "      <th>...</th>\n",
              "      <th>otr_caso_si</th>\n",
              "      <th>otr_com_si</th>\n",
              "      <th>paciente_hosp</th>\n",
              "      <th>renalCr_si</th>\n",
              "      <th>sex_H</th>\n",
              "      <th>sex_M</th>\n",
              "      <th>tabaq_si</th>\n",
              "      <th>uci_si</th>\n",
              "      <th>venusC</th>\n",
              "      <th>nombre_cluster</th>\n",
              "    </tr>\n",
              "    <tr>\n",
              "      <th>nombre_cluster</th>\n",
              "      <th></th>\n",
              "      <th></th>\n",
              "      <th></th>\n",
              "      <th></th>\n",
              "      <th></th>\n",
              "      <th></th>\n",
              "      <th></th>\n",
              "      <th></th>\n",
              "      <th></th>\n",
              "      <th></th>\n",
              "      <th></th>\n",
              "      <th></th>\n",
              "      <th></th>\n",
              "      <th></th>\n",
              "      <th></th>\n",
              "      <th></th>\n",
              "      <th></th>\n",
              "      <th></th>\n",
              "      <th></th>\n",
              "      <th></th>\n",
              "      <th></th>\n",
              "    </tr>\n",
              "  </thead>\n",
              "  <tbody>\n",
              "    <tr>\n",
              "      <th>alpha</th>\n",
              "      <td>19.544662</td>\n",
              "      <td>0.144312</td>\n",
              "      <td>0.052988</td>\n",
              "      <td>0.030330</td>\n",
              "      <td>0.056013</td>\n",
              "      <td>0.019074</td>\n",
              "      <td>0.046331</td>\n",
              "      <td>0.118191</td>\n",
              "      <td>0.037840</td>\n",
              "      <td>0.146352</td>\n",
              "      <td>...</td>\n",
              "      <td>0.461197</td>\n",
              "      <td>0.004682</td>\n",
              "      <td>0.008636</td>\n",
              "      <td>0.001665</td>\n",
              "      <td>0.476050</td>\n",
              "      <td>0.523950</td>\n",
              "      <td>0.058554</td>\n",
              "      <td>0.000415</td>\n",
              "      <td>0.042307</td>\n",
              "      <td>alpha</td>\n",
              "    </tr>\n",
              "    <tr>\n",
              "      <th>beta</th>\n",
              "      <td>32.776576</td>\n",
              "      <td>0.125986</td>\n",
              "      <td>0.054602</td>\n",
              "      <td>0.043118</td>\n",
              "      <td>0.060125</td>\n",
              "      <td>0.017284</td>\n",
              "      <td>0.057994</td>\n",
              "      <td>0.120840</td>\n",
              "      <td>0.041025</td>\n",
              "      <td>0.148791</td>\n",
              "      <td>...</td>\n",
              "      <td>0.439349</td>\n",
              "      <td>0.007314</td>\n",
              "      <td>0.020786</td>\n",
              "      <td>0.003158</td>\n",
              "      <td>0.459122</td>\n",
              "      <td>0.540878</td>\n",
              "      <td>0.097401</td>\n",
              "      <td>0.001218</td>\n",
              "      <td>0.042992</td>\n",
              "      <td>beta</td>\n",
              "    </tr>\n",
              "    <tr>\n",
              "      <th>gamma</th>\n",
              "      <td>46.827103</td>\n",
              "      <td>0.125125</td>\n",
              "      <td>0.055685</td>\n",
              "      <td>0.039615</td>\n",
              "      <td>0.061040</td>\n",
              "      <td>0.016420</td>\n",
              "      <td>0.054431</td>\n",
              "      <td>0.125167</td>\n",
              "      <td>0.043242</td>\n",
              "      <td>0.149781</td>\n",
              "      <td>...</td>\n",
              "      <td>0.433085</td>\n",
              "      <td>0.010303</td>\n",
              "      <td>0.048896</td>\n",
              "      <td>0.005912</td>\n",
              "      <td>0.435375</td>\n",
              "      <td>0.564625</td>\n",
              "      <td>0.079743</td>\n",
              "      <td>0.003192</td>\n",
              "      <td>0.046113</td>\n",
              "      <td>gamma</td>\n",
              "    </tr>\n",
              "    <tr>\n",
              "      <th>delta</th>\n",
              "      <td>62.670197</td>\n",
              "      <td>0.122199</td>\n",
              "      <td>0.058714</td>\n",
              "      <td>0.045982</td>\n",
              "      <td>0.063968</td>\n",
              "      <td>0.014727</td>\n",
              "      <td>0.060307</td>\n",
              "      <td>0.130714</td>\n",
              "      <td>0.045005</td>\n",
              "      <td>0.144313</td>\n",
              "      <td>...</td>\n",
              "      <td>0.401429</td>\n",
              "      <td>0.016529</td>\n",
              "      <td>0.138139</td>\n",
              "      <td>0.015052</td>\n",
              "      <td>0.454347</td>\n",
              "      <td>0.545653</td>\n",
              "      <td>0.064353</td>\n",
              "      <td>0.009214</td>\n",
              "      <td>0.050303</td>\n",
              "      <td>delta</td>\n",
              "    </tr>\n",
              "  </tbody>\n",
              "</table>\n",
              "<p>4 rows × 40 columns</p>\n",
              "</div>\n",
              "      <button class=\"colab-df-convert\" onclick=\"convertToInteractive('df-0f7fa57e-5a4d-478b-b8b2-a806316ead68')\"\n",
              "              title=\"Convert this dataframe to an interactive table.\"\n",
              "              style=\"display:none;\">\n",
              "        \n",
              "  <svg xmlns=\"http://www.w3.org/2000/svg\" height=\"24px\"viewBox=\"0 0 24 24\"\n",
              "       width=\"24px\">\n",
              "    <path d=\"M0 0h24v24H0V0z\" fill=\"none\"/>\n",
              "    <path d=\"M18.56 5.44l.94 2.06.94-2.06 2.06-.94-2.06-.94-.94-2.06-.94 2.06-2.06.94zm-11 1L8.5 8.5l.94-2.06 2.06-.94-2.06-.94L8.5 2.5l-.94 2.06-2.06.94zm10 10l.94 2.06.94-2.06 2.06-.94-2.06-.94-.94-2.06-.94 2.06-2.06.94z\"/><path d=\"M17.41 7.96l-1.37-1.37c-.4-.4-.92-.59-1.43-.59-.52 0-1.04.2-1.43.59L10.3 9.45l-7.72 7.72c-.78.78-.78 2.05 0 2.83L4 21.41c.39.39.9.59 1.41.59.51 0 1.02-.2 1.41-.59l7.78-7.78 2.81-2.81c.8-.78.8-2.07 0-2.86zM5.41 20L4 18.59l7.72-7.72 1.47 1.35L5.41 20z\"/>\n",
              "  </svg>\n",
              "      </button>\n",
              "      \n",
              "  <style>\n",
              "    .colab-df-container {\n",
              "      display:flex;\n",
              "      flex-wrap:wrap;\n",
              "      gap: 12px;\n",
              "    }\n",
              "\n",
              "    .colab-df-convert {\n",
              "      background-color: #E8F0FE;\n",
              "      border: none;\n",
              "      border-radius: 50%;\n",
              "      cursor: pointer;\n",
              "      display: none;\n",
              "      fill: #1967D2;\n",
              "      height: 32px;\n",
              "      padding: 0 0 0 0;\n",
              "      width: 32px;\n",
              "    }\n",
              "\n",
              "    .colab-df-convert:hover {\n",
              "      background-color: #E2EBFA;\n",
              "      box-shadow: 0px 1px 2px rgba(60, 64, 67, 0.3), 0px 1px 3px 1px rgba(60, 64, 67, 0.15);\n",
              "      fill: #174EA6;\n",
              "    }\n",
              "\n",
              "    [theme=dark] .colab-df-convert {\n",
              "      background-color: #3B4455;\n",
              "      fill: #D2E3FC;\n",
              "    }\n",
              "\n",
              "    [theme=dark] .colab-df-convert:hover {\n",
              "      background-color: #434B5C;\n",
              "      box-shadow: 0px 1px 3px 1px rgba(0, 0, 0, 0.15);\n",
              "      filter: drop-shadow(0px 1px 2px rgba(0, 0, 0, 0.3));\n",
              "      fill: #FFFFFF;\n",
              "    }\n",
              "  </style>\n",
              "\n",
              "      <script>\n",
              "        const buttonEl =\n",
              "          document.querySelector('#df-0f7fa57e-5a4d-478b-b8b2-a806316ead68 button.colab-df-convert');\n",
              "        buttonEl.style.display =\n",
              "          google.colab.kernel.accessAllowed ? 'block' : 'none';\n",
              "\n",
              "        async function convertToInteractive(key) {\n",
              "          const element = document.querySelector('#df-0f7fa57e-5a4d-478b-b8b2-a806316ead68');\n",
              "          const dataTable =\n",
              "            await google.colab.kernel.invokeFunction('convertToInteractive',\n",
              "                                                     [key], {});\n",
              "          if (!dataTable) return;\n",
              "\n",
              "          const docLinkHtml = 'Like what you see? Visit the ' +\n",
              "            '<a target=\"_blank\" href=https://colab.research.google.com/notebooks/data_table.ipynb>data table notebook</a>'\n",
              "            + ' to learn more about interactive tables.';\n",
              "          element.innerHTML = '';\n",
              "          dataTable['output_type'] = 'display_data';\n",
              "          await google.colab.output.renderOutput(dataTable, element);\n",
              "          const docLink = document.createElement('div');\n",
              "          docLink.innerHTML = docLinkHtml;\n",
              "          element.appendChild(docLink);\n",
              "        }\n",
              "      </script>\n",
              "    </div>\n",
              "  </div>\n",
              "  "
            ]
          },
          "metadata": {},
          "execution_count": 79
        }
      ]
    },
    {
      "cell_type": "code",
      "source": [
        "X_pivot.columns"
      ],
      "metadata": {
        "colab": {
          "base_uri": "https://localhost:8080/"
        },
        "id": "4fhxI_nns2b3",
        "outputId": "266db6ed-9ac5-4eb4-b2fb-dfec82b8d411"
      },
      "execution_count": 80,
      "outputs": [
        {
          "output_type": "execute_result",
          "data": {
            "text/plain": [
              "Index(['EDAD', 'alc_alv', 'alc_azcap', 'alc_beniJ', 'alc_coyo', 'alc_cuaj',\n",
              "       'alc_cuauh', 'alc_gam', 'alc_iztac', 'alc_iztap', 'alc_magdC',\n",
              "       'alc_migH', 'alc_milpa', 'alc_tlah', 'alc_tlalp', 'alc_xoch', 'asma_si',\n",
              "       'cardio_si', 'cluster', 'defunciones', 'diabetes_si', 'embarazo_si',\n",
              "       'epoc_si', 'hipert_si', 'indigena_si', 'inmusupr_si', 'intub_si',\n",
              "       'leng_ind_si', 'neumonia_si', 'obesidad_si', 'otr_caso_si',\n",
              "       'otr_com_si', 'paciente_hosp', 'renalCr_si', 'sex_H', 'sex_M',\n",
              "       'tabaq_si', 'uci_si', 'venusC', 'nombre_cluster'],\n",
              "      dtype='object')"
            ]
          },
          "metadata": {},
          "execution_count": 80
        }
      ]
    },
    {
      "cell_type": "markdown",
      "source": [
        "#### Factores relacionados con la historia natural de la enfermedad"
      ],
      "metadata": {
        "id": "s7STuHFZyXSs"
      }
    },
    {
      "cell_type": "code",
      "source": [
        "matriz = X_pivot[[\"EDAD\", \"intub_si\", \"paciente_hosp\", \"uci_si\", \"defunciones\"]]\n",
        "matriz[[\"intub_si\", \"paciente_hosp\", \"uci_si\", \"defunciones\"]] = matriz[[\"intub_si\", \"paciente_hosp\", \"uci_si\", \"defunciones\"]].mul(100)\n",
        "print(\"Factores relacionados con la historia natural de la enfermedad \\n\")\n",
        "matriz.round(2)"
      ],
      "metadata": {
        "colab": {
          "base_uri": "https://localhost:8080/",
          "height": 345
        },
        "id": "LBtwj2tx3wVb",
        "outputId": "cf9270db-eec4-4196-ba7e-e6dafd938eab"
      },
      "execution_count": 88,
      "outputs": [
        {
          "output_type": "stream",
          "name": "stdout",
          "text": [
            "Factores relacionados con la historia natural de la enfermedad \n",
            "\n"
          ]
        },
        {
          "output_type": "stream",
          "name": "stderr",
          "text": [
            "<ipython-input-88-e9d5c713140a>:2: SettingWithCopyWarning: \n",
            "A value is trying to be set on a copy of a slice from a DataFrame.\n",
            "Try using .loc[row_indexer,col_indexer] = value instead\n",
            "\n",
            "See the caveats in the documentation: https://pandas.pydata.org/pandas-docs/stable/user_guide/indexing.html#returning-a-view-versus-a-copy\n",
            "  matriz[[\"intub_si\", \"paciente_hosp\", \"uci_si\", \"defunciones\"]] = matriz[[\"intub_si\", \"paciente_hosp\", \"uci_si\", \"defunciones\"]].mul(100)\n"
          ]
        },
        {
          "output_type": "execute_result",
          "data": {
            "text/plain": [
              "                 EDAD  intub_si  paciente_hosp  uci_si  defunciones\n",
              "nombre_cluster                                                     \n",
              "alpha           19.54      0.05           0.86    0.04         0.08\n",
              "beta            32.78      0.21           2.08    0.12         0.43\n",
              "gamma           46.83      0.74           4.89    0.32         1.76\n",
              "delta           62.67      2.45          13.81    0.92         7.55"
            ],
            "text/html": [
              "\n",
              "  <div id=\"df-93e253e4-deeb-4bf5-9a62-78c87411f757\">\n",
              "    <div class=\"colab-df-container\">\n",
              "      <div>\n",
              "<style scoped>\n",
              "    .dataframe tbody tr th:only-of-type {\n",
              "        vertical-align: middle;\n",
              "    }\n",
              "\n",
              "    .dataframe tbody tr th {\n",
              "        vertical-align: top;\n",
              "    }\n",
              "\n",
              "    .dataframe thead th {\n",
              "        text-align: right;\n",
              "    }\n",
              "</style>\n",
              "<table border=\"1\" class=\"dataframe\">\n",
              "  <thead>\n",
              "    <tr style=\"text-align: right;\">\n",
              "      <th></th>\n",
              "      <th>EDAD</th>\n",
              "      <th>intub_si</th>\n",
              "      <th>paciente_hosp</th>\n",
              "      <th>uci_si</th>\n",
              "      <th>defunciones</th>\n",
              "    </tr>\n",
              "    <tr>\n",
              "      <th>nombre_cluster</th>\n",
              "      <th></th>\n",
              "      <th></th>\n",
              "      <th></th>\n",
              "      <th></th>\n",
              "      <th></th>\n",
              "    </tr>\n",
              "  </thead>\n",
              "  <tbody>\n",
              "    <tr>\n",
              "      <th>alpha</th>\n",
              "      <td>19.54</td>\n",
              "      <td>0.05</td>\n",
              "      <td>0.86</td>\n",
              "      <td>0.04</td>\n",
              "      <td>0.08</td>\n",
              "    </tr>\n",
              "    <tr>\n",
              "      <th>beta</th>\n",
              "      <td>32.78</td>\n",
              "      <td>0.21</td>\n",
              "      <td>2.08</td>\n",
              "      <td>0.12</td>\n",
              "      <td>0.43</td>\n",
              "    </tr>\n",
              "    <tr>\n",
              "      <th>gamma</th>\n",
              "      <td>46.83</td>\n",
              "      <td>0.74</td>\n",
              "      <td>4.89</td>\n",
              "      <td>0.32</td>\n",
              "      <td>1.76</td>\n",
              "    </tr>\n",
              "    <tr>\n",
              "      <th>delta</th>\n",
              "      <td>62.67</td>\n",
              "      <td>2.45</td>\n",
              "      <td>13.81</td>\n",
              "      <td>0.92</td>\n",
              "      <td>7.55</td>\n",
              "    </tr>\n",
              "  </tbody>\n",
              "</table>\n",
              "</div>\n",
              "      <button class=\"colab-df-convert\" onclick=\"convertToInteractive('df-93e253e4-deeb-4bf5-9a62-78c87411f757')\"\n",
              "              title=\"Convert this dataframe to an interactive table.\"\n",
              "              style=\"display:none;\">\n",
              "        \n",
              "  <svg xmlns=\"http://www.w3.org/2000/svg\" height=\"24px\"viewBox=\"0 0 24 24\"\n",
              "       width=\"24px\">\n",
              "    <path d=\"M0 0h24v24H0V0z\" fill=\"none\"/>\n",
              "    <path d=\"M18.56 5.44l.94 2.06.94-2.06 2.06-.94-2.06-.94-.94-2.06-.94 2.06-2.06.94zm-11 1L8.5 8.5l.94-2.06 2.06-.94-2.06-.94L8.5 2.5l-.94 2.06-2.06.94zm10 10l.94 2.06.94-2.06 2.06-.94-2.06-.94-.94-2.06-.94 2.06-2.06.94z\"/><path d=\"M17.41 7.96l-1.37-1.37c-.4-.4-.92-.59-1.43-.59-.52 0-1.04.2-1.43.59L10.3 9.45l-7.72 7.72c-.78.78-.78 2.05 0 2.83L4 21.41c.39.39.9.59 1.41.59.51 0 1.02-.2 1.41-.59l7.78-7.78 2.81-2.81c.8-.78.8-2.07 0-2.86zM5.41 20L4 18.59l7.72-7.72 1.47 1.35L5.41 20z\"/>\n",
              "  </svg>\n",
              "      </button>\n",
              "      \n",
              "  <style>\n",
              "    .colab-df-container {\n",
              "      display:flex;\n",
              "      flex-wrap:wrap;\n",
              "      gap: 12px;\n",
              "    }\n",
              "\n",
              "    .colab-df-convert {\n",
              "      background-color: #E8F0FE;\n",
              "      border: none;\n",
              "      border-radius: 50%;\n",
              "      cursor: pointer;\n",
              "      display: none;\n",
              "      fill: #1967D2;\n",
              "      height: 32px;\n",
              "      padding: 0 0 0 0;\n",
              "      width: 32px;\n",
              "    }\n",
              "\n",
              "    .colab-df-convert:hover {\n",
              "      background-color: #E2EBFA;\n",
              "      box-shadow: 0px 1px 2px rgba(60, 64, 67, 0.3), 0px 1px 3px 1px rgba(60, 64, 67, 0.15);\n",
              "      fill: #174EA6;\n",
              "    }\n",
              "\n",
              "    [theme=dark] .colab-df-convert {\n",
              "      background-color: #3B4455;\n",
              "      fill: #D2E3FC;\n",
              "    }\n",
              "\n",
              "    [theme=dark] .colab-df-convert:hover {\n",
              "      background-color: #434B5C;\n",
              "      box-shadow: 0px 1px 3px 1px rgba(0, 0, 0, 0.15);\n",
              "      filter: drop-shadow(0px 1px 2px rgba(0, 0, 0, 0.3));\n",
              "      fill: #FFFFFF;\n",
              "    }\n",
              "  </style>\n",
              "\n",
              "      <script>\n",
              "        const buttonEl =\n",
              "          document.querySelector('#df-93e253e4-deeb-4bf5-9a62-78c87411f757 button.colab-df-convert');\n",
              "        buttonEl.style.display =\n",
              "          google.colab.kernel.accessAllowed ? 'block' : 'none';\n",
              "\n",
              "        async function convertToInteractive(key) {\n",
              "          const element = document.querySelector('#df-93e253e4-deeb-4bf5-9a62-78c87411f757');\n",
              "          const dataTable =\n",
              "            await google.colab.kernel.invokeFunction('convertToInteractive',\n",
              "                                                     [key], {});\n",
              "          if (!dataTable) return;\n",
              "\n",
              "          const docLinkHtml = 'Like what you see? Visit the ' +\n",
              "            '<a target=\"_blank\" href=https://colab.research.google.com/notebooks/data_table.ipynb>data table notebook</a>'\n",
              "            + ' to learn more about interactive tables.';\n",
              "          element.innerHTML = '';\n",
              "          dataTable['output_type'] = 'display_data';\n",
              "          await google.colab.output.renderOutput(dataTable, element);\n",
              "          const docLink = document.createElement('div');\n",
              "          docLink.innerHTML = docLinkHtml;\n",
              "          element.appendChild(docLink);\n",
              "        }\n",
              "      </script>\n",
              "    </div>\n",
              "  </div>\n",
              "  "
            ]
          },
          "metadata": {},
          "execution_count": 88
        }
      ]
    },
    {
      "cell_type": "markdown",
      "source": [
        "#### Factores relacionados con condiciones de salud"
      ],
      "metadata": {
        "id": "ryXtsuVN0UUY"
      }
    },
    {
      "cell_type": "code",
      "source": [
        "condiciones_salud = X_pivot[[\"EDAD\",  \"diabetes_si\", \"obesidad_si\", \"hipert_si\", \"inmusupr_si\", \"renalCr_si\", \"cardio_si\", \"asma_si\", \"neumonia_si\", \"epoc_si\", \"tabaq_si\"]]\n",
        "condiciones_salud[[\"diabetes_si\", \"obesidad_si\", \"hipert_si\", \"inmusupr_si\", \"renalCr_si\", \"cardio_si\", \"asma_si\", \"neumonia_si\", \"epoc_si\", \"tabaq_si\"]] = condiciones_salud[[\"diabetes_si\", \"obesidad_si\", \"hipert_si\", \"inmusupr_si\", \"renalCr_si\", \"cardio_si\", \"asma_si\", \"neumonia_si\", \"epoc_si\", \"tabaq_si\"]].mul(100)\n",
        "print(\"Factores relacionados con condiciones de salud (%)\")\n",
        "condiciones_salud.round(2)                                                                                                                                                                               "
      ],
      "metadata": {
        "colab": {
          "base_uri": "https://localhost:8080/",
          "height": 348
        },
        "id": "aVLXG0aY4Mym",
        "outputId": "712683b4-49a0-40a1-908f-1f92cb00c19f"
      },
      "execution_count": 90,
      "outputs": [
        {
          "output_type": "stream",
          "name": "stdout",
          "text": [
            "Factores relacionados con condiciones de salud (%)\n"
          ]
        },
        {
          "output_type": "stream",
          "name": "stderr",
          "text": [
            "<ipython-input-90-95d37e2ec0c4>:2: SettingWithCopyWarning: \n",
            "A value is trying to be set on a copy of a slice from a DataFrame.\n",
            "Try using .loc[row_indexer,col_indexer] = value instead\n",
            "\n",
            "See the caveats in the documentation: https://pandas.pydata.org/pandas-docs/stable/user_guide/indexing.html#returning-a-view-versus-a-copy\n",
            "  condiciones_salud[[\"diabetes_si\", \"obesidad_si\", \"hipert_si\", \"inmusupr_si\", \"renalCr_si\", \"cardio_si\", \"asma_si\", \"neumonia_si\", \"epoc_si\", \"tabaq_si\"]] = condiciones_salud[[\"diabetes_si\", \"obesidad_si\", \"hipert_si\", \"inmusupr_si\", \"renalCr_si\", \"cardio_si\", \"asma_si\", \"neumonia_si\", \"epoc_si\", \"tabaq_si\"]].mul(100)\n"
          ]
        },
        {
          "output_type": "execute_result",
          "data": {
            "text/plain": [
              "                 EDAD  diabetes_si  obesidad_si  hipert_si  inmusupr_si  \\\n",
              "nombre_cluster                                                            \n",
              "alpha           19.54         0.46         3.70       0.56         0.20   \n",
              "beta            32.78         1.86         7.82       2.52         0.30   \n",
              "gamma           46.83         8.74        10.37      10.66         0.56   \n",
              "delta           62.67        21.08         9.98      27.47         1.03   \n",
              "\n",
              "                renalCr_si  cardio_si  asma_si  neumonia_si  epoc_si  tabaq_si  \n",
              "nombre_cluster                                                                  \n",
              "alpha                 0.17       0.26     2.22         1.13     0.07      5.86  \n",
              "beta                  0.32       0.35     2.00         2.24     0.11      9.74  \n",
              "gamma                 0.59       0.76     1.80         4.36     0.35      7.97  \n",
              "delta                 1.51       2.23     1.41        10.77     1.50      6.44  "
            ],
            "text/html": [
              "\n",
              "  <div id=\"df-2ecdb3d2-aea6-4c1a-8e75-0702bd4a6f9f\">\n",
              "    <div class=\"colab-df-container\">\n",
              "      <div>\n",
              "<style scoped>\n",
              "    .dataframe tbody tr th:only-of-type {\n",
              "        vertical-align: middle;\n",
              "    }\n",
              "\n",
              "    .dataframe tbody tr th {\n",
              "        vertical-align: top;\n",
              "    }\n",
              "\n",
              "    .dataframe thead th {\n",
              "        text-align: right;\n",
              "    }\n",
              "</style>\n",
              "<table border=\"1\" class=\"dataframe\">\n",
              "  <thead>\n",
              "    <tr style=\"text-align: right;\">\n",
              "      <th></th>\n",
              "      <th>EDAD</th>\n",
              "      <th>diabetes_si</th>\n",
              "      <th>obesidad_si</th>\n",
              "      <th>hipert_si</th>\n",
              "      <th>inmusupr_si</th>\n",
              "      <th>renalCr_si</th>\n",
              "      <th>cardio_si</th>\n",
              "      <th>asma_si</th>\n",
              "      <th>neumonia_si</th>\n",
              "      <th>epoc_si</th>\n",
              "      <th>tabaq_si</th>\n",
              "    </tr>\n",
              "    <tr>\n",
              "      <th>nombre_cluster</th>\n",
              "      <th></th>\n",
              "      <th></th>\n",
              "      <th></th>\n",
              "      <th></th>\n",
              "      <th></th>\n",
              "      <th></th>\n",
              "      <th></th>\n",
              "      <th></th>\n",
              "      <th></th>\n",
              "      <th></th>\n",
              "      <th></th>\n",
              "    </tr>\n",
              "  </thead>\n",
              "  <tbody>\n",
              "    <tr>\n",
              "      <th>alpha</th>\n",
              "      <td>19.54</td>\n",
              "      <td>0.46</td>\n",
              "      <td>3.70</td>\n",
              "      <td>0.56</td>\n",
              "      <td>0.20</td>\n",
              "      <td>0.17</td>\n",
              "      <td>0.26</td>\n",
              "      <td>2.22</td>\n",
              "      <td>1.13</td>\n",
              "      <td>0.07</td>\n",
              "      <td>5.86</td>\n",
              "    </tr>\n",
              "    <tr>\n",
              "      <th>beta</th>\n",
              "      <td>32.78</td>\n",
              "      <td>1.86</td>\n",
              "      <td>7.82</td>\n",
              "      <td>2.52</td>\n",
              "      <td>0.30</td>\n",
              "      <td>0.32</td>\n",
              "      <td>0.35</td>\n",
              "      <td>2.00</td>\n",
              "      <td>2.24</td>\n",
              "      <td>0.11</td>\n",
              "      <td>9.74</td>\n",
              "    </tr>\n",
              "    <tr>\n",
              "      <th>gamma</th>\n",
              "      <td>46.83</td>\n",
              "      <td>8.74</td>\n",
              "      <td>10.37</td>\n",
              "      <td>10.66</td>\n",
              "      <td>0.56</td>\n",
              "      <td>0.59</td>\n",
              "      <td>0.76</td>\n",
              "      <td>1.80</td>\n",
              "      <td>4.36</td>\n",
              "      <td>0.35</td>\n",
              "      <td>7.97</td>\n",
              "    </tr>\n",
              "    <tr>\n",
              "      <th>delta</th>\n",
              "      <td>62.67</td>\n",
              "      <td>21.08</td>\n",
              "      <td>9.98</td>\n",
              "      <td>27.47</td>\n",
              "      <td>1.03</td>\n",
              "      <td>1.51</td>\n",
              "      <td>2.23</td>\n",
              "      <td>1.41</td>\n",
              "      <td>10.77</td>\n",
              "      <td>1.50</td>\n",
              "      <td>6.44</td>\n",
              "    </tr>\n",
              "  </tbody>\n",
              "</table>\n",
              "</div>\n",
              "      <button class=\"colab-df-convert\" onclick=\"convertToInteractive('df-2ecdb3d2-aea6-4c1a-8e75-0702bd4a6f9f')\"\n",
              "              title=\"Convert this dataframe to an interactive table.\"\n",
              "              style=\"display:none;\">\n",
              "        \n",
              "  <svg xmlns=\"http://www.w3.org/2000/svg\" height=\"24px\"viewBox=\"0 0 24 24\"\n",
              "       width=\"24px\">\n",
              "    <path d=\"M0 0h24v24H0V0z\" fill=\"none\"/>\n",
              "    <path d=\"M18.56 5.44l.94 2.06.94-2.06 2.06-.94-2.06-.94-.94-2.06-.94 2.06-2.06.94zm-11 1L8.5 8.5l.94-2.06 2.06-.94-2.06-.94L8.5 2.5l-.94 2.06-2.06.94zm10 10l.94 2.06.94-2.06 2.06-.94-2.06-.94-.94-2.06-.94 2.06-2.06.94z\"/><path d=\"M17.41 7.96l-1.37-1.37c-.4-.4-.92-.59-1.43-.59-.52 0-1.04.2-1.43.59L10.3 9.45l-7.72 7.72c-.78.78-.78 2.05 0 2.83L4 21.41c.39.39.9.59 1.41.59.51 0 1.02-.2 1.41-.59l7.78-7.78 2.81-2.81c.8-.78.8-2.07 0-2.86zM5.41 20L4 18.59l7.72-7.72 1.47 1.35L5.41 20z\"/>\n",
              "  </svg>\n",
              "      </button>\n",
              "      \n",
              "  <style>\n",
              "    .colab-df-container {\n",
              "      display:flex;\n",
              "      flex-wrap:wrap;\n",
              "      gap: 12px;\n",
              "    }\n",
              "\n",
              "    .colab-df-convert {\n",
              "      background-color: #E8F0FE;\n",
              "      border: none;\n",
              "      border-radius: 50%;\n",
              "      cursor: pointer;\n",
              "      display: none;\n",
              "      fill: #1967D2;\n",
              "      height: 32px;\n",
              "      padding: 0 0 0 0;\n",
              "      width: 32px;\n",
              "    }\n",
              "\n",
              "    .colab-df-convert:hover {\n",
              "      background-color: #E2EBFA;\n",
              "      box-shadow: 0px 1px 2px rgba(60, 64, 67, 0.3), 0px 1px 3px 1px rgba(60, 64, 67, 0.15);\n",
              "      fill: #174EA6;\n",
              "    }\n",
              "\n",
              "    [theme=dark] .colab-df-convert {\n",
              "      background-color: #3B4455;\n",
              "      fill: #D2E3FC;\n",
              "    }\n",
              "\n",
              "    [theme=dark] .colab-df-convert:hover {\n",
              "      background-color: #434B5C;\n",
              "      box-shadow: 0px 1px 3px 1px rgba(0, 0, 0, 0.15);\n",
              "      filter: drop-shadow(0px 1px 2px rgba(0, 0, 0, 0.3));\n",
              "      fill: #FFFFFF;\n",
              "    }\n",
              "  </style>\n",
              "\n",
              "      <script>\n",
              "        const buttonEl =\n",
              "          document.querySelector('#df-2ecdb3d2-aea6-4c1a-8e75-0702bd4a6f9f button.colab-df-convert');\n",
              "        buttonEl.style.display =\n",
              "          google.colab.kernel.accessAllowed ? 'block' : 'none';\n",
              "\n",
              "        async function convertToInteractive(key) {\n",
              "          const element = document.querySelector('#df-2ecdb3d2-aea6-4c1a-8e75-0702bd4a6f9f');\n",
              "          const dataTable =\n",
              "            await google.colab.kernel.invokeFunction('convertToInteractive',\n",
              "                                                     [key], {});\n",
              "          if (!dataTable) return;\n",
              "\n",
              "          const docLinkHtml = 'Like what you see? Visit the ' +\n",
              "            '<a target=\"_blank\" href=https://colab.research.google.com/notebooks/data_table.ipynb>data table notebook</a>'\n",
              "            + ' to learn more about interactive tables.';\n",
              "          element.innerHTML = '';\n",
              "          dataTable['output_type'] = 'display_data';\n",
              "          await google.colab.output.renderOutput(dataTable, element);\n",
              "          const docLink = document.createElement('div');\n",
              "          docLink.innerHTML = docLinkHtml;\n",
              "          element.appendChild(docLink);\n",
              "        }\n",
              "      </script>\n",
              "    </div>\n",
              "  </div>\n",
              "  "
            ]
          },
          "metadata": {},
          "execution_count": 90
        }
      ]
    },
    {
      "cell_type": "markdown",
      "source": [
        "#### Otros factores sociales y de salud"
      ],
      "metadata": {
        "id": "8fcsbWu307kR"
      }
    },
    {
      "cell_type": "code",
      "source": [
        "fsoc_salud = X_pivot[[\"EDAD\", \"indigena_si\", \"leng_ind_si\", \"embarazo_si\", \"otr_com_si\"]]\n",
        "fsoc_salud[[\"indigena_si\", \"leng_ind_si\", \"embarazo_si\", \"otr_com_si\"]] = fsoc_salud[[\"indigena_si\", \"leng_ind_si\", \"embarazo_si\", \"otr_com_si\"]].mul(100)\n",
        "print(\"Otros factores sociales y de salud \\n\")\n",
        "fsoc_salud.round(2)"
      ],
      "metadata": {
        "id": "HUZwSoP2s2St",
        "colab": {
          "base_uri": "https://localhost:8080/",
          "height": 345
        },
        "outputId": "62d0705d-dd85-4bf2-af85-672ae2b72c0e"
      },
      "execution_count": 91,
      "outputs": [
        {
          "output_type": "stream",
          "name": "stdout",
          "text": [
            "Otros factores sociales y de salud \n",
            "\n"
          ]
        },
        {
          "output_type": "stream",
          "name": "stderr",
          "text": [
            "<ipython-input-91-0f47836b1d2f>:2: SettingWithCopyWarning: \n",
            "A value is trying to be set on a copy of a slice from a DataFrame.\n",
            "Try using .loc[row_indexer,col_indexer] = value instead\n",
            "\n",
            "See the caveats in the documentation: https://pandas.pydata.org/pandas-docs/stable/user_guide/indexing.html#returning-a-view-versus-a-copy\n",
            "  fsoc_salud[[\"indigena_si\", \"leng_ind_si\", \"embarazo_si\", \"otr_com_si\"]] = fsoc_salud[[\"indigena_si\", \"leng_ind_si\", \"embarazo_si\", \"otr_com_si\"]].mul(100)\n"
          ]
        },
        {
          "output_type": "execute_result",
          "data": {
            "text/plain": [
              "                 EDAD  indigena_si  leng_ind_si  embarazo_si  otr_com_si\n",
              "nombre_cluster                                                          \n",
              "alpha           19.54         0.23         0.17         1.11        0.47\n",
              "beta            32.78         0.28         0.22         1.01        0.73\n",
              "gamma           46.83         0.31         0.23         0.10        1.03\n",
              "delta           62.67         0.37         0.27         0.01        1.65"
            ],
            "text/html": [
              "\n",
              "  <div id=\"df-bb490561-9b58-4359-9121-97d7fc38f57b\">\n",
              "    <div class=\"colab-df-container\">\n",
              "      <div>\n",
              "<style scoped>\n",
              "    .dataframe tbody tr th:only-of-type {\n",
              "        vertical-align: middle;\n",
              "    }\n",
              "\n",
              "    .dataframe tbody tr th {\n",
              "        vertical-align: top;\n",
              "    }\n",
              "\n",
              "    .dataframe thead th {\n",
              "        text-align: right;\n",
              "    }\n",
              "</style>\n",
              "<table border=\"1\" class=\"dataframe\">\n",
              "  <thead>\n",
              "    <tr style=\"text-align: right;\">\n",
              "      <th></th>\n",
              "      <th>EDAD</th>\n",
              "      <th>indigena_si</th>\n",
              "      <th>leng_ind_si</th>\n",
              "      <th>embarazo_si</th>\n",
              "      <th>otr_com_si</th>\n",
              "    </tr>\n",
              "    <tr>\n",
              "      <th>nombre_cluster</th>\n",
              "      <th></th>\n",
              "      <th></th>\n",
              "      <th></th>\n",
              "      <th></th>\n",
              "      <th></th>\n",
              "    </tr>\n",
              "  </thead>\n",
              "  <tbody>\n",
              "    <tr>\n",
              "      <th>alpha</th>\n",
              "      <td>19.54</td>\n",
              "      <td>0.23</td>\n",
              "      <td>0.17</td>\n",
              "      <td>1.11</td>\n",
              "      <td>0.47</td>\n",
              "    </tr>\n",
              "    <tr>\n",
              "      <th>beta</th>\n",
              "      <td>32.78</td>\n",
              "      <td>0.28</td>\n",
              "      <td>0.22</td>\n",
              "      <td>1.01</td>\n",
              "      <td>0.73</td>\n",
              "    </tr>\n",
              "    <tr>\n",
              "      <th>gamma</th>\n",
              "      <td>46.83</td>\n",
              "      <td>0.31</td>\n",
              "      <td>0.23</td>\n",
              "      <td>0.10</td>\n",
              "      <td>1.03</td>\n",
              "    </tr>\n",
              "    <tr>\n",
              "      <th>delta</th>\n",
              "      <td>62.67</td>\n",
              "      <td>0.37</td>\n",
              "      <td>0.27</td>\n",
              "      <td>0.01</td>\n",
              "      <td>1.65</td>\n",
              "    </tr>\n",
              "  </tbody>\n",
              "</table>\n",
              "</div>\n",
              "      <button class=\"colab-df-convert\" onclick=\"convertToInteractive('df-bb490561-9b58-4359-9121-97d7fc38f57b')\"\n",
              "              title=\"Convert this dataframe to an interactive table.\"\n",
              "              style=\"display:none;\">\n",
              "        \n",
              "  <svg xmlns=\"http://www.w3.org/2000/svg\" height=\"24px\"viewBox=\"0 0 24 24\"\n",
              "       width=\"24px\">\n",
              "    <path d=\"M0 0h24v24H0V0z\" fill=\"none\"/>\n",
              "    <path d=\"M18.56 5.44l.94 2.06.94-2.06 2.06-.94-2.06-.94-.94-2.06-.94 2.06-2.06.94zm-11 1L8.5 8.5l.94-2.06 2.06-.94-2.06-.94L8.5 2.5l-.94 2.06-2.06.94zm10 10l.94 2.06.94-2.06 2.06-.94-2.06-.94-.94-2.06-.94 2.06-2.06.94z\"/><path d=\"M17.41 7.96l-1.37-1.37c-.4-.4-.92-.59-1.43-.59-.52 0-1.04.2-1.43.59L10.3 9.45l-7.72 7.72c-.78.78-.78 2.05 0 2.83L4 21.41c.39.39.9.59 1.41.59.51 0 1.02-.2 1.41-.59l7.78-7.78 2.81-2.81c.8-.78.8-2.07 0-2.86zM5.41 20L4 18.59l7.72-7.72 1.47 1.35L5.41 20z\"/>\n",
              "  </svg>\n",
              "      </button>\n",
              "      \n",
              "  <style>\n",
              "    .colab-df-container {\n",
              "      display:flex;\n",
              "      flex-wrap:wrap;\n",
              "      gap: 12px;\n",
              "    }\n",
              "\n",
              "    .colab-df-convert {\n",
              "      background-color: #E8F0FE;\n",
              "      border: none;\n",
              "      border-radius: 50%;\n",
              "      cursor: pointer;\n",
              "      display: none;\n",
              "      fill: #1967D2;\n",
              "      height: 32px;\n",
              "      padding: 0 0 0 0;\n",
              "      width: 32px;\n",
              "    }\n",
              "\n",
              "    .colab-df-convert:hover {\n",
              "      background-color: #E2EBFA;\n",
              "      box-shadow: 0px 1px 2px rgba(60, 64, 67, 0.3), 0px 1px 3px 1px rgba(60, 64, 67, 0.15);\n",
              "      fill: #174EA6;\n",
              "    }\n",
              "\n",
              "    [theme=dark] .colab-df-convert {\n",
              "      background-color: #3B4455;\n",
              "      fill: #D2E3FC;\n",
              "    }\n",
              "\n",
              "    [theme=dark] .colab-df-convert:hover {\n",
              "      background-color: #434B5C;\n",
              "      box-shadow: 0px 1px 3px 1px rgba(0, 0, 0, 0.15);\n",
              "      filter: drop-shadow(0px 1px 2px rgba(0, 0, 0, 0.3));\n",
              "      fill: #FFFFFF;\n",
              "    }\n",
              "  </style>\n",
              "\n",
              "      <script>\n",
              "        const buttonEl =\n",
              "          document.querySelector('#df-bb490561-9b58-4359-9121-97d7fc38f57b button.colab-df-convert');\n",
              "        buttonEl.style.display =\n",
              "          google.colab.kernel.accessAllowed ? 'block' : 'none';\n",
              "\n",
              "        async function convertToInteractive(key) {\n",
              "          const element = document.querySelector('#df-bb490561-9b58-4359-9121-97d7fc38f57b');\n",
              "          const dataTable =\n",
              "            await google.colab.kernel.invokeFunction('convertToInteractive',\n",
              "                                                     [key], {});\n",
              "          if (!dataTable) return;\n",
              "\n",
              "          const docLinkHtml = 'Like what you see? Visit the ' +\n",
              "            '<a target=\"_blank\" href=https://colab.research.google.com/notebooks/data_table.ipynb>data table notebook</a>'\n",
              "            + ' to learn more about interactive tables.';\n",
              "          element.innerHTML = '';\n",
              "          dataTable['output_type'] = 'display_data';\n",
              "          await google.colab.output.renderOutput(dataTable, element);\n",
              "          const docLink = document.createElement('div');\n",
              "          docLink.innerHTML = docLinkHtml;\n",
              "          element.appendChild(docLink);\n",
              "        }\n",
              "      </script>\n",
              "    </div>\n",
              "  </div>\n",
              "  "
            ]
          },
          "metadata": {},
          "execution_count": 91
        }
      ]
    },
    {
      "cell_type": "code",
      "source": [],
      "metadata": {
        "id": "guSAuieZs2P6"
      },
      "execution_count": 84,
      "outputs": []
    },
    {
      "cell_type": "code",
      "source": [],
      "metadata": {
        "id": "njeu7ulRs2M_"
      },
      "execution_count": 84,
      "outputs": []
    }
  ]
}